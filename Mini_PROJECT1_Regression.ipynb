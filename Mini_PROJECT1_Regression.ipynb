{
 "cells": [
  {
   "cell_type": "markdown",
   "id": "2f301b1e",
   "metadata": {},
   "source": [
    "# our object is to calculate the insurance amount"
   ]
  },
  {
   "cell_type": "code",
   "execution_count": 210,
   "id": "8c7ee9ea",
   "metadata": {},
   "outputs": [],
   "source": [
    "import pandas as pd\n",
    "import numpy as np\n",
    "import seaborn as sb\n",
    "import matplotlib.pyplot as pt\n",
    "from sklearn.linear_model import LinearRegression\n",
    "from sklearn.linear_model import LogisticRegression\n",
    "import warnings\n",
    "warnings.filterwarnings('ignore')\n"
   ]
  },
  {
   "cell_type": "code",
   "execution_count": 211,
   "id": "dc8d31ad",
   "metadata": {},
   "outputs": [
    {
     "data": {
      "text/html": [
       "<div>\n",
       "<style scoped>\n",
       "    .dataframe tbody tr th:only-of-type {\n",
       "        vertical-align: middle;\n",
       "    }\n",
       "\n",
       "    .dataframe tbody tr th {\n",
       "        vertical-align: top;\n",
       "    }\n",
       "\n",
       "    .dataframe thead th {\n",
       "        text-align: right;\n",
       "    }\n",
       "</style>\n",
       "<table border=\"1\" class=\"dataframe\">\n",
       "  <thead>\n",
       "    <tr style=\"text-align: right;\">\n",
       "      <th></th>\n",
       "      <th>age</th>\n",
       "      <th>sex</th>\n",
       "      <th>bmi</th>\n",
       "      <th>classif</th>\n",
       "      <th>children</th>\n",
       "      <th>smoker</th>\n",
       "      <th>region</th>\n",
       "      <th>charges</th>\n",
       "    </tr>\n",
       "  </thead>\n",
       "  <tbody>\n",
       "    <tr>\n",
       "      <th>0</th>\n",
       "      <td>19</td>\n",
       "      <td>female</td>\n",
       "      <td>27.900</td>\n",
       "      <td>PREO</td>\n",
       "      <td>0</td>\n",
       "      <td>yes</td>\n",
       "      <td>southwest</td>\n",
       "      <td>16884.92400</td>\n",
       "    </tr>\n",
       "    <tr>\n",
       "      <th>1</th>\n",
       "      <td>18</td>\n",
       "      <td>male</td>\n",
       "      <td>33.770</td>\n",
       "      <td>OB1</td>\n",
       "      <td>1</td>\n",
       "      <td>no</td>\n",
       "      <td>southeast</td>\n",
       "      <td>1725.55230</td>\n",
       "    </tr>\n",
       "    <tr>\n",
       "      <th>2</th>\n",
       "      <td>28</td>\n",
       "      <td>male</td>\n",
       "      <td>33.000</td>\n",
       "      <td>OB1</td>\n",
       "      <td>3</td>\n",
       "      <td>no</td>\n",
       "      <td>southeast</td>\n",
       "      <td>4449.46200</td>\n",
       "    </tr>\n",
       "    <tr>\n",
       "      <th>3</th>\n",
       "      <td>0</td>\n",
       "      <td>male</td>\n",
       "      <td>22.705</td>\n",
       "      <td>N</td>\n",
       "      <td>0</td>\n",
       "      <td>no</td>\n",
       "      <td>northwest</td>\n",
       "      <td>21984.47061</td>\n",
       "    </tr>\n",
       "    <tr>\n",
       "      <th>4</th>\n",
       "      <td>32</td>\n",
       "      <td>male</td>\n",
       "      <td>28.880</td>\n",
       "      <td>PREO</td>\n",
       "      <td>0</td>\n",
       "      <td>no</td>\n",
       "      <td>northwest</td>\n",
       "      <td>3866.85520</td>\n",
       "    </tr>\n",
       "  </tbody>\n",
       "</table>\n",
       "</div>"
      ],
      "text/plain": [
       "   age     sex     bmi classif  children smoker     region      charges\n",
       "0   19  female  27.900    PREO         0    yes  southwest  16884.92400\n",
       "1   18    male  33.770     OB1         1     no  southeast   1725.55230\n",
       "2   28    male  33.000     OB1         3     no  southeast   4449.46200\n",
       "3    0    male  22.705       N         0     no  northwest  21984.47061\n",
       "4   32    male  28.880    PREO         0     no  northwest   3866.85520"
      ]
     },
     "execution_count": 211,
     "metadata": {},
     "output_type": "execute_result"
    }
   ],
   "source": [
    "df=pd.read_csv(r'C:\\Users\\Naveen\\Downloads\\DS3_C6_S1_Regression_Insurance_Data_Project.csv')\n",
    "df.head()"
   ]
  },
  {
   "cell_type": "code",
   "execution_count": 212,
   "id": "62bebea9",
   "metadata": {},
   "outputs": [
    {
     "data": {
      "text/plain": [
       "(1338, 8)"
      ]
     },
     "execution_count": 212,
     "metadata": {},
     "output_type": "execute_result"
    }
   ],
   "source": [
    "df.shape"
   ]
  },
  {
   "cell_type": "code",
   "execution_count": 213,
   "id": "87bc443d",
   "metadata": {},
   "outputs": [
    {
     "data": {
      "text/plain": [
       "age         0\n",
       "sex         0\n",
       "bmi         0\n",
       "classif     8\n",
       "children    0\n",
       "smoker      0\n",
       "region      0\n",
       "charges     0\n",
       "dtype: int64"
      ]
     },
     "execution_count": 213,
     "metadata": {},
     "output_type": "execute_result"
    }
   ],
   "source": [
    "df.isnull().sum()"
   ]
  },
  {
   "cell_type": "code",
   "execution_count": 214,
   "id": "45a1718b",
   "metadata": {},
   "outputs": [
    {
     "data": {
      "text/plain": [
       "array([ 19,  18,  28,   0,  32,  31,  46,  37,  60,  25,  62,  23,  56,\n",
       "        27,  52,  30,  34,  59,  63,  55,  22,  26,  35,  24,  41,  38,\n",
       "        36,  21,  48,  40,  58,  53,  43,  64,  20,  61,  44,  57,  29,\n",
       "        45,  54, -58,  49,  47,  51,  42,  50,  39,  33, 190,  -1],\n",
       "      dtype=int64)"
      ]
     },
     "execution_count": 214,
     "metadata": {},
     "output_type": "execute_result"
    }
   ],
   "source": [
    "df['age'].unique()"
   ]
  },
  {
   "cell_type": "code",
   "execution_count": 215,
   "id": "ae3e1dc6",
   "metadata": {},
   "outputs": [
    {
     "data": {
      "text/plain": [
       "18"
      ]
     },
     "execution_count": 215,
     "metadata": {},
     "output_type": "execute_result"
    }
   ],
   "source": [
    "df['age'].mode()[0]"
   ]
  },
  {
   "cell_type": "code",
   "execution_count": 216,
   "id": "84061191",
   "metadata": {},
   "outputs": [],
   "source": [
    "df['age'].replace(to_replace=[0,-58,-1],value=18,inplace=True)"
   ]
  },
  {
   "cell_type": "code",
   "execution_count": 217,
   "id": "262aba57",
   "metadata": {},
   "outputs": [
    {
     "data": {
      "text/plain": [
       "array([ 19,  18,  28,  32,  31,  46,  37,  60,  25,  62,  23,  56,  27,\n",
       "        52,  30,  34,  59,  63,  55,  22,  26,  35,  24,  41,  38,  36,\n",
       "        21,  48,  40,  58,  53,  43,  64,  20,  61,  44,  57,  29,  45,\n",
       "        54,  49,  47,  51,  42,  50,  39,  33, 190], dtype=int64)"
      ]
     },
     "execution_count": 217,
     "metadata": {},
     "output_type": "execute_result"
    }
   ],
   "source": [
    "df['age'].unique()"
   ]
  },
  {
   "cell_type": "code",
   "execution_count": 218,
   "id": "cc2376f6",
   "metadata": {},
   "outputs": [],
   "source": [
    "df['age'].replace(to_replace=190,value=18,inplace=True)"
   ]
  },
  {
   "cell_type": "code",
   "execution_count": 219,
   "id": "ca0d324c",
   "metadata": {},
   "outputs": [
    {
     "data": {
      "text/plain": [
       "array([19, 18, 28, 32, 31, 46, 37, 60, 25, 62, 23, 56, 27, 52, 30, 34, 59,\n",
       "       63, 55, 22, 26, 35, 24, 41, 38, 36, 21, 48, 40, 58, 53, 43, 64, 20,\n",
       "       61, 44, 57, 29, 45, 54, 49, 47, 51, 42, 50, 39, 33], dtype=int64)"
      ]
     },
     "execution_count": 219,
     "metadata": {},
     "output_type": "execute_result"
    }
   ],
   "source": [
    "df['age'].unique()"
   ]
  },
  {
   "cell_type": "code",
   "execution_count": 220,
   "id": "b4d5469a",
   "metadata": {},
   "outputs": [
    {
     "data": {
      "text/plain": [
       "array(['female', 'male'], dtype=object)"
      ]
     },
     "execution_count": 220,
     "metadata": {},
     "output_type": "execute_result"
    }
   ],
   "source": [
    "df['sex'].unique()"
   ]
  },
  {
   "cell_type": "code",
   "execution_count": 221,
   "id": "dd086529",
   "metadata": {},
   "outputs": [
    {
     "data": {
      "text/plain": [
       "array([27.9  , 33.77 , 33.   , 22.705, 28.88 , 25.74 , 33.44 , 27.74 ,\n",
       "       29.83 , 25.84 , 26.22 , 26.29 , 34.4  , 39.82 , 42.13 , 24.6  ,\n",
       "       30.78 , 23.845, 40.3  , 35.3  , 36.005, 32.4  , 34.1  , 31.92 ,\n",
       "       28.025, 27.72 , 23.085, 32.775, 17.385, 36.3  , 35.6  , 26.315,\n",
       "       28.6  , 28.31 , 36.4  , 20.425, 32.965, 20.8  , 36.67 , 39.9  ,\n",
       "       26.6  , 36.63 , 21.78 , 30.8  , 37.05 , 37.3  , 38.665, 34.77 ,\n",
       "       24.53 , 35.2  , 35.625, 33.63 , 28.   , 34.43 , 28.69 , 36.955,\n",
       "       31.825, 31.68 , 22.88 , 37.335, 27.36 , 33.66 , 24.7  , 25.935,\n",
       "       22.42 , 28.9  , 39.1  , 36.19 , 23.98 , 24.75 , 28.5  , 28.1  ,\n",
       "       32.01 , 27.4  , 34.01 , 29.59 , 35.53 , 39.805, 26.885, 38.285,\n",
       "       37.62 , 41.23 , 34.8  , 22.895, 31.16 , 27.2  , 26.98 , 39.49 ,\n",
       "       24.795, 31.3  , 38.28 , 19.95 , 19.3  , 31.6  , 25.46 , 30.115,\n",
       "       29.92 , 27.5  , 28.4  , 30.875, 27.94 , 35.09 , 29.7  , 35.72 ,\n",
       "       32.205, 28.595, 49.06 , 27.17 , 23.37 , 37.1  , 23.75 , 28.975,\n",
       "       31.35 , 33.915, 28.785, 28.3  , 37.4  , 17.765, 34.7  , 26.505,\n",
       "       22.04 , 35.9  , 25.555, 28.05 , 25.175, 31.9  , 36.   , 32.49 ,\n",
       "       25.3  , 29.735, 38.83 , 30.495, 37.73 , 37.43 , 24.13 , 37.145,\n",
       "       39.52 , 24.42 , 27.83 , 36.85 , 39.6  , 29.8  , 29.64 , 28.215,\n",
       "       37.   , 33.155, 18.905, 41.47 , 30.3  , 15.96 , 33.345, 37.7  ,\n",
       "       27.835, 29.2  , 26.41 , 30.69 , 41.895, 30.9  , 32.2  , 32.11 ,\n",
       "       31.57 , 26.2  , 30.59 , 32.8  , 18.05 , 39.33 , 32.23 , 24.035,\n",
       "       36.08 , 22.3  , 26.4  , 31.8  , 26.73 , 23.1  , 23.21 , 33.7  ,\n",
       "       33.25 , 24.64 , 33.88 , 38.06 , 41.91 , 31.635, 36.195, 17.8  ,\n",
       "       24.51 , 22.22 , 38.39 , 29.07 , 22.135, 26.8  , 30.02 , 35.86 ,\n",
       "       20.9  , 17.29 , 34.21 , 25.365, 40.15 , 24.415, 25.2  , 26.84 ,\n",
       "       24.32 , 42.35 , 19.8  , 32.395, 30.2  , 29.37 , 34.2  , 27.455,\n",
       "       27.55 , 20.615, 24.3  , 31.79 , 21.56 , 28.12 , 40.565, 27.645,\n",
       "       31.2  , 26.62 , 48.07 , 36.765, 33.4  , 45.54 , 28.82 , 22.99 ,\n",
       "       27.7  , 25.41 , 34.39 , 22.61 , 37.51 , 38.   , 33.33 , 34.865,\n",
       "       33.06 , 35.97 , 31.4  , 25.27 , 40.945, 34.105, 36.48 , 33.8  ,\n",
       "       36.7  , 36.385, 34.5  , 32.3  , 27.6  , 29.26 , 35.75 , 23.18 ,\n",
       "       25.6  , 35.245, 43.89 , 20.79 , 30.5  , 21.7  , 21.89 , 24.985,\n",
       "       32.015, 30.4  , 21.09 , 22.23 , 32.9  , 24.89 , 31.46 , 17.955,\n",
       "       30.685, 43.34 , 39.05 , 30.21 , 31.445, 19.855, 31.02 , 38.17 ,\n",
       "       20.6  , 47.52 , 20.4  , 38.38 , 24.31 , 23.6  , 21.12 , 30.03 ,\n",
       "       17.48 , 20.235, 17.195, 23.9  , 35.15 , 35.64 , 22.6  , 39.16 ,\n",
       "       27.265, 29.165, 16.815, 33.1  , 26.9  , 33.11 , 31.73 , 46.75 ,\n",
       "       29.45 , 32.68 , 33.5  , 43.01 , 36.52 , 26.695, 25.65 , 29.6  ,\n",
       "       38.6  , 23.4  , 46.53 , 30.14 , 30.   , 38.095, 28.38 , 28.7  ,\n",
       "       33.82 , 24.09 , 32.67 , 25.1  , 32.56 , 41.325, 39.5  , 34.3  ,\n",
       "       31.065, 21.47 , 25.08 , 43.4  , 25.7  , 27.93 , 39.2  , 26.03 ,\n",
       "       30.25 , 28.93 , 35.7  , 35.31 , 31.   , 44.22 , 26.07 , 25.8  ,\n",
       "       39.425, 40.48 , 38.9  , 47.41 , 35.435, 46.7  , 46.2  , 21.4  ,\n",
       "       23.8  , 44.77 , 32.12 , 29.1  , 37.29 , 43.12 , 36.86 , 34.295,\n",
       "       23.465, 45.43 , 23.65 , 20.7  , 28.27 , 35.91 , 29.   , 19.57 ,\n",
       "       31.13 , 21.85 , 40.26 , 33.725, 29.48 , 32.6  , 37.525, 23.655,\n",
       "       37.8  , 19.   , 21.3  , 33.535, 42.46 , 38.95 , 36.1  , 29.3  ,\n",
       "       39.7  , 38.19 , 42.4  , 34.96 , 42.68 , 31.54 , 29.81 , 21.375,\n",
       "       40.81 , 17.4  , 20.3  , 18.5  , 26.125, 41.69 , 24.1  , 36.2  ,\n",
       "       40.185, 39.27 , 34.87 , 44.745, 29.545, 23.54 , 40.47 , 40.66 ,\n",
       "       36.6  , 35.4  , 27.075, 28.405, 21.755, 40.28 , 30.1  , 32.1  ,\n",
       "       23.7  , 35.5  , 29.15 , 27.   , 37.905, 22.77 , 22.8  , 34.58 ,\n",
       "       27.1  , 19.475, 26.7  , 34.32 , 24.4  , 41.14 , 22.515, 41.8  ,\n",
       "       26.18 , 42.24 , 26.51 , 35.815, 41.42 , 36.575, 42.94 , 21.01 ,\n",
       "       24.225, 17.67 , 31.5  , 31.1  , 32.78 , 32.45 , 50.38 , 47.6  ,\n",
       "       25.4  , 29.9  , 43.7  , 24.86 , 28.8  , 29.5  , 29.04 , 38.94 ,\n",
       "       44.   , 20.045, 40.92 , 35.1  , 29.355, 32.585, 32.34 , 39.8  ,\n",
       "       24.605, 33.99 , 28.2  , 25.   , 33.2  , 23.2  , 20.1  , 32.5  ,\n",
       "       37.18 , 46.09 , 39.93 , 35.8  , 31.255, 18.335, 42.9  , 26.79 ,\n",
       "       39.615, 25.9  , 25.745, 28.16 , 23.56 , 40.5  , 35.42 , 39.995,\n",
       "       34.675, 20.52 , 23.275, 36.29 , 32.7  , 19.19 , 20.13 , 23.32 ,\n",
       "       45.32 , 34.6  , 18.715, 21.565, 23.   , 37.07 , 52.58 , 42.655,\n",
       "       21.66 , 32.   , 18.3  , 47.74 , 22.1  , 19.095, 31.24 , 29.925,\n",
       "       20.35 , 25.85 , 42.75 , 18.6  , 23.87 , 45.9  , 21.5  , 30.305,\n",
       "       44.88 , 41.1  , 40.37 , 28.49 , 33.55 , 40.375, 27.28 , 17.86 ,\n",
       "       33.3  , 39.14 , 21.945, 24.97 , 23.94 , 34.485, 21.8  , 23.3  ,\n",
       "       36.96 , 21.28 , 29.4  , 27.3  , 37.9  , 37.715, 23.76 , 25.52 ,\n",
       "       27.61 , 27.06 , 39.4  , 34.9  , 22.   , 30.36 , 27.8  , 53.13 ,\n",
       "       39.71 , 32.87 , 44.7  , 30.97 ])"
      ]
     },
     "execution_count": 221,
     "metadata": {},
     "output_type": "execute_result"
    }
   ],
   "source": [
    "df['bmi'].unique()"
   ]
  },
  {
   "cell_type": "code",
   "execution_count": 222,
   "id": "68c31783",
   "metadata": {},
   "outputs": [
    {
     "data": {
      "text/plain": [
       "array(['PREO', 'OB1', 'N', 'OB2', 'OB3', nan, 'UW'], dtype=object)"
      ]
     },
     "execution_count": 222,
     "metadata": {},
     "output_type": "execute_result"
    }
   ],
   "source": [
    "df['classif'].unique()"
   ]
  },
  {
   "cell_type": "code",
   "execution_count": 223,
   "id": "3f296ac9",
   "metadata": {},
   "outputs": [],
   "source": [
    "cls=df['classif'].mode()[0]"
   ]
  },
  {
   "cell_type": "code",
   "execution_count": 224,
   "id": "ac3d3096",
   "metadata": {},
   "outputs": [],
   "source": [
    "df['classif'].fillna(value=cls,inplace=True)"
   ]
  },
  {
   "cell_type": "code",
   "execution_count": 225,
   "id": "728270b5",
   "metadata": {},
   "outputs": [
    {
     "data": {
      "text/plain": [
       "array(['PREO', 'OB1', 'N', 'OB2', 'OB3', 'UW'], dtype=object)"
      ]
     },
     "execution_count": 225,
     "metadata": {},
     "output_type": "execute_result"
    }
   ],
   "source": [
    "df['classif'].unique()"
   ]
  },
  {
   "cell_type": "code",
   "execution_count": 226,
   "id": "8a52dc12",
   "metadata": {},
   "outputs": [
    {
     "data": {
      "text/plain": [
       "array([0, 1, 3, 2, 5, 4], dtype=int64)"
      ]
     },
     "execution_count": 226,
     "metadata": {},
     "output_type": "execute_result"
    }
   ],
   "source": [
    "df['children'].unique()"
   ]
  },
  {
   "cell_type": "code",
   "execution_count": 227,
   "id": "b6b9874d",
   "metadata": {},
   "outputs": [
    {
     "data": {
      "text/plain": [
       "array(['yes', 'no'], dtype=object)"
      ]
     },
     "execution_count": 227,
     "metadata": {},
     "output_type": "execute_result"
    }
   ],
   "source": [
    "df['smoker'].unique()"
   ]
  },
  {
   "cell_type": "code",
   "execution_count": 228,
   "id": "5f6ec5ce",
   "metadata": {},
   "outputs": [
    {
     "data": {
      "text/plain": [
       "array(['southwest', 'southeast', 'northwest', 'northeast'], dtype=object)"
      ]
     },
     "execution_count": 228,
     "metadata": {},
     "output_type": "execute_result"
    }
   ],
   "source": [
    "df['region'].unique()"
   ]
  },
  {
   "cell_type": "code",
   "execution_count": 229,
   "id": "a56f05c4",
   "metadata": {},
   "outputs": [
    {
     "data": {
      "text/plain": [
       "array([16884.924 ,  1725.5523,  4449.462 , ...,  1629.8335,  2007.945 ,\n",
       "       29141.3603])"
      ]
     },
     "execution_count": 229,
     "metadata": {},
     "output_type": "execute_result"
    }
   ],
   "source": [
    "df['charges'].unique()"
   ]
  },
  {
   "cell_type": "code",
   "execution_count": 230,
   "id": "3be5e1f0",
   "metadata": {},
   "outputs": [
    {
     "data": {
      "text/plain": [
       "age         0\n",
       "sex         0\n",
       "bmi         0\n",
       "classif     0\n",
       "children    0\n",
       "smoker      0\n",
       "region      0\n",
       "charges     0\n",
       "dtype: int64"
      ]
     },
     "execution_count": 230,
     "metadata": {},
     "output_type": "execute_result"
    }
   ],
   "source": [
    "df.isnull().sum()"
   ]
  },
  {
   "cell_type": "code",
   "execution_count": 231,
   "id": "622f2687",
   "metadata": {},
   "outputs": [],
   "source": [
    "df1=df.copy()"
   ]
  },
  {
   "cell_type": "markdown",
   "id": "00ad807f",
   "metadata": {},
   "source": [
    "# checking information with groupby"
   ]
  },
  {
   "cell_type": "code",
   "execution_count": 232,
   "id": "0285651d",
   "metadata": {},
   "outputs": [
    {
     "data": {
      "text/plain": [
       "smoker\n",
       "no      8434.268298\n",
       "yes    32050.231832\n",
       "Name: charges, dtype: float64"
      ]
     },
     "execution_count": 232,
     "metadata": {},
     "output_type": "execute_result"
    }
   ],
   "source": [
    "d = df1.groupby(by=['smoker'])['charges'].mean().sort_values()     #no. of smoker is more than non smoker\n",
    "d"
   ]
  },
  {
   "cell_type": "code",
   "execution_count": 233,
   "id": "9a0a36ab",
   "metadata": {},
   "outputs": [
    {
     "data": {
      "text/plain": [
       "age\n",
       "21     4730.464330\n",
       "26     6133.825309\n",
       "18     7642.104378\n",
       "38     8102.733674\n",
       "28     9069.187564\n",
       "32     9220.300291\n",
       "41     9653.745650\n",
       "25     9838.365311\n",
       "19     9861.632891\n",
       "22    10012.932802\n",
       "20    10159.697736\n",
       "31    10196.980573\n",
       "29    10430.158727\n",
       "24    10648.015962\n",
       "35    11307.182031\n",
       "34    11613.528121\n",
       "40    11772.251310\n",
       "39    11778.242945\n",
       "33    11966.215482\n",
       "27    12184.701721\n",
       "36    12204.476138\n",
       "23    12419.820040\n",
       "49    12696.006264\n",
       "30    12719.110358\n",
       "42    13061.038669\n",
       "58    14072.206615\n",
       "46    14342.590639\n",
       "48    14632.500445\n",
       "45    14830.199856\n",
       "56    15025.515837\n",
       "50    15663.003301\n",
       "51    15682.255867\n",
       "44    15859.396587\n",
       "53    16020.930755\n",
       "55    16164.545488\n",
       "57    16447.185250\n",
       "47    17653.999593\n",
       "37    18019.911877\n",
       "52    18256.269719\n",
       "54    18758.546475\n",
       "59    18895.869532\n",
       "62    19163.856573\n",
       "43    19267.278653\n",
       "63    19884.998461\n",
       "61    21700.962032\n",
       "60    21979.418507\n",
       "64    23275.530837\n",
       "Name: charges, dtype: float64"
      ]
     },
     "execution_count": 233,
     "metadata": {},
     "output_type": "execute_result"
    }
   ],
   "source": [
    "d1=df1.groupby(by=['age'])['charges'].mean().sort_values()\n",
    "d1"
   ]
  },
  {
   "cell_type": "markdown",
   "id": "d80e3229",
   "metadata": {},
   "source": [
    "## here we can see as the age is increasing mostly the charges also increasing"
   ]
  },
  {
   "cell_type": "code",
   "execution_count": 234,
   "id": "cb3da17e",
   "metadata": {},
   "outputs": [
    {
     "data": {
      "text/plain": [
       "children\n",
       "5     8786.035247\n",
       "0    12365.975602\n",
       "1    12731.171832\n",
       "4    13850.656311\n",
       "2    15073.563734\n",
       "3    15355.318367\n",
       "Name: charges, dtype: float64"
      ]
     },
     "execution_count": 234,
     "metadata": {},
     "output_type": "execute_result"
    }
   ],
   "source": [
    "d3=df1.groupby(by=['children'])['charges'].mean().sort_values()      # we cannot conclude\n",
    "d3"
   ]
  },
  {
   "cell_type": "code",
   "execution_count": 235,
   "id": "eebadce5",
   "metadata": {},
   "outputs": [
    {
     "data": {
      "text/plain": [
       "sex\n",
       "female    12569.578844\n",
       "male      13956.751178\n",
       "Name: charges, dtype: float64"
      ]
     },
     "execution_count": 235,
     "metadata": {},
     "output_type": "execute_result"
    }
   ],
   "source": [
    "d4=df1.groupby(by=['sex'])['charges'].mean().sort_values()       # male are greater than the female who having higher charges\n",
    "d4                                                               # but not much "
   ]
  },
  {
   "cell_type": "code",
   "execution_count": 236,
   "id": "d07b9e04",
   "metadata": {},
   "outputs": [
    {
     "data": {
      "text/plain": [
       "region\n",
       "southwest    12346.937377\n",
       "northwest    12417.575374\n",
       "northeast    13406.384516\n",
       "southeast    14735.411438\n",
       "Name: charges, dtype: float64"
      ]
     },
     "execution_count": 236,
     "metadata": {},
     "output_type": "execute_result"
    }
   ],
   "source": [
    "d5=df1.groupby(by=['region'])['charges'].mean().sort_values()\n",
    "d5"
   ]
  },
  {
   "cell_type": "code",
   "execution_count": 237,
   "id": "cd83e026",
   "metadata": {},
   "outputs": [
    {
     "data": {
      "text/plain": [
       "classif\n",
       "UW       7595.253968\n",
       "N       10448.399945\n",
       "PREO    10998.374214\n",
       "OB1     14384.905367\n",
       "OB3     16784.615546\n",
       "OB2     17090.900977\n",
       "Name: charges, dtype: float64"
      ]
     },
     "execution_count": 237,
     "metadata": {},
     "output_type": "execute_result"
    }
   ],
   "source": [
    "d6=df1.groupby(by=['classif'])['charges'].mean().sort_values()\n",
    "d6"
   ]
  },
  {
   "cell_type": "markdown",
   "id": "4c779bba",
   "metadata": {},
   "source": [
    "## OB2 classif has consumed high charges rather than other health classification"
   ]
  },
  {
   "cell_type": "code",
   "execution_count": 238,
   "id": "19398db3",
   "metadata": {},
   "outputs": [
    {
     "data": {
      "text/html": [
       "<div>\n",
       "<style scoped>\n",
       "    .dataframe tbody tr th:only-of-type {\n",
       "        vertical-align: middle;\n",
       "    }\n",
       "\n",
       "    .dataframe tbody tr th {\n",
       "        vertical-align: top;\n",
       "    }\n",
       "\n",
       "    .dataframe thead th {\n",
       "        text-align: right;\n",
       "    }\n",
       "</style>\n",
       "<table border=\"1\" class=\"dataframe\">\n",
       "  <thead>\n",
       "    <tr style=\"text-align: right;\">\n",
       "      <th></th>\n",
       "      <th>age</th>\n",
       "      <th>sex</th>\n",
       "      <th>bmi</th>\n",
       "      <th>classif</th>\n",
       "      <th>children</th>\n",
       "      <th>smoker</th>\n",
       "      <th>region</th>\n",
       "      <th>charges</th>\n",
       "    </tr>\n",
       "  </thead>\n",
       "  <tbody>\n",
       "    <tr>\n",
       "      <th>0</th>\n",
       "      <td>19</td>\n",
       "      <td>female</td>\n",
       "      <td>27.900</td>\n",
       "      <td>PREO</td>\n",
       "      <td>0</td>\n",
       "      <td>yes</td>\n",
       "      <td>southwest</td>\n",
       "      <td>16884.92400</td>\n",
       "    </tr>\n",
       "    <tr>\n",
       "      <th>1</th>\n",
       "      <td>18</td>\n",
       "      <td>male</td>\n",
       "      <td>33.770</td>\n",
       "      <td>OB1</td>\n",
       "      <td>1</td>\n",
       "      <td>no</td>\n",
       "      <td>southeast</td>\n",
       "      <td>1725.55230</td>\n",
       "    </tr>\n",
       "    <tr>\n",
       "      <th>2</th>\n",
       "      <td>28</td>\n",
       "      <td>male</td>\n",
       "      <td>33.000</td>\n",
       "      <td>OB1</td>\n",
       "      <td>3</td>\n",
       "      <td>no</td>\n",
       "      <td>southeast</td>\n",
       "      <td>4449.46200</td>\n",
       "    </tr>\n",
       "    <tr>\n",
       "      <th>3</th>\n",
       "      <td>18</td>\n",
       "      <td>male</td>\n",
       "      <td>22.705</td>\n",
       "      <td>N</td>\n",
       "      <td>0</td>\n",
       "      <td>no</td>\n",
       "      <td>northwest</td>\n",
       "      <td>21984.47061</td>\n",
       "    </tr>\n",
       "    <tr>\n",
       "      <th>4</th>\n",
       "      <td>32</td>\n",
       "      <td>male</td>\n",
       "      <td>28.880</td>\n",
       "      <td>PREO</td>\n",
       "      <td>0</td>\n",
       "      <td>no</td>\n",
       "      <td>northwest</td>\n",
       "      <td>3866.85520</td>\n",
       "    </tr>\n",
       "    <tr>\n",
       "      <th>...</th>\n",
       "      <td>...</td>\n",
       "      <td>...</td>\n",
       "      <td>...</td>\n",
       "      <td>...</td>\n",
       "      <td>...</td>\n",
       "      <td>...</td>\n",
       "      <td>...</td>\n",
       "      <td>...</td>\n",
       "    </tr>\n",
       "    <tr>\n",
       "      <th>1333</th>\n",
       "      <td>50</td>\n",
       "      <td>male</td>\n",
       "      <td>30.970</td>\n",
       "      <td>OB1</td>\n",
       "      <td>3</td>\n",
       "      <td>no</td>\n",
       "      <td>northwest</td>\n",
       "      <td>10600.54830</td>\n",
       "    </tr>\n",
       "    <tr>\n",
       "      <th>1334</th>\n",
       "      <td>18</td>\n",
       "      <td>female</td>\n",
       "      <td>31.920</td>\n",
       "      <td>OB1</td>\n",
       "      <td>0</td>\n",
       "      <td>no</td>\n",
       "      <td>northeast</td>\n",
       "      <td>2205.98080</td>\n",
       "    </tr>\n",
       "    <tr>\n",
       "      <th>1335</th>\n",
       "      <td>18</td>\n",
       "      <td>female</td>\n",
       "      <td>36.850</td>\n",
       "      <td>OB2</td>\n",
       "      <td>0</td>\n",
       "      <td>no</td>\n",
       "      <td>southeast</td>\n",
       "      <td>1629.83350</td>\n",
       "    </tr>\n",
       "    <tr>\n",
       "      <th>1336</th>\n",
       "      <td>21</td>\n",
       "      <td>female</td>\n",
       "      <td>25.800</td>\n",
       "      <td>PREO</td>\n",
       "      <td>0</td>\n",
       "      <td>no</td>\n",
       "      <td>southwest</td>\n",
       "      <td>2007.94500</td>\n",
       "    </tr>\n",
       "    <tr>\n",
       "      <th>1337</th>\n",
       "      <td>18</td>\n",
       "      <td>female</td>\n",
       "      <td>29.070</td>\n",
       "      <td>PREO</td>\n",
       "      <td>0</td>\n",
       "      <td>yes</td>\n",
       "      <td>northwest</td>\n",
       "      <td>29141.36030</td>\n",
       "    </tr>\n",
       "  </tbody>\n",
       "</table>\n",
       "<p>1338 rows × 8 columns</p>\n",
       "</div>"
      ],
      "text/plain": [
       "      age     sex     bmi classif  children smoker     region      charges\n",
       "0      19  female  27.900    PREO         0    yes  southwest  16884.92400\n",
       "1      18    male  33.770     OB1         1     no  southeast   1725.55230\n",
       "2      28    male  33.000     OB1         3     no  southeast   4449.46200\n",
       "3      18    male  22.705       N         0     no  northwest  21984.47061\n",
       "4      32    male  28.880    PREO         0     no  northwest   3866.85520\n",
       "...   ...     ...     ...     ...       ...    ...        ...          ...\n",
       "1333   50    male  30.970     OB1         3     no  northwest  10600.54830\n",
       "1334   18  female  31.920     OB1         0     no  northeast   2205.98080\n",
       "1335   18  female  36.850     OB2         0     no  southeast   1629.83350\n",
       "1336   21  female  25.800    PREO         0     no  southwest   2007.94500\n",
       "1337   18  female  29.070    PREO         0    yes  northwest  29141.36030\n",
       "\n",
       "[1338 rows x 8 columns]"
      ]
     },
     "execution_count": 238,
     "metadata": {},
     "output_type": "execute_result"
    }
   ],
   "source": [
    "df1"
   ]
  },
  {
   "cell_type": "markdown",
   "id": "5e4690c7",
   "metadata": {},
   "source": [
    "# bivariate analysis with visualization"
   ]
  },
  {
   "cell_type": "code",
   "execution_count": 239,
   "id": "83e4eab5",
   "metadata": {},
   "outputs": [
    {
     "data": {
      "text/plain": [
       "<AxesSubplot:xlabel='age', ylabel='charges'>"
      ]
     },
     "execution_count": 239,
     "metadata": {},
     "output_type": "execute_result"
    },
    {
     "data": {
      "image/png": "[encoded data removed]",
      "text/plain": [
       "<Figure size 1152x432 with 1 Axes>"
      ]
     },
     "metadata": {
      "needs_background": "light"
     },
     "output_type": "display_data"
    }
   ],
   "source": [
    "pt.figure(figsize=(16,6))\n",
    "sb.barplot(data=df1,x='age',y='charges')"
   ]
  },
  {
   "cell_type": "markdown",
   "id": "205a93e8",
   "metadata": {},
   "source": [
    "## here we can see when age is increasing the charges is also increasing"
   ]
  },
  {
   "cell_type": "code",
   "execution_count": 240,
   "id": "bcdfd94d",
   "metadata": {},
   "outputs": [
    {
     "data": {
      "text/plain": [
       "<AxesSubplot:xlabel='sex', ylabel='charges'>"
      ]
     },
     "execution_count": 240,
     "metadata": {},
     "output_type": "execute_result"
    },
    {
     "data": {
      "image/png": "[encoded data removed]",
      "text/plain": [
       "<Figure size 1152x432 with 1 Axes>"
      ]
     },
     "metadata": {
      "needs_background": "light"
     },
     "output_type": "display_data"
    }
   ],
   "source": [
    "pt.figure(figsize=(16,6))\n",
    "sb.barplot(data=df1,x='sex',y='charges')"
   ]
  },
  {
   "cell_type": "markdown",
   "id": "a8218886",
   "metadata": {},
   "source": [
    "## according to gender male has higher charge than the female"
   ]
  },
  {
   "cell_type": "code",
   "execution_count": 242,
   "id": "04a2c1c6",
   "metadata": {},
   "outputs": [
    {
     "data": {
      "text/plain": [
       "<AxesSubplot:xlabel='classif', ylabel='charges'>"
      ]
     },
     "execution_count": 242,
     "metadata": {},
     "output_type": "execute_result"
    },
    {
     "data": {
      "image/png": "[encoded data removed]",
      "text/plain": [
       "<Figure size 1152x432 with 1 Axes>"
      ]
     },
     "metadata": {
      "needs_background": "light"
     },
     "output_type": "display_data"
    }
   ],
   "source": [
    "pt.figure(figsize=(16,6))\n",
    "sb.barplot(data=df1,x='classif',y='charges')"
   ]
  },
  {
   "cell_type": "markdown",
   "id": "d526bfce",
   "metadata": {},
   "source": [
    "## QB2 health classification is the highest and the second highest is QB3"
   ]
  },
  {
   "cell_type": "code",
   "execution_count": 243,
   "id": "cfdc0638",
   "metadata": {},
   "outputs": [
    {
     "data": {
      "text/plain": [
       "<AxesSubplot:xlabel='smoker', ylabel='charges'>"
      ]
     },
     "execution_count": 243,
     "metadata": {},
     "output_type": "execute_result"
    },
    {
     "data": {
      "image/png": "[encoded data removed]",
      "text/plain": [
       "<Figure size 1152x432 with 1 Axes>"
      ]
     },
     "metadata": {
      "needs_background": "light"
     },
     "output_type": "display_data"
    }
   ],
   "source": [
    "\n",
    "pt.figure(figsize=(16,6))\n",
    "sb.barplot(data=df1,x='smoker',y='charges')"
   ]
  },
  {
   "cell_type": "code",
   "execution_count": 376,
   "id": "05edb9a5",
   "metadata": {},
   "outputs": [
    {
     "name": "stderr",
     "output_type": "stream",
     "text": [
      "No artists with labels found to put in legend.  Note that artists whose label start with an underscore are ignored when legend() is called with no argument.\n"
     ]
    },
    {
     "data": {
      "image/png": "[encoded data removed]",
      "text/plain": [
       "<Figure size 432x288 with 1 Axes>"
      ]
     },
     "metadata": {},
     "output_type": "display_data"
    }
   ],
   "source": [
    "a=df1['sex'].value_counts()\n",
    "pt.pie(x=a,autopct='%.2f')\n",
    "pt.legend()\n",
    "pt.show()"
   ]
  },
  {
   "cell_type": "markdown",
   "id": "159ace84",
   "metadata": {},
   "source": [
    "## smoker has higher charges then the non smoker"
   ]
  },
  {
   "cell_type": "code",
   "execution_count": 245,
   "id": "1a5248b5",
   "metadata": {},
   "outputs": [
    {
     "data": {
      "text/plain": [
       "<AxesSubplot:xlabel='region', ylabel='charges'>"
      ]
     },
     "execution_count": 245,
     "metadata": {},
     "output_type": "execute_result"
    },
    {
     "data": {
      "image/png": "[encoded data removed]",
      "text/plain": [
       "<Figure size 1152x432 with 1 Axes>"
      ]
     },
     "metadata": {
      "needs_background": "light"
     },
     "output_type": "display_data"
    }
   ],
   "source": [
    "pt.figure(figsize=(16,6))\n",
    "sb.barplot(data=df1,x='region',y='charges')"
   ]
  },
  {
   "cell_type": "code",
   "execution_count": 246,
   "id": "8e32d0ca",
   "metadata": {},
   "outputs": [
    {
     "data": {
      "image/png": "[encoded data removed]",
      "text/plain": [
       "<Figure size 432x288 with 1 Axes>"
      ]
     },
     "metadata": {},
     "output_type": "display_data"
    }
   ],
   "source": [
    "b=df1['region'].value_counts()\n",
    "pt.pie(x=b,autopct='%.2f')\n",
    "pt.show()"
   ]
  },
  {
   "cell_type": "markdown",
   "id": "6b4320fb",
   "metadata": {},
   "source": [
    " ## we cant conclude clearly to see that but southeast region  has the higher charges"
   ]
  },
  {
   "cell_type": "code",
   "execution_count": 247,
   "id": "c3dbc0aa",
   "metadata": {},
   "outputs": [],
   "source": [
    "corr1=df1.corr()"
   ]
  },
  {
   "cell_type": "code",
   "execution_count": 248,
   "id": "7f0aa512",
   "metadata": {},
   "outputs": [
    {
     "data": {
      "text/plain": [
       "<AxesSubplot:>"
      ]
     },
     "execution_count": 248,
     "metadata": {},
     "output_type": "execute_result"
    },
    {
     "data": {
      "image/png": "[encoded data removed]",
      "text/plain": [
       "<Figure size 432x288 with 2 Axes>"
      ]
     },
     "metadata": {
      "needs_background": "light"
     },
     "output_type": "display_data"
    }
   ],
   "source": [
    "sb.heatmap(corr1,annot=True)"
   ]
  },
  {
   "cell_type": "markdown",
   "id": "b1bd5ef5",
   "metadata": {},
   "source": [
    "## this is without scaling only for numerical columns here age correaltion is higher than the others"
   ]
  },
  {
   "cell_type": "code",
   "execution_count": 249,
   "id": "f04a087e",
   "metadata": {},
   "outputs": [
    {
     "name": "stdout",
     "output_type": "stream",
     "text": [
      "<class 'pandas.core.frame.DataFrame'>\n",
      "RangeIndex: 1338 entries, 0 to 1337\n",
      "Data columns (total 8 columns):\n",
      " #   Column    Non-Null Count  Dtype  \n",
      "---  ------    --------------  -----  \n",
      " 0   age       1338 non-null   int64  \n",
      " 1   sex       1338 non-null   object \n",
      " 2   bmi       1338 non-null   float64\n",
      " 3   classif   1338 non-null   object \n",
      " 4   children  1338 non-null   int64  \n",
      " 5   smoker    1338 non-null   object \n",
      " 6   region    1338 non-null   object \n",
      " 7   charges   1338 non-null   float64\n",
      "dtypes: float64(2), int64(2), object(4)\n",
      "memory usage: 83.8+ KB\n"
     ]
    }
   ],
   "source": [
    "df1.info()"
   ]
  },
  {
   "cell_type": "markdown",
   "id": "e12d4ed5",
   "metadata": {},
   "source": [
    "# change datatype of object column in to category"
   ]
  },
  {
   "cell_type": "code",
   "execution_count": 250,
   "id": "b51ba9d5",
   "metadata": {},
   "outputs": [],
   "source": [
    "df['sex']=df['sex'].astype('category')\n",
    "df['classif']=df['classif'].astype('category')\n",
    "df['smoker']=df['smoker'].astype('category')\n",
    "df['region']=df['region'].astype('category')"
   ]
  },
  {
   "cell_type": "code",
   "execution_count": 251,
   "id": "23cace8f",
   "metadata": {},
   "outputs": [
    {
     "name": "stdout",
     "output_type": "stream",
     "text": [
      "<class 'pandas.core.frame.DataFrame'>\n",
      "RangeIndex: 1338 entries, 0 to 1337\n",
      "Data columns (total 8 columns):\n",
      " #   Column    Non-Null Count  Dtype   \n",
      "---  ------    --------------  -----   \n",
      " 0   age       1338 non-null   int64   \n",
      " 1   sex       1338 non-null   category\n",
      " 2   bmi       1338 non-null   float64 \n",
      " 3   classif   1338 non-null   category\n",
      " 4   children  1338 non-null   int64   \n",
      " 5   smoker    1338 non-null   category\n",
      " 6   region    1338 non-null   category\n",
      " 7   charges   1338 non-null   float64 \n",
      "dtypes: category(4), float64(2), int64(2)\n",
      "memory usage: 47.8 KB\n"
     ]
    }
   ],
   "source": [
    "df.info()"
   ]
  },
  {
   "cell_type": "code",
   "execution_count": 252,
   "id": "d6c0b97c",
   "metadata": {},
   "outputs": [],
   "source": [
    "from sklearn.preprocessing import LabelEncoder"
   ]
  },
  {
   "cell_type": "code",
   "execution_count": 253,
   "id": "0119aeef",
   "metadata": {},
   "outputs": [],
   "source": [
    "le=LabelEncoder()"
   ]
  },
  {
   "cell_type": "code",
   "execution_count": 254,
   "id": "8b2e9b77",
   "metadata": {},
   "outputs": [],
   "source": [
    "df['sex']=le.fit_transform(df['sex'])\n",
    "df['classif']=le.fit_transform(df['classif'])\n",
    "df['smoker']=le.fit_transform(df['smoker'])\n",
    "df['region']=le.fit_transform(df['region'])"
   ]
  },
  {
   "cell_type": "code",
   "execution_count": 255,
   "id": "7d4c7046",
   "metadata": {},
   "outputs": [
    {
     "data": {
      "text/html": [
       "<div>\n",
       "<style scoped>\n",
       "    .dataframe tbody tr th:only-of-type {\n",
       "        vertical-align: middle;\n",
       "    }\n",
       "\n",
       "    .dataframe tbody tr th {\n",
       "        vertical-align: top;\n",
       "    }\n",
       "\n",
       "    .dataframe thead th {\n",
       "        text-align: right;\n",
       "    }\n",
       "</style>\n",
       "<table border=\"1\" class=\"dataframe\">\n",
       "  <thead>\n",
       "    <tr style=\"text-align: right;\">\n",
       "      <th></th>\n",
       "      <th>age</th>\n",
       "      <th>sex</th>\n",
       "      <th>bmi</th>\n",
       "      <th>classif</th>\n",
       "      <th>children</th>\n",
       "      <th>smoker</th>\n",
       "      <th>region</th>\n",
       "      <th>charges</th>\n",
       "    </tr>\n",
       "  </thead>\n",
       "  <tbody>\n",
       "    <tr>\n",
       "      <th>0</th>\n",
       "      <td>19</td>\n",
       "      <td>0</td>\n",
       "      <td>27.900</td>\n",
       "      <td>4</td>\n",
       "      <td>0</td>\n",
       "      <td>1</td>\n",
       "      <td>3</td>\n",
       "      <td>16884.92400</td>\n",
       "    </tr>\n",
       "    <tr>\n",
       "      <th>1</th>\n",
       "      <td>18</td>\n",
       "      <td>1</td>\n",
       "      <td>33.770</td>\n",
       "      <td>1</td>\n",
       "      <td>1</td>\n",
       "      <td>0</td>\n",
       "      <td>2</td>\n",
       "      <td>1725.55230</td>\n",
       "    </tr>\n",
       "    <tr>\n",
       "      <th>2</th>\n",
       "      <td>28</td>\n",
       "      <td>1</td>\n",
       "      <td>33.000</td>\n",
       "      <td>1</td>\n",
       "      <td>3</td>\n",
       "      <td>0</td>\n",
       "      <td>2</td>\n",
       "      <td>4449.46200</td>\n",
       "    </tr>\n",
       "    <tr>\n",
       "      <th>3</th>\n",
       "      <td>18</td>\n",
       "      <td>1</td>\n",
       "      <td>22.705</td>\n",
       "      <td>0</td>\n",
       "      <td>0</td>\n",
       "      <td>0</td>\n",
       "      <td>1</td>\n",
       "      <td>21984.47061</td>\n",
       "    </tr>\n",
       "    <tr>\n",
       "      <th>4</th>\n",
       "      <td>32</td>\n",
       "      <td>1</td>\n",
       "      <td>28.880</td>\n",
       "      <td>4</td>\n",
       "      <td>0</td>\n",
       "      <td>0</td>\n",
       "      <td>1</td>\n",
       "      <td>3866.85520</td>\n",
       "    </tr>\n",
       "  </tbody>\n",
       "</table>\n",
       "</div>"
      ],
      "text/plain": [
       "   age  sex     bmi  classif  children  smoker  region      charges\n",
       "0   19    0  27.900        4         0       1       3  16884.92400\n",
       "1   18    1  33.770        1         1       0       2   1725.55230\n",
       "2   28    1  33.000        1         3       0       2   4449.46200\n",
       "3   18    1  22.705        0         0       0       1  21984.47061\n",
       "4   32    1  28.880        4         0       0       1   3866.85520"
      ]
     },
     "execution_count": 255,
     "metadata": {},
     "output_type": "execute_result"
    }
   ],
   "source": [
    "df.head()"
   ]
  },
  {
   "cell_type": "markdown",
   "id": "d2cb38af",
   "metadata": {},
   "source": [
    "# feature scaling"
   ]
  },
  {
   "cell_type": "code",
   "execution_count": 256,
   "id": "7f5a6472",
   "metadata": {},
   "outputs": [],
   "source": [
    "from sklearn.preprocessing import MinMaxScaler\n",
    "from sklearn.preprocessing import StandardScaler"
   ]
  },
  {
   "cell_type": "code",
   "execution_count": 257,
   "id": "de499e6c",
   "metadata": {},
   "outputs": [],
   "source": [
    "scaler=MinMaxScaler()\n",
    "scaled_df=pd.DataFrame(scaler.fit_transform(df.to_numpy()),columns=df.columns)"
   ]
  },
  {
   "cell_type": "code",
   "execution_count": 258,
   "id": "8fb1ad7d",
   "metadata": {},
   "outputs": [
    {
     "data": {
      "text/html": [
       "<div>\n",
       "<style scoped>\n",
       "    .dataframe tbody tr th:only-of-type {\n",
       "        vertical-align: middle;\n",
       "    }\n",
       "\n",
       "    .dataframe tbody tr th {\n",
       "        vertical-align: top;\n",
       "    }\n",
       "\n",
       "    .dataframe thead th {\n",
       "        text-align: right;\n",
       "    }\n",
       "</style>\n",
       "<table border=\"1\" class=\"dataframe\">\n",
       "  <thead>\n",
       "    <tr style=\"text-align: right;\">\n",
       "      <th></th>\n",
       "      <th>age</th>\n",
       "      <th>sex</th>\n",
       "      <th>bmi</th>\n",
       "      <th>classif</th>\n",
       "      <th>children</th>\n",
       "      <th>smoker</th>\n",
       "      <th>region</th>\n",
       "      <th>charges</th>\n",
       "    </tr>\n",
       "  </thead>\n",
       "  <tbody>\n",
       "    <tr>\n",
       "      <th>0</th>\n",
       "      <td>0.021739</td>\n",
       "      <td>0.0</td>\n",
       "      <td>0.321227</td>\n",
       "      <td>0.8</td>\n",
       "      <td>0.0</td>\n",
       "      <td>1.0</td>\n",
       "      <td>1.000000</td>\n",
       "      <td>0.251611</td>\n",
       "    </tr>\n",
       "    <tr>\n",
       "      <th>1</th>\n",
       "      <td>0.000000</td>\n",
       "      <td>1.0</td>\n",
       "      <td>0.479150</td>\n",
       "      <td>0.2</td>\n",
       "      <td>0.2</td>\n",
       "      <td>0.0</td>\n",
       "      <td>0.666667</td>\n",
       "      <td>0.009636</td>\n",
       "    </tr>\n",
       "    <tr>\n",
       "      <th>2</th>\n",
       "      <td>0.217391</td>\n",
       "      <td>1.0</td>\n",
       "      <td>0.458434</td>\n",
       "      <td>0.2</td>\n",
       "      <td>0.6</td>\n",
       "      <td>0.0</td>\n",
       "      <td>0.666667</td>\n",
       "      <td>0.053115</td>\n",
       "    </tr>\n",
       "    <tr>\n",
       "      <th>3</th>\n",
       "      <td>0.000000</td>\n",
       "      <td>1.0</td>\n",
       "      <td>0.181464</td>\n",
       "      <td>0.0</td>\n",
       "      <td>0.0</td>\n",
       "      <td>0.0</td>\n",
       "      <td>0.333333</td>\n",
       "      <td>0.333010</td>\n",
       "    </tr>\n",
       "    <tr>\n",
       "      <th>4</th>\n",
       "      <td>0.304348</td>\n",
       "      <td>1.0</td>\n",
       "      <td>0.347592</td>\n",
       "      <td>0.8</td>\n",
       "      <td>0.0</td>\n",
       "      <td>0.0</td>\n",
       "      <td>0.333333</td>\n",
       "      <td>0.043816</td>\n",
       "    </tr>\n",
       "    <tr>\n",
       "      <th>...</th>\n",
       "      <td>...</td>\n",
       "      <td>...</td>\n",
       "      <td>...</td>\n",
       "      <td>...</td>\n",
       "      <td>...</td>\n",
       "      <td>...</td>\n",
       "      <td>...</td>\n",
       "      <td>...</td>\n",
       "    </tr>\n",
       "    <tr>\n",
       "      <th>1333</th>\n",
       "      <td>0.695652</td>\n",
       "      <td>1.0</td>\n",
       "      <td>0.403820</td>\n",
       "      <td>0.2</td>\n",
       "      <td>0.6</td>\n",
       "      <td>0.0</td>\n",
       "      <td>0.333333</td>\n",
       "      <td>0.151299</td>\n",
       "    </tr>\n",
       "    <tr>\n",
       "      <th>1334</th>\n",
       "      <td>0.000000</td>\n",
       "      <td>0.0</td>\n",
       "      <td>0.429379</td>\n",
       "      <td>0.2</td>\n",
       "      <td>0.0</td>\n",
       "      <td>0.0</td>\n",
       "      <td>0.000000</td>\n",
       "      <td>0.017305</td>\n",
       "    </tr>\n",
       "    <tr>\n",
       "      <th>1335</th>\n",
       "      <td>0.000000</td>\n",
       "      <td>0.0</td>\n",
       "      <td>0.562012</td>\n",
       "      <td>0.4</td>\n",
       "      <td>0.0</td>\n",
       "      <td>0.0</td>\n",
       "      <td>0.666667</td>\n",
       "      <td>0.008108</td>\n",
       "    </tr>\n",
       "    <tr>\n",
       "      <th>1336</th>\n",
       "      <td>0.065217</td>\n",
       "      <td>0.0</td>\n",
       "      <td>0.264730</td>\n",
       "      <td>0.8</td>\n",
       "      <td>0.0</td>\n",
       "      <td>0.0</td>\n",
       "      <td>1.000000</td>\n",
       "      <td>0.014144</td>\n",
       "    </tr>\n",
       "    <tr>\n",
       "      <th>1337</th>\n",
       "      <td>0.000000</td>\n",
       "      <td>0.0</td>\n",
       "      <td>0.352704</td>\n",
       "      <td>0.8</td>\n",
       "      <td>0.0</td>\n",
       "      <td>1.0</td>\n",
       "      <td>0.333333</td>\n",
       "      <td>0.447249</td>\n",
       "    </tr>\n",
       "  </tbody>\n",
       "</table>\n",
       "<p>1338 rows × 8 columns</p>\n",
       "</div>"
      ],
      "text/plain": [
       "           age  sex       bmi  classif  children  smoker    region   charges\n",
       "0     0.021739  0.0  0.321227      0.8       0.0     1.0  1.000000  0.251611\n",
       "1     0.000000  1.0  0.479150      0.2       0.2     0.0  0.666667  0.009636\n",
       "2     0.217391  1.0  0.458434      0.2       0.6     0.0  0.666667  0.053115\n",
       "3     0.000000  1.0  0.181464      0.0       0.0     0.0  0.333333  0.333010\n",
       "4     0.304348  1.0  0.347592      0.8       0.0     0.0  0.333333  0.043816\n",
       "...        ...  ...       ...      ...       ...     ...       ...       ...\n",
       "1333  0.695652  1.0  0.403820      0.2       0.6     0.0  0.333333  0.151299\n",
       "1334  0.000000  0.0  0.429379      0.2       0.0     0.0  0.000000  0.017305\n",
       "1335  0.000000  0.0  0.562012      0.4       0.0     0.0  0.666667  0.008108\n",
       "1336  0.065217  0.0  0.264730      0.8       0.0     0.0  1.000000  0.014144\n",
       "1337  0.000000  0.0  0.352704      0.8       0.0     1.0  0.333333  0.447249\n",
       "\n",
       "[1338 rows x 8 columns]"
      ]
     },
     "execution_count": 258,
     "metadata": {},
     "output_type": "execute_result"
    }
   ],
   "source": [
    "scaled_df"
   ]
  },
  {
   "cell_type": "code",
   "execution_count": 259,
   "id": "895fa307",
   "metadata": {},
   "outputs": [
    {
     "data": {
      "text/html": [
       "<div>\n",
       "<style scoped>\n",
       "    .dataframe tbody tr th:only-of-type {\n",
       "        vertical-align: middle;\n",
       "    }\n",
       "\n",
       "    .dataframe tbody tr th {\n",
       "        vertical-align: top;\n",
       "    }\n",
       "\n",
       "    .dataframe thead th {\n",
       "        text-align: right;\n",
       "    }\n",
       "</style>\n",
       "<table border=\"1\" class=\"dataframe\">\n",
       "  <thead>\n",
       "    <tr style=\"text-align: right;\">\n",
       "      <th></th>\n",
       "      <th>age</th>\n",
       "      <th>sex</th>\n",
       "      <th>bmi</th>\n",
       "      <th>classif</th>\n",
       "      <th>children</th>\n",
       "      <th>smoker</th>\n",
       "      <th>region</th>\n",
       "      <th>charges</th>\n",
       "    </tr>\n",
       "  </thead>\n",
       "  <tbody>\n",
       "    <tr>\n",
       "      <th>0</th>\n",
       "      <td>19</td>\n",
       "      <td>female</td>\n",
       "      <td>27.900</td>\n",
       "      <td>PREO</td>\n",
       "      <td>0</td>\n",
       "      <td>yes</td>\n",
       "      <td>southwest</td>\n",
       "      <td>16884.92400</td>\n",
       "    </tr>\n",
       "    <tr>\n",
       "      <th>1</th>\n",
       "      <td>18</td>\n",
       "      <td>male</td>\n",
       "      <td>33.770</td>\n",
       "      <td>OB1</td>\n",
       "      <td>1</td>\n",
       "      <td>no</td>\n",
       "      <td>southeast</td>\n",
       "      <td>1725.55230</td>\n",
       "    </tr>\n",
       "    <tr>\n",
       "      <th>2</th>\n",
       "      <td>28</td>\n",
       "      <td>male</td>\n",
       "      <td>33.000</td>\n",
       "      <td>OB1</td>\n",
       "      <td>3</td>\n",
       "      <td>no</td>\n",
       "      <td>southeast</td>\n",
       "      <td>4449.46200</td>\n",
       "    </tr>\n",
       "    <tr>\n",
       "      <th>3</th>\n",
       "      <td>18</td>\n",
       "      <td>male</td>\n",
       "      <td>22.705</td>\n",
       "      <td>N</td>\n",
       "      <td>0</td>\n",
       "      <td>no</td>\n",
       "      <td>northwest</td>\n",
       "      <td>21984.47061</td>\n",
       "    </tr>\n",
       "    <tr>\n",
       "      <th>4</th>\n",
       "      <td>32</td>\n",
       "      <td>male</td>\n",
       "      <td>28.880</td>\n",
       "      <td>PREO</td>\n",
       "      <td>0</td>\n",
       "      <td>no</td>\n",
       "      <td>northwest</td>\n",
       "      <td>3866.85520</td>\n",
       "    </tr>\n",
       "  </tbody>\n",
       "</table>\n",
       "</div>"
      ],
      "text/plain": [
       "   age     sex     bmi classif  children smoker     region      charges\n",
       "0   19  female  27.900    PREO         0    yes  southwest  16884.92400\n",
       "1   18    male  33.770     OB1         1     no  southeast   1725.55230\n",
       "2   28    male  33.000     OB1         3     no  southeast   4449.46200\n",
       "3   18    male  22.705       N         0     no  northwest  21984.47061\n",
       "4   32    male  28.880    PREO         0     no  northwest   3866.85520"
      ]
     },
     "execution_count": 259,
     "metadata": {},
     "output_type": "execute_result"
    }
   ],
   "source": [
    "df1.head()         # fresh dataframe without any labelencoder"
   ]
  },
  {
   "cell_type": "code",
   "execution_count": 260,
   "id": "84f8dbea",
   "metadata": {},
   "outputs": [],
   "source": [
    "corr2=scaled_df.corr()"
   ]
  },
  {
   "cell_type": "code",
   "execution_count": 261,
   "id": "57e9f77f",
   "metadata": {},
   "outputs": [
    {
     "data": {
      "text/plain": [
       "<AxesSubplot:>"
      ]
     },
     "execution_count": 261,
     "metadata": {},
     "output_type": "execute_result"
    },
    {
     "data": {
      "image/png": "[encoded data removed]",
      "text/plain": [
       "<Figure size 864x432 with 2 Axes>"
      ]
     },
     "metadata": {
      "needs_background": "light"
     },
     "output_type": "display_data"
    }
   ],
   "source": [
    "pt.figure(figsize=(12,6))\n",
    "sb.heatmap(corr2,annot=True)"
   ]
  },
  {
   "cell_type": "markdown",
   "id": "cbe00cea",
   "metadata": {},
   "source": [
    "# smoker is highly correlated with charges 79%"
   ]
  },
  {
   "cell_type": "markdown",
   "id": "5c50e92f",
   "metadata": {},
   "source": [
    "# spliting the data or seperate the independent and dependent column"
   ]
  },
  {
   "cell_type": "code",
   "execution_count": 262,
   "id": "4475ab29",
   "metadata": {},
   "outputs": [
    {
     "data": {
      "text/html": [
       "<div>\n",
       "<style scoped>\n",
       "    .dataframe tbody tr th:only-of-type {\n",
       "        vertical-align: middle;\n",
       "    }\n",
       "\n",
       "    .dataframe tbody tr th {\n",
       "        vertical-align: top;\n",
       "    }\n",
       "\n",
       "    .dataframe thead th {\n",
       "        text-align: right;\n",
       "    }\n",
       "</style>\n",
       "<table border=\"1\" class=\"dataframe\">\n",
       "  <thead>\n",
       "    <tr style=\"text-align: right;\">\n",
       "      <th></th>\n",
       "      <th>age</th>\n",
       "      <th>sex</th>\n",
       "      <th>bmi</th>\n",
       "      <th>classif</th>\n",
       "      <th>children</th>\n",
       "      <th>smoker</th>\n",
       "      <th>region</th>\n",
       "    </tr>\n",
       "  </thead>\n",
       "  <tbody>\n",
       "    <tr>\n",
       "      <th>0</th>\n",
       "      <td>0.021739</td>\n",
       "      <td>0.0</td>\n",
       "      <td>0.321227</td>\n",
       "      <td>0.8</td>\n",
       "      <td>0.0</td>\n",
       "      <td>1.0</td>\n",
       "      <td>1.000000</td>\n",
       "    </tr>\n",
       "    <tr>\n",
       "      <th>1</th>\n",
       "      <td>0.000000</td>\n",
       "      <td>1.0</td>\n",
       "      <td>0.479150</td>\n",
       "      <td>0.2</td>\n",
       "      <td>0.2</td>\n",
       "      <td>0.0</td>\n",
       "      <td>0.666667</td>\n",
       "    </tr>\n",
       "    <tr>\n",
       "      <th>2</th>\n",
       "      <td>0.217391</td>\n",
       "      <td>1.0</td>\n",
       "      <td>0.458434</td>\n",
       "      <td>0.2</td>\n",
       "      <td>0.6</td>\n",
       "      <td>0.0</td>\n",
       "      <td>0.666667</td>\n",
       "    </tr>\n",
       "    <tr>\n",
       "      <th>3</th>\n",
       "      <td>0.000000</td>\n",
       "      <td>1.0</td>\n",
       "      <td>0.181464</td>\n",
       "      <td>0.0</td>\n",
       "      <td>0.0</td>\n",
       "      <td>0.0</td>\n",
       "      <td>0.333333</td>\n",
       "    </tr>\n",
       "    <tr>\n",
       "      <th>4</th>\n",
       "      <td>0.304348</td>\n",
       "      <td>1.0</td>\n",
       "      <td>0.347592</td>\n",
       "      <td>0.8</td>\n",
       "      <td>0.0</td>\n",
       "      <td>0.0</td>\n",
       "      <td>0.333333</td>\n",
       "    </tr>\n",
       "  </tbody>\n",
       "</table>\n",
       "</div>"
      ],
      "text/plain": [
       "        age  sex       bmi  classif  children  smoker    region\n",
       "0  0.021739  0.0  0.321227      0.8       0.0     1.0  1.000000\n",
       "1  0.000000  1.0  0.479150      0.2       0.2     0.0  0.666667\n",
       "2  0.217391  1.0  0.458434      0.2       0.6     0.0  0.666667\n",
       "3  0.000000  1.0  0.181464      0.0       0.0     0.0  0.333333\n",
       "4  0.304348  1.0  0.347592      0.8       0.0     0.0  0.333333"
      ]
     },
     "execution_count": 262,
     "metadata": {},
     "output_type": "execute_result"
    }
   ],
   "source": [
    "x=scaled_df.iloc[:,:7]\n",
    "x.head()"
   ]
  },
  {
   "cell_type": "code",
   "execution_count": 263,
   "id": "5d7879c2",
   "metadata": {},
   "outputs": [
    {
     "data": {
      "text/html": [
       "<div>\n",
       "<style scoped>\n",
       "    .dataframe tbody tr th:only-of-type {\n",
       "        vertical-align: middle;\n",
       "    }\n",
       "\n",
       "    .dataframe tbody tr th {\n",
       "        vertical-align: top;\n",
       "    }\n",
       "\n",
       "    .dataframe thead th {\n",
       "        text-align: right;\n",
       "    }\n",
       "</style>\n",
       "<table border=\"1\" class=\"dataframe\">\n",
       "  <thead>\n",
       "    <tr style=\"text-align: right;\">\n",
       "      <th></th>\n",
       "      <th>charges</th>\n",
       "    </tr>\n",
       "  </thead>\n",
       "  <tbody>\n",
       "    <tr>\n",
       "      <th>0</th>\n",
       "      <td>0.251611</td>\n",
       "    </tr>\n",
       "    <tr>\n",
       "      <th>1</th>\n",
       "      <td>0.009636</td>\n",
       "    </tr>\n",
       "    <tr>\n",
       "      <th>2</th>\n",
       "      <td>0.053115</td>\n",
       "    </tr>\n",
       "    <tr>\n",
       "      <th>3</th>\n",
       "      <td>0.333010</td>\n",
       "    </tr>\n",
       "    <tr>\n",
       "      <th>4</th>\n",
       "      <td>0.043816</td>\n",
       "    </tr>\n",
       "  </tbody>\n",
       "</table>\n",
       "</div>"
      ],
      "text/plain": [
       "    charges\n",
       "0  0.251611\n",
       "1  0.009636\n",
       "2  0.053115\n",
       "3  0.333010\n",
       "4  0.043816"
      ]
     },
     "execution_count": 263,
     "metadata": {},
     "output_type": "execute_result"
    }
   ],
   "source": [
    "y=scaled_df.iloc[:,7:8]\n",
    "y.head()"
   ]
  },
  {
   "cell_type": "markdown",
   "id": "c5def1b0",
   "metadata": {},
   "source": [
    "# train test split"
   ]
  },
  {
   "cell_type": "markdown",
   "id": "e38c228f",
   "metadata": {},
   "source": [
    "# for all columns"
   ]
  },
  {
   "cell_type": "code",
   "execution_count": 264,
   "id": "a3ffa633",
   "metadata": {},
   "outputs": [],
   "source": [
    "from sklearn.model_selection import train_test_split"
   ]
  },
  {
   "cell_type": "code",
   "execution_count": 265,
   "id": "9297c356",
   "metadata": {},
   "outputs": [],
   "source": [
    "x_train,x_test,y_train,y_test=train_test_split(x,y,test_size=0.3,random_state=10)"
   ]
  },
  {
   "cell_type": "code",
   "execution_count": 266,
   "id": "e69c7eb5",
   "metadata": {},
   "outputs": [
    {
     "data": {
      "text/plain": [
       "(936, 7)"
      ]
     },
     "execution_count": 266,
     "metadata": {},
     "output_type": "execute_result"
    }
   ],
   "source": [
    "x_train.shape"
   ]
  },
  {
   "cell_type": "code",
   "execution_count": 267,
   "id": "de6c36da",
   "metadata": {},
   "outputs": [
    {
     "data": {
      "text/plain": [
       "(402, 7)"
      ]
     },
     "execution_count": 267,
     "metadata": {},
     "output_type": "execute_result"
    }
   ],
   "source": [
    "x_test.shape"
   ]
  },
  {
   "cell_type": "markdown",
   "id": "07236e9a",
   "metadata": {},
   "source": [
    "# linear regression"
   ]
  },
  {
   "cell_type": "code",
   "execution_count": 268,
   "id": "461989ef",
   "metadata": {},
   "outputs": [],
   "source": [
    "lr=LinearRegression()"
   ]
  },
  {
   "cell_type": "code",
   "execution_count": 269,
   "id": "d13ef928",
   "metadata": {},
   "outputs": [],
   "source": [
    "model1=lr.fit(x_train,y_train)"
   ]
  },
  {
   "cell_type": "code",
   "execution_count": 270,
   "id": "6f58c17d",
   "metadata": {},
   "outputs": [
    {
     "data": {
      "text/plain": [
       "LinearRegression()"
      ]
     },
     "execution_count": 270,
     "metadata": {},
     "output_type": "execute_result"
    }
   ],
   "source": [
    "model1"
   ]
  },
  {
   "cell_type": "code",
   "execution_count": 271,
   "id": "bf7a825f",
   "metadata": {},
   "outputs": [
    {
     "data": {
      "text/plain": [
       "0.7626093229729252"
      ]
     },
     "execution_count": 271,
     "metadata": {},
     "output_type": "execute_result"
    }
   ],
   "source": [
    "coefficient_Determination =model1.score(x_train,y_train)\n",
    "coefficient_Determination"
   ]
  },
  {
   "cell_type": "code",
   "execution_count": 272,
   "id": "83b41c7d",
   "metadata": {},
   "outputs": [
    {
     "data": {
      "text/plain": [
       "array([-0.04373446])"
      ]
     },
     "execution_count": 272,
     "metadata": {},
     "output_type": "execute_result"
    }
   ],
   "source": [
    "model1.intercept_"
   ]
  },
  {
   "cell_type": "code",
   "execution_count": 273,
   "id": "7ce399c9",
   "metadata": {},
   "outputs": [
    {
     "data": {
      "text/plain": [
       "array([[ 0.19493749, -0.00436207,  0.20518108, -0.02969478,  0.04808777,\n",
       "         0.38628179, -0.01345445]])"
      ]
     },
     "execution_count": 273,
     "metadata": {},
     "output_type": "execute_result"
    }
   ],
   "source": [
    "model1.coef_"
   ]
  },
  {
   "cell_type": "code",
   "execution_count": 274,
   "id": "47ecf57d",
   "metadata": {},
   "outputs": [],
   "source": [
    "y_pred1 = model1.predict(x_test)"
   ]
  },
  {
   "cell_type": "code",
   "execution_count": 275,
   "id": "0477b781",
   "metadata": {},
   "outputs": [
    {
     "data": {
      "text/plain": [
       "array([[ 0.10242167],\n",
       "       [ 0.06461158],\n",
       "       [ 0.22663162],\n",
       "       [ 0.15610732],\n",
       "       [ 0.03022751],\n",
       "       [ 0.14394001],\n",
       "       [ 0.15153404],\n",
       "       [ 0.38797336],\n",
       "       [ 0.12098405],\n",
       "       [ 0.49027622],\n",
       "       [ 0.02236843],\n",
       "       [ 0.03720681],\n",
       "       [ 0.08967906],\n",
       "       [ 0.17156563],\n",
       "       [ 0.19126377],\n",
       "       [ 0.17434171],\n",
       "       [ 0.0801658 ],\n",
       "       [ 0.27772201],\n",
       "       [ 0.1421362 ],\n",
       "       [ 0.46692655],\n",
       "       [ 0.53699983],\n",
       "       [ 0.05007076],\n",
       "       [-0.01032994],\n",
       "       [ 0.08928712],\n",
       "       [ 0.04338967],\n",
       "       [ 0.20454431],\n",
       "       [ 0.1726826 ],\n",
       "       [ 0.16360876],\n",
       "       [ 0.09069553],\n",
       "       [ 0.46770343],\n",
       "       [-0.03611614],\n",
       "       [ 0.5278394 ],\n",
       "       [ 0.14315952],\n",
       "       [ 0.11540708],\n",
       "       [ 0.11414022],\n",
       "       [ 0.17189584],\n",
       "       [ 0.20555386],\n",
       "       [ 0.18514163],\n",
       "       [ 0.13104723],\n",
       "       [ 0.12507686],\n",
       "       [ 0.24143202],\n",
       "       [ 0.13042291],\n",
       "       [ 0.0588431 ],\n",
       "       [ 0.16784157],\n",
       "       [ 0.06411238],\n",
       "       [ 0.09127929],\n",
       "       [ 0.10224623],\n",
       "       [ 0.54037518],\n",
       "       [ 0.17389753],\n",
       "       [ 0.14254972],\n",
       "       [ 0.50341961],\n",
       "       [ 0.0784039 ],\n",
       "       [ 0.15447353],\n",
       "       [ 0.2266485 ],\n",
       "       [ 0.17027079],\n",
       "       [ 0.20538738],\n",
       "       [ 0.18583584],\n",
       "       [ 0.10990493],\n",
       "       [ 0.09265722],\n",
       "       [ 0.55406889],\n",
       "       [-0.01941167],\n",
       "       [ 0.50479451],\n",
       "       [ 0.56583761],\n",
       "       [-0.00381252],\n",
       "       [ 0.44259492],\n",
       "       [ 0.145906  ],\n",
       "       [ 0.06555242],\n",
       "       [ 0.1389422 ],\n",
       "       [ 0.10255652],\n",
       "       [ 0.12025741],\n",
       "       [ 0.08879706],\n",
       "       [ 0.02427985],\n",
       "       [ 0.10328409],\n",
       "       [ 0.14414375],\n",
       "       [ 0.11673129],\n",
       "       [ 0.19689906],\n",
       "       [ 0.07688018],\n",
       "       [ 0.15375008],\n",
       "       [-0.02369646],\n",
       "       [ 0.1967027 ],\n",
       "       [ 0.15415693],\n",
       "       [ 0.19097658],\n",
       "       [ 0.40116176],\n",
       "       [ 0.03507393],\n",
       "       [ 0.53686329],\n",
       "       [ 0.04412002],\n",
       "       [ 0.03287853],\n",
       "       [ 0.04106573],\n",
       "       [ 0.13116351],\n",
       "       [ 0.14224167],\n",
       "       [ 0.49800018],\n",
       "       [ 0.51718554],\n",
       "       [ 0.14818357],\n",
       "       [ 0.58568386],\n",
       "       [ 0.20512765],\n",
       "       [ 0.08723834],\n",
       "       [ 0.0836717 ],\n",
       "       [ 0.21033969],\n",
       "       [ 0.09443158],\n",
       "       [ 0.17258933],\n",
       "       [ 0.09944642],\n",
       "       [ 0.0284632 ],\n",
       "       [ 0.0423129 ],\n",
       "       [ 0.10076466],\n",
       "       [ 0.13609493],\n",
       "       [ 0.12600739],\n",
       "       [ 0.4725918 ],\n",
       "       [ 0.46933936],\n",
       "       [ 0.44939605],\n",
       "       [ 0.06003056],\n",
       "       [ 0.14263811],\n",
       "       [ 0.12302759],\n",
       "       [ 0.09771141],\n",
       "       [ 0.38986379],\n",
       "       [ 0.47090358],\n",
       "       [ 0.47486772],\n",
       "       [ 0.06166563],\n",
       "       [ 0.55432323],\n",
       "       [ 0.09850668],\n",
       "       [ 0.05062163],\n",
       "       [ 0.53318005],\n",
       "       [ 0.16785328],\n",
       "       [ 0.10284358],\n",
       "       [ 0.06712691],\n",
       "       [ 0.61363641],\n",
       "       [ 0.0758724 ],\n",
       "       [ 0.21184349],\n",
       "       [ 0.13713019],\n",
       "       [ 0.09494559],\n",
       "       [ 0.16395452],\n",
       "       [ 0.17165168],\n",
       "       [ 0.55330617],\n",
       "       [ 0.40366844],\n",
       "       [ 0.52912082],\n",
       "       [ 0.17531464],\n",
       "       [ 0.46189181],\n",
       "       [ 0.18879733],\n",
       "       [ 0.19066279],\n",
       "       [ 0.45477366],\n",
       "       [ 0.05735447],\n",
       "       [ 0.10107033],\n",
       "       [ 0.50684791],\n",
       "       [ 0.21736136],\n",
       "       [ 0.0535316 ],\n",
       "       [ 0.03754627],\n",
       "       [ 0.46543916],\n",
       "       [ 0.20442505],\n",
       "       [ 0.11712013],\n",
       "       [ 0.17390605],\n",
       "       [ 0.0271906 ],\n",
       "       [ 0.10451484],\n",
       "       [ 0.06970357],\n",
       "       [ 0.01645767],\n",
       "       [ 0.60733301],\n",
       "       [ 0.2072366 ],\n",
       "       [ 0.04879906],\n",
       "       [ 0.21457376],\n",
       "       [-0.01704565],\n",
       "       [ 0.23091628],\n",
       "       [ 0.55154626],\n",
       "       [ 0.1766046 ],\n",
       "       [ 0.08955169],\n",
       "       [ 0.09354981],\n",
       "       [ 0.16176102],\n",
       "       [ 0.07045048],\n",
       "       [ 0.62298983],\n",
       "       [ 0.15356814],\n",
       "       [ 0.14480508],\n",
       "       [ 0.02509644],\n",
       "       [ 0.14424568],\n",
       "       [ 0.1856265 ],\n",
       "       [ 0.14954346],\n",
       "       [ 0.10155369],\n",
       "       [ 0.17242948],\n",
       "       [ 0.44405673],\n",
       "       [ 0.10045272],\n",
       "       [-0.02370983],\n",
       "       [ 0.17864365],\n",
       "       [ 0.15157535],\n",
       "       [ 0.23376023],\n",
       "       [ 0.61713385],\n",
       "       [-0.02098489],\n",
       "       [ 0.05816004],\n",
       "       [ 0.07443491],\n",
       "       [ 0.42702778],\n",
       "       [ 0.0952607 ],\n",
       "       [ 0.55154797],\n",
       "       [ 0.14644747],\n",
       "       [ 0.48594525],\n",
       "       [ 0.02048709],\n",
       "       [ 0.12641777],\n",
       "       [ 0.1174504 ],\n",
       "       [ 0.10329674],\n",
       "       [ 0.14217043],\n",
       "       [ 0.20887712],\n",
       "       [ 0.1727005 ],\n",
       "       [ 0.38219772],\n",
       "       [ 0.04122963],\n",
       "       [ 0.16232287],\n",
       "       [ 0.07890952],\n",
       "       [ 0.07381605],\n",
       "       [-0.00509517],\n",
       "       [ 0.23710377],\n",
       "       [ 0.20323589],\n",
       "       [ 0.04027664],\n",
       "       [ 0.58353984],\n",
       "       [ 0.44471698],\n",
       "       [ 0.24365027],\n",
       "       [ 0.4994573 ],\n",
       "       [ 0.05850651],\n",
       "       [ 0.14303881],\n",
       "       [ 0.51344011],\n",
       "       [ 0.13446561],\n",
       "       [ 0.1336044 ],\n",
       "       [ 0.49777899],\n",
       "       [ 0.08880647],\n",
       "       [ 0.14032003],\n",
       "       [ 0.00752789],\n",
       "       [ 0.23041254],\n",
       "       [ 0.19275551],\n",
       "       [ 0.1026094 ],\n",
       "       [ 0.10284596],\n",
       "       [-0.01714723],\n",
       "       [ 0.22156478],\n",
       "       [-0.00433233],\n",
       "       [ 0.38697581],\n",
       "       [ 0.21469444],\n",
       "       [ 0.058626  ],\n",
       "       [ 0.102709  ],\n",
       "       [ 0.46091032],\n",
       "       [ 0.09376899],\n",
       "       [ 0.37769252],\n",
       "       [ 0.09091976],\n",
       "       [ 0.47005263],\n",
       "       [ 0.17826343],\n",
       "       [ 0.06723485],\n",
       "       [ 0.17205175],\n",
       "       [ 0.57451768],\n",
       "       [-0.02604215],\n",
       "       [ 0.21425601],\n",
       "       [ 0.14276566],\n",
       "       [ 0.41730627],\n",
       "       [ 0.14330416],\n",
       "       [ 0.51057691],\n",
       "       [ 0.16019912],\n",
       "       [ 0.01848939],\n",
       "       [ 0.19998593],\n",
       "       [ 0.11322128],\n",
       "       [ 0.18076989],\n",
       "       [ 0.0030653 ],\n",
       "       [ 0.1373853 ],\n",
       "       [ 0.16906768],\n",
       "       [ 0.52886417],\n",
       "       [ 0.05186069],\n",
       "       [ 0.15485211],\n",
       "       [ 0.17755184],\n",
       "       [ 0.12587342],\n",
       "       [ 0.0601788 ],\n",
       "       [-0.03893463],\n",
       "       [ 0.24102505],\n",
       "       [ 0.04333921],\n",
       "       [ 0.55643048],\n",
       "       [ 0.13156169],\n",
       "       [ 0.57432177],\n",
       "       [ 0.10158977],\n",
       "       [ 0.00954012],\n",
       "       [ 0.23727869],\n",
       "       [ 0.16245419],\n",
       "       [ 0.05374527],\n",
       "       [ 0.13682712],\n",
       "       [ 0.0284632 ],\n",
       "       [ 0.03712898],\n",
       "       [ 0.14213139],\n",
       "       [ 0.16392367],\n",
       "       [ 0.16292554],\n",
       "       [ 0.01730486],\n",
       "       [ 0.43662449],\n",
       "       [ 0.00494498],\n",
       "       [ 0.12215695],\n",
       "       [ 0.55190415],\n",
       "       [-0.07779131],\n",
       "       [ 0.00821988],\n",
       "       [ 0.20576655],\n",
       "       [ 0.12271881],\n",
       "       [ 0.50563708],\n",
       "       [ 0.01283266],\n",
       "       [ 0.06602243],\n",
       "       [ 0.14897475],\n",
       "       [ 0.46126116],\n",
       "       [ 0.03956078],\n",
       "       [ 0.11925291],\n",
       "       [ 0.05316302],\n",
       "       [ 0.10880408],\n",
       "       [ 0.09377239],\n",
       "       [ 0.3652969 ],\n",
       "       [ 0.04076587],\n",
       "       [ 0.4397882 ],\n",
       "       [ 0.19154944],\n",
       "       [ 0.08649773],\n",
       "       [ 0.2285674 ],\n",
       "       [ 0.57032691],\n",
       "       [ 0.12596562],\n",
       "       [-0.0116351 ],\n",
       "       [ 0.42760462],\n",
       "       [ 0.14995628],\n",
       "       [ 0.17312252],\n",
       "       [ 0.25502521],\n",
       "       [ 0.15886966],\n",
       "       [ 0.15970353],\n",
       "       [ 0.13950464],\n",
       "       [ 0.09001527],\n",
       "       [ 0.14020469],\n",
       "       [ 0.09736406],\n",
       "       [-0.00556267],\n",
       "       [ 0.2006195 ],\n",
       "       [ 0.38667484],\n",
       "       [ 0.61578686],\n",
       "       [ 0.14260508],\n",
       "       [ 0.15551276],\n",
       "       [ 0.21537282],\n",
       "       [ 0.1611109 ],\n",
       "       [ 0.06806434],\n",
       "       [ 0.16308484],\n",
       "       [ 0.12598196],\n",
       "       [ 0.00881019],\n",
       "       [ 0.15656829],\n",
       "       [ 0.03651559],\n",
       "       [ 0.56955097],\n",
       "       [ 0.10059195],\n",
       "       [ 0.03895061],\n",
       "       [ 0.50418736],\n",
       "       [ 0.21197104],\n",
       "       [ 0.14921875],\n",
       "       [ 0.45007296],\n",
       "       [ 0.07802877],\n",
       "       [ 0.14697996],\n",
       "       [ 0.16412631],\n",
       "       [ 0.04979642],\n",
       "       [ 0.4865657 ],\n",
       "       [ 0.54155185],\n",
       "       [ 0.23302388],\n",
       "       [ 0.01532223],\n",
       "       [ 0.14951182],\n",
       "       [ 0.19466081],\n",
       "       [ 0.13564197],\n",
       "       [ 0.23458626],\n",
       "       [ 0.17081029],\n",
       "       [ 0.12384402],\n",
       "       [ 0.14188846],\n",
       "       [ 0.52400165],\n",
       "       [ 0.47681022],\n",
       "       [ 0.09361405],\n",
       "       [-0.03837815],\n",
       "       [ 0.00540227],\n",
       "       [ 0.26367664],\n",
       "       [ 0.12252996],\n",
       "       [ 0.46995404],\n",
       "       [ 0.10205111],\n",
       "       [ 0.04524422],\n",
       "       [ 0.07532986],\n",
       "       [ 0.21486488],\n",
       "       [ 0.15230423],\n",
       "       [ 0.05452701],\n",
       "       [ 0.07130369],\n",
       "       [ 0.06313155],\n",
       "       [ 0.0300162 ],\n",
       "       [ 0.37204815],\n",
       "       [ 0.22214255],\n",
       "       [ 0.05433105],\n",
       "       [ 0.0777655 ],\n",
       "       [ 0.12166732],\n",
       "       [ 0.12740959],\n",
       "       [ 0.4382182 ],\n",
       "       [ 0.09210388],\n",
       "       [ 0.04343413],\n",
       "       [ 0.1629198 ],\n",
       "       [ 0.10740103],\n",
       "       [ 0.11318384],\n",
       "       [ 0.13544532],\n",
       "       [ 0.08231197],\n",
       "       [ 0.06275204],\n",
       "       [ 0.16418735],\n",
       "       [ 0.46024539],\n",
       "       [ 0.12761571],\n",
       "       [ 0.06041316],\n",
       "       [ 0.17842967],\n",
       "       [-0.00098431],\n",
       "       [ 0.17007621],\n",
       "       [ 0.47767844],\n",
       "       [ 0.00158029],\n",
       "       [ 0.20472045],\n",
       "       [ 0.16819353],\n",
       "       [ 0.15703096],\n",
       "       [ 0.09534066],\n",
       "       [ 0.15337067],\n",
       "       [ 0.25657799],\n",
       "       [ 0.13552801],\n",
       "       [ 0.54629668],\n",
       "       [ 0.1081297 ],\n",
       "       [ 0.490128  ],\n",
       "       [ 0.04135407],\n",
       "       [ 0.16612297]])"
      ]
     },
     "execution_count": 275,
     "metadata": {},
     "output_type": "execute_result"
    }
   ],
   "source": [
    "y_pred1"
   ]
  },
  {
   "cell_type": "code",
   "execution_count": 276,
   "id": "1d63e2c2",
   "metadata": {},
   "outputs": [],
   "source": [
    "data2 = pd.DataFrame()\n",
    "data2['actual_y'] = y_test\n",
    "data2['predict'] = y_pred1\n"
   ]
  },
  {
   "cell_type": "code",
   "execution_count": 277,
   "id": "af26a35f",
   "metadata": {},
   "outputs": [
    {
     "data": {
      "text/html": [
       "<div>\n",
       "<style scoped>\n",
       "    .dataframe tbody tr th:only-of-type {\n",
       "        vertical-align: middle;\n",
       "    }\n",
       "\n",
       "    .dataframe tbody tr th {\n",
       "        vertical-align: top;\n",
       "    }\n",
       "\n",
       "    .dataframe thead th {\n",
       "        text-align: right;\n",
       "    }\n",
       "</style>\n",
       "<table border=\"1\" class=\"dataframe\">\n",
       "  <thead>\n",
       "    <tr style=\"text-align: right;\">\n",
       "      <th></th>\n",
       "      <th>actual_y</th>\n",
       "      <th>predict</th>\n",
       "    </tr>\n",
       "  </thead>\n",
       "  <tbody>\n",
       "    <tr>\n",
       "      <th>7</th>\n",
       "      <td>0.098320</td>\n",
       "      <td>0.102422</td>\n",
       "    </tr>\n",
       "    <tr>\n",
       "      <th>999</th>\n",
       "      <td>0.066178</td>\n",
       "      <td>0.064612</td>\n",
       "    </tr>\n",
       "    <tr>\n",
       "      <th>1209</th>\n",
       "      <td>0.179179</td>\n",
       "      <td>0.226632</td>\n",
       "    </tr>\n",
       "    <tr>\n",
       "      <th>491</th>\n",
       "      <td>0.373372</td>\n",
       "      <td>0.156107</td>\n",
       "    </tr>\n",
       "    <tr>\n",
       "      <th>625</th>\n",
       "      <td>0.041734</td>\n",
       "      <td>0.030228</td>\n",
       "    </tr>\n",
       "    <tr>\n",
       "      <th>...</th>\n",
       "      <td>...</td>\n",
       "      <td>...</td>\n",
       "    </tr>\n",
       "    <tr>\n",
       "      <th>854</th>\n",
       "      <td>0.366889</td>\n",
       "      <td>0.546297</td>\n",
       "    </tr>\n",
       "    <tr>\n",
       "      <th>554</th>\n",
       "      <td>0.267477</td>\n",
       "      <td>0.108130</td>\n",
       "    </tr>\n",
       "    <tr>\n",
       "      <th>1278</th>\n",
       "      <td>0.340633</td>\n",
       "      <td>0.490128</td>\n",
       "    </tr>\n",
       "    <tr>\n",
       "      <th>374</th>\n",
       "      <td>0.004304</td>\n",
       "      <td>0.041354</td>\n",
       "    </tr>\n",
       "    <tr>\n",
       "      <th>6</th>\n",
       "      <td>0.113629</td>\n",
       "      <td>0.166123</td>\n",
       "    </tr>\n",
       "  </tbody>\n",
       "</table>\n",
       "<p>402 rows × 2 columns</p>\n",
       "</div>"
      ],
      "text/plain": [
       "      actual_y   predict\n",
       "7     0.098320  0.102422\n",
       "999   0.066178  0.064612\n",
       "1209  0.179179  0.226632\n",
       "491   0.373372  0.156107\n",
       "625   0.041734  0.030228\n",
       "...        ...       ...\n",
       "854   0.366889  0.546297\n",
       "554   0.267477  0.108130\n",
       "1278  0.340633  0.490128\n",
       "374   0.004304  0.041354\n",
       "6     0.113629  0.166123\n",
       "\n",
       "[402 rows x 2 columns]"
      ]
     },
     "execution_count": 277,
     "metadata": {},
     "output_type": "execute_result"
    }
   ],
   "source": [
    "data2"
   ]
  },
  {
   "cell_type": "markdown",
   "id": "64710947",
   "metadata": {},
   "source": [
    "# error "
   ]
  },
  {
   "cell_type": "code",
   "execution_count": 278,
   "id": "0c667a4d",
   "metadata": {},
   "outputs": [],
   "source": [
    "from sklearn.metrics import mean_squared_error,mean_absolute_error"
   ]
  },
  {
   "cell_type": "code",
   "execution_count": 279,
   "id": "48a5f583",
   "metadata": {},
   "outputs": [
    {
     "name": "stdout",
     "output_type": "stream",
     "text": [
      "0.009290350481213351 0.06660132202922234 0.09638646420122149\n"
     ]
    }
   ],
   "source": [
    "MSE=mean_squared_error(y_test,y_pred1)\n",
    "MAE=mean_absolute_error(y_test,y_pred1)\n",
    "RMSE=mean_squared_error(y_test,y_pred1,squared=False)\n",
    "print(MSE,MAE,RMSE)"
   ]
  },
  {
   "cell_type": "code",
   "execution_count": 280,
   "id": "d8b41ed1",
   "metadata": {},
   "outputs": [],
   "source": [
    "r2_score=model1.score(x_test,y_test)"
   ]
  },
  {
   "cell_type": "code",
   "execution_count": 281,
   "id": "669ee4ae",
   "metadata": {},
   "outputs": [
    {
     "data": {
      "text/plain": [
       "0.72"
      ]
     },
     "execution_count": 281,
     "metadata": {},
     "output_type": "execute_result"
    }
   ],
   "source": [
    "score1=round(r2_score,2)\n",
    "score1"
   ]
  },
  {
   "cell_type": "markdown",
   "id": "094f989a",
   "metadata": {},
   "source": [
    "# the r score of our model is 72 %"
   ]
  },
  {
   "cell_type": "markdown",
   "id": "492fe9e7",
   "metadata": {},
   "source": [
    "# for 1 columns"
   ]
  },
  {
   "cell_type": "code",
   "execution_count": 282,
   "id": "cc70c89e",
   "metadata": {},
   "outputs": [
    {
     "data": {
      "text/html": [
       "<div>\n",
       "<style scoped>\n",
       "    .dataframe tbody tr th:only-of-type {\n",
       "        vertical-align: middle;\n",
       "    }\n",
       "\n",
       "    .dataframe tbody tr th {\n",
       "        vertical-align: top;\n",
       "    }\n",
       "\n",
       "    .dataframe thead th {\n",
       "        text-align: right;\n",
       "    }\n",
       "</style>\n",
       "<table border=\"1\" class=\"dataframe\">\n",
       "  <thead>\n",
       "    <tr style=\"text-align: right;\">\n",
       "      <th></th>\n",
       "      <th>smoker</th>\n",
       "    </tr>\n",
       "  </thead>\n",
       "  <tbody>\n",
       "    <tr>\n",
       "      <th>0</th>\n",
       "      <td>1</td>\n",
       "    </tr>\n",
       "    <tr>\n",
       "      <th>1</th>\n",
       "      <td>0</td>\n",
       "    </tr>\n",
       "    <tr>\n",
       "      <th>2</th>\n",
       "      <td>0</td>\n",
       "    </tr>\n",
       "    <tr>\n",
       "      <th>3</th>\n",
       "      <td>0</td>\n",
       "    </tr>\n",
       "    <tr>\n",
       "      <th>4</th>\n",
       "      <td>0</td>\n",
       "    </tr>\n",
       "    <tr>\n",
       "      <th>...</th>\n",
       "      <td>...</td>\n",
       "    </tr>\n",
       "    <tr>\n",
       "      <th>1333</th>\n",
       "      <td>0</td>\n",
       "    </tr>\n",
       "    <tr>\n",
       "      <th>1334</th>\n",
       "      <td>0</td>\n",
       "    </tr>\n",
       "    <tr>\n",
       "      <th>1335</th>\n",
       "      <td>0</td>\n",
       "    </tr>\n",
       "    <tr>\n",
       "      <th>1336</th>\n",
       "      <td>0</td>\n",
       "    </tr>\n",
       "    <tr>\n",
       "      <th>1337</th>\n",
       "      <td>1</td>\n",
       "    </tr>\n",
       "  </tbody>\n",
       "</table>\n",
       "<p>1338 rows × 1 columns</p>\n",
       "</div>"
      ],
      "text/plain": [
       "      smoker\n",
       "0          1\n",
       "1          0\n",
       "2          0\n",
       "3          0\n",
       "4          0\n",
       "...      ...\n",
       "1333       0\n",
       "1334       0\n",
       "1335       0\n",
       "1336       0\n",
       "1337       1\n",
       "\n",
       "[1338 rows x 1 columns]"
      ]
     },
     "execution_count": 282,
     "metadata": {},
     "output_type": "execute_result"
    }
   ],
   "source": [
    "x1=df.iloc[:,5:6]\n",
    "x1"
   ]
  },
  {
   "cell_type": "code",
   "execution_count": 283,
   "id": "1e34904f",
   "metadata": {},
   "outputs": [
    {
     "data": {
      "text/html": [
       "<div>\n",
       "<style scoped>\n",
       "    .dataframe tbody tr th:only-of-type {\n",
       "        vertical-align: middle;\n",
       "    }\n",
       "\n",
       "    .dataframe tbody tr th {\n",
       "        vertical-align: top;\n",
       "    }\n",
       "\n",
       "    .dataframe thead th {\n",
       "        text-align: right;\n",
       "    }\n",
       "</style>\n",
       "<table border=\"1\" class=\"dataframe\">\n",
       "  <thead>\n",
       "    <tr style=\"text-align: right;\">\n",
       "      <th></th>\n",
       "      <th>charges</th>\n",
       "    </tr>\n",
       "  </thead>\n",
       "  <tbody>\n",
       "    <tr>\n",
       "      <th>0</th>\n",
       "      <td>16884.92400</td>\n",
       "    </tr>\n",
       "    <tr>\n",
       "      <th>1</th>\n",
       "      <td>1725.55230</td>\n",
       "    </tr>\n",
       "    <tr>\n",
       "      <th>2</th>\n",
       "      <td>4449.46200</td>\n",
       "    </tr>\n",
       "    <tr>\n",
       "      <th>3</th>\n",
       "      <td>21984.47061</td>\n",
       "    </tr>\n",
       "    <tr>\n",
       "      <th>4</th>\n",
       "      <td>3866.85520</td>\n",
       "    </tr>\n",
       "    <tr>\n",
       "      <th>...</th>\n",
       "      <td>...</td>\n",
       "    </tr>\n",
       "    <tr>\n",
       "      <th>1333</th>\n",
       "      <td>10600.54830</td>\n",
       "    </tr>\n",
       "    <tr>\n",
       "      <th>1334</th>\n",
       "      <td>2205.98080</td>\n",
       "    </tr>\n",
       "    <tr>\n",
       "      <th>1335</th>\n",
       "      <td>1629.83350</td>\n",
       "    </tr>\n",
       "    <tr>\n",
       "      <th>1336</th>\n",
       "      <td>2007.94500</td>\n",
       "    </tr>\n",
       "    <tr>\n",
       "      <th>1337</th>\n",
       "      <td>29141.36030</td>\n",
       "    </tr>\n",
       "  </tbody>\n",
       "</table>\n",
       "<p>1338 rows × 1 columns</p>\n",
       "</div>"
      ],
      "text/plain": [
       "          charges\n",
       "0     16884.92400\n",
       "1      1725.55230\n",
       "2      4449.46200\n",
       "3     21984.47061\n",
       "4      3866.85520\n",
       "...           ...\n",
       "1333  10600.54830\n",
       "1334   2205.98080\n",
       "1335   1629.83350\n",
       "1336   2007.94500\n",
       "1337  29141.36030\n",
       "\n",
       "[1338 rows x 1 columns]"
      ]
     },
     "execution_count": 283,
     "metadata": {},
     "output_type": "execute_result"
    }
   ],
   "source": [
    "y1=df.iloc[:,7:8]\n",
    "y1"
   ]
  },
  {
   "cell_type": "code",
   "execution_count": 284,
   "id": "98d6b4ab",
   "metadata": {},
   "outputs": [],
   "source": [
    "x1_train,x1_test,y1_train,y1_test=train_test_split(x1,y1,test_size=0.3,random_state=10)"
   ]
  },
  {
   "cell_type": "code",
   "execution_count": 285,
   "id": "26780f6f",
   "metadata": {},
   "outputs": [
    {
     "data": {
      "text/plain": [
       "(936, 1)"
      ]
     },
     "execution_count": 285,
     "metadata": {},
     "output_type": "execute_result"
    }
   ],
   "source": [
    "x1_train.shape"
   ]
  },
  {
   "cell_type": "code",
   "execution_count": 286,
   "id": "bbbf9553",
   "metadata": {},
   "outputs": [
    {
     "data": {
      "text/plain": [
       "(402, 1)"
      ]
     },
     "execution_count": 286,
     "metadata": {},
     "output_type": "execute_result"
    }
   ],
   "source": [
    "x1_test.shape"
   ]
  },
  {
   "cell_type": "code",
   "execution_count": 287,
   "id": "4a6b08a2",
   "metadata": {},
   "outputs": [],
   "source": [
    "lr=LinearRegression()"
   ]
  },
  {
   "cell_type": "code",
   "execution_count": 288,
   "id": "2dbeeb9e",
   "metadata": {},
   "outputs": [],
   "source": [
    "model2=lr.fit(x1_train,y1_train)"
   ]
  },
  {
   "cell_type": "code",
   "execution_count": 289,
   "id": "67d45395",
   "metadata": {},
   "outputs": [
    {
     "data": {
      "text/plain": [
       "LinearRegression()"
      ]
     },
     "execution_count": 289,
     "metadata": {},
     "output_type": "execute_result"
    }
   ],
   "source": [
    "model2"
   ]
  },
  {
   "cell_type": "code",
   "execution_count": 290,
   "id": "402ef908",
   "metadata": {},
   "outputs": [
    {
     "data": {
      "text/plain": [
       "0.6189465597859611"
      ]
     },
     "execution_count": 290,
     "metadata": {},
     "output_type": "execute_result"
    }
   ],
   "source": [
    "coefficient_Determination =model2.score(x1_train,y1_train)\n",
    "coefficient_Determination"
   ]
  },
  {
   "cell_type": "code",
   "execution_count": 291,
   "id": "93deea25",
   "metadata": {},
   "outputs": [
    {
     "data": {
      "text/plain": [
       "array([8478.76887371])"
      ]
     },
     "execution_count": 291,
     "metadata": {},
     "output_type": "execute_result"
    }
   ],
   "source": [
    "model2.intercept_"
   ]
  },
  {
   "cell_type": "code",
   "execution_count": 292,
   "id": "c859ecdc",
   "metadata": {},
   "outputs": [
    {
     "data": {
      "text/plain": [
       "array([[24100.71108188]])"
      ]
     },
     "execution_count": 292,
     "metadata": {},
     "output_type": "execute_result"
    }
   ],
   "source": [
    "model2.coef_"
   ]
  },
  {
   "cell_type": "code",
   "execution_count": 293,
   "id": "f79ee2a5",
   "metadata": {},
   "outputs": [],
   "source": [
    "y_pred2 = model2.predict(x1_test)"
   ]
  },
  {
   "cell_type": "code",
   "execution_count": 294,
   "id": "1bfb07fc",
   "metadata": {},
   "outputs": [
    {
     "data": {
      "text/plain": [
       "array([[ 8478.76887371],\n",
       "       [ 8478.76887371],\n",
       "       [ 8478.76887371],\n",
       "       [ 8478.76887371],\n",
       "       [ 8478.76887371],\n",
       "       [ 8478.76887371],\n",
       "       [ 8478.76887371],\n",
       "       [32579.4799556 ],\n",
       "       [ 8478.76887371],\n",
       "       [32579.4799556 ],\n",
       "       [ 8478.76887371],\n",
       "       [ 8478.76887371],\n",
       "       [ 8478.76887371],\n",
       "       [ 8478.76887371],\n",
       "       [ 8478.76887371],\n",
       "       [ 8478.76887371],\n",
       "       [ 8478.76887371],\n",
       "       [ 8478.76887371],\n",
       "       [ 8478.76887371],\n",
       "       [32579.4799556 ],\n",
       "       [32579.4799556 ],\n",
       "       [ 8478.76887371],\n",
       "       [ 8478.76887371],\n",
       "       [ 8478.76887371],\n",
       "       [ 8478.76887371],\n",
       "       [ 8478.76887371],\n",
       "       [ 8478.76887371],\n",
       "       [ 8478.76887371],\n",
       "       [ 8478.76887371],\n",
       "       [32579.4799556 ],\n",
       "       [ 8478.76887371],\n",
       "       [32579.4799556 ],\n",
       "       [ 8478.76887371],\n",
       "       [ 8478.76887371],\n",
       "       [ 8478.76887371],\n",
       "       [ 8478.76887371],\n",
       "       [ 8478.76887371],\n",
       "       [ 8478.76887371],\n",
       "       [ 8478.76887371],\n",
       "       [ 8478.76887371],\n",
       "       [ 8478.76887371],\n",
       "       [ 8478.76887371],\n",
       "       [ 8478.76887371],\n",
       "       [ 8478.76887371],\n",
       "       [ 8478.76887371],\n",
       "       [ 8478.76887371],\n",
       "       [ 8478.76887371],\n",
       "       [32579.4799556 ],\n",
       "       [ 8478.76887371],\n",
       "       [ 8478.76887371],\n",
       "       [32579.4799556 ],\n",
       "       [ 8478.76887371],\n",
       "       [ 8478.76887371],\n",
       "       [ 8478.76887371],\n",
       "       [ 8478.76887371],\n",
       "       [ 8478.76887371],\n",
       "       [ 8478.76887371],\n",
       "       [ 8478.76887371],\n",
       "       [ 8478.76887371],\n",
       "       [32579.4799556 ],\n",
       "       [ 8478.76887371],\n",
       "       [32579.4799556 ],\n",
       "       [32579.4799556 ],\n",
       "       [ 8478.76887371],\n",
       "       [32579.4799556 ],\n",
       "       [ 8478.76887371],\n",
       "       [ 8478.76887371],\n",
       "       [ 8478.76887371],\n",
       "       [ 8478.76887371],\n",
       "       [ 8478.76887371],\n",
       "       [ 8478.76887371],\n",
       "       [ 8478.76887371],\n",
       "       [ 8478.76887371],\n",
       "       [ 8478.76887371],\n",
       "       [ 8478.76887371],\n",
       "       [ 8478.76887371],\n",
       "       [ 8478.76887371],\n",
       "       [ 8478.76887371],\n",
       "       [ 8478.76887371],\n",
       "       [ 8478.76887371],\n",
       "       [ 8478.76887371],\n",
       "       [ 8478.76887371],\n",
       "       [32579.4799556 ],\n",
       "       [ 8478.76887371],\n",
       "       [32579.4799556 ],\n",
       "       [ 8478.76887371],\n",
       "       [ 8478.76887371],\n",
       "       [ 8478.76887371],\n",
       "       [ 8478.76887371],\n",
       "       [ 8478.76887371],\n",
       "       [32579.4799556 ],\n",
       "       [32579.4799556 ],\n",
       "       [ 8478.76887371],\n",
       "       [32579.4799556 ],\n",
       "       [ 8478.76887371],\n",
       "       [ 8478.76887371],\n",
       "       [ 8478.76887371],\n",
       "       [ 8478.76887371],\n",
       "       [ 8478.76887371],\n",
       "       [ 8478.76887371],\n",
       "       [ 8478.76887371],\n",
       "       [ 8478.76887371],\n",
       "       [ 8478.76887371],\n",
       "       [ 8478.76887371],\n",
       "       [ 8478.76887371],\n",
       "       [ 8478.76887371],\n",
       "       [32579.4799556 ],\n",
       "       [32579.4799556 ],\n",
       "       [32579.4799556 ],\n",
       "       [ 8478.76887371],\n",
       "       [ 8478.76887371],\n",
       "       [ 8478.76887371],\n",
       "       [ 8478.76887371],\n",
       "       [32579.4799556 ],\n",
       "       [32579.4799556 ],\n",
       "       [32579.4799556 ],\n",
       "       [ 8478.76887371],\n",
       "       [32579.4799556 ],\n",
       "       [ 8478.76887371],\n",
       "       [ 8478.76887371],\n",
       "       [32579.4799556 ],\n",
       "       [ 8478.76887371],\n",
       "       [ 8478.76887371],\n",
       "       [ 8478.76887371],\n",
       "       [32579.4799556 ],\n",
       "       [ 8478.76887371],\n",
       "       [ 8478.76887371],\n",
       "       [ 8478.76887371],\n",
       "       [ 8478.76887371],\n",
       "       [ 8478.76887371],\n",
       "       [ 8478.76887371],\n",
       "       [32579.4799556 ],\n",
       "       [32579.4799556 ],\n",
       "       [32579.4799556 ],\n",
       "       [ 8478.76887371],\n",
       "       [32579.4799556 ],\n",
       "       [ 8478.76887371],\n",
       "       [ 8478.76887371],\n",
       "       [32579.4799556 ],\n",
       "       [ 8478.76887371],\n",
       "       [ 8478.76887371],\n",
       "       [32579.4799556 ],\n",
       "       [ 8478.76887371],\n",
       "       [ 8478.76887371],\n",
       "       [ 8478.76887371],\n",
       "       [32579.4799556 ],\n",
       "       [ 8478.76887371],\n",
       "       [ 8478.76887371],\n",
       "       [ 8478.76887371],\n",
       "       [ 8478.76887371],\n",
       "       [ 8478.76887371],\n",
       "       [ 8478.76887371],\n",
       "       [ 8478.76887371],\n",
       "       [32579.4799556 ],\n",
       "       [ 8478.76887371],\n",
       "       [ 8478.76887371],\n",
       "       [ 8478.76887371],\n",
       "       [ 8478.76887371],\n",
       "       [ 8478.76887371],\n",
       "       [32579.4799556 ],\n",
       "       [ 8478.76887371],\n",
       "       [ 8478.76887371],\n",
       "       [ 8478.76887371],\n",
       "       [ 8478.76887371],\n",
       "       [ 8478.76887371],\n",
       "       [32579.4799556 ],\n",
       "       [ 8478.76887371],\n",
       "       [ 8478.76887371],\n",
       "       [ 8478.76887371],\n",
       "       [ 8478.76887371],\n",
       "       [ 8478.76887371],\n",
       "       [ 8478.76887371],\n",
       "       [ 8478.76887371],\n",
       "       [ 8478.76887371],\n",
       "       [32579.4799556 ],\n",
       "       [ 8478.76887371],\n",
       "       [ 8478.76887371],\n",
       "       [ 8478.76887371],\n",
       "       [ 8478.76887371],\n",
       "       [ 8478.76887371],\n",
       "       [32579.4799556 ],\n",
       "       [ 8478.76887371],\n",
       "       [ 8478.76887371],\n",
       "       [ 8478.76887371],\n",
       "       [32579.4799556 ],\n",
       "       [ 8478.76887371],\n",
       "       [32579.4799556 ],\n",
       "       [ 8478.76887371],\n",
       "       [32579.4799556 ],\n",
       "       [ 8478.76887371],\n",
       "       [ 8478.76887371],\n",
       "       [ 8478.76887371],\n",
       "       [ 8478.76887371],\n",
       "       [ 8478.76887371],\n",
       "       [ 8478.76887371],\n",
       "       [ 8478.76887371],\n",
       "       [32579.4799556 ],\n",
       "       [ 8478.76887371],\n",
       "       [ 8478.76887371],\n",
       "       [ 8478.76887371],\n",
       "       [ 8478.76887371],\n",
       "       [ 8478.76887371],\n",
       "       [ 8478.76887371],\n",
       "       [ 8478.76887371],\n",
       "       [ 8478.76887371],\n",
       "       [32579.4799556 ],\n",
       "       [32579.4799556 ],\n",
       "       [ 8478.76887371],\n",
       "       [32579.4799556 ],\n",
       "       [ 8478.76887371],\n",
       "       [ 8478.76887371],\n",
       "       [32579.4799556 ],\n",
       "       [ 8478.76887371],\n",
       "       [ 8478.76887371],\n",
       "       [32579.4799556 ],\n",
       "       [ 8478.76887371],\n",
       "       [ 8478.76887371],\n",
       "       [ 8478.76887371],\n",
       "       [ 8478.76887371],\n",
       "       [ 8478.76887371],\n",
       "       [ 8478.76887371],\n",
       "       [ 8478.76887371],\n",
       "       [ 8478.76887371],\n",
       "       [ 8478.76887371],\n",
       "       [ 8478.76887371],\n",
       "       [32579.4799556 ],\n",
       "       [ 8478.76887371],\n",
       "       [ 8478.76887371],\n",
       "       [ 8478.76887371],\n",
       "       [32579.4799556 ],\n",
       "       [ 8478.76887371],\n",
       "       [32579.4799556 ],\n",
       "       [ 8478.76887371],\n",
       "       [32579.4799556 ],\n",
       "       [ 8478.76887371],\n",
       "       [ 8478.76887371],\n",
       "       [ 8478.76887371],\n",
       "       [32579.4799556 ],\n",
       "       [ 8478.76887371],\n",
       "       [ 8478.76887371],\n",
       "       [ 8478.76887371],\n",
       "       [32579.4799556 ],\n",
       "       [ 8478.76887371],\n",
       "       [32579.4799556 ],\n",
       "       [ 8478.76887371],\n",
       "       [ 8478.76887371],\n",
       "       [ 8478.76887371],\n",
       "       [ 8478.76887371],\n",
       "       [ 8478.76887371],\n",
       "       [ 8478.76887371],\n",
       "       [ 8478.76887371],\n",
       "       [ 8478.76887371],\n",
       "       [32579.4799556 ],\n",
       "       [ 8478.76887371],\n",
       "       [ 8478.76887371],\n",
       "       [ 8478.76887371],\n",
       "       [ 8478.76887371],\n",
       "       [ 8478.76887371],\n",
       "       [ 8478.76887371],\n",
       "       [ 8478.76887371],\n",
       "       [ 8478.76887371],\n",
       "       [32579.4799556 ],\n",
       "       [ 8478.76887371],\n",
       "       [32579.4799556 ],\n",
       "       [ 8478.76887371],\n",
       "       [ 8478.76887371],\n",
       "       [ 8478.76887371],\n",
       "       [ 8478.76887371],\n",
       "       [ 8478.76887371],\n",
       "       [ 8478.76887371],\n",
       "       [ 8478.76887371],\n",
       "       [ 8478.76887371],\n",
       "       [ 8478.76887371],\n",
       "       [ 8478.76887371],\n",
       "       [ 8478.76887371],\n",
       "       [ 8478.76887371],\n",
       "       [32579.4799556 ],\n",
       "       [ 8478.76887371],\n",
       "       [ 8478.76887371],\n",
       "       [32579.4799556 ],\n",
       "       [ 8478.76887371],\n",
       "       [ 8478.76887371],\n",
       "       [ 8478.76887371],\n",
       "       [ 8478.76887371],\n",
       "       [32579.4799556 ],\n",
       "       [ 8478.76887371],\n",
       "       [ 8478.76887371],\n",
       "       [ 8478.76887371],\n",
       "       [32579.4799556 ],\n",
       "       [ 8478.76887371],\n",
       "       [ 8478.76887371],\n",
       "       [ 8478.76887371],\n",
       "       [ 8478.76887371],\n",
       "       [ 8478.76887371],\n",
       "       [32579.4799556 ],\n",
       "       [ 8478.76887371],\n",
       "       [32579.4799556 ],\n",
       "       [ 8478.76887371],\n",
       "       [ 8478.76887371],\n",
       "       [ 8478.76887371],\n",
       "       [32579.4799556 ],\n",
       "       [ 8478.76887371],\n",
       "       [ 8478.76887371],\n",
       "       [32579.4799556 ],\n",
       "       [ 8478.76887371],\n",
       "       [ 8478.76887371],\n",
       "       [ 8478.76887371],\n",
       "       [ 8478.76887371],\n",
       "       [ 8478.76887371],\n",
       "       [ 8478.76887371],\n",
       "       [ 8478.76887371],\n",
       "       [ 8478.76887371],\n",
       "       [ 8478.76887371],\n",
       "       [ 8478.76887371],\n",
       "       [ 8478.76887371],\n",
       "       [32579.4799556 ],\n",
       "       [32579.4799556 ],\n",
       "       [ 8478.76887371],\n",
       "       [ 8478.76887371],\n",
       "       [ 8478.76887371],\n",
       "       [ 8478.76887371],\n",
       "       [ 8478.76887371],\n",
       "       [ 8478.76887371],\n",
       "       [ 8478.76887371],\n",
       "       [ 8478.76887371],\n",
       "       [ 8478.76887371],\n",
       "       [ 8478.76887371],\n",
       "       [32579.4799556 ],\n",
       "       [ 8478.76887371],\n",
       "       [ 8478.76887371],\n",
       "       [32579.4799556 ],\n",
       "       [ 8478.76887371],\n",
       "       [ 8478.76887371],\n",
       "       [32579.4799556 ],\n",
       "       [ 8478.76887371],\n",
       "       [ 8478.76887371],\n",
       "       [ 8478.76887371],\n",
       "       [ 8478.76887371],\n",
       "       [32579.4799556 ],\n",
       "       [32579.4799556 ],\n",
       "       [ 8478.76887371],\n",
       "       [ 8478.76887371],\n",
       "       [ 8478.76887371],\n",
       "       [ 8478.76887371],\n",
       "       [ 8478.76887371],\n",
       "       [ 8478.76887371],\n",
       "       [ 8478.76887371],\n",
       "       [ 8478.76887371],\n",
       "       [ 8478.76887371],\n",
       "       [32579.4799556 ],\n",
       "       [32579.4799556 ],\n",
       "       [ 8478.76887371],\n",
       "       [ 8478.76887371],\n",
       "       [ 8478.76887371],\n",
       "       [ 8478.76887371],\n",
       "       [ 8478.76887371],\n",
       "       [32579.4799556 ],\n",
       "       [ 8478.76887371],\n",
       "       [ 8478.76887371],\n",
       "       [ 8478.76887371],\n",
       "       [ 8478.76887371],\n",
       "       [ 8478.76887371],\n",
       "       [ 8478.76887371],\n",
       "       [ 8478.76887371],\n",
       "       [ 8478.76887371],\n",
       "       [ 8478.76887371],\n",
       "       [32579.4799556 ],\n",
       "       [ 8478.76887371],\n",
       "       [ 8478.76887371],\n",
       "       [ 8478.76887371],\n",
       "       [ 8478.76887371],\n",
       "       [ 8478.76887371],\n",
       "       [32579.4799556 ],\n",
       "       [ 8478.76887371],\n",
       "       [ 8478.76887371],\n",
       "       [ 8478.76887371],\n",
       "       [ 8478.76887371],\n",
       "       [ 8478.76887371],\n",
       "       [ 8478.76887371],\n",
       "       [ 8478.76887371],\n",
       "       [ 8478.76887371],\n",
       "       [ 8478.76887371],\n",
       "       [32579.4799556 ],\n",
       "       [ 8478.76887371],\n",
       "       [ 8478.76887371],\n",
       "       [ 8478.76887371],\n",
       "       [ 8478.76887371],\n",
       "       [ 8478.76887371],\n",
       "       [32579.4799556 ],\n",
       "       [ 8478.76887371],\n",
       "       [ 8478.76887371],\n",
       "       [ 8478.76887371],\n",
       "       [ 8478.76887371],\n",
       "       [ 8478.76887371],\n",
       "       [ 8478.76887371],\n",
       "       [ 8478.76887371],\n",
       "       [ 8478.76887371],\n",
       "       [32579.4799556 ],\n",
       "       [ 8478.76887371],\n",
       "       [32579.4799556 ],\n",
       "       [ 8478.76887371],\n",
       "       [ 8478.76887371]])"
      ]
     },
     "execution_count": 294,
     "metadata": {},
     "output_type": "execute_result"
    }
   ],
   "source": [
    "y_pred2"
   ]
  },
  {
   "cell_type": "code",
   "execution_count": 295,
   "id": "9f75cada",
   "metadata": {},
   "outputs": [],
   "source": [
    "data3 = pd.DataFrame()\n",
    "data3['actual_y'] = y1_test\n",
    "data3['predict'] = y_pred2\n"
   ]
  },
  {
   "cell_type": "code",
   "execution_count": 296,
   "id": "523f8ee1",
   "metadata": {},
   "outputs": [
    {
     "data": {
      "text/html": [
       "<div>\n",
       "<style scoped>\n",
       "    .dataframe tbody tr th:only-of-type {\n",
       "        vertical-align: middle;\n",
       "    }\n",
       "\n",
       "    .dataframe tbody tr th {\n",
       "        vertical-align: top;\n",
       "    }\n",
       "\n",
       "    .dataframe thead th {\n",
       "        text-align: right;\n",
       "    }\n",
       "</style>\n",
       "<table border=\"1\" class=\"dataframe\">\n",
       "  <thead>\n",
       "    <tr style=\"text-align: right;\">\n",
       "      <th></th>\n",
       "      <th>actual_y</th>\n",
       "      <th>predict</th>\n",
       "    </tr>\n",
       "  </thead>\n",
       "  <tbody>\n",
       "    <tr>\n",
       "      <th>7</th>\n",
       "      <td>7281.50560</td>\n",
       "      <td>8478.768874</td>\n",
       "    </tr>\n",
       "    <tr>\n",
       "      <th>999</th>\n",
       "      <td>5267.81815</td>\n",
       "      <td>8478.768874</td>\n",
       "    </tr>\n",
       "    <tr>\n",
       "      <th>1209</th>\n",
       "      <td>12347.17200</td>\n",
       "      <td>8478.768874</td>\n",
       "    </tr>\n",
       "    <tr>\n",
       "      <th>491</th>\n",
       "      <td>24513.09126</td>\n",
       "      <td>8478.768874</td>\n",
       "    </tr>\n",
       "    <tr>\n",
       "      <th>625</th>\n",
       "      <td>3736.46470</td>\n",
       "      <td>8478.768874</td>\n",
       "    </tr>\n",
       "    <tr>\n",
       "      <th>...</th>\n",
       "      <td>...</td>\n",
       "      <td>...</td>\n",
       "    </tr>\n",
       "    <tr>\n",
       "      <th>854</th>\n",
       "      <td>24106.91255</td>\n",
       "      <td>32579.479956</td>\n",
       "    </tr>\n",
       "    <tr>\n",
       "      <th>554</th>\n",
       "      <td>17878.90068</td>\n",
       "      <td>8478.768874</td>\n",
       "    </tr>\n",
       "    <tr>\n",
       "      <th>1278</th>\n",
       "      <td>22462.04375</td>\n",
       "      <td>32579.479956</td>\n",
       "    </tr>\n",
       "    <tr>\n",
       "      <th>374</th>\n",
       "      <td>1391.52870</td>\n",
       "      <td>8478.768874</td>\n",
       "    </tr>\n",
       "    <tr>\n",
       "      <th>6</th>\n",
       "      <td>8240.58960</td>\n",
       "      <td>8478.768874</td>\n",
       "    </tr>\n",
       "  </tbody>\n",
       "</table>\n",
       "<p>402 rows × 2 columns</p>\n",
       "</div>"
      ],
      "text/plain": [
       "         actual_y       predict\n",
       "7      7281.50560   8478.768874\n",
       "999    5267.81815   8478.768874\n",
       "1209  12347.17200   8478.768874\n",
       "491   24513.09126   8478.768874\n",
       "625    3736.46470   8478.768874\n",
       "...           ...           ...\n",
       "854   24106.91255  32579.479956\n",
       "554   17878.90068   8478.768874\n",
       "1278  22462.04375  32579.479956\n",
       "374    1391.52870   8478.768874\n",
       "6      8240.58960   8478.768874\n",
       "\n",
       "[402 rows x 2 columns]"
      ]
     },
     "execution_count": 296,
     "metadata": {},
     "output_type": "execute_result"
    }
   ],
   "source": [
    "data3"
   ]
  },
  {
   "cell_type": "code",
   "execution_count": 297,
   "id": "2974c8cb",
   "metadata": {},
   "outputs": [],
   "source": [
    "r3_score=model2.score(x1_test,y1_test)"
   ]
  },
  {
   "cell_type": "code",
   "execution_count": 298,
   "id": "95ad3032",
   "metadata": {},
   "outputs": [
    {
     "data": {
      "text/plain": [
       "0.62"
      ]
     },
     "execution_count": 298,
     "metadata": {},
     "output_type": "execute_result"
    }
   ],
   "source": [
    "score2=round(r3_score,2)\n",
    "score2"
   ]
  },
  {
   "cell_type": "markdown",
   "id": "bccb1d42",
   "metadata": {},
   "source": [
    "# r_score of 1 column is 62%"
   ]
  },
  {
   "cell_type": "markdown",
   "id": "a5293b49",
   "metadata": {},
   "source": [
    "# 2. Linear regression of age vs charge columns"
   ]
  },
  {
   "cell_type": "code",
   "execution_count": 299,
   "id": "daeb4a57",
   "metadata": {},
   "outputs": [
    {
     "data": {
      "text/html": [
       "<div>\n",
       "<style scoped>\n",
       "    .dataframe tbody tr th:only-of-type {\n",
       "        vertical-align: middle;\n",
       "    }\n",
       "\n",
       "    .dataframe tbody tr th {\n",
       "        vertical-align: top;\n",
       "    }\n",
       "\n",
       "    .dataframe thead th {\n",
       "        text-align: right;\n",
       "    }\n",
       "</style>\n",
       "<table border=\"1\" class=\"dataframe\">\n",
       "  <thead>\n",
       "    <tr style=\"text-align: right;\">\n",
       "      <th></th>\n",
       "      <th>age</th>\n",
       "      <th>sex</th>\n",
       "      <th>bmi</th>\n",
       "      <th>classif</th>\n",
       "      <th>children</th>\n",
       "      <th>smoker</th>\n",
       "      <th>region</th>\n",
       "      <th>charges</th>\n",
       "    </tr>\n",
       "  </thead>\n",
       "  <tbody>\n",
       "    <tr>\n",
       "      <th>0</th>\n",
       "      <td>19</td>\n",
       "      <td>0</td>\n",
       "      <td>27.900</td>\n",
       "      <td>4</td>\n",
       "      <td>0</td>\n",
       "      <td>1</td>\n",
       "      <td>3</td>\n",
       "      <td>16884.92400</td>\n",
       "    </tr>\n",
       "    <tr>\n",
       "      <th>1</th>\n",
       "      <td>18</td>\n",
       "      <td>1</td>\n",
       "      <td>33.770</td>\n",
       "      <td>1</td>\n",
       "      <td>1</td>\n",
       "      <td>0</td>\n",
       "      <td>2</td>\n",
       "      <td>1725.55230</td>\n",
       "    </tr>\n",
       "    <tr>\n",
       "      <th>2</th>\n",
       "      <td>28</td>\n",
       "      <td>1</td>\n",
       "      <td>33.000</td>\n",
       "      <td>1</td>\n",
       "      <td>3</td>\n",
       "      <td>0</td>\n",
       "      <td>2</td>\n",
       "      <td>4449.46200</td>\n",
       "    </tr>\n",
       "    <tr>\n",
       "      <th>3</th>\n",
       "      <td>18</td>\n",
       "      <td>1</td>\n",
       "      <td>22.705</td>\n",
       "      <td>0</td>\n",
       "      <td>0</td>\n",
       "      <td>0</td>\n",
       "      <td>1</td>\n",
       "      <td>21984.47061</td>\n",
       "    </tr>\n",
       "    <tr>\n",
       "      <th>4</th>\n",
       "      <td>32</td>\n",
       "      <td>1</td>\n",
       "      <td>28.880</td>\n",
       "      <td>4</td>\n",
       "      <td>0</td>\n",
       "      <td>0</td>\n",
       "      <td>1</td>\n",
       "      <td>3866.85520</td>\n",
       "    </tr>\n",
       "  </tbody>\n",
       "</table>\n",
       "</div>"
      ],
      "text/plain": [
       "   age  sex     bmi  classif  children  smoker  region      charges\n",
       "0   19    0  27.900        4         0       1       3  16884.92400\n",
       "1   18    1  33.770        1         1       0       2   1725.55230\n",
       "2   28    1  33.000        1         3       0       2   4449.46200\n",
       "3   18    1  22.705        0         0       0       1  21984.47061\n",
       "4   32    1  28.880        4         0       0       1   3866.85520"
      ]
     },
     "execution_count": 299,
     "metadata": {},
     "output_type": "execute_result"
    }
   ],
   "source": [
    "df.head()"
   ]
  },
  {
   "cell_type": "code",
   "execution_count": 300,
   "id": "ab6413dd",
   "metadata": {},
   "outputs": [
    {
     "data": {
      "text/html": [
       "<div>\n",
       "<style scoped>\n",
       "    .dataframe tbody tr th:only-of-type {\n",
       "        vertical-align: middle;\n",
       "    }\n",
       "\n",
       "    .dataframe tbody tr th {\n",
       "        vertical-align: top;\n",
       "    }\n",
       "\n",
       "    .dataframe thead th {\n",
       "        text-align: right;\n",
       "    }\n",
       "</style>\n",
       "<table border=\"1\" class=\"dataframe\">\n",
       "  <thead>\n",
       "    <tr style=\"text-align: right;\">\n",
       "      <th></th>\n",
       "      <th>age</th>\n",
       "      <th>smoker</th>\n",
       "    </tr>\n",
       "  </thead>\n",
       "  <tbody>\n",
       "    <tr>\n",
       "      <th>0</th>\n",
       "      <td>19</td>\n",
       "      <td>1</td>\n",
       "    </tr>\n",
       "    <tr>\n",
       "      <th>1</th>\n",
       "      <td>18</td>\n",
       "      <td>0</td>\n",
       "    </tr>\n",
       "    <tr>\n",
       "      <th>2</th>\n",
       "      <td>28</td>\n",
       "      <td>0</td>\n",
       "    </tr>\n",
       "    <tr>\n",
       "      <th>3</th>\n",
       "      <td>18</td>\n",
       "      <td>0</td>\n",
       "    </tr>\n",
       "    <tr>\n",
       "      <th>4</th>\n",
       "      <td>32</td>\n",
       "      <td>0</td>\n",
       "    </tr>\n",
       "    <tr>\n",
       "      <th>...</th>\n",
       "      <td>...</td>\n",
       "      <td>...</td>\n",
       "    </tr>\n",
       "    <tr>\n",
       "      <th>1333</th>\n",
       "      <td>50</td>\n",
       "      <td>0</td>\n",
       "    </tr>\n",
       "    <tr>\n",
       "      <th>1334</th>\n",
       "      <td>18</td>\n",
       "      <td>0</td>\n",
       "    </tr>\n",
       "    <tr>\n",
       "      <th>1335</th>\n",
       "      <td>18</td>\n",
       "      <td>0</td>\n",
       "    </tr>\n",
       "    <tr>\n",
       "      <th>1336</th>\n",
       "      <td>21</td>\n",
       "      <td>0</td>\n",
       "    </tr>\n",
       "    <tr>\n",
       "      <th>1337</th>\n",
       "      <td>18</td>\n",
       "      <td>1</td>\n",
       "    </tr>\n",
       "  </tbody>\n",
       "</table>\n",
       "<p>1338 rows × 2 columns</p>\n",
       "</div>"
      ],
      "text/plain": [
       "      age  smoker\n",
       "0      19       1\n",
       "1      18       0\n",
       "2      28       0\n",
       "3      18       0\n",
       "4      32       0\n",
       "...   ...     ...\n",
       "1333   50       0\n",
       "1334   18       0\n",
       "1335   18       0\n",
       "1336   21       0\n",
       "1337   18       1\n",
       "\n",
       "[1338 rows x 2 columns]"
      ]
     },
     "execution_count": 300,
     "metadata": {},
     "output_type": "execute_result"
    }
   ],
   "source": [
    "x2=df[['age','smoker']]\n",
    "x2"
   ]
  },
  {
   "cell_type": "code",
   "execution_count": 301,
   "id": "67db8f7f",
   "metadata": {},
   "outputs": [
    {
     "data": {
      "text/html": [
       "<div>\n",
       "<style scoped>\n",
       "    .dataframe tbody tr th:only-of-type {\n",
       "        vertical-align: middle;\n",
       "    }\n",
       "\n",
       "    .dataframe tbody tr th {\n",
       "        vertical-align: top;\n",
       "    }\n",
       "\n",
       "    .dataframe thead th {\n",
       "        text-align: right;\n",
       "    }\n",
       "</style>\n",
       "<table border=\"1\" class=\"dataframe\">\n",
       "  <thead>\n",
       "    <tr style=\"text-align: right;\">\n",
       "      <th></th>\n",
       "      <th>charges</th>\n",
       "    </tr>\n",
       "  </thead>\n",
       "  <tbody>\n",
       "    <tr>\n",
       "      <th>0</th>\n",
       "      <td>16884.92400</td>\n",
       "    </tr>\n",
       "    <tr>\n",
       "      <th>1</th>\n",
       "      <td>1725.55230</td>\n",
       "    </tr>\n",
       "    <tr>\n",
       "      <th>2</th>\n",
       "      <td>4449.46200</td>\n",
       "    </tr>\n",
       "    <tr>\n",
       "      <th>3</th>\n",
       "      <td>21984.47061</td>\n",
       "    </tr>\n",
       "    <tr>\n",
       "      <th>4</th>\n",
       "      <td>3866.85520</td>\n",
       "    </tr>\n",
       "    <tr>\n",
       "      <th>...</th>\n",
       "      <td>...</td>\n",
       "    </tr>\n",
       "    <tr>\n",
       "      <th>1333</th>\n",
       "      <td>10600.54830</td>\n",
       "    </tr>\n",
       "    <tr>\n",
       "      <th>1334</th>\n",
       "      <td>2205.98080</td>\n",
       "    </tr>\n",
       "    <tr>\n",
       "      <th>1335</th>\n",
       "      <td>1629.83350</td>\n",
       "    </tr>\n",
       "    <tr>\n",
       "      <th>1336</th>\n",
       "      <td>2007.94500</td>\n",
       "    </tr>\n",
       "    <tr>\n",
       "      <th>1337</th>\n",
       "      <td>29141.36030</td>\n",
       "    </tr>\n",
       "  </tbody>\n",
       "</table>\n",
       "<p>1338 rows × 1 columns</p>\n",
       "</div>"
      ],
      "text/plain": [
       "          charges\n",
       "0     16884.92400\n",
       "1      1725.55230\n",
       "2      4449.46200\n",
       "3     21984.47061\n",
       "4      3866.85520\n",
       "...           ...\n",
       "1333  10600.54830\n",
       "1334   2205.98080\n",
       "1335   1629.83350\n",
       "1336   2007.94500\n",
       "1337  29141.36030\n",
       "\n",
       "[1338 rows x 1 columns]"
      ]
     },
     "execution_count": 301,
     "metadata": {},
     "output_type": "execute_result"
    }
   ],
   "source": [
    "y2=df.iloc[:,7:8]\n",
    "y2"
   ]
  },
  {
   "cell_type": "code",
   "execution_count": 302,
   "id": "e528931b",
   "metadata": {},
   "outputs": [],
   "source": [
    "x2_train,x2_test,y2_train,y2_test=train_test_split(x2,y2,test_size=0.3,random_state=10)"
   ]
  },
  {
   "cell_type": "code",
   "execution_count": 303,
   "id": "504aec7a",
   "metadata": {},
   "outputs": [
    {
     "data": {
      "text/plain": [
       "(936, 2)"
      ]
     },
     "execution_count": 303,
     "metadata": {},
     "output_type": "execute_result"
    }
   ],
   "source": [
    "x2_train.shape"
   ]
  },
  {
   "cell_type": "code",
   "execution_count": 304,
   "id": "b8dc8890",
   "metadata": {},
   "outputs": [
    {
     "data": {
      "text/plain": [
       "(402, 2)"
      ]
     },
     "execution_count": 304,
     "metadata": {},
     "output_type": "execute_result"
    }
   ],
   "source": [
    "x2_test.shape"
   ]
  },
  {
   "cell_type": "code",
   "execution_count": 305,
   "id": "5a08838b",
   "metadata": {},
   "outputs": [],
   "source": [
    "lr2=LinearRegression()"
   ]
  },
  {
   "cell_type": "code",
   "execution_count": 306,
   "id": "03f50fe4",
   "metadata": {},
   "outputs": [],
   "source": [
    "model5=lr2.fit(x2_train,y2_train)"
   ]
  },
  {
   "cell_type": "code",
   "execution_count": 307,
   "id": "cbf8d11f",
   "metadata": {},
   "outputs": [
    {
     "data": {
      "text/plain": [
       "LinearRegression()"
      ]
     },
     "execution_count": 307,
     "metadata": {},
     "output_type": "execute_result"
    }
   ],
   "source": [
    "model5"
   ]
  },
  {
   "cell_type": "code",
   "execution_count": 308,
   "id": "24acc252",
   "metadata": {},
   "outputs": [
    {
     "data": {
      "text/plain": [
       "0.7296326931339182"
      ]
     },
     "execution_count": 308,
     "metadata": {},
     "output_type": "execute_result"
    }
   ],
   "source": [
    "coefficient_Determination2 =model5.score(x2_train,y2_train)\n",
    "coefficient_Determination2"
   ]
  },
  {
   "cell_type": "code",
   "execution_count": 309,
   "id": "01559fb8",
   "metadata": {},
   "outputs": [
    {
     "data": {
      "text/plain": [
       "array([[  289.70054365, 24243.84111847]])"
      ]
     },
     "execution_count": 309,
     "metadata": {},
     "output_type": "execute_result"
    }
   ],
   "source": [
    "model5.coef_"
   ]
  },
  {
   "cell_type": "code",
   "execution_count": 310,
   "id": "03c38c20",
   "metadata": {},
   "outputs": [
    {
     "data": {
      "text/plain": [
       "array([-2893.63456736])"
      ]
     },
     "execution_count": 310,
     "metadata": {},
     "output_type": "execute_result"
    }
   ],
   "source": [
    "model5.intercept_"
   ]
  },
  {
   "cell_type": "code",
   "execution_count": 311,
   "id": "0c779d49",
   "metadata": {},
   "outputs": [
    {
     "data": {
      "text/plain": [
       "array([[ 7825.28554779],\n",
       "       [ 7535.58500414],\n",
       "       [14198.69750815],\n",
       "       [14778.09859545],\n",
       "       [ 5507.68119857],\n",
       "       [ 8984.0877224 ],\n",
       "       [10142.88989701],\n",
       "       [27144.21742417],\n",
       "       [ 9853.18935336],\n",
       "       [33807.32992818],\n",
       "       [ 3190.07684935],\n",
       "       [ 4638.57956761],\n",
       "       [ 9563.48880971],\n",
       "       [ 8984.0877224 ],\n",
       "       [11011.99152797],\n",
       "       [14488.3980518 ],\n",
       "       [ 4348.87902396],\n",
       "       [15357.49968276],\n",
       "       [13329.59587719],\n",
       "       [31779.42612261],\n",
       "       [34097.03047183],\n",
       "       [ 2610.67576204],\n",
       "       [ 2320.97521839],\n",
       "       [ 8114.98609144],\n",
       "       [ 5217.98065492],\n",
       "       [14198.69750815],\n",
       "       [ 9853.18935336],\n",
       "       [12750.19478988],\n",
       "       [ 4638.57956761],\n",
       "       [32648.52775356],\n",
       "       [ 2610.67576204],\n",
       "       [32648.52775356],\n",
       "       [10142.88989701],\n",
       "       [ 9853.18935336],\n",
       "       [ 5507.68119857],\n",
       "       [ 7245.88446049],\n",
       "       [15067.79913911],\n",
       "       [12170.79370258],\n",
       "       [11591.39261527],\n",
       "       [ 9853.18935336],\n",
       "       [15357.49968276],\n",
       "       [11591.39261527],\n",
       "       [ 7535.58500414],\n",
       "       [ 9853.18935336],\n",
       "       [ 2320.97521839],\n",
       "       [ 9273.78826605],\n",
       "       [10722.29098432],\n",
       "       [33227.92884087],\n",
       "       [14198.69750815],\n",
       "       [13329.59587719],\n",
       "       [28013.31905512],\n",
       "       [ 5217.98065492],\n",
       "       [10142.88989701],\n",
       "       [13908.9969645 ],\n",
       "       [12460.49424623],\n",
       "       [14778.09859545],\n",
       "       [12170.79370258],\n",
       "       [ 8114.98609144],\n",
       "       [ 8984.0877224 ],\n",
       "       [33807.32992818],\n",
       "       [ 2320.97521839],\n",
       "       [35545.53319009],\n",
       "       [39601.34080123],\n",
       "       [ 3479.777393  ],\n",
       "       [30041.22286069],\n",
       "       [10142.88989701],\n",
       "       [ 5507.68119857],\n",
       "       [ 8984.0877224 ],\n",
       "       [ 9853.18935336],\n",
       "       [10722.29098432],\n",
       "       [ 9563.48880971],\n",
       "       [ 2320.97521839],\n",
       "       [ 8984.0877224 ],\n",
       "       [ 8694.38717875],\n",
       "       [10432.59044066],\n",
       "       [11301.69207162],\n",
       "       [ 7535.58500414],\n",
       "       [ 9273.78826605],\n",
       "       [ 2610.67576204],\n",
       "       [10722.29098432],\n",
       "       [11301.69207162],\n",
       "       [11881.09315893],\n",
       "       [26564.81633686],\n",
       "       [ 4928.28011126],\n",
       "       [36414.63482105],\n",
       "       [ 4638.57956761],\n",
       "       [ 2320.97521839],\n",
       "       [ 2900.3763057 ],\n",
       "       [ 7245.88446049],\n",
       "       [11301.69207162],\n",
       "       [33517.62938452],\n",
       "       [34386.73101548],\n",
       "       [10432.59044066],\n",
       "       [32069.12666626],\n",
       "       [15357.49968276],\n",
       "       [ 6376.78282953],\n",
       "       [ 8694.38717875],\n",
       "       [11881.09315893],\n",
       "       [ 7245.88446049],\n",
       "       [14488.3980518 ],\n",
       "       [ 8984.0877224 ],\n",
       "       [ 2320.97521839],\n",
       "       [ 3769.47793665],\n",
       "       [ 3769.47793665],\n",
       "       [11011.99152797],\n",
       "       [11301.69207162],\n",
       "       [33517.62938452],\n",
       "       [28013.31905512],\n",
       "       [32648.52775356],\n",
       "       [ 4348.87902396],\n",
       "       [11881.09315893],\n",
       "       [ 7825.28554779],\n",
       "       [ 5797.38174222],\n",
       "       [26854.51688051],\n",
       "       [29172.12122973],\n",
       "       [30620.623948  ],\n",
       "       [ 6087.08228587],\n",
       "       [34676.43155913],\n",
       "       [ 7825.28554779],\n",
       "       [ 4348.87902396],\n",
       "       [31489.72557895],\n",
       "       [11881.09315893],\n",
       "       [ 8404.6866351 ],\n",
       "       [ 2320.97521839],\n",
       "       [39601.34080123],\n",
       "       [ 3769.47793665],\n",
       "       [13908.9969645 ],\n",
       "       [ 5507.68119857],\n",
       "       [ 7825.28554779],\n",
       "       [14198.69750815],\n",
       "       [12750.19478988],\n",
       "       [39311.64025757],\n",
       "       [28013.31905512],\n",
       "       [34966.13210279],\n",
       "       [ 6666.48337318],\n",
       "       [32069.12666626],\n",
       "       [11591.39261527],\n",
       "       [11301.69207162],\n",
       "       [29172.12122973],\n",
       "       [ 5507.68119857],\n",
       "       [ 8114.98609144],\n",
       "       [33517.62938452],\n",
       "       [14198.69750815],\n",
       "       [ 4638.57956761],\n",
       "       [ 4059.17848031],\n",
       "       [28882.42068608],\n",
       "       [13039.89533354],\n",
       "       [11011.99152797],\n",
       "       [11591.39261527],\n",
       "       [ 2610.67576204],\n",
       "       [ 3769.47793665],\n",
       "       [ 6956.18391683],\n",
       "       [ 2610.67576204],\n",
       "       [39311.64025757],\n",
       "       [12170.79370258],\n",
       "       [ 2320.97521839],\n",
       "       [14488.3980518 ],\n",
       "       [ 2320.97521839],\n",
       "       [12750.19478988],\n",
       "       [37863.13753931],\n",
       "       [14778.09859545],\n",
       "       [ 3769.47793665],\n",
       "       [ 7825.28554779],\n",
       "       [14198.69750815],\n",
       "       [ 4348.87902396],\n",
       "       [38732.23917027],\n",
       "       [ 8984.0877224 ],\n",
       "       [ 6376.78282953],\n",
       "       [ 2320.97521839],\n",
       "       [13329.59587719],\n",
       "       [11881.09315893],\n",
       "       [ 9563.48880971],\n",
       "       [ 7245.88446049],\n",
       "       [ 6376.78282953],\n",
       "       [31200.0250353 ],\n",
       "       [ 8694.38717875],\n",
       "       [ 5217.98065492],\n",
       "       [ 9563.48880971],\n",
       "       [ 9853.18935336],\n",
       "       [13329.59587719],\n",
       "       [39891.04134488],\n",
       "       [ 2320.97521839],\n",
       "       [ 6376.78282953],\n",
       "       [ 2320.97521839],\n",
       "       [26854.51688051],\n",
       "       [ 5217.98065492],\n",
       "       [37863.13753931],\n",
       "       [13619.29642084],\n",
       "       [34097.03047183],\n",
       "       [ 4928.28011126],\n",
       "       [12460.49424623],\n",
       "       [ 8404.6866351 ],\n",
       "       [ 5507.68119857],\n",
       "       [ 8404.6866351 ],\n",
       "       [11591.39261527],\n",
       "       [12750.19478988],\n",
       "       [27144.21742417],\n",
       "       [ 5507.68119857],\n",
       "       [14778.09859545],\n",
       "       [ 8404.6866351 ],\n",
       "       [ 7535.58500414],\n",
       "       [ 2320.97521839],\n",
       "       [13619.29642084],\n",
       "       [ 7825.28554779],\n",
       "       [ 2320.97521839],\n",
       "       [36124.9342774 ],\n",
       "       [29461.82177339],\n",
       "       [14198.69750815],\n",
       "       [30330.92340434],\n",
       "       [ 3479.777393  ],\n",
       "       [11301.69207162],\n",
       "       [30330.92340434],\n",
       "       [ 7535.58500414],\n",
       "       [ 8984.0877224 ],\n",
       "       [30910.32449165],\n",
       "       [ 4928.28011126],\n",
       "       [ 8694.38717875],\n",
       "       [ 4638.57956761],\n",
       "       [13329.59587719],\n",
       "       [13619.29642084],\n",
       "       [ 6376.78282953],\n",
       "       [ 6087.08228587],\n",
       "       [ 2320.97521839],\n",
       "       [13039.89533354],\n",
       "       [ 3190.07684935],\n",
       "       [26564.81633686],\n",
       "       [13039.89533354],\n",
       "       [ 2320.97521839],\n",
       "       [ 9853.18935336],\n",
       "       [28013.31905512],\n",
       "       [ 9273.78826605],\n",
       "       [26854.51688051],\n",
       "       [ 6666.48337318],\n",
       "       [27723.61851147],\n",
       "       [12750.19478988],\n",
       "       [ 4059.17848031],\n",
       "       [14778.09859545],\n",
       "       [39601.34080123],\n",
       "       [ 2320.97521839],\n",
       "       [12460.49424623],\n",
       "       [12750.19478988],\n",
       "       [29172.12122973],\n",
       "       [12460.49424623],\n",
       "       [31779.42612261],\n",
       "       [13619.29642084],\n",
       "       [ 4059.17848031],\n",
       "       [13329.59587719],\n",
       "       [ 4348.87902396],\n",
       "       [15647.20022641],\n",
       "       [ 3190.07684935],\n",
       "       [ 4638.57956761],\n",
       "       [15357.49968276],\n",
       "       [30041.22286069],\n",
       "       [ 7535.58500414],\n",
       "       [ 8404.6866351 ],\n",
       "       [11591.39261527],\n",
       "       [ 9563.48880971],\n",
       "       [ 6956.18391683],\n",
       "       [ 4638.57956761],\n",
       "       [11591.39261527],\n",
       "       [ 5217.98065492],\n",
       "       [36704.3353647 ],\n",
       "       [ 8984.0877224 ],\n",
       "       [35835.23373374],\n",
       "       [ 4638.57956761],\n",
       "       [ 2610.67576204],\n",
       "       [13619.29642084],\n",
       "       [ 9273.78826605],\n",
       "       [ 2610.67576204],\n",
       "       [11591.39261527],\n",
       "       [ 2320.97521839],\n",
       "       [ 2320.97521839],\n",
       "       [12460.49424623],\n",
       "       [10142.88989701],\n",
       "       [ 9273.78826605],\n",
       "       [ 4348.87902396],\n",
       "       [28303.01959878],\n",
       "       [ 4059.17848031],\n",
       "       [11011.99152797],\n",
       "       [34966.13210279],\n",
       "       [ 2320.97521839],\n",
       "       [ 3190.07684935],\n",
       "       [13329.59587719],\n",
       "       [10722.29098432],\n",
       "       [34386.73101548],\n",
       "       [ 2610.67576204],\n",
       "       [ 6956.18391683],\n",
       "       [ 8694.38717875],\n",
       "       [31779.42612261],\n",
       "       [ 2900.3763057 ],\n",
       "       [ 8694.38717875],\n",
       "       [ 6087.08228587],\n",
       "       [ 6087.08228587],\n",
       "       [ 4928.28011126],\n",
       "       [26564.81633686],\n",
       "       [ 6376.78282953],\n",
       "       [30330.92340434],\n",
       "       [10432.59044066],\n",
       "       [ 7535.58500414],\n",
       "       [14198.69750815],\n",
       "       [37283.73645201],\n",
       "       [ 7535.58500414],\n",
       "       [ 2610.67576204],\n",
       "       [29172.12122973],\n",
       "       [12750.19478988],\n",
       "       [11301.69207162],\n",
       "       [15067.79913911],\n",
       "       [ 8984.0877224 ],\n",
       "       [11011.99152797],\n",
       "       [11591.39261527],\n",
       "       [ 7825.28554779],\n",
       "       [12170.79370258],\n",
       "       [ 8984.0877224 ],\n",
       "       [ 4059.17848031],\n",
       "       [11301.69207162],\n",
       "       [26564.81633686],\n",
       "       [36124.9342774 ],\n",
       "       [12750.19478988],\n",
       "       [ 8694.38717875],\n",
       "       [14198.69750815],\n",
       "       [ 8404.6866351 ],\n",
       "       [ 8114.98609144],\n",
       "       [12750.19478988],\n",
       "       [ 9563.48880971],\n",
       "       [ 4348.87902396],\n",
       "       [ 9273.78826605],\n",
       "       [ 4638.57956761],\n",
       "       [39891.04134488],\n",
       "       [13619.29642084],\n",
       "       [ 2320.97521839],\n",
       "       [35255.83264644],\n",
       "       [14778.09859545],\n",
       "       [ 8984.0877224 ],\n",
       "       [26854.51688051],\n",
       "       [ 4928.28011126],\n",
       "       [13619.29642084],\n",
       "       [11881.09315893],\n",
       "       [ 2320.97521839],\n",
       "       [29751.52231704],\n",
       "       [36124.9342774 ],\n",
       "       [14488.3980518 ],\n",
       "       [ 4059.17848031],\n",
       "       [ 6376.78282953],\n",
       "       [13908.9969645 ],\n",
       "       [ 8404.6866351 ],\n",
       "       [12460.49424623],\n",
       "       [10722.29098432],\n",
       "       [ 6087.08228587],\n",
       "       [12460.49424623],\n",
       "       [32069.12666626],\n",
       "       [31489.72557895],\n",
       "       [ 6956.18391683],\n",
       "       [ 2610.67576204],\n",
       "       [ 2320.97521839],\n",
       "       [15647.20022641],\n",
       "       [ 7245.88446049],\n",
       "       [27144.21742417],\n",
       "       [ 8114.98609144],\n",
       "       [ 2320.97521839],\n",
       "       [ 3190.07684935],\n",
       "       [12170.79370258],\n",
       "       [ 9563.48880971],\n",
       "       [ 2320.97521839],\n",
       "       [ 7535.58500414],\n",
       "       [ 6956.18391683],\n",
       "       [ 6666.48337318],\n",
       "       [27144.21742417],\n",
       "       [15357.49968276],\n",
       "       [ 3769.47793665],\n",
       "       [ 4348.87902396],\n",
       "       [10142.88989701],\n",
       "       [11881.09315893],\n",
       "       [27723.61851147],\n",
       "       [10432.59044066],\n",
       "       [ 6087.08228587],\n",
       "       [13908.9969645 ],\n",
       "       [ 4059.17848031],\n",
       "       [ 6666.48337318],\n",
       "       [13039.89533354],\n",
       "       [ 3479.777393  ],\n",
       "       [ 8694.38717875],\n",
       "       [ 9563.48880971],\n",
       "       [30041.22286069],\n",
       "       [ 9273.78826605],\n",
       "       [ 6956.18391683],\n",
       "       [15357.49968276],\n",
       "       [ 3190.07684935],\n",
       "       [13039.89533354],\n",
       "       [29461.82177339],\n",
       "       [ 2610.67576204],\n",
       "       [13908.9969645 ],\n",
       "       [11011.99152797],\n",
       "       [ 9273.78826605],\n",
       "       [ 8984.0877224 ],\n",
       "       [10432.59044066],\n",
       "       [12170.79370258],\n",
       "       [10722.29098432],\n",
       "       [35545.53319009],\n",
       "       [ 4348.87902396],\n",
       "       [32648.52775356],\n",
       "       [ 2900.3763057 ],\n",
       "       [10432.59044066]])"
      ]
     },
     "execution_count": 311,
     "metadata": {},
     "output_type": "execute_result"
    }
   ],
   "source": [
    "y_pred4=model5.predict(x2_test)\n",
    "y_pred4"
   ]
  },
  {
   "cell_type": "code",
   "execution_count": 312,
   "id": "98aec869",
   "metadata": {},
   "outputs": [],
   "source": [
    "data6 = pd.DataFrame()\n",
    "data6['actual_y'] = y2_test\n",
    "data6['predict'] = y_pred4\n"
   ]
  },
  {
   "cell_type": "code",
   "execution_count": 313,
   "id": "941853c8",
   "metadata": {},
   "outputs": [
    {
     "data": {
      "text/html": [
       "<div>\n",
       "<style scoped>\n",
       "    .dataframe tbody tr th:only-of-type {\n",
       "        vertical-align: middle;\n",
       "    }\n",
       "\n",
       "    .dataframe tbody tr th {\n",
       "        vertical-align: top;\n",
       "    }\n",
       "\n",
       "    .dataframe thead th {\n",
       "        text-align: right;\n",
       "    }\n",
       "</style>\n",
       "<table border=\"1\" class=\"dataframe\">\n",
       "  <thead>\n",
       "    <tr style=\"text-align: right;\">\n",
       "      <th></th>\n",
       "      <th>actual_y</th>\n",
       "      <th>predict</th>\n",
       "    </tr>\n",
       "  </thead>\n",
       "  <tbody>\n",
       "    <tr>\n",
       "      <th>7</th>\n",
       "      <td>7281.50560</td>\n",
       "      <td>7825.285548</td>\n",
       "    </tr>\n",
       "    <tr>\n",
       "      <th>999</th>\n",
       "      <td>5267.81815</td>\n",
       "      <td>7535.585004</td>\n",
       "    </tr>\n",
       "    <tr>\n",
       "      <th>1209</th>\n",
       "      <td>12347.17200</td>\n",
       "      <td>14198.697508</td>\n",
       "    </tr>\n",
       "    <tr>\n",
       "      <th>491</th>\n",
       "      <td>24513.09126</td>\n",
       "      <td>14778.098595</td>\n",
       "    </tr>\n",
       "    <tr>\n",
       "      <th>625</th>\n",
       "      <td>3736.46470</td>\n",
       "      <td>5507.681199</td>\n",
       "    </tr>\n",
       "    <tr>\n",
       "      <th>...</th>\n",
       "      <td>...</td>\n",
       "      <td>...</td>\n",
       "    </tr>\n",
       "    <tr>\n",
       "      <th>854</th>\n",
       "      <td>24106.91255</td>\n",
       "      <td>35545.533190</td>\n",
       "    </tr>\n",
       "    <tr>\n",
       "      <th>554</th>\n",
       "      <td>17878.90068</td>\n",
       "      <td>4348.879024</td>\n",
       "    </tr>\n",
       "    <tr>\n",
       "      <th>1278</th>\n",
       "      <td>22462.04375</td>\n",
       "      <td>32648.527754</td>\n",
       "    </tr>\n",
       "    <tr>\n",
       "      <th>374</th>\n",
       "      <td>1391.52870</td>\n",
       "      <td>2900.376306</td>\n",
       "    </tr>\n",
       "    <tr>\n",
       "      <th>6</th>\n",
       "      <td>8240.58960</td>\n",
       "      <td>10432.590441</td>\n",
       "    </tr>\n",
       "  </tbody>\n",
       "</table>\n",
       "<p>402 rows × 2 columns</p>\n",
       "</div>"
      ],
      "text/plain": [
       "         actual_y       predict\n",
       "7      7281.50560   7825.285548\n",
       "999    5267.81815   7535.585004\n",
       "1209  12347.17200  14198.697508\n",
       "491   24513.09126  14778.098595\n",
       "625    3736.46470   5507.681199\n",
       "...           ...           ...\n",
       "854   24106.91255  35545.533190\n",
       "554   17878.90068   4348.879024\n",
       "1278  22462.04375  32648.527754\n",
       "374    1391.52870   2900.376306\n",
       "6      8240.58960  10432.590441\n",
       "\n",
       "[402 rows x 2 columns]"
      ]
     },
     "execution_count": 313,
     "metadata": {},
     "output_type": "execute_result"
    }
   ],
   "source": [
    "data6"
   ]
  },
  {
   "cell_type": "code",
   "execution_count": 314,
   "id": "3981be39",
   "metadata": {},
   "outputs": [],
   "source": [
    "r4_score=model5.score(x2_test,y2_test)"
   ]
  },
  {
   "cell_type": "code",
   "execution_count": 315,
   "id": "b205b0ff",
   "metadata": {},
   "outputs": [
    {
     "data": {
      "text/plain": [
       "0.69"
      ]
     },
     "execution_count": 315,
     "metadata": {},
     "output_type": "execute_result"
    }
   ],
   "source": [
    "score3=round(r4_score,2)\n",
    "score3"
   ]
  },
  {
   "cell_type": "markdown",
   "id": "21523b09",
   "metadata": {},
   "source": [
    "## r_score of two correlated features is 69%"
   ]
  },
  {
   "cell_type": "markdown",
   "id": "1ed7f394",
   "metadata": {},
   "source": [
    "# Logistic regression:-"
   ]
  },
  {
   "cell_type": "code",
   "execution_count": 316,
   "id": "71d50754",
   "metadata": {},
   "outputs": [
    {
     "data": {
      "text/plain": [
       "(936, 7)"
      ]
     },
     "execution_count": 316,
     "metadata": {},
     "output_type": "execute_result"
    }
   ],
   "source": [
    "x_train.shape"
   ]
  },
  {
   "cell_type": "code",
   "execution_count": 317,
   "id": "0117ff08",
   "metadata": {},
   "outputs": [
    {
     "data": {
      "text/plain": [
       "(936, 1)"
      ]
     },
     "execution_count": 317,
     "metadata": {},
     "output_type": "execute_result"
    }
   ],
   "source": [
    "y_train.shape"
   ]
  },
  {
   "cell_type": "code",
   "execution_count": 318,
   "id": "c954ec0b",
   "metadata": {},
   "outputs": [],
   "source": [
    "lg=LogisticRegression()"
   ]
  },
  {
   "cell_type": "code",
   "execution_count": 319,
   "id": "543b60da",
   "metadata": {},
   "outputs": [],
   "source": [
    "# model3=lg.fit(x_train,y_train)"
   ]
  },
  {
   "cell_type": "markdown",
   "id": "db28915b",
   "metadata": {},
   "source": [
    "# this model is not used for continoues column"
   ]
  },
  {
   "cell_type": "markdown",
   "id": "8441bd4c",
   "metadata": {},
   "source": [
    "# DECISION TREE REGRESSOR"
   ]
  },
  {
   "cell_type": "code",
   "execution_count": 320,
   "id": "26b5f314",
   "metadata": {},
   "outputs": [],
   "source": [
    "from sklearn.tree import DecisionTreeRegressor\n",
    "from sklearn.metrics import precision_score, recall_score, accuracy_score"
   ]
  },
  {
   "cell_type": "code",
   "execution_count": 321,
   "id": "dd1b51b7",
   "metadata": {},
   "outputs": [],
   "source": [
    "dt=DecisionTreeRegressor(max_depth=3,random_state=10)"
   ]
  },
  {
   "cell_type": "code",
   "execution_count": 322,
   "id": "6504b012",
   "metadata": {},
   "outputs": [],
   "source": [
    "model4=dt.fit(x_train,y_train)"
   ]
  },
  {
   "cell_type": "code",
   "execution_count": 323,
   "id": "d0f5487d",
   "metadata": {},
   "outputs": [
    {
     "data": {
      "text/plain": [
       "DecisionTreeRegressor(max_depth=3, random_state=10)"
      ]
     },
     "execution_count": 323,
     "metadata": {},
     "output_type": "execute_result"
    }
   ],
   "source": [
    "model4"
   ]
  },
  {
   "cell_type": "code",
   "execution_count": 324,
   "id": "77fc7bfb",
   "metadata": {},
   "outputs": [],
   "source": [
    "y_pred3=dt.predict(x_test)"
   ]
  },
  {
   "cell_type": "code",
   "execution_count": 325,
   "id": "92cc1ce9",
   "metadata": {},
   "outputs": [
    {
     "data": {
      "text/plain": [
       "array([0.0998815 , 0.0998815 , 0.2092983 , 0.2092983 , 0.05226734,\n",
       "       0.0998815 , 0.14137364, 0.27755837, 0.14137364, 0.37843843,\n",
       "       0.05226734, 0.05226734, 0.14137364, 0.0998815 , 0.14137364,\n",
       "       0.2092983 , 0.05226734, 0.2092983 , 0.2092983 , 0.27755837,\n",
       "       0.71154577, 0.05226734, 0.05226734, 0.0998815 , 0.05226734,\n",
       "       0.2092983 , 0.14137364, 0.2092983 , 0.05226734, 0.27755837,\n",
       "       0.05226734, 0.58511547, 0.14137364, 0.14137364, 0.05226734,\n",
       "       0.0998815 , 0.2092983 , 0.2092983 , 0.14137364, 0.14137364,\n",
       "       0.2092983 , 0.14137364, 0.0998815 , 0.14137364, 0.05226734,\n",
       "       0.0998815 , 0.14137364, 0.58511547, 0.2092983 , 0.2092983 ,\n",
       "       0.58511547, 0.05226734, 0.14137364, 0.2092983 , 0.2092983 ,\n",
       "       0.2092983 , 0.2092983 , 0.0998815 , 0.0998815 , 0.71154577,\n",
       "       0.05226734, 0.37843843, 0.37843843, 0.05226734, 0.27755837,\n",
       "       0.14137364, 0.05226734, 0.0998815 , 0.14137364, 0.14137364,\n",
       "       0.14137364, 0.05226734, 0.0998815 , 0.0998815 , 0.14137364,\n",
       "       0.14137364, 0.0998815 , 0.0998815 , 0.05226734, 0.14137364,\n",
       "       0.14137364, 0.14137364, 0.27755837, 0.05226734, 0.37843843,\n",
       "       0.05226734, 0.05226734, 0.05226734, 0.0998815 , 0.14137364,\n",
       "       0.71154577, 0.71154577, 0.14137364, 0.58511547, 0.2092983 ,\n",
       "       0.05226734, 0.0998815 , 0.14137364, 0.0998815 , 0.2092983 ,\n",
       "       0.0998815 , 0.05226734, 0.05226734, 0.05226734, 0.14137364,\n",
       "       0.14137364, 0.37843843, 0.58511547, 0.27755837, 0.05226734,\n",
       "       0.14137364, 0.0998815 , 0.05226734, 0.27755837, 0.58511547,\n",
       "       0.27755837, 0.05226734, 0.71154577, 0.0998815 , 0.05226734,\n",
       "       0.58511547, 0.14137364, 0.0998815 , 0.05226734, 0.71154577,\n",
       "       0.05226734, 0.2092983 , 0.05226734, 0.0998815 , 0.2092983 ,\n",
       "       0.2092983 , 0.37843843, 0.27755837, 0.37843843, 0.0998815 ,\n",
       "       0.27755837, 0.14137364, 0.14137364, 0.58511547, 0.05226734,\n",
       "       0.0998815 , 0.37843843, 0.2092983 , 0.05226734, 0.05226734,\n",
       "       0.58511547, 0.2092983 , 0.14137364, 0.14137364, 0.05226734,\n",
       "       0.05226734, 0.0998815 , 0.05226734, 0.71154577, 0.2092983 ,\n",
       "       0.05226734, 0.2092983 , 0.05226734, 0.2092983 , 0.37843843,\n",
       "       0.2092983 , 0.05226734, 0.0998815 , 0.2092983 , 0.05226734,\n",
       "       0.71154577, 0.0998815 , 0.05226734, 0.05226734, 0.2092983 ,\n",
       "       0.14137364, 0.14137364, 0.0998815 , 0.05226734, 0.27755837,\n",
       "       0.0998815 , 0.05226734, 0.14137364, 0.14137364, 0.2092983 ,\n",
       "       0.71154577, 0.05226734, 0.05226734, 0.05226734, 0.58511547,\n",
       "       0.05226734, 0.37843843, 0.2092983 , 0.37843843, 0.05226734,\n",
       "       0.2092983 , 0.0998815 , 0.05226734, 0.0998815 , 0.14137364,\n",
       "       0.2092983 , 0.27755837, 0.05226734, 0.2092983 , 0.0998815 ,\n",
       "       0.0998815 , 0.05226734, 0.2092983 , 0.0998815 , 0.05226734,\n",
       "       0.71154577, 0.27755837, 0.2092983 , 0.58511547, 0.05226734,\n",
       "       0.14137364, 0.58511547, 0.0998815 , 0.0998815 , 0.58511547,\n",
       "       0.05226734, 0.0998815 , 0.05226734, 0.2092983 , 0.2092983 ,\n",
       "       0.05226734, 0.05226734, 0.05226734, 0.2092983 , 0.05226734,\n",
       "       0.27755837, 0.2092983 , 0.05226734, 0.14137364, 0.58511547,\n",
       "       0.0998815 , 0.27755837, 0.0998815 , 0.58511547, 0.2092983 ,\n",
       "       0.05226734, 0.2092983 , 0.37843843, 0.05226734, 0.2092983 ,\n",
       "       0.2092983 , 0.27755837, 0.2092983 , 0.58511547, 0.2092983 ,\n",
       "       0.05226734, 0.2092983 , 0.05226734, 0.2092983 , 0.05226734,\n",
       "       0.05226734, 0.2092983 , 0.58511547, 0.0998815 , 0.0998815 ,\n",
       "       0.14137364, 0.14137364, 0.0998815 , 0.05226734, 0.14137364,\n",
       "       0.05226734, 0.37843843, 0.0998815 , 0.71154577, 0.05226734,\n",
       "       0.05226734, 0.2092983 , 0.0998815 , 0.05226734, 0.14137364,\n",
       "       0.05226734, 0.05226734, 0.2092983 , 0.14137364, 0.0998815 ,\n",
       "       0.05226734, 0.58511547, 0.05226734, 0.14137364, 0.71154577,\n",
       "       0.05226734, 0.05226734, 0.2092983 , 0.14137364, 0.37843843,\n",
       "       0.05226734, 0.0998815 , 0.0998815 , 0.27755837, 0.05226734,\n",
       "       0.0998815 , 0.05226734, 0.05226734, 0.05226734, 0.27755837,\n",
       "       0.05226734, 0.27755837, 0.14137364, 0.0998815 , 0.2092983 ,\n",
       "       0.71154577, 0.0998815 , 0.05226734, 0.27755837, 0.2092983 ,\n",
       "       0.14137364, 0.2092983 , 0.0998815 , 0.14137364, 0.14137364,\n",
       "       0.0998815 , 0.2092983 , 0.0998815 , 0.05226734, 0.14137364,\n",
       "       0.27755837, 0.71154577, 0.2092983 , 0.0998815 , 0.2092983 ,\n",
       "       0.0998815 , 0.0998815 , 0.2092983 , 0.14137364, 0.05226734,\n",
       "       0.0998815 , 0.05226734, 0.37843843, 0.2092983 , 0.05226734,\n",
       "       0.37843843, 0.2092983 , 0.0998815 , 0.58511547, 0.05226734,\n",
       "       0.2092983 , 0.14137364, 0.05226734, 0.58511547, 0.37843843,\n",
       "       0.2092983 , 0.05226734, 0.05226734, 0.2092983 , 0.0998815 ,\n",
       "       0.2092983 , 0.14137364, 0.05226734, 0.2092983 , 0.58511547,\n",
       "       0.27755837, 0.0998815 , 0.05226734, 0.05226734, 0.2092983 ,\n",
       "       0.0998815 , 0.58511547, 0.0998815 , 0.05226734, 0.05226734,\n",
       "       0.2092983 , 0.14137364, 0.05226734, 0.0998815 , 0.0998815 ,\n",
       "       0.0998815 , 0.27755837, 0.2092983 , 0.05226734, 0.05226734,\n",
       "       0.14137364, 0.14137364, 0.58511547, 0.14137364, 0.05226734,\n",
       "       0.2092983 , 0.05226734, 0.0998815 , 0.2092983 , 0.05226734,\n",
       "       0.0998815 , 0.14137364, 0.27755837, 0.0998815 , 0.0998815 ,\n",
       "       0.2092983 , 0.05226734, 0.2092983 , 0.58511547, 0.05226734,\n",
       "       0.2092983 , 0.14137364, 0.0998815 , 0.0998815 , 0.14137364,\n",
       "       0.2092983 , 0.14137364, 0.37843843, 0.05226734, 0.27755837,\n",
       "       0.05226734, 0.14137364])"
      ]
     },
     "execution_count": 325,
     "metadata": {},
     "output_type": "execute_result"
    }
   ],
   "source": [
    "y_pred3"
   ]
  },
  {
   "cell_type": "code",
   "execution_count": 326,
   "id": "e32d9b5f",
   "metadata": {},
   "outputs": [],
   "source": [
    "from sklearn.metrics import r2_score"
   ]
  },
  {
   "cell_type": "code",
   "execution_count": 327,
   "id": "1db70647",
   "metadata": {},
   "outputs": [],
   "source": [
    "score4=round(r2_score(y_test,y_pred3),2)"
   ]
  },
  {
   "cell_type": "code",
   "execution_count": 328,
   "id": "c7def521",
   "metadata": {},
   "outputs": [
    {
     "data": {
      "text/plain": [
       "0.84"
      ]
     },
     "execution_count": 328,
     "metadata": {},
     "output_type": "execute_result"
    }
   ],
   "source": [
    "score4"
   ]
  },
  {
   "cell_type": "markdown",
   "id": "ad47890b",
   "metadata": {},
   "source": [
    "# score of decision tree regressor is 84 %"
   ]
  },
  {
   "cell_type": "code",
   "execution_count": 329,
   "id": "3ffc8b44",
   "metadata": {},
   "outputs": [],
   "source": [
    "data5=pd.DataFrame()"
   ]
  },
  {
   "cell_type": "code",
   "execution_count": 330,
   "id": "9e270421",
   "metadata": {},
   "outputs": [],
   "source": [
    "data5['actual_y']=y_test\n",
    "data5['Predicted']=y_pred3"
   ]
  },
  {
   "cell_type": "code",
   "execution_count": 331,
   "id": "3f504b01",
   "metadata": {},
   "outputs": [
    {
     "data": {
      "text/html": [
       "<div>\n",
       "<style scoped>\n",
       "    .dataframe tbody tr th:only-of-type {\n",
       "        vertical-align: middle;\n",
       "    }\n",
       "\n",
       "    .dataframe tbody tr th {\n",
       "        vertical-align: top;\n",
       "    }\n",
       "\n",
       "    .dataframe thead th {\n",
       "        text-align: right;\n",
       "    }\n",
       "</style>\n",
       "<table border=\"1\" class=\"dataframe\">\n",
       "  <thead>\n",
       "    <tr style=\"text-align: right;\">\n",
       "      <th></th>\n",
       "      <th>actual_y</th>\n",
       "      <th>Predicted</th>\n",
       "    </tr>\n",
       "  </thead>\n",
       "  <tbody>\n",
       "    <tr>\n",
       "      <th>7</th>\n",
       "      <td>0.098320</td>\n",
       "      <td>0.099882</td>\n",
       "    </tr>\n",
       "    <tr>\n",
       "      <th>999</th>\n",
       "      <td>0.066178</td>\n",
       "      <td>0.099882</td>\n",
       "    </tr>\n",
       "    <tr>\n",
       "      <th>1209</th>\n",
       "      <td>0.179179</td>\n",
       "      <td>0.209298</td>\n",
       "    </tr>\n",
       "    <tr>\n",
       "      <th>491</th>\n",
       "      <td>0.373372</td>\n",
       "      <td>0.209298</td>\n",
       "    </tr>\n",
       "    <tr>\n",
       "      <th>625</th>\n",
       "      <td>0.041734</td>\n",
       "      <td>0.052267</td>\n",
       "    </tr>\n",
       "    <tr>\n",
       "      <th>...</th>\n",
       "      <td>...</td>\n",
       "      <td>...</td>\n",
       "    </tr>\n",
       "    <tr>\n",
       "      <th>854</th>\n",
       "      <td>0.366889</td>\n",
       "      <td>0.378438</td>\n",
       "    </tr>\n",
       "    <tr>\n",
       "      <th>554</th>\n",
       "      <td>0.267477</td>\n",
       "      <td>0.052267</td>\n",
       "    </tr>\n",
       "    <tr>\n",
       "      <th>1278</th>\n",
       "      <td>0.340633</td>\n",
       "      <td>0.277558</td>\n",
       "    </tr>\n",
       "    <tr>\n",
       "      <th>374</th>\n",
       "      <td>0.004304</td>\n",
       "      <td>0.052267</td>\n",
       "    </tr>\n",
       "    <tr>\n",
       "      <th>6</th>\n",
       "      <td>0.113629</td>\n",
       "      <td>0.141374</td>\n",
       "    </tr>\n",
       "  </tbody>\n",
       "</table>\n",
       "<p>402 rows × 2 columns</p>\n",
       "</div>"
      ],
      "text/plain": [
       "      actual_y  Predicted\n",
       "7     0.098320   0.099882\n",
       "999   0.066178   0.099882\n",
       "1209  0.179179   0.209298\n",
       "491   0.373372   0.209298\n",
       "625   0.041734   0.052267\n",
       "...        ...        ...\n",
       "854   0.366889   0.378438\n",
       "554   0.267477   0.052267\n",
       "1278  0.340633   0.277558\n",
       "374   0.004304   0.052267\n",
       "6     0.113629   0.141374\n",
       "\n",
       "[402 rows x 2 columns]"
      ]
     },
     "execution_count": 331,
     "metadata": {},
     "output_type": "execute_result"
    }
   ],
   "source": [
    "data5"
   ]
  },
  {
   "cell_type": "code",
   "execution_count": 332,
   "id": "e5fe39ce",
   "metadata": {},
   "outputs": [
    {
     "data": {
      "text/html": [
       "<div>\n",
       "<style scoped>\n",
       "    .dataframe tbody tr th:only-of-type {\n",
       "        vertical-align: middle;\n",
       "    }\n",
       "\n",
       "    .dataframe tbody tr th {\n",
       "        vertical-align: top;\n",
       "    }\n",
       "\n",
       "    .dataframe thead th {\n",
       "        text-align: right;\n",
       "    }\n",
       "</style>\n",
       "<table border=\"1\" class=\"dataframe\">\n",
       "  <thead>\n",
       "    <tr style=\"text-align: right;\">\n",
       "      <th></th>\n",
       "      <th>age</th>\n",
       "      <th>sex</th>\n",
       "      <th>bmi</th>\n",
       "      <th>classif</th>\n",
       "      <th>children</th>\n",
       "      <th>smoker</th>\n",
       "      <th>region</th>\n",
       "      <th>charges</th>\n",
       "    </tr>\n",
       "  </thead>\n",
       "  <tbody>\n",
       "    <tr>\n",
       "      <th>0</th>\n",
       "      <td>19</td>\n",
       "      <td>female</td>\n",
       "      <td>27.900</td>\n",
       "      <td>PREO</td>\n",
       "      <td>0</td>\n",
       "      <td>yes</td>\n",
       "      <td>southwest</td>\n",
       "      <td>16884.92400</td>\n",
       "    </tr>\n",
       "    <tr>\n",
       "      <th>1</th>\n",
       "      <td>18</td>\n",
       "      <td>male</td>\n",
       "      <td>33.770</td>\n",
       "      <td>OB1</td>\n",
       "      <td>1</td>\n",
       "      <td>no</td>\n",
       "      <td>southeast</td>\n",
       "      <td>1725.55230</td>\n",
       "    </tr>\n",
       "    <tr>\n",
       "      <th>2</th>\n",
       "      <td>28</td>\n",
       "      <td>male</td>\n",
       "      <td>33.000</td>\n",
       "      <td>OB1</td>\n",
       "      <td>3</td>\n",
       "      <td>no</td>\n",
       "      <td>southeast</td>\n",
       "      <td>4449.46200</td>\n",
       "    </tr>\n",
       "    <tr>\n",
       "      <th>3</th>\n",
       "      <td>18</td>\n",
       "      <td>male</td>\n",
       "      <td>22.705</td>\n",
       "      <td>N</td>\n",
       "      <td>0</td>\n",
       "      <td>no</td>\n",
       "      <td>northwest</td>\n",
       "      <td>21984.47061</td>\n",
       "    </tr>\n",
       "    <tr>\n",
       "      <th>4</th>\n",
       "      <td>32</td>\n",
       "      <td>male</td>\n",
       "      <td>28.880</td>\n",
       "      <td>PREO</td>\n",
       "      <td>0</td>\n",
       "      <td>no</td>\n",
       "      <td>northwest</td>\n",
       "      <td>3866.85520</td>\n",
       "    </tr>\n",
       "  </tbody>\n",
       "</table>\n",
       "</div>"
      ],
      "text/plain": [
       "   age     sex     bmi classif  children smoker     region      charges\n",
       "0   19  female  27.900    PREO         0    yes  southwest  16884.92400\n",
       "1   18    male  33.770     OB1         1     no  southeast   1725.55230\n",
       "2   28    male  33.000     OB1         3     no  southeast   4449.46200\n",
       "3   18    male  22.705       N         0     no  northwest  21984.47061\n",
       "4   32    male  28.880    PREO         0     no  northwest   3866.85520"
      ]
     },
     "execution_count": 332,
     "metadata": {},
     "output_type": "execute_result"
    }
   ],
   "source": [
    "df1.head()"
   ]
  },
  {
   "cell_type": "markdown",
   "id": "14067783",
   "metadata": {},
   "source": [
    "# conclusion:-"
   ]
  },
  {
   "cell_type": "markdown",
   "id": "26572c59",
   "metadata": {},
   "source": [
    "## ** Decision tree regressor is the best model......to our data and the accuracy of this model is high rather than other model.."
   ]
  },
  {
   "cell_type": "markdown",
   "id": "954ed09b",
   "metadata": {},
   "source": [
    "## Decision_regressor= 84%\n",
    "## linear_regression for multiple=71%\n",
    "## linear_regression for one column smoker=61%\n",
    "## linear_regression for one column ages=3%\n",
    "\n"
   ]
  },
  {
   "cell_type": "markdown",
   "id": "fbd17201",
   "metadata": {},
   "source": [
    "## ** smoker or non smoker is giving effect for the insurance policy amount"
   ]
  },
  {
   "cell_type": "code",
   "execution_count": 333,
   "id": "3b408dcd",
   "metadata": {},
   "outputs": [
    {
     "data": {
      "text/html": [
       "<div>\n",
       "<style scoped>\n",
       "    .dataframe tbody tr th:only-of-type {\n",
       "        vertical-align: middle;\n",
       "    }\n",
       "\n",
       "    .dataframe tbody tr th {\n",
       "        vertical-align: top;\n",
       "    }\n",
       "\n",
       "    .dataframe thead th {\n",
       "        text-align: right;\n",
       "    }\n",
       "</style>\n",
       "<table border=\"1\" class=\"dataframe\">\n",
       "  <thead>\n",
       "    <tr style=\"text-align: right;\">\n",
       "      <th></th>\n",
       "      <th>actual_y</th>\n",
       "      <th>Predicted</th>\n",
       "    </tr>\n",
       "  </thead>\n",
       "  <tbody>\n",
       "    <tr>\n",
       "      <th>7</th>\n",
       "      <td>0.098320</td>\n",
       "      <td>0.099882</td>\n",
       "    </tr>\n",
       "    <tr>\n",
       "      <th>999</th>\n",
       "      <td>0.066178</td>\n",
       "      <td>0.099882</td>\n",
       "    </tr>\n",
       "    <tr>\n",
       "      <th>1209</th>\n",
       "      <td>0.179179</td>\n",
       "      <td>0.209298</td>\n",
       "    </tr>\n",
       "    <tr>\n",
       "      <th>491</th>\n",
       "      <td>0.373372</td>\n",
       "      <td>0.209298</td>\n",
       "    </tr>\n",
       "    <tr>\n",
       "      <th>625</th>\n",
       "      <td>0.041734</td>\n",
       "      <td>0.052267</td>\n",
       "    </tr>\n",
       "    <tr>\n",
       "      <th>...</th>\n",
       "      <td>...</td>\n",
       "      <td>...</td>\n",
       "    </tr>\n",
       "    <tr>\n",
       "      <th>854</th>\n",
       "      <td>0.366889</td>\n",
       "      <td>0.378438</td>\n",
       "    </tr>\n",
       "    <tr>\n",
       "      <th>554</th>\n",
       "      <td>0.267477</td>\n",
       "      <td>0.052267</td>\n",
       "    </tr>\n",
       "    <tr>\n",
       "      <th>1278</th>\n",
       "      <td>0.340633</td>\n",
       "      <td>0.277558</td>\n",
       "    </tr>\n",
       "    <tr>\n",
       "      <th>374</th>\n",
       "      <td>0.004304</td>\n",
       "      <td>0.052267</td>\n",
       "    </tr>\n",
       "    <tr>\n",
       "      <th>6</th>\n",
       "      <td>0.113629</td>\n",
       "      <td>0.141374</td>\n",
       "    </tr>\n",
       "  </tbody>\n",
       "</table>\n",
       "<p>402 rows × 2 columns</p>\n",
       "</div>"
      ],
      "text/plain": [
       "      actual_y  Predicted\n",
       "7     0.098320   0.099882\n",
       "999   0.066178   0.099882\n",
       "1209  0.179179   0.209298\n",
       "491   0.373372   0.209298\n",
       "625   0.041734   0.052267\n",
       "...        ...        ...\n",
       "854   0.366889   0.378438\n",
       "554   0.267477   0.052267\n",
       "1278  0.340633   0.277558\n",
       "374   0.004304   0.052267\n",
       "6     0.113629   0.141374\n",
       "\n",
       "[402 rows x 2 columns]"
      ]
     },
     "execution_count": 333,
     "metadata": {},
     "output_type": "execute_result"
    }
   ],
   "source": [
    "data5"
   ]
  },
  {
   "cell_type": "code",
   "execution_count": 334,
   "id": "4ec8b842",
   "metadata": {},
   "outputs": [
    {
     "data": {
      "text/html": [
       "<div>\n",
       "<style scoped>\n",
       "    .dataframe tbody tr th:only-of-type {\n",
       "        vertical-align: middle;\n",
       "    }\n",
       "\n",
       "    .dataframe tbody tr th {\n",
       "        vertical-align: top;\n",
       "    }\n",
       "\n",
       "    .dataframe thead th {\n",
       "        text-align: right;\n",
       "    }\n",
       "</style>\n",
       "<table border=\"1\" class=\"dataframe\">\n",
       "  <thead>\n",
       "    <tr style=\"text-align: right;\">\n",
       "      <th></th>\n",
       "      <th>actual_y</th>\n",
       "      <th>predict</th>\n",
       "    </tr>\n",
       "  </thead>\n",
       "  <tbody>\n",
       "    <tr>\n",
       "      <th>7</th>\n",
       "      <td>7281.50560</td>\n",
       "      <td>7825.285548</td>\n",
       "    </tr>\n",
       "    <tr>\n",
       "      <th>999</th>\n",
       "      <td>5267.81815</td>\n",
       "      <td>7535.585004</td>\n",
       "    </tr>\n",
       "    <tr>\n",
       "      <th>1209</th>\n",
       "      <td>12347.17200</td>\n",
       "      <td>14198.697508</td>\n",
       "    </tr>\n",
       "    <tr>\n",
       "      <th>491</th>\n",
       "      <td>24513.09126</td>\n",
       "      <td>14778.098595</td>\n",
       "    </tr>\n",
       "    <tr>\n",
       "      <th>625</th>\n",
       "      <td>3736.46470</td>\n",
       "      <td>5507.681199</td>\n",
       "    </tr>\n",
       "    <tr>\n",
       "      <th>...</th>\n",
       "      <td>...</td>\n",
       "      <td>...</td>\n",
       "    </tr>\n",
       "    <tr>\n",
       "      <th>854</th>\n",
       "      <td>24106.91255</td>\n",
       "      <td>35545.533190</td>\n",
       "    </tr>\n",
       "    <tr>\n",
       "      <th>554</th>\n",
       "      <td>17878.90068</td>\n",
       "      <td>4348.879024</td>\n",
       "    </tr>\n",
       "    <tr>\n",
       "      <th>1278</th>\n",
       "      <td>22462.04375</td>\n",
       "      <td>32648.527754</td>\n",
       "    </tr>\n",
       "    <tr>\n",
       "      <th>374</th>\n",
       "      <td>1391.52870</td>\n",
       "      <td>2900.376306</td>\n",
       "    </tr>\n",
       "    <tr>\n",
       "      <th>6</th>\n",
       "      <td>8240.58960</td>\n",
       "      <td>10432.590441</td>\n",
       "    </tr>\n",
       "  </tbody>\n",
       "</table>\n",
       "<p>402 rows × 2 columns</p>\n",
       "</div>"
      ],
      "text/plain": [
       "         actual_y       predict\n",
       "7      7281.50560   7825.285548\n",
       "999    5267.81815   7535.585004\n",
       "1209  12347.17200  14198.697508\n",
       "491   24513.09126  14778.098595\n",
       "625    3736.46470   5507.681199\n",
       "...           ...           ...\n",
       "854   24106.91255  35545.533190\n",
       "554   17878.90068   4348.879024\n",
       "1278  22462.04375  32648.527754\n",
       "374    1391.52870   2900.376306\n",
       "6      8240.58960  10432.590441\n",
       "\n",
       "[402 rows x 2 columns]"
      ]
     },
     "execution_count": 334,
     "metadata": {},
     "output_type": "execute_result"
    }
   ],
   "source": [
    "data6"
   ]
  },
  {
   "cell_type": "code",
   "execution_count": 335,
   "id": "d692f8af",
   "metadata": {},
   "outputs": [
    {
     "data": {
      "text/html": [
       "<div>\n",
       "<style scoped>\n",
       "    .dataframe tbody tr th:only-of-type {\n",
       "        vertical-align: middle;\n",
       "    }\n",
       "\n",
       "    .dataframe tbody tr th {\n",
       "        vertical-align: top;\n",
       "    }\n",
       "\n",
       "    .dataframe thead th {\n",
       "        text-align: right;\n",
       "    }\n",
       "</style>\n",
       "<table border=\"1\" class=\"dataframe\">\n",
       "  <thead>\n",
       "    <tr style=\"text-align: right;\">\n",
       "      <th></th>\n",
       "      <th>actual_y</th>\n",
       "      <th>predict</th>\n",
       "    </tr>\n",
       "  </thead>\n",
       "  <tbody>\n",
       "    <tr>\n",
       "      <th>7</th>\n",
       "      <td>7281.50560</td>\n",
       "      <td>8478.768874</td>\n",
       "    </tr>\n",
       "    <tr>\n",
       "      <th>999</th>\n",
       "      <td>5267.81815</td>\n",
       "      <td>8478.768874</td>\n",
       "    </tr>\n",
       "    <tr>\n",
       "      <th>1209</th>\n",
       "      <td>12347.17200</td>\n",
       "      <td>8478.768874</td>\n",
       "    </tr>\n",
       "    <tr>\n",
       "      <th>491</th>\n",
       "      <td>24513.09126</td>\n",
       "      <td>8478.768874</td>\n",
       "    </tr>\n",
       "    <tr>\n",
       "      <th>625</th>\n",
       "      <td>3736.46470</td>\n",
       "      <td>8478.768874</td>\n",
       "    </tr>\n",
       "    <tr>\n",
       "      <th>...</th>\n",
       "      <td>...</td>\n",
       "      <td>...</td>\n",
       "    </tr>\n",
       "    <tr>\n",
       "      <th>854</th>\n",
       "      <td>24106.91255</td>\n",
       "      <td>32579.479956</td>\n",
       "    </tr>\n",
       "    <tr>\n",
       "      <th>554</th>\n",
       "      <td>17878.90068</td>\n",
       "      <td>8478.768874</td>\n",
       "    </tr>\n",
       "    <tr>\n",
       "      <th>1278</th>\n",
       "      <td>22462.04375</td>\n",
       "      <td>32579.479956</td>\n",
       "    </tr>\n",
       "    <tr>\n",
       "      <th>374</th>\n",
       "      <td>1391.52870</td>\n",
       "      <td>8478.768874</td>\n",
       "    </tr>\n",
       "    <tr>\n",
       "      <th>6</th>\n",
       "      <td>8240.58960</td>\n",
       "      <td>8478.768874</td>\n",
       "    </tr>\n",
       "  </tbody>\n",
       "</table>\n",
       "<p>402 rows × 2 columns</p>\n",
       "</div>"
      ],
      "text/plain": [
       "         actual_y       predict\n",
       "7      7281.50560   8478.768874\n",
       "999    5267.81815   8478.768874\n",
       "1209  12347.17200   8478.768874\n",
       "491   24513.09126   8478.768874\n",
       "625    3736.46470   8478.768874\n",
       "...           ...           ...\n",
       "854   24106.91255  32579.479956\n",
       "554   17878.90068   8478.768874\n",
       "1278  22462.04375  32579.479956\n",
       "374    1391.52870   8478.768874\n",
       "6      8240.58960   8478.768874\n",
       "\n",
       "[402 rows x 2 columns]"
      ]
     },
     "execution_count": 335,
     "metadata": {},
     "output_type": "execute_result"
    }
   ],
   "source": [
    "data3"
   ]
  },
  {
   "cell_type": "code",
   "execution_count": 336,
   "id": "c41bc4d9",
   "metadata": {},
   "outputs": [
    {
     "data": {
      "text/html": [
       "<div>\n",
       "<style scoped>\n",
       "    .dataframe tbody tr th:only-of-type {\n",
       "        vertical-align: middle;\n",
       "    }\n",
       "\n",
       "    .dataframe tbody tr th {\n",
       "        vertical-align: top;\n",
       "    }\n",
       "\n",
       "    .dataframe thead th {\n",
       "        text-align: right;\n",
       "    }\n",
       "</style>\n",
       "<table border=\"1\" class=\"dataframe\">\n",
       "  <thead>\n",
       "    <tr style=\"text-align: right;\">\n",
       "      <th></th>\n",
       "      <th>actual_y</th>\n",
       "      <th>predict</th>\n",
       "    </tr>\n",
       "  </thead>\n",
       "  <tbody>\n",
       "    <tr>\n",
       "      <th>7</th>\n",
       "      <td>0.098320</td>\n",
       "      <td>0.102422</td>\n",
       "    </tr>\n",
       "    <tr>\n",
       "      <th>999</th>\n",
       "      <td>0.066178</td>\n",
       "      <td>0.064612</td>\n",
       "    </tr>\n",
       "    <tr>\n",
       "      <th>1209</th>\n",
       "      <td>0.179179</td>\n",
       "      <td>0.226632</td>\n",
       "    </tr>\n",
       "    <tr>\n",
       "      <th>491</th>\n",
       "      <td>0.373372</td>\n",
       "      <td>0.156107</td>\n",
       "    </tr>\n",
       "    <tr>\n",
       "      <th>625</th>\n",
       "      <td>0.041734</td>\n",
       "      <td>0.030228</td>\n",
       "    </tr>\n",
       "    <tr>\n",
       "      <th>...</th>\n",
       "      <td>...</td>\n",
       "      <td>...</td>\n",
       "    </tr>\n",
       "    <tr>\n",
       "      <th>854</th>\n",
       "      <td>0.366889</td>\n",
       "      <td>0.546297</td>\n",
       "    </tr>\n",
       "    <tr>\n",
       "      <th>554</th>\n",
       "      <td>0.267477</td>\n",
       "      <td>0.108130</td>\n",
       "    </tr>\n",
       "    <tr>\n",
       "      <th>1278</th>\n",
       "      <td>0.340633</td>\n",
       "      <td>0.490128</td>\n",
       "    </tr>\n",
       "    <tr>\n",
       "      <th>374</th>\n",
       "      <td>0.004304</td>\n",
       "      <td>0.041354</td>\n",
       "    </tr>\n",
       "    <tr>\n",
       "      <th>6</th>\n",
       "      <td>0.113629</td>\n",
       "      <td>0.166123</td>\n",
       "    </tr>\n",
       "  </tbody>\n",
       "</table>\n",
       "<p>402 rows × 2 columns</p>\n",
       "</div>"
      ],
      "text/plain": [
       "      actual_y   predict\n",
       "7     0.098320  0.102422\n",
       "999   0.066178  0.064612\n",
       "1209  0.179179  0.226632\n",
       "491   0.373372  0.156107\n",
       "625   0.041734  0.030228\n",
       "...        ...       ...\n",
       "854   0.366889  0.546297\n",
       "554   0.267477  0.108130\n",
       "1278  0.340633  0.490128\n",
       "374   0.004304  0.041354\n",
       "6     0.113629  0.166123\n",
       "\n",
       "[402 rows x 2 columns]"
      ]
     },
     "execution_count": 336,
     "metadata": {},
     "output_type": "execute_result"
    }
   ],
   "source": [
    "data2"
   ]
  },
  {
   "cell_type": "code",
   "execution_count": 337,
   "id": "e545b6a1",
   "metadata": {},
   "outputs": [],
   "source": [
    "na=pd.DataFrame()"
   ]
  },
  {
   "cell_type": "code",
   "execution_count": 338,
   "id": "dc5d31b6",
   "metadata": {},
   "outputs": [],
   "source": [
    "na['actual']=data2['actual_y']"
   ]
  },
  {
   "cell_type": "code",
   "execution_count": 339,
   "id": "c3adda50",
   "metadata": {},
   "outputs": [
    {
     "data": {
      "text/html": [
       "<div>\n",
       "<style scoped>\n",
       "    .dataframe tbody tr th:only-of-type {\n",
       "        vertical-align: middle;\n",
       "    }\n",
       "\n",
       "    .dataframe tbody tr th {\n",
       "        vertical-align: top;\n",
       "    }\n",
       "\n",
       "    .dataframe thead th {\n",
       "        text-align: right;\n",
       "    }\n",
       "</style>\n",
       "<table border=\"1\" class=\"dataframe\">\n",
       "  <thead>\n",
       "    <tr style=\"text-align: right;\">\n",
       "      <th></th>\n",
       "      <th>actual</th>\n",
       "    </tr>\n",
       "  </thead>\n",
       "  <tbody>\n",
       "    <tr>\n",
       "      <th>7</th>\n",
       "      <td>0.098320</td>\n",
       "    </tr>\n",
       "    <tr>\n",
       "      <th>999</th>\n",
       "      <td>0.066178</td>\n",
       "    </tr>\n",
       "    <tr>\n",
       "      <th>1209</th>\n",
       "      <td>0.179179</td>\n",
       "    </tr>\n",
       "    <tr>\n",
       "      <th>491</th>\n",
       "      <td>0.373372</td>\n",
       "    </tr>\n",
       "    <tr>\n",
       "      <th>625</th>\n",
       "      <td>0.041734</td>\n",
       "    </tr>\n",
       "    <tr>\n",
       "      <th>...</th>\n",
       "      <td>...</td>\n",
       "    </tr>\n",
       "    <tr>\n",
       "      <th>854</th>\n",
       "      <td>0.366889</td>\n",
       "    </tr>\n",
       "    <tr>\n",
       "      <th>554</th>\n",
       "      <td>0.267477</td>\n",
       "    </tr>\n",
       "    <tr>\n",
       "      <th>1278</th>\n",
       "      <td>0.340633</td>\n",
       "    </tr>\n",
       "    <tr>\n",
       "      <th>374</th>\n",
       "      <td>0.004304</td>\n",
       "    </tr>\n",
       "    <tr>\n",
       "      <th>6</th>\n",
       "      <td>0.113629</td>\n",
       "    </tr>\n",
       "  </tbody>\n",
       "</table>\n",
       "<p>402 rows × 1 columns</p>\n",
       "</div>"
      ],
      "text/plain": [
       "        actual\n",
       "7     0.098320\n",
       "999   0.066178\n",
       "1209  0.179179\n",
       "491   0.373372\n",
       "625   0.041734\n",
       "...        ...\n",
       "854   0.366889\n",
       "554   0.267477\n",
       "1278  0.340633\n",
       "374   0.004304\n",
       "6     0.113629\n",
       "\n",
       "[402 rows x 1 columns]"
      ]
     },
     "execution_count": 339,
     "metadata": {},
     "output_type": "execute_result"
    }
   ],
   "source": [
    "na"
   ]
  },
  {
   "cell_type": "code",
   "execution_count": 340,
   "id": "ff0d4f6c",
   "metadata": {},
   "outputs": [],
   "source": [
    "na['predicted_LR']=data2['predict']"
   ]
  },
  {
   "cell_type": "code",
   "execution_count": 341,
   "id": "48f1a2ac",
   "metadata": {},
   "outputs": [
    {
     "data": {
      "text/html": [
       "<div>\n",
       "<style scoped>\n",
       "    .dataframe tbody tr th:only-of-type {\n",
       "        vertical-align: middle;\n",
       "    }\n",
       "\n",
       "    .dataframe tbody tr th {\n",
       "        vertical-align: top;\n",
       "    }\n",
       "\n",
       "    .dataframe thead th {\n",
       "        text-align: right;\n",
       "    }\n",
       "</style>\n",
       "<table border=\"1\" class=\"dataframe\">\n",
       "  <thead>\n",
       "    <tr style=\"text-align: right;\">\n",
       "      <th></th>\n",
       "      <th>actual</th>\n",
       "      <th>predicted_LR</th>\n",
       "    </tr>\n",
       "  </thead>\n",
       "  <tbody>\n",
       "    <tr>\n",
       "      <th>7</th>\n",
       "      <td>0.098320</td>\n",
       "      <td>0.102422</td>\n",
       "    </tr>\n",
       "    <tr>\n",
       "      <th>999</th>\n",
       "      <td>0.066178</td>\n",
       "      <td>0.064612</td>\n",
       "    </tr>\n",
       "    <tr>\n",
       "      <th>1209</th>\n",
       "      <td>0.179179</td>\n",
       "      <td>0.226632</td>\n",
       "    </tr>\n",
       "    <tr>\n",
       "      <th>491</th>\n",
       "      <td>0.373372</td>\n",
       "      <td>0.156107</td>\n",
       "    </tr>\n",
       "    <tr>\n",
       "      <th>625</th>\n",
       "      <td>0.041734</td>\n",
       "      <td>0.030228</td>\n",
       "    </tr>\n",
       "    <tr>\n",
       "      <th>...</th>\n",
       "      <td>...</td>\n",
       "      <td>...</td>\n",
       "    </tr>\n",
       "    <tr>\n",
       "      <th>854</th>\n",
       "      <td>0.366889</td>\n",
       "      <td>0.546297</td>\n",
       "    </tr>\n",
       "    <tr>\n",
       "      <th>554</th>\n",
       "      <td>0.267477</td>\n",
       "      <td>0.108130</td>\n",
       "    </tr>\n",
       "    <tr>\n",
       "      <th>1278</th>\n",
       "      <td>0.340633</td>\n",
       "      <td>0.490128</td>\n",
       "    </tr>\n",
       "    <tr>\n",
       "      <th>374</th>\n",
       "      <td>0.004304</td>\n",
       "      <td>0.041354</td>\n",
       "    </tr>\n",
       "    <tr>\n",
       "      <th>6</th>\n",
       "      <td>0.113629</td>\n",
       "      <td>0.166123</td>\n",
       "    </tr>\n",
       "  </tbody>\n",
       "</table>\n",
       "<p>402 rows × 2 columns</p>\n",
       "</div>"
      ],
      "text/plain": [
       "        actual  predicted_LR\n",
       "7     0.098320      0.102422\n",
       "999   0.066178      0.064612\n",
       "1209  0.179179      0.226632\n",
       "491   0.373372      0.156107\n",
       "625   0.041734      0.030228\n",
       "...        ...           ...\n",
       "854   0.366889      0.546297\n",
       "554   0.267477      0.108130\n",
       "1278  0.340633      0.490128\n",
       "374   0.004304      0.041354\n",
       "6     0.113629      0.166123\n",
       "\n",
       "[402 rows x 2 columns]"
      ]
     },
     "execution_count": 341,
     "metadata": {},
     "output_type": "execute_result"
    }
   ],
   "source": [
    "na"
   ]
  },
  {
   "cell_type": "code",
   "execution_count": 342,
   "id": "f98eec47",
   "metadata": {},
   "outputs": [],
   "source": [
    "na['actual_y']=data3['actual_y']"
   ]
  },
  {
   "cell_type": "code",
   "execution_count": 343,
   "id": "6c93ea4f",
   "metadata": {},
   "outputs": [],
   "source": [
    "na['predicted_smoker_LR']=data3['predict']"
   ]
  },
  {
   "cell_type": "code",
   "execution_count": 344,
   "id": "f1ab7869",
   "metadata": {},
   "outputs": [
    {
     "data": {
      "text/html": [
       "<div>\n",
       "<style scoped>\n",
       "    .dataframe tbody tr th:only-of-type {\n",
       "        vertical-align: middle;\n",
       "    }\n",
       "\n",
       "    .dataframe tbody tr th {\n",
       "        vertical-align: top;\n",
       "    }\n",
       "\n",
       "    .dataframe thead th {\n",
       "        text-align: right;\n",
       "    }\n",
       "</style>\n",
       "<table border=\"1\" class=\"dataframe\">\n",
       "  <thead>\n",
       "    <tr style=\"text-align: right;\">\n",
       "      <th></th>\n",
       "      <th>actual</th>\n",
       "      <th>predicted_LR</th>\n",
       "      <th>actual_y</th>\n",
       "      <th>predicted_smoker_LR</th>\n",
       "    </tr>\n",
       "  </thead>\n",
       "  <tbody>\n",
       "    <tr>\n",
       "      <th>7</th>\n",
       "      <td>0.098320</td>\n",
       "      <td>0.102422</td>\n",
       "      <td>7281.50560</td>\n",
       "      <td>8478.768874</td>\n",
       "    </tr>\n",
       "    <tr>\n",
       "      <th>999</th>\n",
       "      <td>0.066178</td>\n",
       "      <td>0.064612</td>\n",
       "      <td>5267.81815</td>\n",
       "      <td>8478.768874</td>\n",
       "    </tr>\n",
       "    <tr>\n",
       "      <th>1209</th>\n",
       "      <td>0.179179</td>\n",
       "      <td>0.226632</td>\n",
       "      <td>12347.17200</td>\n",
       "      <td>8478.768874</td>\n",
       "    </tr>\n",
       "    <tr>\n",
       "      <th>491</th>\n",
       "      <td>0.373372</td>\n",
       "      <td>0.156107</td>\n",
       "      <td>24513.09126</td>\n",
       "      <td>8478.768874</td>\n",
       "    </tr>\n",
       "    <tr>\n",
       "      <th>625</th>\n",
       "      <td>0.041734</td>\n",
       "      <td>0.030228</td>\n",
       "      <td>3736.46470</td>\n",
       "      <td>8478.768874</td>\n",
       "    </tr>\n",
       "    <tr>\n",
       "      <th>...</th>\n",
       "      <td>...</td>\n",
       "      <td>...</td>\n",
       "      <td>...</td>\n",
       "      <td>...</td>\n",
       "    </tr>\n",
       "    <tr>\n",
       "      <th>854</th>\n",
       "      <td>0.366889</td>\n",
       "      <td>0.546297</td>\n",
       "      <td>24106.91255</td>\n",
       "      <td>32579.479956</td>\n",
       "    </tr>\n",
       "    <tr>\n",
       "      <th>554</th>\n",
       "      <td>0.267477</td>\n",
       "      <td>0.108130</td>\n",
       "      <td>17878.90068</td>\n",
       "      <td>8478.768874</td>\n",
       "    </tr>\n",
       "    <tr>\n",
       "      <th>1278</th>\n",
       "      <td>0.340633</td>\n",
       "      <td>0.490128</td>\n",
       "      <td>22462.04375</td>\n",
       "      <td>32579.479956</td>\n",
       "    </tr>\n",
       "    <tr>\n",
       "      <th>374</th>\n",
       "      <td>0.004304</td>\n",
       "      <td>0.041354</td>\n",
       "      <td>1391.52870</td>\n",
       "      <td>8478.768874</td>\n",
       "    </tr>\n",
       "    <tr>\n",
       "      <th>6</th>\n",
       "      <td>0.113629</td>\n",
       "      <td>0.166123</td>\n",
       "      <td>8240.58960</td>\n",
       "      <td>8478.768874</td>\n",
       "    </tr>\n",
       "  </tbody>\n",
       "</table>\n",
       "<p>402 rows × 4 columns</p>\n",
       "</div>"
      ],
      "text/plain": [
       "        actual  predicted_LR     actual_y  predicted_smoker_LR\n",
       "7     0.098320      0.102422   7281.50560          8478.768874\n",
       "999   0.066178      0.064612   5267.81815          8478.768874\n",
       "1209  0.179179      0.226632  12347.17200          8478.768874\n",
       "491   0.373372      0.156107  24513.09126          8478.768874\n",
       "625   0.041734      0.030228   3736.46470          8478.768874\n",
       "...        ...           ...          ...                  ...\n",
       "854   0.366889      0.546297  24106.91255         32579.479956\n",
       "554   0.267477      0.108130  17878.90068          8478.768874\n",
       "1278  0.340633      0.490128  22462.04375         32579.479956\n",
       "374   0.004304      0.041354   1391.52870          8478.768874\n",
       "6     0.113629      0.166123   8240.58960          8478.768874\n",
       "\n",
       "[402 rows x 4 columns]"
      ]
     },
     "execution_count": 344,
     "metadata": {},
     "output_type": "execute_result"
    }
   ],
   "source": [
    "na"
   ]
  },
  {
   "cell_type": "code",
   "execution_count": null,
   "id": "731bbd51",
   "metadata": {},
   "outputs": [],
   "source": []
  },
  {
   "cell_type": "code",
   "execution_count": 345,
   "id": "9f22da3e",
   "metadata": {},
   "outputs": [],
   "source": [
    "na['predicted_DR']=data5['Predicted']"
   ]
  },
  {
   "cell_type": "code",
   "execution_count": 346,
   "id": "2d27ed78",
   "metadata": {},
   "outputs": [
    {
     "data": {
      "text/html": [
       "<div>\n",
       "<style scoped>\n",
       "    .dataframe tbody tr th:only-of-type {\n",
       "        vertical-align: middle;\n",
       "    }\n",
       "\n",
       "    .dataframe tbody tr th {\n",
       "        vertical-align: top;\n",
       "    }\n",
       "\n",
       "    .dataframe thead th {\n",
       "        text-align: right;\n",
       "    }\n",
       "</style>\n",
       "<table border=\"1\" class=\"dataframe\">\n",
       "  <thead>\n",
       "    <tr style=\"text-align: right;\">\n",
       "      <th></th>\n",
       "      <th>actual</th>\n",
       "      <th>predicted_LR</th>\n",
       "      <th>actual_y</th>\n",
       "      <th>predicted_smoker_LR</th>\n",
       "      <th>predicted_DR</th>\n",
       "    </tr>\n",
       "  </thead>\n",
       "  <tbody>\n",
       "    <tr>\n",
       "      <th>7</th>\n",
       "      <td>0.098320</td>\n",
       "      <td>0.102422</td>\n",
       "      <td>7281.50560</td>\n",
       "      <td>8478.768874</td>\n",
       "      <td>0.099882</td>\n",
       "    </tr>\n",
       "    <tr>\n",
       "      <th>999</th>\n",
       "      <td>0.066178</td>\n",
       "      <td>0.064612</td>\n",
       "      <td>5267.81815</td>\n",
       "      <td>8478.768874</td>\n",
       "      <td>0.099882</td>\n",
       "    </tr>\n",
       "    <tr>\n",
       "      <th>1209</th>\n",
       "      <td>0.179179</td>\n",
       "      <td>0.226632</td>\n",
       "      <td>12347.17200</td>\n",
       "      <td>8478.768874</td>\n",
       "      <td>0.209298</td>\n",
       "    </tr>\n",
       "    <tr>\n",
       "      <th>491</th>\n",
       "      <td>0.373372</td>\n",
       "      <td>0.156107</td>\n",
       "      <td>24513.09126</td>\n",
       "      <td>8478.768874</td>\n",
       "      <td>0.209298</td>\n",
       "    </tr>\n",
       "    <tr>\n",
       "      <th>625</th>\n",
       "      <td>0.041734</td>\n",
       "      <td>0.030228</td>\n",
       "      <td>3736.46470</td>\n",
       "      <td>8478.768874</td>\n",
       "      <td>0.052267</td>\n",
       "    </tr>\n",
       "    <tr>\n",
       "      <th>...</th>\n",
       "      <td>...</td>\n",
       "      <td>...</td>\n",
       "      <td>...</td>\n",
       "      <td>...</td>\n",
       "      <td>...</td>\n",
       "    </tr>\n",
       "    <tr>\n",
       "      <th>854</th>\n",
       "      <td>0.366889</td>\n",
       "      <td>0.546297</td>\n",
       "      <td>24106.91255</td>\n",
       "      <td>32579.479956</td>\n",
       "      <td>0.378438</td>\n",
       "    </tr>\n",
       "    <tr>\n",
       "      <th>554</th>\n",
       "      <td>0.267477</td>\n",
       "      <td>0.108130</td>\n",
       "      <td>17878.90068</td>\n",
       "      <td>8478.768874</td>\n",
       "      <td>0.052267</td>\n",
       "    </tr>\n",
       "    <tr>\n",
       "      <th>1278</th>\n",
       "      <td>0.340633</td>\n",
       "      <td>0.490128</td>\n",
       "      <td>22462.04375</td>\n",
       "      <td>32579.479956</td>\n",
       "      <td>0.277558</td>\n",
       "    </tr>\n",
       "    <tr>\n",
       "      <th>374</th>\n",
       "      <td>0.004304</td>\n",
       "      <td>0.041354</td>\n",
       "      <td>1391.52870</td>\n",
       "      <td>8478.768874</td>\n",
       "      <td>0.052267</td>\n",
       "    </tr>\n",
       "    <tr>\n",
       "      <th>6</th>\n",
       "      <td>0.113629</td>\n",
       "      <td>0.166123</td>\n",
       "      <td>8240.58960</td>\n",
       "      <td>8478.768874</td>\n",
       "      <td>0.141374</td>\n",
       "    </tr>\n",
       "  </tbody>\n",
       "</table>\n",
       "<p>402 rows × 5 columns</p>\n",
       "</div>"
      ],
      "text/plain": [
       "        actual  predicted_LR     actual_y  predicted_smoker_LR  predicted_DR\n",
       "7     0.098320      0.102422   7281.50560          8478.768874      0.099882\n",
       "999   0.066178      0.064612   5267.81815          8478.768874      0.099882\n",
       "1209  0.179179      0.226632  12347.17200          8478.768874      0.209298\n",
       "491   0.373372      0.156107  24513.09126          8478.768874      0.209298\n",
       "625   0.041734      0.030228   3736.46470          8478.768874      0.052267\n",
       "...        ...           ...          ...                  ...           ...\n",
       "854   0.366889      0.546297  24106.91255         32579.479956      0.378438\n",
       "554   0.267477      0.108130  17878.90068          8478.768874      0.052267\n",
       "1278  0.340633      0.490128  22462.04375         32579.479956      0.277558\n",
       "374   0.004304      0.041354   1391.52870          8478.768874      0.052267\n",
       "6     0.113629      0.166123   8240.58960          8478.768874      0.141374\n",
       "\n",
       "[402 rows x 5 columns]"
      ]
     },
     "execution_count": 346,
     "metadata": {},
     "output_type": "execute_result"
    }
   ],
   "source": [
    "na"
   ]
  },
  {
   "cell_type": "code",
   "execution_count": 347,
   "id": "5bc5c4fe",
   "metadata": {},
   "outputs": [
    {
     "data": {
      "text/html": [
       "<div>\n",
       "<style scoped>\n",
       "    .dataframe tbody tr th:only-of-type {\n",
       "        vertical-align: middle;\n",
       "    }\n",
       "\n",
       "    .dataframe tbody tr th {\n",
       "        vertical-align: top;\n",
       "    }\n",
       "\n",
       "    .dataframe thead th {\n",
       "        text-align: right;\n",
       "    }\n",
       "</style>\n",
       "<table border=\"1\" class=\"dataframe\">\n",
       "  <thead>\n",
       "    <tr style=\"text-align: right;\">\n",
       "      <th></th>\n",
       "      <th>actual</th>\n",
       "      <th>predicted_LR</th>\n",
       "      <th>actual_y</th>\n",
       "      <th>predicted_smoker_LR</th>\n",
       "      <th>predicted_DR</th>\n",
       "    </tr>\n",
       "  </thead>\n",
       "  <tbody>\n",
       "    <tr>\n",
       "      <th>7</th>\n",
       "      <td>0.098320</td>\n",
       "      <td>0.102422</td>\n",
       "      <td>7281.50560</td>\n",
       "      <td>8478.768874</td>\n",
       "      <td>0.099882</td>\n",
       "    </tr>\n",
       "    <tr>\n",
       "      <th>999</th>\n",
       "      <td>0.066178</td>\n",
       "      <td>0.064612</td>\n",
       "      <td>5267.81815</td>\n",
       "      <td>8478.768874</td>\n",
       "      <td>0.099882</td>\n",
       "    </tr>\n",
       "    <tr>\n",
       "      <th>1209</th>\n",
       "      <td>0.179179</td>\n",
       "      <td>0.226632</td>\n",
       "      <td>12347.17200</td>\n",
       "      <td>8478.768874</td>\n",
       "      <td>0.209298</td>\n",
       "    </tr>\n",
       "    <tr>\n",
       "      <th>491</th>\n",
       "      <td>0.373372</td>\n",
       "      <td>0.156107</td>\n",
       "      <td>24513.09126</td>\n",
       "      <td>8478.768874</td>\n",
       "      <td>0.209298</td>\n",
       "    </tr>\n",
       "    <tr>\n",
       "      <th>625</th>\n",
       "      <td>0.041734</td>\n",
       "      <td>0.030228</td>\n",
       "      <td>3736.46470</td>\n",
       "      <td>8478.768874</td>\n",
       "      <td>0.052267</td>\n",
       "    </tr>\n",
       "    <tr>\n",
       "      <th>...</th>\n",
       "      <td>...</td>\n",
       "      <td>...</td>\n",
       "      <td>...</td>\n",
       "      <td>...</td>\n",
       "      <td>...</td>\n",
       "    </tr>\n",
       "    <tr>\n",
       "      <th>854</th>\n",
       "      <td>0.366889</td>\n",
       "      <td>0.546297</td>\n",
       "      <td>24106.91255</td>\n",
       "      <td>32579.479956</td>\n",
       "      <td>0.378438</td>\n",
       "    </tr>\n",
       "    <tr>\n",
       "      <th>554</th>\n",
       "      <td>0.267477</td>\n",
       "      <td>0.108130</td>\n",
       "      <td>17878.90068</td>\n",
       "      <td>8478.768874</td>\n",
       "      <td>0.052267</td>\n",
       "    </tr>\n",
       "    <tr>\n",
       "      <th>1278</th>\n",
       "      <td>0.340633</td>\n",
       "      <td>0.490128</td>\n",
       "      <td>22462.04375</td>\n",
       "      <td>32579.479956</td>\n",
       "      <td>0.277558</td>\n",
       "    </tr>\n",
       "    <tr>\n",
       "      <th>374</th>\n",
       "      <td>0.004304</td>\n",
       "      <td>0.041354</td>\n",
       "      <td>1391.52870</td>\n",
       "      <td>8478.768874</td>\n",
       "      <td>0.052267</td>\n",
       "    </tr>\n",
       "    <tr>\n",
       "      <th>6</th>\n",
       "      <td>0.113629</td>\n",
       "      <td>0.166123</td>\n",
       "      <td>8240.58960</td>\n",
       "      <td>8478.768874</td>\n",
       "      <td>0.141374</td>\n",
       "    </tr>\n",
       "  </tbody>\n",
       "</table>\n",
       "<p>402 rows × 5 columns</p>\n",
       "</div>"
      ],
      "text/plain": [
       "        actual  predicted_LR     actual_y  predicted_smoker_LR  predicted_DR\n",
       "7     0.098320      0.102422   7281.50560          8478.768874      0.099882\n",
       "999   0.066178      0.064612   5267.81815          8478.768874      0.099882\n",
       "1209  0.179179      0.226632  12347.17200          8478.768874      0.209298\n",
       "491   0.373372      0.156107  24513.09126          8478.768874      0.209298\n",
       "625   0.041734      0.030228   3736.46470          8478.768874      0.052267\n",
       "...        ...           ...          ...                  ...           ...\n",
       "854   0.366889      0.546297  24106.91255         32579.479956      0.378438\n",
       "554   0.267477      0.108130  17878.90068          8478.768874      0.052267\n",
       "1278  0.340633      0.490128  22462.04375         32579.479956      0.277558\n",
       "374   0.004304      0.041354   1391.52870          8478.768874      0.052267\n",
       "6     0.113629      0.166123   8240.58960          8478.768874      0.141374\n",
       "\n",
       "[402 rows x 5 columns]"
      ]
     },
     "execution_count": 347,
     "metadata": {},
     "output_type": "execute_result"
    }
   ],
   "source": [
    "na"
   ]
  },
  {
   "cell_type": "code",
   "execution_count": 348,
   "id": "ec935d3d",
   "metadata": {},
   "outputs": [],
   "source": [
    "na['actual_y']=data5['Predicted']"
   ]
  },
  {
   "cell_type": "code",
   "execution_count": 349,
   "id": "f083d839",
   "metadata": {},
   "outputs": [
    {
     "data": {
      "text/html": [
       "<div>\n",
       "<style scoped>\n",
       "    .dataframe tbody tr th:only-of-type {\n",
       "        vertical-align: middle;\n",
       "    }\n",
       "\n",
       "    .dataframe tbody tr th {\n",
       "        vertical-align: top;\n",
       "    }\n",
       "\n",
       "    .dataframe thead th {\n",
       "        text-align: right;\n",
       "    }\n",
       "</style>\n",
       "<table border=\"1\" class=\"dataframe\">\n",
       "  <thead>\n",
       "    <tr style=\"text-align: right;\">\n",
       "      <th></th>\n",
       "      <th>actual</th>\n",
       "      <th>predicted_LR</th>\n",
       "      <th>actual_y</th>\n",
       "      <th>predicted_smoker_LR</th>\n",
       "      <th>predicted_DR</th>\n",
       "    </tr>\n",
       "  </thead>\n",
       "  <tbody>\n",
       "    <tr>\n",
       "      <th>7</th>\n",
       "      <td>0.098320</td>\n",
       "      <td>0.102422</td>\n",
       "      <td>0.099882</td>\n",
       "      <td>8478.768874</td>\n",
       "      <td>0.099882</td>\n",
       "    </tr>\n",
       "    <tr>\n",
       "      <th>999</th>\n",
       "      <td>0.066178</td>\n",
       "      <td>0.064612</td>\n",
       "      <td>0.099882</td>\n",
       "      <td>8478.768874</td>\n",
       "      <td>0.099882</td>\n",
       "    </tr>\n",
       "    <tr>\n",
       "      <th>1209</th>\n",
       "      <td>0.179179</td>\n",
       "      <td>0.226632</td>\n",
       "      <td>0.209298</td>\n",
       "      <td>8478.768874</td>\n",
       "      <td>0.209298</td>\n",
       "    </tr>\n",
       "    <tr>\n",
       "      <th>491</th>\n",
       "      <td>0.373372</td>\n",
       "      <td>0.156107</td>\n",
       "      <td>0.209298</td>\n",
       "      <td>8478.768874</td>\n",
       "      <td>0.209298</td>\n",
       "    </tr>\n",
       "    <tr>\n",
       "      <th>625</th>\n",
       "      <td>0.041734</td>\n",
       "      <td>0.030228</td>\n",
       "      <td>0.052267</td>\n",
       "      <td>8478.768874</td>\n",
       "      <td>0.052267</td>\n",
       "    </tr>\n",
       "    <tr>\n",
       "      <th>...</th>\n",
       "      <td>...</td>\n",
       "      <td>...</td>\n",
       "      <td>...</td>\n",
       "      <td>...</td>\n",
       "      <td>...</td>\n",
       "    </tr>\n",
       "    <tr>\n",
       "      <th>854</th>\n",
       "      <td>0.366889</td>\n",
       "      <td>0.546297</td>\n",
       "      <td>0.378438</td>\n",
       "      <td>32579.479956</td>\n",
       "      <td>0.378438</td>\n",
       "    </tr>\n",
       "    <tr>\n",
       "      <th>554</th>\n",
       "      <td>0.267477</td>\n",
       "      <td>0.108130</td>\n",
       "      <td>0.052267</td>\n",
       "      <td>8478.768874</td>\n",
       "      <td>0.052267</td>\n",
       "    </tr>\n",
       "    <tr>\n",
       "      <th>1278</th>\n",
       "      <td>0.340633</td>\n",
       "      <td>0.490128</td>\n",
       "      <td>0.277558</td>\n",
       "      <td>32579.479956</td>\n",
       "      <td>0.277558</td>\n",
       "    </tr>\n",
       "    <tr>\n",
       "      <th>374</th>\n",
       "      <td>0.004304</td>\n",
       "      <td>0.041354</td>\n",
       "      <td>0.052267</td>\n",
       "      <td>8478.768874</td>\n",
       "      <td>0.052267</td>\n",
       "    </tr>\n",
       "    <tr>\n",
       "      <th>6</th>\n",
       "      <td>0.113629</td>\n",
       "      <td>0.166123</td>\n",
       "      <td>0.141374</td>\n",
       "      <td>8478.768874</td>\n",
       "      <td>0.141374</td>\n",
       "    </tr>\n",
       "  </tbody>\n",
       "</table>\n",
       "<p>402 rows × 5 columns</p>\n",
       "</div>"
      ],
      "text/plain": [
       "        actual  predicted_LR  actual_y  predicted_smoker_LR  predicted_DR\n",
       "7     0.098320      0.102422  0.099882          8478.768874      0.099882\n",
       "999   0.066178      0.064612  0.099882          8478.768874      0.099882\n",
       "1209  0.179179      0.226632  0.209298          8478.768874      0.209298\n",
       "491   0.373372      0.156107  0.209298          8478.768874      0.209298\n",
       "625   0.041734      0.030228  0.052267          8478.768874      0.052267\n",
       "...        ...           ...       ...                  ...           ...\n",
       "854   0.366889      0.546297  0.378438         32579.479956      0.378438\n",
       "554   0.267477      0.108130  0.052267          8478.768874      0.052267\n",
       "1278  0.340633      0.490128  0.277558         32579.479956      0.277558\n",
       "374   0.004304      0.041354  0.052267          8478.768874      0.052267\n",
       "6     0.113629      0.166123  0.141374          8478.768874      0.141374\n",
       "\n",
       "[402 rows x 5 columns]"
      ]
     },
     "execution_count": 349,
     "metadata": {},
     "output_type": "execute_result"
    }
   ],
   "source": [
    "na"
   ]
  },
  {
   "cell_type": "code",
   "execution_count": 350,
   "id": "8db96331",
   "metadata": {},
   "outputs": [],
   "source": [
    "z=round(data5['actual_y'],2)"
   ]
  },
  {
   "cell_type": "code",
   "execution_count": 351,
   "id": "a7c4f915",
   "metadata": {},
   "outputs": [
    {
     "data": {
      "text/plain": [
       "7       0.10\n",
       "999     0.07\n",
       "1209    0.18\n",
       "491     0.37\n",
       "625     0.04\n",
       "        ... \n",
       "854     0.37\n",
       "554     0.27\n",
       "1278    0.34\n",
       "374     0.00\n",
       "6       0.11\n",
       "Name: actual_y, Length: 402, dtype: float64"
      ]
     },
     "execution_count": 351,
     "metadata": {},
     "output_type": "execute_result"
    }
   ],
   "source": [
    "z"
   ]
  },
  {
   "cell_type": "code",
   "execution_count": 352,
   "id": "32c82eeb",
   "metadata": {},
   "outputs": [],
   "source": [
    "from sklearn.model_selection import KFold,cross_val_score"
   ]
  },
  {
   "cell_type": "code",
   "execution_count": 353,
   "id": "2b96870d",
   "metadata": {},
   "outputs": [
    {
     "data": {
      "text/html": [
       "<div>\n",
       "<style scoped>\n",
       "    .dataframe tbody tr th:only-of-type {\n",
       "        vertical-align: middle;\n",
       "    }\n",
       "\n",
       "    .dataframe tbody tr th {\n",
       "        vertical-align: top;\n",
       "    }\n",
       "\n",
       "    .dataframe thead th {\n",
       "        text-align: right;\n",
       "    }\n",
       "</style>\n",
       "<table border=\"1\" class=\"dataframe\">\n",
       "  <thead>\n",
       "    <tr style=\"text-align: right;\">\n",
       "      <th></th>\n",
       "      <th>age</th>\n",
       "      <th>sex</th>\n",
       "      <th>bmi</th>\n",
       "      <th>classif</th>\n",
       "      <th>children</th>\n",
       "      <th>smoker</th>\n",
       "      <th>region</th>\n",
       "    </tr>\n",
       "  </thead>\n",
       "  <tbody>\n",
       "    <tr>\n",
       "      <th>0</th>\n",
       "      <td>0.021739</td>\n",
       "      <td>0.0</td>\n",
       "      <td>0.321227</td>\n",
       "      <td>0.8</td>\n",
       "      <td>0.0</td>\n",
       "      <td>1.0</td>\n",
       "      <td>1.000000</td>\n",
       "    </tr>\n",
       "    <tr>\n",
       "      <th>1</th>\n",
       "      <td>0.000000</td>\n",
       "      <td>1.0</td>\n",
       "      <td>0.479150</td>\n",
       "      <td>0.2</td>\n",
       "      <td>0.2</td>\n",
       "      <td>0.0</td>\n",
       "      <td>0.666667</td>\n",
       "    </tr>\n",
       "    <tr>\n",
       "      <th>2</th>\n",
       "      <td>0.217391</td>\n",
       "      <td>1.0</td>\n",
       "      <td>0.458434</td>\n",
       "      <td>0.2</td>\n",
       "      <td>0.6</td>\n",
       "      <td>0.0</td>\n",
       "      <td>0.666667</td>\n",
       "    </tr>\n",
       "    <tr>\n",
       "      <th>3</th>\n",
       "      <td>0.000000</td>\n",
       "      <td>1.0</td>\n",
       "      <td>0.181464</td>\n",
       "      <td>0.0</td>\n",
       "      <td>0.0</td>\n",
       "      <td>0.0</td>\n",
       "      <td>0.333333</td>\n",
       "    </tr>\n",
       "    <tr>\n",
       "      <th>4</th>\n",
       "      <td>0.304348</td>\n",
       "      <td>1.0</td>\n",
       "      <td>0.347592</td>\n",
       "      <td>0.8</td>\n",
       "      <td>0.0</td>\n",
       "      <td>0.0</td>\n",
       "      <td>0.333333</td>\n",
       "    </tr>\n",
       "  </tbody>\n",
       "</table>\n",
       "</div>"
      ],
      "text/plain": [
       "        age  sex       bmi  classif  children  smoker    region\n",
       "0  0.021739  0.0  0.321227      0.8       0.0     1.0  1.000000\n",
       "1  0.000000  1.0  0.479150      0.2       0.2     0.0  0.666667\n",
       "2  0.217391  1.0  0.458434      0.2       0.6     0.0  0.666667\n",
       "3  0.000000  1.0  0.181464      0.0       0.0     0.0  0.333333\n",
       "4  0.304348  1.0  0.347592      0.8       0.0     0.0  0.333333"
      ]
     },
     "execution_count": 353,
     "metadata": {},
     "output_type": "execute_result"
    }
   ],
   "source": [
    "x.head()"
   ]
  },
  {
   "cell_type": "code",
   "execution_count": 354,
   "id": "d19dc6a7",
   "metadata": {},
   "outputs": [
    {
     "data": {
      "text/html": [
       "<div>\n",
       "<style scoped>\n",
       "    .dataframe tbody tr th:only-of-type {\n",
       "        vertical-align: middle;\n",
       "    }\n",
       "\n",
       "    .dataframe tbody tr th {\n",
       "        vertical-align: top;\n",
       "    }\n",
       "\n",
       "    .dataframe thead th {\n",
       "        text-align: right;\n",
       "    }\n",
       "</style>\n",
       "<table border=\"1\" class=\"dataframe\">\n",
       "  <thead>\n",
       "    <tr style=\"text-align: right;\">\n",
       "      <th></th>\n",
       "      <th>charges</th>\n",
       "    </tr>\n",
       "  </thead>\n",
       "  <tbody>\n",
       "    <tr>\n",
       "      <th>0</th>\n",
       "      <td>0.251611</td>\n",
       "    </tr>\n",
       "    <tr>\n",
       "      <th>1</th>\n",
       "      <td>0.009636</td>\n",
       "    </tr>\n",
       "    <tr>\n",
       "      <th>2</th>\n",
       "      <td>0.053115</td>\n",
       "    </tr>\n",
       "    <tr>\n",
       "      <th>3</th>\n",
       "      <td>0.333010</td>\n",
       "    </tr>\n",
       "    <tr>\n",
       "      <th>4</th>\n",
       "      <td>0.043816</td>\n",
       "    </tr>\n",
       "  </tbody>\n",
       "</table>\n",
       "</div>"
      ],
      "text/plain": [
       "    charges\n",
       "0  0.251611\n",
       "1  0.009636\n",
       "2  0.053115\n",
       "3  0.333010\n",
       "4  0.043816"
      ]
     },
     "execution_count": 354,
     "metadata": {},
     "output_type": "execute_result"
    }
   ],
   "source": [
    "y.head()"
   ]
  },
  {
   "cell_type": "markdown",
   "id": "3f67fee6",
   "metadata": {},
   "source": [
    "# adaboost regressor"
   ]
  },
  {
   "cell_type": "code",
   "execution_count": 355,
   "id": "68296da9",
   "metadata": {},
   "outputs": [
    {
     "name": "stdout",
     "output_type": "stream",
     "text": [
      "[0.83325809 0.83093441 0.81805875 0.72535965 0.82245178 0.83451685\n",
      " 0.81793898 0.77627233 0.84826319 0.83547051]\n",
      "\n",
      "\n",
      "r2 value of adaboost: 0.8142524533222797\n"
     ]
    }
   ],
   "source": [
    "from sklearn.ensemble import AdaBoostRegressor\n",
    "# Defining model\n",
    "model3 = AdaBoostRegressor()\n",
    "\n",
    "#Evaluate the model\n",
    "cv1 = KFold(n_splits=10,random_state=None,shuffle=False)\n",
    "RF_score = cross_val_score(model3,x,y,scoring='r2',cv=cv1,n_jobs=-1,error_score='raise')\n",
    "\n",
    "print(RF_score)\n",
    "print('\\n')\n",
    "\n",
    "\n",
    "print(\"r2 value of adaboost:\",RF_score.mean())"
   ]
  },
  {
   "cell_type": "code",
   "execution_count": 356,
   "id": "9f69caf4",
   "metadata": {},
   "outputs": [
    {
     "data": {
      "text/plain": [
       "0.81"
      ]
     },
     "execution_count": 356,
     "metadata": {},
     "output_type": "execute_result"
    }
   ],
   "source": [
    "score5=round(RF_score.mean(),2)\n",
    "score5"
   ]
  },
  {
   "cell_type": "markdown",
   "id": "05d6f764",
   "metadata": {},
   "source": [
    "# random forest"
   ]
  },
  {
   "cell_type": "code",
   "execution_count": 357,
   "id": "2769b495",
   "metadata": {},
   "outputs": [
    {
     "name": "stdout",
     "output_type": "stream",
     "text": [
      "[0.8593663  0.83176663 0.80696059 0.71020398 0.85786386 0.88573492\n",
      " 0.85466865 0.79700687 0.84243315 0.85129804]\n",
      "\n",
      "\n",
      "r2 value : 0.829730298733063\n"
     ]
    }
   ],
   "source": [
    "from sklearn.model_selection import cross_val_score\n",
    "from sklearn.model_selection import RepeatedStratifiedKFold\n",
    "from sklearn.model_selection import KFold\n",
    "from sklearn.model_selection import cross_val_score\n",
    "\n",
    "from sklearn.ensemble import RandomForestRegressor\n",
    "\n",
    "# Defining model\n",
    "model2 = RandomForestRegressor()\n",
    "\n",
    "#Evaluate the model\n",
    "cv1 = KFold(n_splits=10,random_state=None,shuffle=False)\n",
    "RF_score1 = cross_val_score(model2,x,y,scoring='r2',cv=cv1,n_jobs=-1,error_score='raise')\n",
    "# results.append(RF_score1)\n",
    "# names.append('Random forest')\n",
    "print(RF_score1)\n",
    "print('\\n')\n",
    "\n",
    "\n",
    "print(\"r2 value :\",RF_score1.mean())"
   ]
  },
  {
   "cell_type": "code",
   "execution_count": 358,
   "id": "e41f4232",
   "metadata": {},
   "outputs": [
    {
     "data": {
      "text/plain": [
       "0.83"
      ]
     },
     "execution_count": 358,
     "metadata": {},
     "output_type": "execute_result"
    }
   ],
   "source": [
    "score6=round(RF_score1.mean(),2)\n",
    "score6"
   ]
  },
  {
   "cell_type": "markdown",
   "id": "2c6ef9eb",
   "metadata": {},
   "source": [
    "# 83 % for random forest"
   ]
  },
  {
   "cell_type": "markdown",
   "id": "ce3d44da",
   "metadata": {},
   "source": [
    "# grid search cv"
   ]
  },
  {
   "cell_type": "code",
   "execution_count": 359,
   "id": "fd2cfa96",
   "metadata": {},
   "outputs": [],
   "source": [
    "from sklearn.model_selection import GridSearchCV"
   ]
  },
  {
   "cell_type": "code",
   "execution_count": 360,
   "id": "328edeb3",
   "metadata": {},
   "outputs": [],
   "source": [
    "paramaters=[{'max_depth':[3,4,5,6,7,8,9],'max_features':['auto']},\n",
    "            {'max_depth':[3,4,5,6,7,8,9],'max_features' :[\"sqrt\" ]},\n",
    "           {'max_depth':[3,4,5,6,7,8,9],'max_features' :[\"log2\" ]}]"
   ]
  },
  {
   "cell_type": "code",
   "execution_count": 361,
   "id": "ca3897ff",
   "metadata": {},
   "outputs": [],
   "source": [
    "grid=GridSearchCV(estimator=model2,param_grid=paramaters,scoring='r2')"
   ]
  },
  {
   "cell_type": "code",
   "execution_count": 362,
   "id": "bd83edb1",
   "metadata": {},
   "outputs": [
    {
     "data": {
      "text/plain": [
       "GridSearchCV(estimator=RandomForestRegressor(),\n",
       "             param_grid=[{'max_depth': [3, 4, 5, 6, 7, 8, 9],\n",
       "                          'max_features': ['auto']},\n",
       "                         {'max_depth': [3, 4, 5, 6, 7, 8, 9],\n",
       "                          'max_features': ['sqrt']},\n",
       "                         {'max_depth': [3, 4, 5, 6, 7, 8, 9],\n",
       "                          'max_features': ['log2']}],\n",
       "             scoring='r2')"
      ]
     },
     "execution_count": 362,
     "metadata": {},
     "output_type": "execute_result"
    }
   ],
   "source": [
    "grid"
   ]
  },
  {
   "cell_type": "code",
   "execution_count": 363,
   "id": "232b1217",
   "metadata": {},
   "outputs": [],
   "source": [
    "grid=grid.fit(x_train,y_train)"
   ]
  },
  {
   "cell_type": "code",
   "execution_count": 364,
   "id": "85d30163",
   "metadata": {},
   "outputs": [],
   "source": [
    "accuracy=grid.best_score_"
   ]
  },
  {
   "cell_type": "code",
   "execution_count": 365,
   "id": "07a8d1bf",
   "metadata": {},
   "outputs": [
    {
     "data": {
      "text/plain": [
       "0.86"
      ]
     },
     "execution_count": 365,
     "metadata": {},
     "output_type": "execute_result"
    }
   ],
   "source": [
    "score7=round(accuracy,2)\n",
    "score7"
   ]
  },
  {
   "cell_type": "code",
   "execution_count": 366,
   "id": "42b360bb",
   "metadata": {},
   "outputs": [],
   "source": [
    "params=grid.best_params_"
   ]
  },
  {
   "cell_type": "code",
   "execution_count": 367,
   "id": "24e98a7e",
   "metadata": {},
   "outputs": [
    {
     "data": {
      "text/plain": [
       "{'max_depth': 4, 'max_features': 'auto'}"
      ]
     },
     "execution_count": 367,
     "metadata": {},
     "output_type": "execute_result"
    }
   ],
   "source": [
    "params"
   ]
  },
  {
   "cell_type": "markdown",
   "id": "c5be6ce3",
   "metadata": {},
   "source": [
    "# CONCLUSION:- HERE i used grid search cv on random forest so we can see features of random forest is performed well in these parameters"
   ]
  },
  {
   "cell_type": "markdown",
   "id": "d252a7ed",
   "metadata": {},
   "source": [
    "overall we can say the best model is random forest with max depth 5 and max feature auto it is g"
   ]
  },
  {
   "cell_type": "code",
   "execution_count": 368,
   "id": "f1a16735",
   "metadata": {},
   "outputs": [],
   "source": [
    "ax=pd.DataFrame()"
   ]
  },
  {
   "cell_type": "code",
   "execution_count": 369,
   "id": "622d12ee",
   "metadata": {},
   "outputs": [],
   "source": [
    "ax['Model']=['Linear_regression','Linear_regression_smoker','Linear_regression_corr','Decision_tree_regressor','Adaboost_regressor','Random_forest_regressor','Grid_Search_random_forest']"
   ]
  },
  {
   "cell_type": "code",
   "execution_count": 370,
   "id": "5442f690",
   "metadata": {},
   "outputs": [
    {
     "data": {
      "text/html": [
       "<div>\n",
       "<style scoped>\n",
       "    .dataframe tbody tr th:only-of-type {\n",
       "        vertical-align: middle;\n",
       "    }\n",
       "\n",
       "    .dataframe tbody tr th {\n",
       "        vertical-align: top;\n",
       "    }\n",
       "\n",
       "    .dataframe thead th {\n",
       "        text-align: right;\n",
       "    }\n",
       "</style>\n",
       "<table border=\"1\" class=\"dataframe\">\n",
       "  <thead>\n",
       "    <tr style=\"text-align: right;\">\n",
       "      <th></th>\n",
       "      <th>Model</th>\n",
       "    </tr>\n",
       "  </thead>\n",
       "  <tbody>\n",
       "    <tr>\n",
       "      <th>0</th>\n",
       "      <td>Linear_regression</td>\n",
       "    </tr>\n",
       "    <tr>\n",
       "      <th>1</th>\n",
       "      <td>Linear_regression_smoker</td>\n",
       "    </tr>\n",
       "    <tr>\n",
       "      <th>2</th>\n",
       "      <td>Linear_regression_corr</td>\n",
       "    </tr>\n",
       "    <tr>\n",
       "      <th>3</th>\n",
       "      <td>Decision_tree_regressor</td>\n",
       "    </tr>\n",
       "    <tr>\n",
       "      <th>4</th>\n",
       "      <td>Adaboost_regressor</td>\n",
       "    </tr>\n",
       "    <tr>\n",
       "      <th>5</th>\n",
       "      <td>Random_forest_regressor</td>\n",
       "    </tr>\n",
       "    <tr>\n",
       "      <th>6</th>\n",
       "      <td>Grid_Search_random_forest</td>\n",
       "    </tr>\n",
       "  </tbody>\n",
       "</table>\n",
       "</div>"
      ],
      "text/plain": [
       "                       Model\n",
       "0          Linear_regression\n",
       "1   Linear_regression_smoker\n",
       "2     Linear_regression_corr\n",
       "3    Decision_tree_regressor\n",
       "4         Adaboost_regressor\n",
       "5    Random_forest_regressor\n",
       "6  Grid_Search_random_forest"
      ]
     },
     "execution_count": 370,
     "metadata": {},
     "output_type": "execute_result"
    }
   ],
   "source": [
    "ax"
   ]
  },
  {
   "cell_type": "code",
   "execution_count": 371,
   "id": "78a4ab88",
   "metadata": {},
   "outputs": [],
   "source": [
    "ax['SCore']=[score1,score2,score3,score4,score5,score6,score7]"
   ]
  },
  {
   "cell_type": "markdown",
   "id": "081ced20",
   "metadata": {},
   "source": [
    "# ****************SCore of all the models****************"
   ]
  },
  {
   "cell_type": "code",
   "execution_count": 372,
   "id": "3c9807d5",
   "metadata": {},
   "outputs": [
    {
     "data": {
      "text/html": [
       "<div>\n",
       "<style scoped>\n",
       "    .dataframe tbody tr th:only-of-type {\n",
       "        vertical-align: middle;\n",
       "    }\n",
       "\n",
       "    .dataframe tbody tr th {\n",
       "        vertical-align: top;\n",
       "    }\n",
       "\n",
       "    .dataframe thead th {\n",
       "        text-align: right;\n",
       "    }\n",
       "</style>\n",
       "<table border=\"1\" class=\"dataframe\">\n",
       "  <thead>\n",
       "    <tr style=\"text-align: right;\">\n",
       "      <th></th>\n",
       "      <th>Model</th>\n",
       "      <th>SCore</th>\n",
       "    </tr>\n",
       "  </thead>\n",
       "  <tbody>\n",
       "    <tr>\n",
       "      <th>0</th>\n",
       "      <td>Linear_regression</td>\n",
       "      <td>0.72</td>\n",
       "    </tr>\n",
       "    <tr>\n",
       "      <th>1</th>\n",
       "      <td>Linear_regression_smoker</td>\n",
       "      <td>0.62</td>\n",
       "    </tr>\n",
       "    <tr>\n",
       "      <th>2</th>\n",
       "      <td>Linear_regression_corr</td>\n",
       "      <td>0.69</td>\n",
       "    </tr>\n",
       "    <tr>\n",
       "      <th>3</th>\n",
       "      <td>Decision_tree_regressor</td>\n",
       "      <td>0.84</td>\n",
       "    </tr>\n",
       "    <tr>\n",
       "      <th>4</th>\n",
       "      <td>Adaboost_regressor</td>\n",
       "      <td>0.81</td>\n",
       "    </tr>\n",
       "    <tr>\n",
       "      <th>5</th>\n",
       "      <td>Random_forest_regressor</td>\n",
       "      <td>0.83</td>\n",
       "    </tr>\n",
       "    <tr>\n",
       "      <th>6</th>\n",
       "      <td>Grid_Search_random_forest</td>\n",
       "      <td>0.86</td>\n",
       "    </tr>\n",
       "  </tbody>\n",
       "</table>\n",
       "</div>"
      ],
      "text/plain": [
       "                       Model  SCore\n",
       "0          Linear_regression   0.72\n",
       "1   Linear_regression_smoker   0.62\n",
       "2     Linear_regression_corr   0.69\n",
       "3    Decision_tree_regressor   0.84\n",
       "4         Adaboost_regressor   0.81\n",
       "5    Random_forest_regressor   0.83\n",
       "6  Grid_Search_random_forest   0.86"
      ]
     },
     "execution_count": 372,
     "metadata": {},
     "output_type": "execute_result"
    }
   ],
   "source": [
    "ax"
   ]
  },
  {
   "cell_type": "code",
   "execution_count": null,
   "id": "10a5b88c",
   "metadata": {},
   "outputs": [],
   "source": []
  }
 ],
 "metadata": {
  "kernelspec": {
   "display_name": "Python 3 (ipykernel)",
   "language": "python",
   "name": "python3"
  },
  "language_info": {
   "codemirror_mode": {
    "name": "ipython",
    "version": 3
   },
   "file_extension": ".py",
   "mimetype": "text/x-python",
   "name": "python",
   "nbconvert_exporter": "python",
   "pygments_lexer": "ipython3",
   "version": "3.9.12"
  }
 },
 "nbformat": 4,
 "nbformat_minor": 5
}
