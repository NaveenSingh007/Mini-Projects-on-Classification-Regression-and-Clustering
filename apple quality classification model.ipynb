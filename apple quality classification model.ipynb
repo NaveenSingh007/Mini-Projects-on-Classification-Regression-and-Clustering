{
 "cells": [
  {
   "cell_type": "markdown",
   "id": "7e7bd958-0370-4b9f-bfa2-ec92c4b752ae",
   "metadata": {},
   "source": [
    "# PROBLEM STATEMENT:\n",
    "## We have to classify the apple's quality (good or bad) with the help of certain attributes like size, weight, Sweetness, juciness ripness etc which have mentioned below in the table."
   ]
  },
  {
   "cell_type": "markdown",
   "id": "922d65fa-2ecb-4a8d-b5f5-4f062dda1234",
   "metadata": {},
   "source": [
    "### import neccesary files"
   ]
  },
  {
   "cell_type": "code",
   "execution_count": 1,
   "id": "fcec5fbd-5b4f-4784-ba9d-b90ba31f0d93",
   "metadata": {},
   "outputs": [],
   "source": [
    "import pandas as pd\n",
    "import numpy as np\n",
    "import warnings\n",
    "warnings.filterwarnings(\"ignore\")"
   ]
  },
  {
   "cell_type": "markdown",
   "id": "2018c131-9481-48a3-af42-1f26d80d20fd",
   "metadata": {},
   "source": [
    "#### import data"
   ]
  },
  {
   "cell_type": "code",
   "execution_count": 2,
   "id": "c59fc9a5-0543-4761-8f28-4d364e13b045",
   "metadata": {},
   "outputs": [
    {
     "data": {
      "text/html": [
       "<div>\n",
       "<style scoped>\n",
       "    .dataframe tbody tr th:only-of-type {\n",
       "        vertical-align: middle;\n",
       "    }\n",
       "\n",
       "    .dataframe tbody tr th {\n",
       "        vertical-align: top;\n",
       "    }\n",
       "\n",
       "    .dataframe thead th {\n",
       "        text-align: right;\n",
       "    }\n",
       "</style>\n",
       "<table border=\"1\" class=\"dataframe\">\n",
       "  <thead>\n",
       "    <tr style=\"text-align: right;\">\n",
       "      <th></th>\n",
       "      <th>A_id</th>\n",
       "      <th>Size</th>\n",
       "      <th>Weight</th>\n",
       "      <th>Sweetness</th>\n",
       "      <th>Crunchiness</th>\n",
       "      <th>Juiciness</th>\n",
       "      <th>Ripeness</th>\n",
       "      <th>Acidity</th>\n",
       "      <th>Quality</th>\n",
       "    </tr>\n",
       "  </thead>\n",
       "  <tbody>\n",
       "    <tr>\n",
       "      <th>0</th>\n",
       "      <td>0.0</td>\n",
       "      <td>-3.970049</td>\n",
       "      <td>-2.512336</td>\n",
       "      <td>5.346330</td>\n",
       "      <td>-1.012009</td>\n",
       "      <td>1.844900</td>\n",
       "      <td>0.329840</td>\n",
       "      <td>-0.491590483</td>\n",
       "      <td>good</td>\n",
       "    </tr>\n",
       "    <tr>\n",
       "      <th>1</th>\n",
       "      <td>1.0</td>\n",
       "      <td>-1.195217</td>\n",
       "      <td>-2.839257</td>\n",
       "      <td>3.664059</td>\n",
       "      <td>1.588232</td>\n",
       "      <td>0.853286</td>\n",
       "      <td>0.867530</td>\n",
       "      <td>-0.722809367</td>\n",
       "      <td>good</td>\n",
       "    </tr>\n",
       "    <tr>\n",
       "      <th>2</th>\n",
       "      <td>2.0</td>\n",
       "      <td>-0.292024</td>\n",
       "      <td>-1.351282</td>\n",
       "      <td>-1.738429</td>\n",
       "      <td>-0.342616</td>\n",
       "      <td>2.838636</td>\n",
       "      <td>-0.038033</td>\n",
       "      <td>2.621636473</td>\n",
       "      <td>bad</td>\n",
       "    </tr>\n",
       "    <tr>\n",
       "      <th>3</th>\n",
       "      <td>3.0</td>\n",
       "      <td>-0.657196</td>\n",
       "      <td>-2.271627</td>\n",
       "      <td>1.324874</td>\n",
       "      <td>-0.097875</td>\n",
       "      <td>3.637970</td>\n",
       "      <td>-3.413761</td>\n",
       "      <td>0.790723217</td>\n",
       "      <td>good</td>\n",
       "    </tr>\n",
       "    <tr>\n",
       "      <th>4</th>\n",
       "      <td>4.0</td>\n",
       "      <td>1.364217</td>\n",
       "      <td>-1.296612</td>\n",
       "      <td>-0.384658</td>\n",
       "      <td>-0.553006</td>\n",
       "      <td>3.030874</td>\n",
       "      <td>-1.303849</td>\n",
       "      <td>0.501984036</td>\n",
       "      <td>good</td>\n",
       "    </tr>\n",
       "  </tbody>\n",
       "</table>\n",
       "</div>"
      ],
      "text/plain": [
       "   A_id      Size    Weight  Sweetness  Crunchiness  Juiciness  Ripeness  \\\n",
       "0   0.0 -3.970049 -2.512336   5.346330    -1.012009   1.844900  0.329840   \n",
       "1   1.0 -1.195217 -2.839257   3.664059     1.588232   0.853286  0.867530   \n",
       "2   2.0 -0.292024 -1.351282  -1.738429    -0.342616   2.838636 -0.038033   \n",
       "3   3.0 -0.657196 -2.271627   1.324874    -0.097875   3.637970 -3.413761   \n",
       "4   4.0  1.364217 -1.296612  -0.384658    -0.553006   3.030874 -1.303849   \n",
       "\n",
       "        Acidity Quality  \n",
       "0  -0.491590483    good  \n",
       "1  -0.722809367    good  \n",
       "2   2.621636473     bad  \n",
       "3   0.790723217    good  \n",
       "4   0.501984036    good  "
      ]
     },
     "execution_count": 2,
     "metadata": {},
     "output_type": "execute_result"
    }
   ],
   "source": [
    "df=pd.read_csv(r'C:\\Users\\NaveenSingh\\OneDrive - Desiderata Impact Ventures Pvt. Ltd\\Desktop\\apple_quality.csv')\n",
    "df.head()"
   ]
  },
  {
   "cell_type": "markdown",
   "id": "b339940d-928b-4344-ba06-a7f37c8bc65b",
   "metadata": {},
   "source": [
    "### Cleaning and checking data's shape size missing values etc."
   ]
  },
  {
   "cell_type": "code",
   "execution_count": 3,
   "id": "64fcca0f-a036-4612-8ec7-e000043aecac",
   "metadata": {},
   "outputs": [
    {
     "name": "stdout",
     "output_type": "stream",
     "text": [
      "<class 'pandas.core.frame.DataFrame'>\n",
      "RangeIndex: 4001 entries, 0 to 4000\n",
      "Data columns (total 9 columns):\n",
      " #   Column       Non-Null Count  Dtype  \n",
      "---  ------       --------------  -----  \n",
      " 0   A_id         4000 non-null   float64\n",
      " 1   Size         4000 non-null   float64\n",
      " 2   Weight       4000 non-null   float64\n",
      " 3   Sweetness    4000 non-null   float64\n",
      " 4   Crunchiness  4000 non-null   float64\n",
      " 5   Juiciness    4000 non-null   float64\n",
      " 6   Ripeness     4000 non-null   float64\n",
      " 7   Acidity      4001 non-null   object \n",
      " 8   Quality      4000 non-null   object \n",
      "dtypes: float64(7), object(2)\n",
      "memory usage: 281.4+ KB\n"
     ]
    }
   ],
   "source": [
    "df.info()"
   ]
  },
  {
   "cell_type": "code",
   "execution_count": 4,
   "id": "603ab5b4-0f4e-4248-8f6b-c860d6d1ef6c",
   "metadata": {},
   "outputs": [
    {
     "data": {
      "text/plain": [
       "A_id           1\n",
       "Size           1\n",
       "Weight         1\n",
       "Sweetness      1\n",
       "Crunchiness    1\n",
       "Juiciness      1\n",
       "Ripeness       1\n",
       "Acidity        0\n",
       "Quality        1\n",
       "dtype: int64"
      ]
     },
     "execution_count": 4,
     "metadata": {},
     "output_type": "execute_result"
    }
   ],
   "source": [
    "df.isnull().sum()"
   ]
  },
  {
   "cell_type": "code",
   "execution_count": 5,
   "id": "78eed554-c54f-41f9-918c-38b1864c36e4",
   "metadata": {},
   "outputs": [
    {
     "data": {
      "text/plain": [
       "(4001, 9)"
      ]
     },
     "execution_count": 5,
     "metadata": {},
     "output_type": "execute_result"
    }
   ],
   "source": [
    "df.shape"
   ]
  },
  {
   "cell_type": "code",
   "execution_count": 6,
   "id": "3e17ae42-2498-47fc-ab7c-4ecac71a4e5e",
   "metadata": {},
   "outputs": [],
   "source": [
    "df.dropna(inplace=True)"
   ]
  },
  {
   "cell_type": "code",
   "execution_count": 7,
   "id": "164501fe-1e9b-4f79-b7b2-9d190e0ef761",
   "metadata": {},
   "outputs": [
    {
     "data": {
      "text/plain": [
       "A_id           0\n",
       "Size           0\n",
       "Weight         0\n",
       "Sweetness      0\n",
       "Crunchiness    0\n",
       "Juiciness      0\n",
       "Ripeness       0\n",
       "Acidity        0\n",
       "Quality        0\n",
       "dtype: int64"
      ]
     },
     "execution_count": 7,
     "metadata": {},
     "output_type": "execute_result"
    }
   ],
   "source": [
    "df.isnull().sum()"
   ]
  },
  {
   "cell_type": "code",
   "execution_count": 8,
   "id": "56bbf47f-2536-41a1-a5cb-22909c3f9649",
   "metadata": {},
   "outputs": [
    {
     "data": {
      "text/plain": [
       "(4000, 9)"
      ]
     },
     "execution_count": 8,
     "metadata": {},
     "output_type": "execute_result"
    }
   ],
   "source": [
    "df.shape"
   ]
  },
  {
   "cell_type": "code",
   "execution_count": 9,
   "id": "c5c34893-6166-465e-acbc-7dcb18af09ae",
   "metadata": {},
   "outputs": [
    {
     "data": {
      "text/plain": [
       "array([-3.97004852, -1.19521719, -0.29202386, ..., -2.6345153 ,\n",
       "       -4.00800374,  0.27853965])"
      ]
     },
     "execution_count": 9,
     "metadata": {},
     "output_type": "execute_result"
    }
   ],
   "source": [
    "df['Size'].unique()"
   ]
  },
  {
   "cell_type": "code",
   "execution_count": 10,
   "id": "a1f5e006-4fdd-40ba-9788-3939ca2cd697",
   "metadata": {},
   "outputs": [
    {
     "name": "stdout",
     "output_type": "stream",
     "text": [
      "A_id\n",
      "0.0       1\n",
      "2671.0    1\n",
      "2658.0    1\n",
      "2659.0    1\n",
      "2660.0    1\n",
      "         ..\n",
      "1338.0    1\n",
      "1339.0    1\n",
      "1340.0    1\n",
      "1341.0    1\n",
      "3999.0    1\n",
      "Name: count, Length: 4000, dtype: int64\n",
      "----------------------------------------------------------------------------------------------------\n",
      "Size\n",
      "-3.970049    1\n",
      "-3.844134    1\n",
      "-4.411655    1\n",
      "-1.480046    1\n",
      " 0.749942    1\n",
      "            ..\n",
      "-2.385353    1\n",
      " 0.612499    1\n",
      " 0.862280    1\n",
      " 2.181630    1\n",
      " 0.278540    1\n",
      "Name: count, Length: 4000, dtype: int64\n",
      "----------------------------------------------------------------------------------------------------\n",
      "Weight\n",
      "-2.512336    1\n",
      "-2.729138    1\n",
      " 2.702494    1\n",
      "-0.326744    1\n",
      "-2.590200    1\n",
      "            ..\n",
      "-2.367245    1\n",
      "-3.353272    1\n",
      "-1.644647    1\n",
      "-3.755985    1\n",
      "-1.715505    1\n",
      "Name: count, Length: 4000, dtype: int64\n",
      "----------------------------------------------------------------------------------------------------\n",
      "Sweetness\n",
      " 5.346330    1\n",
      "-0.812468    1\n",
      "-0.708549    1\n",
      "-1.453041    1\n",
      "-1.227472    1\n",
      "            ..\n",
      "-1.600530    1\n",
      "-0.636006    1\n",
      " 0.202496    1\n",
      " 0.043771    1\n",
      " 0.121217    1\n",
      "Name: count, Length: 4000, dtype: int64\n",
      "----------------------------------------------------------------------------------------------------\n",
      "Crunchiness\n",
      "-1.012009    1\n",
      " 1.390671    1\n",
      "-2.162584    1\n",
      " 0.898155    1\n",
      " 0.322952    1\n",
      "            ..\n",
      " 1.851129    1\n",
      " 1.037675    1\n",
      " 1.099122    1\n",
      " 0.013852    1\n",
      "-1.154075    1\n",
      "Name: count, Length: 4000, dtype: int64\n",
      "----------------------------------------------------------------------------------------------------\n",
      "Juiciness\n",
      " 1.844900    1\n",
      " 1.839132    1\n",
      "-0.664962    1\n",
      " 1.372992    1\n",
      "-1.046933    1\n",
      "            ..\n",
      " 1.759377    1\n",
      " 1.838079    1\n",
      "-0.818240    1\n",
      " 4.854059    1\n",
      " 1.266677    1\n",
      "Name: count, Length: 4000, dtype: int64\n",
      "----------------------------------------------------------------------------------------------------\n",
      "Ripeness\n",
      " 0.329840    1\n",
      " 5.411911    1\n",
      " 0.751173    1\n",
      " 0.762387    1\n",
      "-0.030211    1\n",
      "            ..\n",
      " 1.508037    1\n",
      "-1.629855    1\n",
      " 3.290145    1\n",
      "-0.718882    1\n",
      "-0.776571    1\n",
      "Name: count, Length: 4000, dtype: int64\n",
      "----------------------------------------------------------------------------------------------------\n",
      "Acidity\n",
      "-0.491590483    1\n",
      "1.006877454     1\n",
      "-0.132407603    1\n",
      "1.223084441     1\n",
      "2.190636353     1\n",
      "               ..\n",
      "-3.873112715    1\n",
      "-0.08899782     1\n",
      "-0.3815496      1\n",
      "4.67363368      1\n",
      "1.599796456     1\n",
      "Name: count, Length: 4000, dtype: int64\n",
      "----------------------------------------------------------------------------------------------------\n",
      "Quality\n",
      "good    2004\n",
      "bad     1996\n",
      "Name: count, dtype: int64\n",
      "----------------------------------------------------------------------------------------------------\n"
     ]
    }
   ],
   "source": [
    "  for i in df.columns:\n",
    "        x= df[i].value_counts()\n",
    "        print(x)\n",
    "        print(\"----------\"*10)"
   ]
  },
  {
   "cell_type": "code",
   "execution_count": 11,
   "id": "4f2a75d3-59de-48ca-978f-5f5c5cffd53e",
   "metadata": {},
   "outputs": [
    {
     "data": {
      "text/plain": [
       "0"
      ]
     },
     "execution_count": 11,
     "metadata": {},
     "output_type": "execute_result"
    }
   ],
   "source": [
    "df.duplicated().sum()"
   ]
  },
  {
   "cell_type": "code",
   "execution_count": 12,
   "id": "aae27a1d-5d82-4a52-a1d6-2652f5eee4b1",
   "metadata": {},
   "outputs": [
    {
     "data": {
      "text/html": [
       "<div>\n",
       "<style scoped>\n",
       "    .dataframe tbody tr th:only-of-type {\n",
       "        vertical-align: middle;\n",
       "    }\n",
       "\n",
       "    .dataframe tbody tr th {\n",
       "        vertical-align: top;\n",
       "    }\n",
       "\n",
       "    .dataframe thead th {\n",
       "        text-align: right;\n",
       "    }\n",
       "</style>\n",
       "<table border=\"1\" class=\"dataframe\">\n",
       "  <thead>\n",
       "    <tr style=\"text-align: right;\">\n",
       "      <th></th>\n",
       "      <th>A_id</th>\n",
       "      <th>Size</th>\n",
       "      <th>Weight</th>\n",
       "      <th>Sweetness</th>\n",
       "      <th>Crunchiness</th>\n",
       "      <th>Juiciness</th>\n",
       "      <th>Ripeness</th>\n",
       "      <th>Acidity</th>\n",
       "      <th>Quality</th>\n",
       "    </tr>\n",
       "  </thead>\n",
       "  <tbody>\n",
       "    <tr>\n",
       "      <th>0</th>\n",
       "      <td>0.0</td>\n",
       "      <td>-3.970049</td>\n",
       "      <td>-2.512336</td>\n",
       "      <td>5.346330</td>\n",
       "      <td>-1.012009</td>\n",
       "      <td>1.844900</td>\n",
       "      <td>0.32984</td>\n",
       "      <td>-0.491590483</td>\n",
       "      <td>good</td>\n",
       "    </tr>\n",
       "    <tr>\n",
       "      <th>1</th>\n",
       "      <td>1.0</td>\n",
       "      <td>-1.195217</td>\n",
       "      <td>-2.839257</td>\n",
       "      <td>3.664059</td>\n",
       "      <td>1.588232</td>\n",
       "      <td>0.853286</td>\n",
       "      <td>0.86753</td>\n",
       "      <td>-0.722809367</td>\n",
       "      <td>good</td>\n",
       "    </tr>\n",
       "  </tbody>\n",
       "</table>\n",
       "</div>"
      ],
      "text/plain": [
       "   A_id      Size    Weight  Sweetness  Crunchiness  Juiciness  Ripeness  \\\n",
       "0   0.0 -3.970049 -2.512336   5.346330    -1.012009   1.844900   0.32984   \n",
       "1   1.0 -1.195217 -2.839257   3.664059     1.588232   0.853286   0.86753   \n",
       "\n",
       "        Acidity Quality  \n",
       "0  -0.491590483    good  \n",
       "1  -0.722809367    good  "
      ]
     },
     "execution_count": 12,
     "metadata": {},
     "output_type": "execute_result"
    }
   ],
   "source": [
    "df.head(2)"
   ]
  },
  {
   "cell_type": "markdown",
   "id": "bf89f7d3-05a6-47ff-abae-90ac72869b44",
   "metadata": {},
   "source": [
    "### seperating independent and dependent data"
   ]
  },
  {
   "cell_type": "code",
   "execution_count": 13,
   "id": "3ebe31fe-06c8-47e3-b1c6-b93702f7ec3c",
   "metadata": {},
   "outputs": [
    {
     "data": {
      "text/html": [
       "<div>\n",
       "<style scoped>\n",
       "    .dataframe tbody tr th:only-of-type {\n",
       "        vertical-align: middle;\n",
       "    }\n",
       "\n",
       "    .dataframe tbody tr th {\n",
       "        vertical-align: top;\n",
       "    }\n",
       "\n",
       "    .dataframe thead th {\n",
       "        text-align: right;\n",
       "    }\n",
       "</style>\n",
       "<table border=\"1\" class=\"dataframe\">\n",
       "  <thead>\n",
       "    <tr style=\"text-align: right;\">\n",
       "      <th></th>\n",
       "      <th>A_id</th>\n",
       "      <th>Size</th>\n",
       "      <th>Weight</th>\n",
       "      <th>Sweetness</th>\n",
       "      <th>Crunchiness</th>\n",
       "      <th>Juiciness</th>\n",
       "      <th>Ripeness</th>\n",
       "      <th>Acidity</th>\n",
       "    </tr>\n",
       "  </thead>\n",
       "  <tbody>\n",
       "    <tr>\n",
       "      <th>0</th>\n",
       "      <td>0.0</td>\n",
       "      <td>-3.970049</td>\n",
       "      <td>-2.512336</td>\n",
       "      <td>5.346330</td>\n",
       "      <td>-1.012009</td>\n",
       "      <td>1.844900</td>\n",
       "      <td>0.329840</td>\n",
       "      <td>-0.491590483</td>\n",
       "    </tr>\n",
       "    <tr>\n",
       "      <th>1</th>\n",
       "      <td>1.0</td>\n",
       "      <td>-1.195217</td>\n",
       "      <td>-2.839257</td>\n",
       "      <td>3.664059</td>\n",
       "      <td>1.588232</td>\n",
       "      <td>0.853286</td>\n",
       "      <td>0.867530</td>\n",
       "      <td>-0.722809367</td>\n",
       "    </tr>\n",
       "    <tr>\n",
       "      <th>2</th>\n",
       "      <td>2.0</td>\n",
       "      <td>-0.292024</td>\n",
       "      <td>-1.351282</td>\n",
       "      <td>-1.738429</td>\n",
       "      <td>-0.342616</td>\n",
       "      <td>2.838636</td>\n",
       "      <td>-0.038033</td>\n",
       "      <td>2.621636473</td>\n",
       "    </tr>\n",
       "    <tr>\n",
       "      <th>3</th>\n",
       "      <td>3.0</td>\n",
       "      <td>-0.657196</td>\n",
       "      <td>-2.271627</td>\n",
       "      <td>1.324874</td>\n",
       "      <td>-0.097875</td>\n",
       "      <td>3.637970</td>\n",
       "      <td>-3.413761</td>\n",
       "      <td>0.790723217</td>\n",
       "    </tr>\n",
       "    <tr>\n",
       "      <th>4</th>\n",
       "      <td>4.0</td>\n",
       "      <td>1.364217</td>\n",
       "      <td>-1.296612</td>\n",
       "      <td>-0.384658</td>\n",
       "      <td>-0.553006</td>\n",
       "      <td>3.030874</td>\n",
       "      <td>-1.303849</td>\n",
       "      <td>0.501984036</td>\n",
       "    </tr>\n",
       "  </tbody>\n",
       "</table>\n",
       "</div>"
      ],
      "text/plain": [
       "   A_id      Size    Weight  Sweetness  Crunchiness  Juiciness  Ripeness  \\\n",
       "0   0.0 -3.970049 -2.512336   5.346330    -1.012009   1.844900  0.329840   \n",
       "1   1.0 -1.195217 -2.839257   3.664059     1.588232   0.853286  0.867530   \n",
       "2   2.0 -0.292024 -1.351282  -1.738429    -0.342616   2.838636 -0.038033   \n",
       "3   3.0 -0.657196 -2.271627   1.324874    -0.097875   3.637970 -3.413761   \n",
       "4   4.0  1.364217 -1.296612  -0.384658    -0.553006   3.030874 -1.303849   \n",
       "\n",
       "        Acidity  \n",
       "0  -0.491590483  \n",
       "1  -0.722809367  \n",
       "2   2.621636473  \n",
       "3   0.790723217  \n",
       "4   0.501984036  "
      ]
     },
     "execution_count": 13,
     "metadata": {},
     "output_type": "execute_result"
    }
   ],
   "source": [
    "x=df.drop(columns='Quality')\n",
    "x.head()"
   ]
  },
  {
   "cell_type": "code",
   "execution_count": 14,
   "id": "170e74b8-85b6-4cd2-8cef-503669f4e1cf",
   "metadata": {},
   "outputs": [
    {
     "data": {
      "text/html": [
       "<div>\n",
       "<style scoped>\n",
       "    .dataframe tbody tr th:only-of-type {\n",
       "        vertical-align: middle;\n",
       "    }\n",
       "\n",
       "    .dataframe tbody tr th {\n",
       "        vertical-align: top;\n",
       "    }\n",
       "\n",
       "    .dataframe thead th {\n",
       "        text-align: right;\n",
       "    }\n",
       "</style>\n",
       "<table border=\"1\" class=\"dataframe\">\n",
       "  <thead>\n",
       "    <tr style=\"text-align: right;\">\n",
       "      <th></th>\n",
       "      <th>Quality</th>\n",
       "    </tr>\n",
       "  </thead>\n",
       "  <tbody>\n",
       "    <tr>\n",
       "      <th>0</th>\n",
       "      <td>good</td>\n",
       "    </tr>\n",
       "    <tr>\n",
       "      <th>1</th>\n",
       "      <td>good</td>\n",
       "    </tr>\n",
       "  </tbody>\n",
       "</table>\n",
       "</div>"
      ],
      "text/plain": [
       "  Quality\n",
       "0    good\n",
       "1    good"
      ]
     },
     "execution_count": 14,
     "metadata": {},
     "output_type": "execute_result"
    }
   ],
   "source": [
    "y=df[['Quality']]\n",
    "y.head(2)"
   ]
  },
  {
   "cell_type": "markdown",
   "id": "7e017ad9-3808-4f31-a4f2-f9ef86858176",
   "metadata": {},
   "source": [
    "## creating machine learning model or algorithms below"
   ]
  },
  {
   "cell_type": "code",
   "execution_count": 15,
   "id": "ed01ae91-7e7e-4f62-902f-11c2a1fe4de0",
   "metadata": {},
   "outputs": [],
   "source": [
    "# Import train test split \n",
    "from sklearn.model_selection import train_test_split"
   ]
  },
  {
   "cell_type": "code",
   "execution_count": 16,
   "id": "cdc4eea4-d82e-4e66-8aea-71a9f1d18f85",
   "metadata": {},
   "outputs": [],
   "source": [
    "# seperate the data in train and test\n",
    "x_train,x_test,y_train,y_test=train_test_split(x,y,test_size= 0.2,random_state=20)"
   ]
  },
  {
   "cell_type": "markdown",
   "id": "ada95562-46fa-47e4-be98-993d3351aaf5",
   "metadata": {},
   "source": [
    "### Algorithms for classification models are below"
   ]
  },
  {
   "cell_type": "code",
   "execution_count": 17,
   "id": "60adc863-2431-4ff3-b860-da17c53f70b0",
   "metadata": {},
   "outputs": [],
   "source": [
    "from sklearn.linear_model import LogisticRegression\n",
    "lr=LogisticRegression()"
   ]
  },
  {
   "cell_type": "code",
   "execution_count": 18,
   "id": "ce7cef05-d587-43d3-b0a2-28249c996670",
   "metadata": {},
   "outputs": [
    {
     "data": {
      "text/html": [
       "<style>#sk-container-id-1 {color: black;background-color: white;}#sk-container-id-1 pre{padding: 0;}#sk-container-id-1 div.sk-toggleable {background-color: white;}#sk-container-id-1 label.sk-toggleable__label {cursor: pointer;display: block;width: 100%;margin-bottom: 0;padding: 0.3em;box-sizing: border-box;text-align: center;}#sk-container-id-1 label.sk-toggleable__label-arrow:before {content: \"▸\";float: left;margin-right: 0.25em;color: #696969;}#sk-container-id-1 label.sk-toggleable__label-arrow:hover:before {color: black;}#sk-container-id-1 div.sk-estimator:hover label.sk-toggleable__label-arrow:before {color: black;}#sk-container-id-1 div.sk-toggleable__content {max-height: 0;max-width: 0;overflow: hidden;text-align: left;background-color: #f0f8ff;}#sk-container-id-1 div.sk-toggleable__content pre {margin: 0.2em;color: black;border-radius: 0.25em;background-color: #f0f8ff;}#sk-container-id-1 input.sk-toggleable__control:checked~div.sk-toggleable__content {max-height: 200px;max-width: 100%;overflow: auto;}#sk-container-id-1 input.sk-toggleable__control:checked~label.sk-toggleable__label-arrow:before {content: \"▾\";}#sk-container-id-1 div.sk-estimator input.sk-toggleable__control:checked~label.sk-toggleable__label {background-color: #d4ebff;}#sk-container-id-1 div.sk-label input.sk-toggleable__control:checked~label.sk-toggleable__label {background-color: #d4ebff;}#sk-container-id-1 input.sk-hidden--visually {border: 0;clip: rect(1px 1px 1px 1px);clip: rect(1px, 1px, 1px, 1px);height: 1px;margin: -1px;overflow: hidden;padding: 0;position: absolute;width: 1px;}#sk-container-id-1 div.sk-estimator {font-family: monospace;background-color: #f0f8ff;border: 1px dotted black;border-radius: 0.25em;box-sizing: border-box;margin-bottom: 0.5em;}#sk-container-id-1 div.sk-estimator:hover {background-color: #d4ebff;}#sk-container-id-1 div.sk-parallel-item::after {content: \"\";width: 100%;border-bottom: 1px solid gray;flex-grow: 1;}#sk-container-id-1 div.sk-label:hover label.sk-toggleable__label {background-color: #d4ebff;}#sk-container-id-1 div.sk-serial::before {content: \"\";position: absolute;border-left: 1px solid gray;box-sizing: border-box;top: 0;bottom: 0;left: 50%;z-index: 0;}#sk-container-id-1 div.sk-serial {display: flex;flex-direction: column;align-items: center;background-color: white;padding-right: 0.2em;padding-left: 0.2em;position: relative;}#sk-container-id-1 div.sk-item {position: relative;z-index: 1;}#sk-container-id-1 div.sk-parallel {display: flex;align-items: stretch;justify-content: center;background-color: white;position: relative;}#sk-container-id-1 div.sk-item::before, #sk-container-id-1 div.sk-parallel-item::before {content: \"\";position: absolute;border-left: 1px solid gray;box-sizing: border-box;top: 0;bottom: 0;left: 50%;z-index: -1;}#sk-container-id-1 div.sk-parallel-item {display: flex;flex-direction: column;z-index: 1;position: relative;background-color: white;}#sk-container-id-1 div.sk-parallel-item:first-child::after {align-self: flex-end;width: 50%;}#sk-container-id-1 div.sk-parallel-item:last-child::after {align-self: flex-start;width: 50%;}#sk-container-id-1 div.sk-parallel-item:only-child::after {width: 0;}#sk-container-id-1 div.sk-dashed-wrapped {border: 1px dashed gray;margin: 0 0.4em 0.5em 0.4em;box-sizing: border-box;padding-bottom: 0.4em;background-color: white;}#sk-container-id-1 div.sk-label label {font-family: monospace;font-weight: bold;display: inline-block;line-height: 1.2em;}#sk-container-id-1 div.sk-label-container {text-align: center;}#sk-container-id-1 div.sk-container {/* jupyter's `normalize.less` sets `[hidden] { display: none; }` but bootstrap.min.css set `[hidden] { display: none !important; }` so we also need the `!important` here to be able to override the default hidden behavior on the sphinx rendered scikit-learn.org. See: https://github.com/scikit-learn/scikit-learn/issues/21755 */display: inline-block !important;position: relative;}#sk-container-id-1 div.sk-text-repr-fallback {display: none;}</style><div id=\"sk-container-id-1\" class=\"sk-top-container\"><div class=\"sk-text-repr-fallback\"><pre>LogisticRegression()</pre><b>In a Jupyter environment, please rerun this cell to show the HTML representation or trust the notebook. <br />On GitHub, the HTML representation is unable to render, please try loading this page with nbviewer.org.</b></div><div class=\"sk-container\" hidden><div class=\"sk-item\"><div class=\"sk-estimator sk-toggleable\"><input class=\"sk-toggleable__control sk-hidden--visually\" id=\"sk-estimator-id-1\" type=\"checkbox\" checked><label for=\"sk-estimator-id-1\" class=\"sk-toggleable__label sk-toggleable__label-arrow\">LogisticRegression</label><div class=\"sk-toggleable__content\"><pre>LogisticRegression()</pre></div></div></div></div></div>"
      ],
      "text/plain": [
       "LogisticRegression()"
      ]
     },
     "execution_count": 18,
     "metadata": {},
     "output_type": "execute_result"
    }
   ],
   "source": [
    "lr.fit(x_train,y_train)"
   ]
  },
  {
   "cell_type": "code",
   "execution_count": 19,
   "id": "872f0ddc-a953-4687-bd24-6845c071efa9",
   "metadata": {},
   "outputs": [],
   "source": [
    "ypred=lr.predict(x_test)"
   ]
  },
  {
   "cell_type": "code",
   "execution_count": 20,
   "id": "b2ecf992-a4a9-4dcb-b0ab-400129aad19a",
   "metadata": {
    "scrolled": true
   },
   "outputs": [
    {
     "data": {
      "text/plain": [
       "array(['bad', 'good', 'bad', 'good', 'bad', 'bad', 'good', 'good', 'good',\n",
       "       'bad', 'bad', 'good', 'bad', 'good', 'good', 'good', 'bad', 'bad',\n",
       "       'bad', 'bad', 'good', 'bad', 'good', 'bad', 'good', 'good', 'bad',\n",
       "       'bad', 'bad', 'bad', 'bad', 'bad', 'good', 'good', 'bad', 'bad',\n",
       "       'good', 'bad', 'good', 'good', 'bad', 'bad', 'bad', 'bad', 'good',\n",
       "       'good', 'bad', 'bad', 'good', 'bad', 'good', 'bad', 'good', 'good',\n",
       "       'bad', 'bad', 'good', 'good', 'good', 'good', 'good', 'bad',\n",
       "       'good', 'good', 'good', 'good', 'bad', 'bad', 'bad', 'bad', 'bad',\n",
       "       'good', 'good', 'bad', 'good', 'good', 'good', 'bad', 'bad',\n",
       "       'good', 'good', 'good', 'bad', 'good', 'bad', 'good', 'bad',\n",
       "       'good', 'good', 'bad', 'good', 'good', 'bad', 'good', 'bad', 'bad',\n",
       "       'good', 'bad', 'good', 'bad', 'bad', 'bad', 'bad', 'good', 'bad',\n",
       "       'bad', 'good', 'good', 'bad', 'bad', 'bad', 'bad', 'bad', 'bad',\n",
       "       'bad', 'good', 'bad', 'bad', 'good', 'good', 'bad', 'good', 'bad',\n",
       "       'bad', 'bad', 'good', 'bad', 'good', 'bad', 'good', 'bad', 'good',\n",
       "       'bad', 'bad', 'bad', 'bad', 'bad', 'bad', 'bad', 'good', 'bad',\n",
       "       'good', 'bad', 'good', 'bad', 'bad', 'bad', 'bad', 'good', 'bad',\n",
       "       'bad', 'good', 'bad', 'bad', 'good', 'good', 'bad', 'good', 'bad',\n",
       "       'good', 'good', 'bad', 'bad', 'good', 'bad', 'bad', 'bad', 'bad',\n",
       "       'good', 'bad', 'bad', 'bad', 'bad', 'good', 'bad', 'bad', 'good',\n",
       "       'good', 'bad', 'bad', 'good', 'bad', 'good', 'bad', 'good', 'bad',\n",
       "       'bad', 'bad', 'bad', 'good', 'good', 'good', 'bad', 'bad', 'good',\n",
       "       'bad', 'bad', 'good', 'bad', 'good', 'bad', 'good', 'bad', 'good',\n",
       "       'good', 'bad', 'good', 'good', 'bad', 'bad', 'good', 'bad', 'good',\n",
       "       'bad', 'good', 'good', 'bad', 'good', 'good', 'good', 'bad', 'bad',\n",
       "       'good', 'good', 'good', 'bad', 'bad', 'good', 'good', 'good',\n",
       "       'good', 'bad', 'bad', 'good', 'bad', 'bad', 'good', 'bad', 'bad',\n",
       "       'good', 'good', 'good', 'good', 'bad', 'bad', 'good', 'good',\n",
       "       'good', 'bad', 'bad', 'good', 'bad', 'bad', 'good', 'bad', 'bad',\n",
       "       'good', 'bad', 'bad', 'bad', 'good', 'bad', 'good', 'good', 'bad',\n",
       "       'good', 'good', 'bad', 'good', 'good', 'good', 'good', 'good',\n",
       "       'bad', 'good', 'good', 'bad', 'good', 'good', 'good', 'good',\n",
       "       'good', 'good', 'bad', 'good', 'bad', 'bad', 'bad', 'bad', 'bad',\n",
       "       'bad', 'bad', 'bad', 'good', 'bad', 'bad', 'bad', 'bad', 'bad',\n",
       "       'bad', 'good', 'bad', 'good', 'good', 'good', 'good', 'bad', 'bad',\n",
       "       'good', 'bad', 'good', 'bad', 'bad', 'good', 'good', 'bad', 'bad',\n",
       "       'good', 'good', 'bad', 'good', 'bad', 'good', 'bad', 'good', 'bad',\n",
       "       'good', 'good', 'bad', 'bad', 'good', 'good', 'bad', 'good', 'bad',\n",
       "       'good', 'bad', 'good', 'good', 'bad', 'good', 'bad', 'bad', 'good',\n",
       "       'bad', 'good', 'good', 'good', 'bad', 'bad', 'bad', 'good', 'bad',\n",
       "       'bad', 'good', 'good', 'bad', 'bad', 'good', 'good', 'good', 'bad',\n",
       "       'good', 'bad', 'bad', 'good', 'good', 'good', 'good', 'bad', 'bad',\n",
       "       'good', 'bad', 'bad', 'bad', 'good', 'bad', 'bad', 'good', 'bad',\n",
       "       'good', 'bad', 'bad', 'bad', 'bad', 'good', 'good', 'good', 'good',\n",
       "       'bad', 'bad', 'bad', 'bad', 'bad', 'good', 'bad', 'bad', 'good',\n",
       "       'good', 'good', 'bad', 'bad', 'good', 'bad', 'good', 'good',\n",
       "       'good', 'bad', 'good', 'good', 'good', 'bad', 'bad', 'bad', 'bad',\n",
       "       'bad', 'bad', 'bad', 'bad', 'bad', 'bad', 'bad', 'bad', 'good',\n",
       "       'bad', 'good', 'good', 'good', 'good', 'bad', 'bad', 'good', 'bad',\n",
       "       'good', 'good', 'good', 'bad', 'good', 'good', 'bad', 'bad',\n",
       "       'good', 'good', 'good', 'good', 'good', 'bad', 'bad', 'good',\n",
       "       'bad', 'good', 'good', 'bad', 'good', 'bad', 'bad', 'good', 'good',\n",
       "       'good', 'good', 'good', 'bad', 'bad', 'good', 'bad', 'good', 'bad',\n",
       "       'good', 'good', 'bad', 'bad', 'good', 'good', 'good', 'bad',\n",
       "       'good', 'good', 'bad', 'bad', 'good', 'bad', 'bad', 'bad', 'good',\n",
       "       'good', 'bad', 'good', 'good', 'bad', 'bad', 'good', 'good',\n",
       "       'good', 'good', 'good', 'bad', 'good', 'good', 'bad', 'bad', 'bad',\n",
       "       'good', 'bad', 'bad', 'good', 'good', 'bad', 'good', 'bad', 'bad',\n",
       "       'bad', 'good', 'bad', 'good', 'good', 'bad', 'good', 'good', 'bad',\n",
       "       'bad', 'bad', 'good', 'bad', 'good', 'bad', 'bad', 'good', 'good',\n",
       "       'good', 'bad', 'bad', 'bad', 'good', 'bad', 'good', 'bad', 'good',\n",
       "       'good', 'good', 'good', 'good', 'good', 'bad', 'good', 'good',\n",
       "       'bad', 'bad', 'good', 'good', 'bad', 'bad', 'good', 'good', 'good',\n",
       "       'good', 'bad', 'good', 'good', 'bad', 'good', 'good', 'good',\n",
       "       'good', 'bad', 'good', 'good', 'bad', 'good', 'bad', 'good', 'bad',\n",
       "       'bad', 'bad', 'bad', 'bad', 'good', 'good', 'bad', 'bad', 'bad',\n",
       "       'good', 'good', 'good', 'good', 'good', 'good', 'bad', 'good',\n",
       "       'good', 'bad', 'bad', 'bad', 'good', 'bad', 'bad', 'good', 'good',\n",
       "       'good', 'good', 'bad', 'good', 'good', 'bad', 'good', 'bad',\n",
       "       'good', 'bad', 'good', 'bad', 'bad', 'good', 'bad', 'good', 'good',\n",
       "       'bad', 'bad', 'bad', 'good', 'bad', 'good', 'good', 'bad', 'good',\n",
       "       'good', 'bad', 'good', 'good', 'good', 'good', 'bad', 'good',\n",
       "       'bad', 'good', 'bad', 'bad', 'bad', 'bad', 'good', 'good', 'bad',\n",
       "       'good', 'bad', 'bad', 'good', 'bad', 'good', 'good', 'good', 'bad',\n",
       "       'good', 'good', 'bad', 'bad', 'bad', 'good', 'bad', 'bad', 'bad',\n",
       "       'good', 'good', 'good', 'bad', 'bad', 'bad', 'good', 'bad', 'good',\n",
       "       'good', 'bad', 'good', 'good', 'good', 'good', 'good', 'bad',\n",
       "       'good', 'bad', 'good', 'bad', 'bad', 'bad', 'good', 'bad', 'bad',\n",
       "       'bad', 'bad', 'bad', 'good', 'good', 'good', 'good', 'good', 'bad',\n",
       "       'good', 'bad', 'bad', 'good', 'bad', 'good', 'bad', 'bad', 'bad',\n",
       "       'good', 'bad', 'good', 'good', 'good', 'good', 'bad', 'bad',\n",
       "       'good', 'good', 'bad', 'bad', 'bad', 'bad', 'good', 'good', 'bad',\n",
       "       'bad', 'good', 'bad', 'bad', 'good', 'bad', 'good', 'bad', 'bad',\n",
       "       'bad', 'good', 'bad', 'bad', 'good', 'good', 'good', 'good',\n",
       "       'good', 'bad', 'good', 'bad', 'good', 'good', 'good', 'bad',\n",
       "       'good', 'bad', 'bad', 'bad', 'good', 'good', 'good', 'good',\n",
       "       'good', 'bad', 'good', 'bad', 'good', 'good', 'bad', 'good',\n",
       "       'good', 'bad', 'good', 'bad', 'bad', 'bad', 'bad', 'bad', 'good',\n",
       "       'bad', 'good', 'bad', 'bad', 'bad', 'good', 'bad', 'good', 'bad',\n",
       "       'good', 'bad', 'bad', 'good', 'good', 'good', 'bad', 'good',\n",
       "       'good', 'bad', 'good', 'bad', 'good', 'bad', 'good', 'bad', 'bad',\n",
       "       'bad', 'bad', 'bad', 'good', 'bad'], dtype=object)"
      ]
     },
     "execution_count": 20,
     "metadata": {},
     "output_type": "execute_result"
    }
   ],
   "source": [
    "ypred"
   ]
  },
  {
   "cell_type": "code",
   "execution_count": 21,
   "id": "f42727ab-2680-4462-a193-971c7069db85",
   "metadata": {},
   "outputs": [],
   "source": [
    "from sklearn.metrics import accuracy_score"
   ]
  },
  {
   "cell_type": "code",
   "execution_count": 22,
   "id": "9b73d7ed-83ac-4546-bb56-b034db1e6669",
   "metadata": {},
   "outputs": [],
   "source": [
    "score1=accuracy_score(y_test,ypred)*100\n"
   ]
  },
  {
   "cell_type": "code",
   "execution_count": 23,
   "id": "d3bc26d4-be2c-48f9-893d-4af9f458dfae",
   "metadata": {},
   "outputs": [
    {
     "data": {
      "text/plain": [
       "72.5"
      ]
     },
     "execution_count": 23,
     "metadata": {},
     "output_type": "execute_result"
    }
   ],
   "source": [
    "score1"
   ]
  },
  {
   "cell_type": "markdown",
   "id": "e599bd92-6029-44cc-8554-6a2eaf672fc5",
   "metadata": {},
   "source": [
    "## Decision Tree Classifier"
   ]
  },
  {
   "cell_type": "code",
   "execution_count": 24,
   "id": "6a30da2e-7c6b-442d-bb89-5937355d0cc0",
   "metadata": {},
   "outputs": [],
   "source": [
    "from sklearn.tree import DecisionTreeClassifier"
   ]
  },
  {
   "cell_type": "code",
   "execution_count": 25,
   "id": "54d73347-f245-4174-aa64-197fce1819c8",
   "metadata": {},
   "outputs": [],
   "source": [
    "dc=DecisionTreeClassifier()"
   ]
  },
  {
   "cell_type": "code",
   "execution_count": 26,
   "id": "f3327569-ed42-48ef-8a95-39f43d959644",
   "metadata": {},
   "outputs": [
    {
     "data": {
      "text/html": [
       "<style>#sk-container-id-2 {color: black;background-color: white;}#sk-container-id-2 pre{padding: 0;}#sk-container-id-2 div.sk-toggleable {background-color: white;}#sk-container-id-2 label.sk-toggleable__label {cursor: pointer;display: block;width: 100%;margin-bottom: 0;padding: 0.3em;box-sizing: border-box;text-align: center;}#sk-container-id-2 label.sk-toggleable__label-arrow:before {content: \"▸\";float: left;margin-right: 0.25em;color: #696969;}#sk-container-id-2 label.sk-toggleable__label-arrow:hover:before {color: black;}#sk-container-id-2 div.sk-estimator:hover label.sk-toggleable__label-arrow:before {color: black;}#sk-container-id-2 div.sk-toggleable__content {max-height: 0;max-width: 0;overflow: hidden;text-align: left;background-color: #f0f8ff;}#sk-container-id-2 div.sk-toggleable__content pre {margin: 0.2em;color: black;border-radius: 0.25em;background-color: #f0f8ff;}#sk-container-id-2 input.sk-toggleable__control:checked~div.sk-toggleable__content {max-height: 200px;max-width: 100%;overflow: auto;}#sk-container-id-2 input.sk-toggleable__control:checked~label.sk-toggleable__label-arrow:before {content: \"▾\";}#sk-container-id-2 div.sk-estimator input.sk-toggleable__control:checked~label.sk-toggleable__label {background-color: #d4ebff;}#sk-container-id-2 div.sk-label input.sk-toggleable__control:checked~label.sk-toggleable__label {background-color: #d4ebff;}#sk-container-id-2 input.sk-hidden--visually {border: 0;clip: rect(1px 1px 1px 1px);clip: rect(1px, 1px, 1px, 1px);height: 1px;margin: -1px;overflow: hidden;padding: 0;position: absolute;width: 1px;}#sk-container-id-2 div.sk-estimator {font-family: monospace;background-color: #f0f8ff;border: 1px dotted black;border-radius: 0.25em;box-sizing: border-box;margin-bottom: 0.5em;}#sk-container-id-2 div.sk-estimator:hover {background-color: #d4ebff;}#sk-container-id-2 div.sk-parallel-item::after {content: \"\";width: 100%;border-bottom: 1px solid gray;flex-grow: 1;}#sk-container-id-2 div.sk-label:hover label.sk-toggleable__label {background-color: #d4ebff;}#sk-container-id-2 div.sk-serial::before {content: \"\";position: absolute;border-left: 1px solid gray;box-sizing: border-box;top: 0;bottom: 0;left: 50%;z-index: 0;}#sk-container-id-2 div.sk-serial {display: flex;flex-direction: column;align-items: center;background-color: white;padding-right: 0.2em;padding-left: 0.2em;position: relative;}#sk-container-id-2 div.sk-item {position: relative;z-index: 1;}#sk-container-id-2 div.sk-parallel {display: flex;align-items: stretch;justify-content: center;background-color: white;position: relative;}#sk-container-id-2 div.sk-item::before, #sk-container-id-2 div.sk-parallel-item::before {content: \"\";position: absolute;border-left: 1px solid gray;box-sizing: border-box;top: 0;bottom: 0;left: 50%;z-index: -1;}#sk-container-id-2 div.sk-parallel-item {display: flex;flex-direction: column;z-index: 1;position: relative;background-color: white;}#sk-container-id-2 div.sk-parallel-item:first-child::after {align-self: flex-end;width: 50%;}#sk-container-id-2 div.sk-parallel-item:last-child::after {align-self: flex-start;width: 50%;}#sk-container-id-2 div.sk-parallel-item:only-child::after {width: 0;}#sk-container-id-2 div.sk-dashed-wrapped {border: 1px dashed gray;margin: 0 0.4em 0.5em 0.4em;box-sizing: border-box;padding-bottom: 0.4em;background-color: white;}#sk-container-id-2 div.sk-label label {font-family: monospace;font-weight: bold;display: inline-block;line-height: 1.2em;}#sk-container-id-2 div.sk-label-container {text-align: center;}#sk-container-id-2 div.sk-container {/* jupyter's `normalize.less` sets `[hidden] { display: none; }` but bootstrap.min.css set `[hidden] { display: none !important; }` so we also need the `!important` here to be able to override the default hidden behavior on the sphinx rendered scikit-learn.org. See: https://github.com/scikit-learn/scikit-learn/issues/21755 */display: inline-block !important;position: relative;}#sk-container-id-2 div.sk-text-repr-fallback {display: none;}</style><div id=\"sk-container-id-2\" class=\"sk-top-container\"><div class=\"sk-text-repr-fallback\"><pre>DecisionTreeClassifier()</pre><b>In a Jupyter environment, please rerun this cell to show the HTML representation or trust the notebook. <br />On GitHub, the HTML representation is unable to render, please try loading this page with nbviewer.org.</b></div><div class=\"sk-container\" hidden><div class=\"sk-item\"><div class=\"sk-estimator sk-toggleable\"><input class=\"sk-toggleable__control sk-hidden--visually\" id=\"sk-estimator-id-2\" type=\"checkbox\" checked><label for=\"sk-estimator-id-2\" class=\"sk-toggleable__label sk-toggleable__label-arrow\">DecisionTreeClassifier</label><div class=\"sk-toggleable__content\"><pre>DecisionTreeClassifier()</pre></div></div></div></div></div>"
      ],
      "text/plain": [
       "DecisionTreeClassifier()"
      ]
     },
     "execution_count": 26,
     "metadata": {},
     "output_type": "execute_result"
    }
   ],
   "source": [
    "dc.fit(x_train,y_train)"
   ]
  },
  {
   "cell_type": "code",
   "execution_count": 27,
   "id": "1aeb0c70-5973-46f3-86fa-49863e9f3d6b",
   "metadata": {},
   "outputs": [],
   "source": [
    "ypred2=dc.predict(x_test)"
   ]
  },
  {
   "cell_type": "code",
   "execution_count": 28,
   "id": "dca2970e-98a7-4a9d-9ddf-2b34abac6f49",
   "metadata": {
    "scrolled": true
   },
   "outputs": [
    {
     "data": {
      "text/plain": [
       "array(['good', 'bad', 'bad', 'good', 'bad', 'bad', 'good', 'good', 'good',\n",
       "       'bad', 'good', 'bad', 'bad', 'good', 'good', 'bad', 'bad', 'bad',\n",
       "       'bad', 'bad', 'good', 'good', 'good', 'bad', 'good', 'good', 'bad',\n",
       "       'bad', 'bad', 'bad', 'bad', 'bad', 'good', 'good', 'bad', 'bad',\n",
       "       'bad', 'good', 'bad', 'good', 'bad', 'bad', 'good', 'bad', 'good',\n",
       "       'bad', 'bad', 'bad', 'good', 'bad', 'good', 'bad', 'good', 'good',\n",
       "       'good', 'bad', 'bad', 'good', 'good', 'bad', 'good', 'bad', 'good',\n",
       "       'good', 'good', 'good', 'good', 'bad', 'bad', 'bad', 'bad', 'good',\n",
       "       'bad', 'bad', 'good', 'good', 'good', 'good', 'bad', 'bad', 'bad',\n",
       "       'bad', 'bad', 'good', 'good', 'good', 'bad', 'bad', 'good', 'bad',\n",
       "       'good', 'good', 'good', 'good', 'good', 'bad', 'good', 'bad',\n",
       "       'good', 'bad', 'bad', 'bad', 'good', 'good', 'bad', 'bad', 'good',\n",
       "       'bad', 'good', 'bad', 'good', 'good', 'good', 'bad', 'good',\n",
       "       'good', 'bad', 'bad', 'bad', 'bad', 'good', 'bad', 'bad', 'bad',\n",
       "       'good', 'good', 'good', 'bad', 'bad', 'good', 'good', 'bad', 'bad',\n",
       "       'bad', 'bad', 'bad', 'good', 'bad', 'bad', 'bad', 'good', 'good',\n",
       "       'bad', 'good', 'good', 'bad', 'bad', 'bad', 'bad', 'good', 'bad',\n",
       "       'bad', 'bad', 'bad', 'bad', 'good', 'bad', 'bad', 'bad', 'good',\n",
       "       'good', 'bad', 'good', 'bad', 'good', 'bad', 'bad', 'good', 'bad',\n",
       "       'good', 'bad', 'bad', 'bad', 'good', 'good', 'bad', 'good', 'good',\n",
       "       'bad', 'bad', 'bad', 'bad', 'good', 'bad', 'good', 'good', 'bad',\n",
       "       'bad', 'good', 'bad', 'good', 'bad', 'bad', 'bad', 'bad', 'bad',\n",
       "       'bad', 'good', 'bad', 'good', 'good', 'bad', 'good', 'good',\n",
       "       'good', 'bad', 'good', 'good', 'good', 'bad', 'bad', 'bad', 'bad',\n",
       "       'bad', 'good', 'good', 'good', 'bad', 'good', 'good', 'bad', 'bad',\n",
       "       'good', 'good', 'good', 'bad', 'bad', 'good', 'good', 'good',\n",
       "       'good', 'bad', 'bad', 'good', 'good', 'bad', 'good', 'bad', 'bad',\n",
       "       'good', 'good', 'good', 'good', 'good', 'bad', 'good', 'bad',\n",
       "       'good', 'bad', 'good', 'good', 'good', 'bad', 'good', 'bad', 'bad',\n",
       "       'bad', 'bad', 'bad', 'bad', 'good', 'bad', 'good', 'good', 'bad',\n",
       "       'bad', 'good', 'bad', 'good', 'bad', 'good', 'good', 'bad', 'bad',\n",
       "       'good', 'good', 'bad', 'good', 'bad', 'good', 'good', 'good',\n",
       "       'good', 'bad', 'bad', 'bad', 'bad', 'bad', 'bad', 'bad', 'bad',\n",
       "       'bad', 'bad', 'good', 'bad', 'bad', 'bad', 'bad', 'bad', 'bad',\n",
       "       'good', 'good', 'good', 'bad', 'good', 'bad', 'bad', 'bad', 'good',\n",
       "       'bad', 'good', 'bad', 'bad', 'good', 'good', 'bad', 'bad', 'bad',\n",
       "       'good', 'good', 'good', 'bad', 'good', 'bad', 'good', 'bad',\n",
       "       'good', 'good', 'bad', 'bad', 'good', 'good', 'bad', 'good', 'bad',\n",
       "       'bad', 'bad', 'bad', 'good', 'bad', 'bad', 'good', 'bad', 'bad',\n",
       "       'good', 'good', 'good', 'good', 'bad', 'bad', 'bad', 'bad', 'bad',\n",
       "       'bad', 'bad', 'good', 'good', 'bad', 'good', 'good', 'bad', 'bad',\n",
       "       'good', 'bad', 'bad', 'bad', 'good', 'good', 'good', 'bad', 'bad',\n",
       "       'bad', 'good', 'good', 'bad', 'good', 'bad', 'bad', 'good', 'bad',\n",
       "       'good', 'bad', 'good', 'bad', 'bad', 'good', 'bad', 'good', 'good',\n",
       "       'good', 'bad', 'bad', 'bad', 'bad', 'good', 'bad', 'bad', 'good',\n",
       "       'good', 'good', 'good', 'good', 'good', 'bad', 'good', 'good',\n",
       "       'bad', 'good', 'good', 'bad', 'good', 'bad', 'bad', 'bad', 'bad',\n",
       "       'bad', 'bad', 'good', 'bad', 'bad', 'bad', 'bad', 'bad', 'good',\n",
       "       'bad', 'good', 'bad', 'good', 'bad', 'bad', 'bad', 'good', 'bad',\n",
       "       'good', 'bad', 'bad', 'bad', 'bad', 'good', 'bad', 'good', 'good',\n",
       "       'good', 'good', 'good', 'good', 'bad', 'bad', 'good', 'bad',\n",
       "       'good', 'good', 'good', 'good', 'bad', 'bad', 'good', 'good',\n",
       "       'good', 'good', 'bad', 'bad', 'good', 'good', 'good', 'bad',\n",
       "       'good', 'bad', 'good', 'bad', 'good', 'good', 'good', 'bad',\n",
       "       'good', 'good', 'good', 'bad', 'bad', 'bad', 'bad', 'bad', 'bad',\n",
       "       'good', 'bad', 'good', 'good', 'good', 'bad', 'good', 'good',\n",
       "       'bad', 'good', 'bad', 'good', 'bad', 'bad', 'good', 'bad', 'bad',\n",
       "       'bad', 'bad', 'bad', 'bad', 'good', 'good', 'bad', 'good', 'bad',\n",
       "       'good', 'bad', 'good', 'good', 'good', 'good', 'good', 'good',\n",
       "       'good', 'bad', 'bad', 'good', 'good', 'good', 'good', 'good',\n",
       "       'bad', 'bad', 'good', 'good', 'bad', 'bad', 'bad', 'good', 'bad',\n",
       "       'good', 'good', 'good', 'good', 'good', 'good', 'bad', 'good',\n",
       "       'bad', 'bad', 'good', 'good', 'bad', 'good', 'good', 'bad', 'bad',\n",
       "       'good', 'bad', 'good', 'bad', 'good', 'good', 'bad', 'good', 'bad',\n",
       "       'good', 'good', 'bad', 'good', 'good', 'good', 'bad', 'bad',\n",
       "       'good', 'good', 'good', 'bad', 'good', 'bad', 'bad', 'good',\n",
       "       'good', 'bad', 'bad', 'good', 'good', 'good', 'good', 'good',\n",
       "       'bad', 'good', 'good', 'bad', 'good', 'bad', 'bad', 'bad', 'good',\n",
       "       'bad', 'bad', 'good', 'good', 'good', 'bad', 'bad', 'good', 'good',\n",
       "       'bad', 'good', 'bad', 'good', 'bad', 'bad', 'bad', 'bad', 'good',\n",
       "       'bad', 'bad', 'good', 'bad', 'bad', 'bad', 'bad', 'good', 'good',\n",
       "       'good', 'bad', 'good', 'good', 'good', 'good', 'good', 'good',\n",
       "       'good', 'bad', 'good', 'bad', 'good', 'bad', 'good', 'good', 'bad',\n",
       "       'good', 'good', 'bad', 'bad', 'good', 'bad', 'bad', 'bad', 'good',\n",
       "       'good', 'bad', 'bad', 'good', 'bad', 'bad', 'good', 'bad', 'bad',\n",
       "       'bad', 'good', 'bad', 'good', 'good', 'good', 'good', 'bad', 'bad',\n",
       "       'bad', 'bad', 'good', 'good', 'good', 'good', 'bad', 'good',\n",
       "       'good', 'good', 'good', 'good', 'bad', 'good', 'good', 'bad',\n",
       "       'bad', 'bad', 'bad', 'bad', 'bad', 'bad', 'good', 'bad', 'good',\n",
       "       'bad', 'good', 'good', 'good', 'good', 'bad', 'good', 'good',\n",
       "       'good', 'good', 'good', 'good', 'bad', 'good', 'bad', 'bad', 'bad',\n",
       "       'good', 'bad', 'bad', 'bad', 'good', 'good', 'bad', 'bad', 'good',\n",
       "       'bad', 'bad', 'bad', 'good', 'good', 'bad', 'bad', 'good', 'good',\n",
       "       'good', 'good', 'bad', 'good', 'bad', 'good', 'bad', 'bad', 'good',\n",
       "       'good', 'good', 'good', 'good', 'good', 'good', 'good', 'good',\n",
       "       'good', 'good', 'bad', 'bad', 'good', 'bad', 'good', 'good', 'bad',\n",
       "       'good', 'bad', 'good', 'good', 'good', 'bad', 'good', 'good',\n",
       "       'bad', 'bad', 'bad', 'bad', 'bad', 'good', 'bad', 'bad', 'bad',\n",
       "       'bad', 'bad', 'good', 'good', 'bad', 'bad', 'bad', 'good', 'bad',\n",
       "       'good', 'bad', 'bad', 'good', 'bad', 'good', 'good', 'good', 'bad',\n",
       "       'bad', 'bad', 'bad', 'good', 'bad', 'good', 'bad', 'bad', 'good',\n",
       "       'bad', 'bad', 'bad', 'bad', 'good', 'bad'], dtype=object)"
      ]
     },
     "execution_count": 28,
     "metadata": {},
     "output_type": "execute_result"
    }
   ],
   "source": [
    "ypred2"
   ]
  },
  {
   "cell_type": "code",
   "execution_count": 29,
   "id": "251ef37a-579c-41da-983a-7229b6c99c26",
   "metadata": {},
   "outputs": [
    {
     "data": {
      "text/plain": [
       "81.0"
      ]
     },
     "execution_count": 29,
     "metadata": {},
     "output_type": "execute_result"
    }
   ],
   "source": [
    "score2=round(accuracy_score(y_test,ypred2),2)*100\n",
    "score2"
   ]
  },
  {
   "cell_type": "markdown",
   "id": "4631d6f7-a733-4762-a884-af8fb4bc65e4",
   "metadata": {},
   "source": [
    "## Random forest Classifier"
   ]
  },
  {
   "cell_type": "code",
   "execution_count": 62,
   "id": "ccb06184-0753-4483-a63e-55e9a00ed383",
   "metadata": {},
   "outputs": [],
   "source": [
    "from sklearn.ensemble import RandomForestClassifier"
   ]
  },
  {
   "cell_type": "code",
   "execution_count": 98,
   "id": "746dd5ff-f659-4c50-ab8b-55c6c6546974",
   "metadata": {},
   "outputs": [],
   "source": [
    "rc=RandomForestClassifier(n_estimators=40,max_depth= 180)"
   ]
  },
  {
   "cell_type": "code",
   "execution_count": 99,
   "id": "fa571dbf-0121-43d8-a045-1708148fd3be",
   "metadata": {},
   "outputs": [
    {
     "data": {
      "text/html": [
       "<style>#sk-container-id-15 {color: black;background-color: white;}#sk-container-id-15 pre{padding: 0;}#sk-container-id-15 div.sk-toggleable {background-color: white;}#sk-container-id-15 label.sk-toggleable__label {cursor: pointer;display: block;width: 100%;margin-bottom: 0;padding: 0.3em;box-sizing: border-box;text-align: center;}#sk-container-id-15 label.sk-toggleable__label-arrow:before {content: \"▸\";float: left;margin-right: 0.25em;color: #696969;}#sk-container-id-15 label.sk-toggleable__label-arrow:hover:before {color: black;}#sk-container-id-15 div.sk-estimator:hover label.sk-toggleable__label-arrow:before {color: black;}#sk-container-id-15 div.sk-toggleable__content {max-height: 0;max-width: 0;overflow: hidden;text-align: left;background-color: #f0f8ff;}#sk-container-id-15 div.sk-toggleable__content pre {margin: 0.2em;color: black;border-radius: 0.25em;background-color: #f0f8ff;}#sk-container-id-15 input.sk-toggleable__control:checked~div.sk-toggleable__content {max-height: 200px;max-width: 100%;overflow: auto;}#sk-container-id-15 input.sk-toggleable__control:checked~label.sk-toggleable__label-arrow:before {content: \"▾\";}#sk-container-id-15 div.sk-estimator input.sk-toggleable__control:checked~label.sk-toggleable__label {background-color: #d4ebff;}#sk-container-id-15 div.sk-label input.sk-toggleable__control:checked~label.sk-toggleable__label {background-color: #d4ebff;}#sk-container-id-15 input.sk-hidden--visually {border: 0;clip: rect(1px 1px 1px 1px);clip: rect(1px, 1px, 1px, 1px);height: 1px;margin: -1px;overflow: hidden;padding: 0;position: absolute;width: 1px;}#sk-container-id-15 div.sk-estimator {font-family: monospace;background-color: #f0f8ff;border: 1px dotted black;border-radius: 0.25em;box-sizing: border-box;margin-bottom: 0.5em;}#sk-container-id-15 div.sk-estimator:hover {background-color: #d4ebff;}#sk-container-id-15 div.sk-parallel-item::after {content: \"\";width: 100%;border-bottom: 1px solid gray;flex-grow: 1;}#sk-container-id-15 div.sk-label:hover label.sk-toggleable__label {background-color: #d4ebff;}#sk-container-id-15 div.sk-serial::before {content: \"\";position: absolute;border-left: 1px solid gray;box-sizing: border-box;top: 0;bottom: 0;left: 50%;z-index: 0;}#sk-container-id-15 div.sk-serial {display: flex;flex-direction: column;align-items: center;background-color: white;padding-right: 0.2em;padding-left: 0.2em;position: relative;}#sk-container-id-15 div.sk-item {position: relative;z-index: 1;}#sk-container-id-15 div.sk-parallel {display: flex;align-items: stretch;justify-content: center;background-color: white;position: relative;}#sk-container-id-15 div.sk-item::before, #sk-container-id-15 div.sk-parallel-item::before {content: \"\";position: absolute;border-left: 1px solid gray;box-sizing: border-box;top: 0;bottom: 0;left: 50%;z-index: -1;}#sk-container-id-15 div.sk-parallel-item {display: flex;flex-direction: column;z-index: 1;position: relative;background-color: white;}#sk-container-id-15 div.sk-parallel-item:first-child::after {align-self: flex-end;width: 50%;}#sk-container-id-15 div.sk-parallel-item:last-child::after {align-self: flex-start;width: 50%;}#sk-container-id-15 div.sk-parallel-item:only-child::after {width: 0;}#sk-container-id-15 div.sk-dashed-wrapped {border: 1px dashed gray;margin: 0 0.4em 0.5em 0.4em;box-sizing: border-box;padding-bottom: 0.4em;background-color: white;}#sk-container-id-15 div.sk-label label {font-family: monospace;font-weight: bold;display: inline-block;line-height: 1.2em;}#sk-container-id-15 div.sk-label-container {text-align: center;}#sk-container-id-15 div.sk-container {/* jupyter's `normalize.less` sets `[hidden] { display: none; }` but bootstrap.min.css set `[hidden] { display: none !important; }` so we also need the `!important` here to be able to override the default hidden behavior on the sphinx rendered scikit-learn.org. See: https://github.com/scikit-learn/scikit-learn/issues/21755 */display: inline-block !important;position: relative;}#sk-container-id-15 div.sk-text-repr-fallback {display: none;}</style><div id=\"sk-container-id-15\" class=\"sk-top-container\"><div class=\"sk-text-repr-fallback\"><pre>RandomForestClassifier(max_depth=180, n_estimators=40)</pre><b>In a Jupyter environment, please rerun this cell to show the HTML representation or trust the notebook. <br />On GitHub, the HTML representation is unable to render, please try loading this page with nbviewer.org.</b></div><div class=\"sk-container\" hidden><div class=\"sk-item\"><div class=\"sk-estimator sk-toggleable\"><input class=\"sk-toggleable__control sk-hidden--visually\" id=\"sk-estimator-id-15\" type=\"checkbox\" checked><label for=\"sk-estimator-id-15\" class=\"sk-toggleable__label sk-toggleable__label-arrow\">RandomForestClassifier</label><div class=\"sk-toggleable__content\"><pre>RandomForestClassifier(max_depth=180, n_estimators=40)</pre></div></div></div></div></div>"
      ],
      "text/plain": [
       "RandomForestClassifier(max_depth=180, n_estimators=40)"
      ]
     },
     "execution_count": 99,
     "metadata": {},
     "output_type": "execute_result"
    }
   ],
   "source": [
    "rc.fit(x_train,y_train)"
   ]
  },
  {
   "cell_type": "code",
   "execution_count": 100,
   "id": "e21e3343-d423-4ad3-a251-f3c0f1ba82da",
   "metadata": {},
   "outputs": [],
   "source": [
    "ypred3=rc.predict(x_test)"
   ]
  },
  {
   "cell_type": "code",
   "execution_count": 101,
   "id": "4bafe36f-de43-4096-8e7b-a4da29fd9d1b",
   "metadata": {
    "scrolled": true
   },
   "outputs": [
    {
     "data": {
      "text/plain": [
       "array(['good', 'bad', 'bad', 'good', 'bad', 'bad', 'good', 'good', 'good',\n",
       "       'bad', 'good', 'good', 'bad', 'good', 'good', 'good', 'bad', 'bad',\n",
       "       'bad', 'bad', 'good', 'good', 'good', 'bad', 'good', 'good', 'bad',\n",
       "       'bad', 'good', 'bad', 'bad', 'bad', 'good', 'good', 'bad', 'bad',\n",
       "       'bad', 'good', 'bad', 'good', 'bad', 'bad', 'good', 'bad', 'good',\n",
       "       'bad', 'bad', 'bad', 'good', 'bad', 'good', 'bad', 'good', 'good',\n",
       "       'bad', 'bad', 'bad', 'good', 'good', 'bad', 'bad', 'bad', 'good',\n",
       "       'good', 'good', 'good', 'bad', 'bad', 'bad', 'bad', 'bad', 'good',\n",
       "       'bad', 'bad', 'good', 'good', 'good', 'good', 'bad', 'bad', 'good',\n",
       "       'bad', 'bad', 'good', 'bad', 'good', 'bad', 'good', 'good', 'bad',\n",
       "       'good', 'good', 'bad', 'good', 'good', 'bad', 'good', 'bad',\n",
       "       'good', 'bad', 'bad', 'bad', 'good', 'good', 'bad', 'bad', 'bad',\n",
       "       'good', 'good', 'bad', 'bad', 'good', 'good', 'bad', 'good',\n",
       "       'good', 'bad', 'bad', 'bad', 'bad', 'good', 'bad', 'bad', 'bad',\n",
       "       'good', 'good', 'good', 'good', 'good', 'good', 'bad', 'bad',\n",
       "       'bad', 'bad', 'bad', 'bad', 'good', 'bad', 'bad', 'bad', 'good',\n",
       "       'good', 'bad', 'good', 'bad', 'bad', 'bad', 'bad', 'good', 'good',\n",
       "       'bad', 'good', 'bad', 'bad', 'bad', 'good', 'bad', 'bad', 'bad',\n",
       "       'good', 'good', 'bad', 'good', 'bad', 'good', 'bad', 'bad', 'good',\n",
       "       'good', 'good', 'bad', 'bad', 'bad', 'good', 'good', 'bad', 'bad',\n",
       "       'good', 'bad', 'good', 'bad', 'bad', 'good', 'bad', 'good', 'good',\n",
       "       'bad', 'bad', 'good', 'bad', 'good', 'bad', 'bad', 'bad', 'bad',\n",
       "       'good', 'bad', 'good', 'bad', 'good', 'bad', 'bad', 'good', 'good',\n",
       "       'good', 'bad', 'good', 'good', 'good', 'bad', 'bad', 'bad', 'good',\n",
       "       'bad', 'good', 'good', 'good', 'good', 'good', 'good', 'bad',\n",
       "       'bad', 'good', 'good', 'good', 'bad', 'bad', 'good', 'good',\n",
       "       'good', 'good', 'bad', 'bad', 'good', 'bad', 'bad', 'bad', 'good',\n",
       "       'bad', 'good', 'good', 'good', 'good', 'good', 'bad', 'good',\n",
       "       'bad', 'good', 'bad', 'good', 'good', 'good', 'bad', 'good', 'bad',\n",
       "       'bad', 'bad', 'bad', 'bad', 'bad', 'good', 'bad', 'good', 'good',\n",
       "       'bad', 'good', 'good', 'bad', 'good', 'bad', 'bad', 'good', 'good',\n",
       "       'bad', 'good', 'good', 'bad', 'bad', 'good', 'good', 'good',\n",
       "       'good', 'good', 'bad', 'good', 'bad', 'bad', 'bad', 'bad', 'good',\n",
       "       'bad', 'good', 'bad', 'good', 'bad', 'bad', 'good', 'bad', 'bad',\n",
       "       'bad', 'good', 'good', 'good', 'bad', 'good', 'bad', 'bad', 'bad',\n",
       "       'good', 'bad', 'good', 'bad', 'bad', 'bad', 'good', 'bad', 'bad',\n",
       "       'bad', 'bad', 'good', 'good', 'bad', 'good', 'bad', 'good', 'bad',\n",
       "       'good', 'good', 'bad', 'good', 'bad', 'good', 'bad', 'good', 'bad',\n",
       "       'good', 'bad', 'good', 'good', 'bad', 'bad', 'bad', 'bad', 'bad',\n",
       "       'bad', 'good', 'good', 'good', 'bad', 'bad', 'bad', 'bad', 'bad',\n",
       "       'bad', 'good', 'good', 'good', 'bad', 'good', 'good', 'good',\n",
       "       'bad', 'good', 'bad', 'bad', 'good', 'good', 'good', 'good', 'bad',\n",
       "       'bad', 'good', 'bad', 'good', 'bad', 'good', 'bad', 'good', 'good',\n",
       "       'bad', 'good', 'bad', 'good', 'bad', 'bad', 'good', 'good', 'good',\n",
       "       'good', 'good', 'bad', 'bad', 'good', 'bad', 'good', 'bad', 'bad',\n",
       "       'good', 'good', 'good', 'good', 'good', 'good', 'bad', 'good',\n",
       "       'good', 'good', 'bad', 'good', 'bad', 'good', 'bad', 'bad', 'good',\n",
       "       'good', 'bad', 'bad', 'bad', 'bad', 'bad', 'bad', 'bad', 'bad',\n",
       "       'good', 'bad', 'good', 'bad', 'good', 'bad', 'bad', 'bad', 'good',\n",
       "       'bad', 'good', 'good', 'good', 'bad', 'bad', 'good', 'bad', 'good',\n",
       "       'good', 'good', 'good', 'good', 'good', 'bad', 'bad', 'good',\n",
       "       'bad', 'good', 'good', 'good', 'good', 'bad', 'bad', 'good',\n",
       "       'good', 'good', 'good', 'bad', 'bad', 'bad', 'good', 'good', 'bad',\n",
       "       'good', 'bad', 'good', 'bad', 'good', 'good', 'good', 'bad', 'bad',\n",
       "       'good', 'good', 'bad', 'bad', 'bad', 'good', 'bad', 'bad', 'good',\n",
       "       'bad', 'good', 'good', 'good', 'bad', 'bad', 'good', 'bad', 'good',\n",
       "       'bad', 'good', 'bad', 'bad', 'good', 'bad', 'good', 'bad', 'good',\n",
       "       'good', 'bad', 'good', 'good', 'bad', 'good', 'bad', 'bad', 'bad',\n",
       "       'good', 'good', 'good', 'good', 'bad', 'good', 'good', 'bad',\n",
       "       'bad', 'bad', 'good', 'bad', 'good', 'bad', 'bad', 'bad', 'good',\n",
       "       'good', 'bad', 'bad', 'bad', 'good', 'bad', 'good', 'good', 'good',\n",
       "       'good', 'good', 'good', 'good', 'good', 'bad', 'good', 'good',\n",
       "       'good', 'bad', 'good', 'good', 'bad', 'bad', 'good', 'bad', 'good',\n",
       "       'bad', 'bad', 'good', 'bad', 'good', 'bad', 'good', 'good', 'bad',\n",
       "       'bad', 'good', 'good', 'bad', 'bad', 'bad', 'good', 'good', 'bad',\n",
       "       'good', 'bad', 'bad', 'good', 'good', 'bad', 'bad', 'good', 'good',\n",
       "       'good', 'good', 'good', 'good', 'good', 'good', 'good', 'good',\n",
       "       'bad', 'bad', 'bad', 'good', 'bad', 'bad', 'good', 'bad', 'bad',\n",
       "       'bad', 'bad', 'good', 'good', 'bad', 'good', 'bad', 'good', 'good',\n",
       "       'good', 'bad', 'bad', 'good', 'bad', 'bad', 'good', 'bad', 'bad',\n",
       "       'bad', 'bad', 'bad', 'bad', 'good', 'bad', 'good', 'good', 'bad',\n",
       "       'good', 'good', 'good', 'good', 'bad', 'good', 'bad', 'good',\n",
       "       'bad', 'good', 'good', 'good', 'good', 'good', 'bad', 'good',\n",
       "       'good', 'bad', 'good', 'bad', 'good', 'good', 'bad', 'bad', 'good',\n",
       "       'bad', 'bad', 'good', 'bad', 'good', 'bad', 'good', 'good', 'good',\n",
       "       'good', 'bad', 'good', 'bad', 'bad', 'bad', 'good', 'good', 'good',\n",
       "       'good', 'good', 'good', 'good', 'good', 'good', 'good', 'good',\n",
       "       'bad', 'good', 'bad', 'bad', 'bad', 'bad', 'bad', 'bad', 'bad',\n",
       "       'bad', 'good', 'bad', 'good', 'bad', 'good', 'good', 'good',\n",
       "       'good', 'bad', 'bad', 'good', 'good', 'good', 'good', 'bad', 'bad',\n",
       "       'good', 'bad', 'bad', 'bad', 'good', 'good', 'bad', 'bad', 'good',\n",
       "       'good', 'bad', 'bad', 'good', 'bad', 'bad', 'bad', 'good', 'bad',\n",
       "       'bad', 'bad', 'bad', 'good', 'good', 'good', 'bad', 'good', 'bad',\n",
       "       'good', 'bad', 'bad', 'good', 'good', 'good', 'good', 'bad', 'bad',\n",
       "       'bad', 'bad', 'good', 'good', 'good', 'bad', 'bad', 'good', 'bad',\n",
       "       'bad', 'good', 'bad', 'good', 'good', 'good', 'good', 'good',\n",
       "       'bad', 'good', 'good', 'bad', 'good', 'bad', 'bad', 'bad', 'bad',\n",
       "       'bad', 'bad', 'bad', 'good', 'bad', 'good', 'good', 'bad', 'bad',\n",
       "       'bad', 'bad', 'bad', 'good', 'bad', 'good', 'good', 'good', 'good',\n",
       "       'good', 'good', 'bad', 'good', 'bad', 'bad', 'good', 'bad', 'good',\n",
       "       'bad', 'good', 'bad', 'bad', 'bad', 'bad', 'bad', 'good', 'bad'],\n",
       "      dtype=object)"
      ]
     },
     "execution_count": 101,
     "metadata": {},
     "output_type": "execute_result"
    }
   ],
   "source": [
    "ypred3"
   ]
  },
  {
   "cell_type": "code",
   "execution_count": 102,
   "id": "485e0480-4c5a-467d-ac7d-81b8d15ae2d0",
   "metadata": {},
   "outputs": [
    {
     "data": {
      "text/plain": [
       "87.0"
      ]
     },
     "execution_count": 102,
     "metadata": {},
     "output_type": "execute_result"
    }
   ],
   "source": [
    "score3=round(accuracy_score(y_test,ypred3),2)*100\n",
    "score3"
   ]
  },
  {
   "cell_type": "markdown",
   "id": "94aaec39-09a5-44fb-b1cb-1ae93f05363b",
   "metadata": {},
   "source": [
    "## Support Vector Machine"
   ]
  },
  {
   "cell_type": "code",
   "execution_count": 36,
   "id": "afbb1ba3-8f2d-4189-a725-9f37e2ee86fd",
   "metadata": {},
   "outputs": [],
   "source": [
    "from sklearn import svm"
   ]
  },
  {
   "cell_type": "code",
   "execution_count": 37,
   "id": "c0a03d7c-4040-4605-847c-e4a56ea44ee6",
   "metadata": {},
   "outputs": [],
   "source": [
    "clf = svm.SVC(kernel='linear')"
   ]
  },
  {
   "cell_type": "code",
   "execution_count": 38,
   "id": "1d6d9f6f-d170-4c88-83cd-7a76a2e25eeb",
   "metadata": {},
   "outputs": [
    {
     "data": {
      "text/html": [
       "<style>#sk-container-id-4 {color: black;background-color: white;}#sk-container-id-4 pre{padding: 0;}#sk-container-id-4 div.sk-toggleable {background-color: white;}#sk-container-id-4 label.sk-toggleable__label {cursor: pointer;display: block;width: 100%;margin-bottom: 0;padding: 0.3em;box-sizing: border-box;text-align: center;}#sk-container-id-4 label.sk-toggleable__label-arrow:before {content: \"▸\";float: left;margin-right: 0.25em;color: #696969;}#sk-container-id-4 label.sk-toggleable__label-arrow:hover:before {color: black;}#sk-container-id-4 div.sk-estimator:hover label.sk-toggleable__label-arrow:before {color: black;}#sk-container-id-4 div.sk-toggleable__content {max-height: 0;max-width: 0;overflow: hidden;text-align: left;background-color: #f0f8ff;}#sk-container-id-4 div.sk-toggleable__content pre {margin: 0.2em;color: black;border-radius: 0.25em;background-color: #f0f8ff;}#sk-container-id-4 input.sk-toggleable__control:checked~div.sk-toggleable__content {max-height: 200px;max-width: 100%;overflow: auto;}#sk-container-id-4 input.sk-toggleable__control:checked~label.sk-toggleable__label-arrow:before {content: \"▾\";}#sk-container-id-4 div.sk-estimator input.sk-toggleable__control:checked~label.sk-toggleable__label {background-color: #d4ebff;}#sk-container-id-4 div.sk-label input.sk-toggleable__control:checked~label.sk-toggleable__label {background-color: #d4ebff;}#sk-container-id-4 input.sk-hidden--visually {border: 0;clip: rect(1px 1px 1px 1px);clip: rect(1px, 1px, 1px, 1px);height: 1px;margin: -1px;overflow: hidden;padding: 0;position: absolute;width: 1px;}#sk-container-id-4 div.sk-estimator {font-family: monospace;background-color: #f0f8ff;border: 1px dotted black;border-radius: 0.25em;box-sizing: border-box;margin-bottom: 0.5em;}#sk-container-id-4 div.sk-estimator:hover {background-color: #d4ebff;}#sk-container-id-4 div.sk-parallel-item::after {content: \"\";width: 100%;border-bottom: 1px solid gray;flex-grow: 1;}#sk-container-id-4 div.sk-label:hover label.sk-toggleable__label {background-color: #d4ebff;}#sk-container-id-4 div.sk-serial::before {content: \"\";position: absolute;border-left: 1px solid gray;box-sizing: border-box;top: 0;bottom: 0;left: 50%;z-index: 0;}#sk-container-id-4 div.sk-serial {display: flex;flex-direction: column;align-items: center;background-color: white;padding-right: 0.2em;padding-left: 0.2em;position: relative;}#sk-container-id-4 div.sk-item {position: relative;z-index: 1;}#sk-container-id-4 div.sk-parallel {display: flex;align-items: stretch;justify-content: center;background-color: white;position: relative;}#sk-container-id-4 div.sk-item::before, #sk-container-id-4 div.sk-parallel-item::before {content: \"\";position: absolute;border-left: 1px solid gray;box-sizing: border-box;top: 0;bottom: 0;left: 50%;z-index: -1;}#sk-container-id-4 div.sk-parallel-item {display: flex;flex-direction: column;z-index: 1;position: relative;background-color: white;}#sk-container-id-4 div.sk-parallel-item:first-child::after {align-self: flex-end;width: 50%;}#sk-container-id-4 div.sk-parallel-item:last-child::after {align-self: flex-start;width: 50%;}#sk-container-id-4 div.sk-parallel-item:only-child::after {width: 0;}#sk-container-id-4 div.sk-dashed-wrapped {border: 1px dashed gray;margin: 0 0.4em 0.5em 0.4em;box-sizing: border-box;padding-bottom: 0.4em;background-color: white;}#sk-container-id-4 div.sk-label label {font-family: monospace;font-weight: bold;display: inline-block;line-height: 1.2em;}#sk-container-id-4 div.sk-label-container {text-align: center;}#sk-container-id-4 div.sk-container {/* jupyter's `normalize.less` sets `[hidden] { display: none; }` but bootstrap.min.css set `[hidden] { display: none !important; }` so we also need the `!important` here to be able to override the default hidden behavior on the sphinx rendered scikit-learn.org. See: https://github.com/scikit-learn/scikit-learn/issues/21755 */display: inline-block !important;position: relative;}#sk-container-id-4 div.sk-text-repr-fallback {display: none;}</style><div id=\"sk-container-id-4\" class=\"sk-top-container\"><div class=\"sk-text-repr-fallback\"><pre>SVC(kernel=&#x27;linear&#x27;)</pre><b>In a Jupyter environment, please rerun this cell to show the HTML representation or trust the notebook. <br />On GitHub, the HTML representation is unable to render, please try loading this page with nbviewer.org.</b></div><div class=\"sk-container\" hidden><div class=\"sk-item\"><div class=\"sk-estimator sk-toggleable\"><input class=\"sk-toggleable__control sk-hidden--visually\" id=\"sk-estimator-id-4\" type=\"checkbox\" checked><label for=\"sk-estimator-id-4\" class=\"sk-toggleable__label sk-toggleable__label-arrow\">SVC</label><div class=\"sk-toggleable__content\"><pre>SVC(kernel=&#x27;linear&#x27;)</pre></div></div></div></div></div>"
      ],
      "text/plain": [
       "SVC(kernel='linear')"
      ]
     },
     "execution_count": 38,
     "metadata": {},
     "output_type": "execute_result"
    }
   ],
   "source": [
    "clf.fit(x_train,y_train)"
   ]
  },
  {
   "cell_type": "code",
   "execution_count": 39,
   "id": "34f7a5ef-205f-4168-b14a-ff4ce5e5db69",
   "metadata": {},
   "outputs": [],
   "source": [
    "ypred4=clf.predict(x_test)"
   ]
  },
  {
   "cell_type": "code",
   "execution_count": 40,
   "id": "5410a51a-bfba-4b96-b763-bd18fa701efc",
   "metadata": {
    "scrolled": true
   },
   "outputs": [
    {
     "data": {
      "text/plain": [
       "array(['good', 'good', 'bad', 'good', 'bad', 'bad', 'good', 'good',\n",
       "       'good', 'bad', 'bad', 'good', 'bad', 'good', 'good', 'good',\n",
       "       'good', 'bad', 'bad', 'bad', 'good', 'good', 'good', 'bad', 'good',\n",
       "       'good', 'bad', 'bad', 'bad', 'bad', 'bad', 'bad', 'good', 'good',\n",
       "       'bad', 'bad', 'good', 'bad', 'good', 'good', 'bad', 'bad', 'bad',\n",
       "       'bad', 'good', 'good', 'bad', 'bad', 'good', 'bad', 'good', 'bad',\n",
       "       'good', 'good', 'bad', 'bad', 'good', 'good', 'good', 'good',\n",
       "       'good', 'bad', 'good', 'good', 'good', 'good', 'bad', 'bad', 'bad',\n",
       "       'bad', 'bad', 'good', 'good', 'bad', 'good', 'good', 'good', 'bad',\n",
       "       'good', 'good', 'good', 'good', 'bad', 'good', 'bad', 'good',\n",
       "       'bad', 'good', 'good', 'bad', 'good', 'good', 'bad', 'good',\n",
       "       'good', 'bad', 'good', 'bad', 'good', 'bad', 'bad', 'bad', 'bad',\n",
       "       'good', 'bad', 'bad', 'good', 'good', 'bad', 'bad', 'bad', 'bad',\n",
       "       'bad', 'bad', 'bad', 'good', 'bad', 'bad', 'good', 'bad', 'bad',\n",
       "       'good', 'bad', 'bad', 'good', 'good', 'bad', 'good', 'bad', 'good',\n",
       "       'bad', 'good', 'bad', 'bad', 'bad', 'bad', 'bad', 'bad', 'bad',\n",
       "       'good', 'good', 'good', 'bad', 'good', 'bad', 'bad', 'bad', 'bad',\n",
       "       'good', 'bad', 'bad', 'good', 'bad', 'bad', 'good', 'good', 'bad',\n",
       "       'good', 'bad', 'good', 'good', 'bad', 'bad', 'good', 'bad', 'bad',\n",
       "       'bad', 'bad', 'good', 'bad', 'bad', 'bad', 'bad', 'good', 'bad',\n",
       "       'bad', 'good', 'good', 'bad', 'bad', 'good', 'bad', 'good', 'bad',\n",
       "       'good', 'bad', 'bad', 'bad', 'bad', 'good', 'good', 'good', 'bad',\n",
       "       'bad', 'good', 'bad', 'bad', 'good', 'bad', 'good', 'bad', 'good',\n",
       "       'bad', 'good', 'good', 'bad', 'good', 'good', 'bad', 'bad', 'good',\n",
       "       'bad', 'good', 'bad', 'good', 'good', 'good', 'good', 'good',\n",
       "       'good', 'bad', 'bad', 'good', 'good', 'good', 'bad', 'bad', 'good',\n",
       "       'good', 'good', 'good', 'bad', 'bad', 'good', 'bad', 'good',\n",
       "       'good', 'bad', 'bad', 'good', 'good', 'good', 'good', 'bad', 'bad',\n",
       "       'good', 'good', 'good', 'bad', 'good', 'good', 'bad', 'bad',\n",
       "       'good', 'bad', 'bad', 'good', 'bad', 'bad', 'bad', 'good', 'bad',\n",
       "       'good', 'good', 'bad', 'good', 'good', 'bad', 'good', 'good',\n",
       "       'good', 'good', 'good', 'bad', 'good', 'good', 'bad', 'good',\n",
       "       'good', 'good', 'good', 'good', 'good', 'bad', 'good', 'bad',\n",
       "       'bad', 'bad', 'bad', 'bad', 'bad', 'bad', 'bad', 'good', 'bad',\n",
       "       'bad', 'bad', 'bad', 'bad', 'good', 'good', 'bad', 'good', 'good',\n",
       "       'good', 'good', 'bad', 'bad', 'good', 'bad', 'good', 'bad', 'good',\n",
       "       'good', 'good', 'bad', 'bad', 'good', 'good', 'bad', 'good', 'bad',\n",
       "       'good', 'bad', 'good', 'bad', 'good', 'good', 'bad', 'bad', 'good',\n",
       "       'good', 'bad', 'good', 'bad', 'good', 'bad', 'good', 'good', 'bad',\n",
       "       'good', 'bad', 'bad', 'good', 'bad', 'good', 'good', 'good', 'bad',\n",
       "       'bad', 'bad', 'good', 'bad', 'bad', 'good', 'good', 'bad', 'good',\n",
       "       'good', 'good', 'good', 'bad', 'good', 'bad', 'bad', 'good',\n",
       "       'good', 'good', 'good', 'bad', 'bad', 'good', 'bad', 'good', 'bad',\n",
       "       'good', 'bad', 'good', 'good', 'bad', 'good', 'bad', 'bad', 'bad',\n",
       "       'bad', 'good', 'good', 'good', 'good', 'bad', 'bad', 'bad', 'bad',\n",
       "       'bad', 'good', 'bad', 'bad', 'good', 'good', 'good', 'bad', 'bad',\n",
       "       'good', 'bad', 'good', 'good', 'good', 'bad', 'good', 'good',\n",
       "       'good', 'bad', 'bad', 'bad', 'bad', 'bad', 'bad', 'bad', 'bad',\n",
       "       'bad', 'bad', 'bad', 'bad', 'good', 'bad', 'good', 'good', 'good',\n",
       "       'good', 'bad', 'bad', 'good', 'bad', 'good', 'good', 'good', 'bad',\n",
       "       'good', 'good', 'bad', 'bad', 'good', 'good', 'good', 'good',\n",
       "       'good', 'bad', 'bad', 'good', 'bad', 'good', 'good', 'bad', 'good',\n",
       "       'bad', 'bad', 'good', 'good', 'good', 'good', 'good', 'bad', 'bad',\n",
       "       'good', 'bad', 'good', 'bad', 'good', 'good', 'bad', 'bad', 'bad',\n",
       "       'good', 'good', 'bad', 'good', 'good', 'bad', 'bad', 'good', 'bad',\n",
       "       'bad', 'bad', 'good', 'good', 'bad', 'good', 'good', 'bad', 'bad',\n",
       "       'good', 'good', 'good', 'good', 'good', 'bad', 'good', 'good',\n",
       "       'bad', 'bad', 'bad', 'good', 'bad', 'bad', 'good', 'good', 'bad',\n",
       "       'good', 'bad', 'bad', 'bad', 'good', 'bad', 'good', 'good', 'bad',\n",
       "       'good', 'good', 'bad', 'bad', 'bad', 'good', 'bad', 'good', 'bad',\n",
       "       'bad', 'good', 'good', 'good', 'bad', 'bad', 'bad', 'good', 'bad',\n",
       "       'good', 'bad', 'good', 'good', 'bad', 'good', 'good', 'good',\n",
       "       'bad', 'good', 'good', 'bad', 'bad', 'good', 'good', 'bad', 'bad',\n",
       "       'bad', 'good', 'good', 'good', 'bad', 'good', 'good', 'bad',\n",
       "       'good', 'good', 'good', 'good', 'bad', 'good', 'good', 'bad',\n",
       "       'good', 'bad', 'good', 'good', 'bad', 'bad', 'bad', 'bad', 'good',\n",
       "       'good', 'bad', 'bad', 'bad', 'good', 'good', 'good', 'good',\n",
       "       'good', 'good', 'bad', 'good', 'good', 'bad', 'bad', 'bad', 'good',\n",
       "       'bad', 'bad', 'good', 'good', 'good', 'good', 'bad', 'good', 'bad',\n",
       "       'bad', 'good', 'bad', 'good', 'bad', 'good', 'bad', 'bad', 'good',\n",
       "       'bad', 'good', 'good', 'bad', 'bad', 'bad', 'good', 'bad', 'good',\n",
       "       'good', 'bad', 'good', 'good', 'bad', 'good', 'good', 'good',\n",
       "       'good', 'bad', 'good', 'bad', 'good', 'bad', 'good', 'bad', 'bad',\n",
       "       'good', 'good', 'bad', 'good', 'bad', 'bad', 'good', 'bad', 'good',\n",
       "       'good', 'good', 'bad', 'good', 'good', 'bad', 'bad', 'bad', 'good',\n",
       "       'bad', 'bad', 'good', 'good', 'good', 'good', 'bad', 'bad', 'bad',\n",
       "       'good', 'bad', 'good', 'good', 'bad', 'good', 'good', 'good',\n",
       "       'good', 'good', 'good', 'good', 'bad', 'good', 'bad', 'bad', 'bad',\n",
       "       'good', 'bad', 'bad', 'bad', 'bad', 'bad', 'good', 'good', 'good',\n",
       "       'good', 'good', 'good', 'good', 'bad', 'bad', 'good', 'bad',\n",
       "       'good', 'bad', 'good', 'good', 'good', 'bad', 'good', 'good',\n",
       "       'good', 'good', 'bad', 'bad', 'good', 'good', 'bad', 'bad', 'bad',\n",
       "       'bad', 'good', 'good', 'bad', 'good', 'good', 'bad', 'bad', 'good',\n",
       "       'bad', 'good', 'bad', 'bad', 'bad', 'good', 'good', 'bad', 'good',\n",
       "       'good', 'good', 'good', 'good', 'bad', 'good', 'bad', 'good',\n",
       "       'good', 'good', 'bad', 'good', 'good', 'bad', 'bad', 'good',\n",
       "       'good', 'good', 'good', 'good', 'bad', 'good', 'bad', 'good',\n",
       "       'good', 'bad', 'good', 'good', 'bad', 'good', 'bad', 'bad', 'bad',\n",
       "       'bad', 'bad', 'good', 'bad', 'good', 'bad', 'bad', 'bad', 'good',\n",
       "       'bad', 'good', 'bad', 'good', 'bad', 'bad', 'good', 'good', 'good',\n",
       "       'bad', 'good', 'good', 'bad', 'good', 'bad', 'good', 'bad', 'good',\n",
       "       'bad', 'bad', 'bad', 'good', 'bad', 'good', 'bad'], dtype=object)"
      ]
     },
     "execution_count": 40,
     "metadata": {},
     "output_type": "execute_result"
    }
   ],
   "source": [
    "ypred4"
   ]
  },
  {
   "cell_type": "code",
   "execution_count": 41,
   "id": "dab84f26-9a3c-495f-a2e5-fb1ae9da8333",
   "metadata": {},
   "outputs": [
    {
     "data": {
      "text/plain": [
       "72.0"
      ]
     },
     "execution_count": 41,
     "metadata": {},
     "output_type": "execute_result"
    }
   ],
   "source": [
    "score4=round(accuracy_score(y_test,ypred4),2)*100\n",
    "score4"
   ]
  },
  {
   "cell_type": "code",
   "execution_count": 42,
   "id": "066cf41a-175b-4759-b280-1140e9675240",
   "metadata": {},
   "outputs": [],
   "source": [
    "from sklearn.naive_bayes import GaussianNB"
   ]
  },
  {
   "cell_type": "code",
   "execution_count": 43,
   "id": "c547a0d2-6e37-4406-a2b0-a713b12054c6",
   "metadata": {},
   "outputs": [],
   "source": [
    "nb=GaussianNB()"
   ]
  },
  {
   "cell_type": "code",
   "execution_count": 44,
   "id": "d148bb9e-b179-4955-8d24-0b1ef4898b8e",
   "metadata": {},
   "outputs": [
    {
     "data": {
      "text/html": [
       "<style>#sk-container-id-5 {color: black;background-color: white;}#sk-container-id-5 pre{padding: 0;}#sk-container-id-5 div.sk-toggleable {background-color: white;}#sk-container-id-5 label.sk-toggleable__label {cursor: pointer;display: block;width: 100%;margin-bottom: 0;padding: 0.3em;box-sizing: border-box;text-align: center;}#sk-container-id-5 label.sk-toggleable__label-arrow:before {content: \"▸\";float: left;margin-right: 0.25em;color: #696969;}#sk-container-id-5 label.sk-toggleable__label-arrow:hover:before {color: black;}#sk-container-id-5 div.sk-estimator:hover label.sk-toggleable__label-arrow:before {color: black;}#sk-container-id-5 div.sk-toggleable__content {max-height: 0;max-width: 0;overflow: hidden;text-align: left;background-color: #f0f8ff;}#sk-container-id-5 div.sk-toggleable__content pre {margin: 0.2em;color: black;border-radius: 0.25em;background-color: #f0f8ff;}#sk-container-id-5 input.sk-toggleable__control:checked~div.sk-toggleable__content {max-height: 200px;max-width: 100%;overflow: auto;}#sk-container-id-5 input.sk-toggleable__control:checked~label.sk-toggleable__label-arrow:before {content: \"▾\";}#sk-container-id-5 div.sk-estimator input.sk-toggleable__control:checked~label.sk-toggleable__label {background-color: #d4ebff;}#sk-container-id-5 div.sk-label input.sk-toggleable__control:checked~label.sk-toggleable__label {background-color: #d4ebff;}#sk-container-id-5 input.sk-hidden--visually {border: 0;clip: rect(1px 1px 1px 1px);clip: rect(1px, 1px, 1px, 1px);height: 1px;margin: -1px;overflow: hidden;padding: 0;position: absolute;width: 1px;}#sk-container-id-5 div.sk-estimator {font-family: monospace;background-color: #f0f8ff;border: 1px dotted black;border-radius: 0.25em;box-sizing: border-box;margin-bottom: 0.5em;}#sk-container-id-5 div.sk-estimator:hover {background-color: #d4ebff;}#sk-container-id-5 div.sk-parallel-item::after {content: \"\";width: 100%;border-bottom: 1px solid gray;flex-grow: 1;}#sk-container-id-5 div.sk-label:hover label.sk-toggleable__label {background-color: #d4ebff;}#sk-container-id-5 div.sk-serial::before {content: \"\";position: absolute;border-left: 1px solid gray;box-sizing: border-box;top: 0;bottom: 0;left: 50%;z-index: 0;}#sk-container-id-5 div.sk-serial {display: flex;flex-direction: column;align-items: center;background-color: white;padding-right: 0.2em;padding-left: 0.2em;position: relative;}#sk-container-id-5 div.sk-item {position: relative;z-index: 1;}#sk-container-id-5 div.sk-parallel {display: flex;align-items: stretch;justify-content: center;background-color: white;position: relative;}#sk-container-id-5 div.sk-item::before, #sk-container-id-5 div.sk-parallel-item::before {content: \"\";position: absolute;border-left: 1px solid gray;box-sizing: border-box;top: 0;bottom: 0;left: 50%;z-index: -1;}#sk-container-id-5 div.sk-parallel-item {display: flex;flex-direction: column;z-index: 1;position: relative;background-color: white;}#sk-container-id-5 div.sk-parallel-item:first-child::after {align-self: flex-end;width: 50%;}#sk-container-id-5 div.sk-parallel-item:last-child::after {align-self: flex-start;width: 50%;}#sk-container-id-5 div.sk-parallel-item:only-child::after {width: 0;}#sk-container-id-5 div.sk-dashed-wrapped {border: 1px dashed gray;margin: 0 0.4em 0.5em 0.4em;box-sizing: border-box;padding-bottom: 0.4em;background-color: white;}#sk-container-id-5 div.sk-label label {font-family: monospace;font-weight: bold;display: inline-block;line-height: 1.2em;}#sk-container-id-5 div.sk-label-container {text-align: center;}#sk-container-id-5 div.sk-container {/* jupyter's `normalize.less` sets `[hidden] { display: none; }` but bootstrap.min.css set `[hidden] { display: none !important; }` so we also need the `!important` here to be able to override the default hidden behavior on the sphinx rendered scikit-learn.org. See: https://github.com/scikit-learn/scikit-learn/issues/21755 */display: inline-block !important;position: relative;}#sk-container-id-5 div.sk-text-repr-fallback {display: none;}</style><div id=\"sk-container-id-5\" class=\"sk-top-container\"><div class=\"sk-text-repr-fallback\"><pre>GaussianNB()</pre><b>In a Jupyter environment, please rerun this cell to show the HTML representation or trust the notebook. <br />On GitHub, the HTML representation is unable to render, please try loading this page with nbviewer.org.</b></div><div class=\"sk-container\" hidden><div class=\"sk-item\"><div class=\"sk-estimator sk-toggleable\"><input class=\"sk-toggleable__control sk-hidden--visually\" id=\"sk-estimator-id-5\" type=\"checkbox\" checked><label for=\"sk-estimator-id-5\" class=\"sk-toggleable__label sk-toggleable__label-arrow\">GaussianNB</label><div class=\"sk-toggleable__content\"><pre>GaussianNB()</pre></div></div></div></div></div>"
      ],
      "text/plain": [
       "GaussianNB()"
      ]
     },
     "execution_count": 44,
     "metadata": {},
     "output_type": "execute_result"
    }
   ],
   "source": [
    "nb.fit(x_train,y_train)"
   ]
  },
  {
   "cell_type": "code",
   "execution_count": 45,
   "id": "e9a99809-c8bc-4669-9539-c94af940ae59",
   "metadata": {
    "scrolled": true
   },
   "outputs": [
    {
     "data": {
      "text/plain": [
       "array(['bad', 'good', 'bad', 'good', 'bad', 'bad', 'good', 'good', 'good',\n",
       "       'bad', 'good', 'good', 'bad', 'good', 'bad', 'good', 'bad', 'bad',\n",
       "       'bad', 'bad', 'good', 'good', 'good', 'bad', 'good', 'good', 'bad',\n",
       "       'bad', 'bad', 'good', 'bad', 'bad', 'good', 'good', 'bad', 'bad',\n",
       "       'bad', 'bad', 'good', 'good', 'good', 'bad', 'good', 'bad', 'good',\n",
       "       'good', 'bad', 'bad', 'good', 'bad', 'good', 'bad', 'good', 'good',\n",
       "       'bad', 'bad', 'good', 'good', 'good', 'good', 'bad', 'bad', 'good',\n",
       "       'good', 'good', 'good', 'bad', 'bad', 'bad', 'bad', 'bad', 'good',\n",
       "       'bad', 'bad', 'good', 'good', 'good', 'good', 'good', 'bad',\n",
       "       'good', 'good', 'bad', 'good', 'bad', 'good', 'good', 'good',\n",
       "       'good', 'bad', 'good', 'good', 'bad', 'good', 'bad', 'bad', 'good',\n",
       "       'bad', 'good', 'bad', 'bad', 'bad', 'good', 'good', 'bad', 'bad',\n",
       "       'good', 'good', 'good', 'bad', 'bad', 'bad', 'good', 'bad', 'good',\n",
       "       'good', 'bad', 'bad', 'good', 'bad', 'bad', 'good', 'bad', 'bad',\n",
       "       'bad', 'good', 'good', 'good', 'bad', 'good', 'bad', 'good',\n",
       "       'good', 'bad', 'bad', 'bad', 'bad', 'bad', 'bad', 'good', 'good',\n",
       "       'good', 'bad', 'good', 'bad', 'bad', 'bad', 'bad', 'good', 'bad',\n",
       "       'bad', 'good', 'bad', 'bad', 'good', 'good', 'bad', 'good', 'bad',\n",
       "       'good', 'bad', 'bad', 'bad', 'good', 'good', 'good', 'bad', 'bad',\n",
       "       'good', 'bad', 'bad', 'bad', 'bad', 'good', 'bad', 'bad', 'good',\n",
       "       'good', 'bad', 'bad', 'bad', 'bad', 'good', 'bad', 'good', 'bad',\n",
       "       'bad', 'bad', 'bad', 'good', 'good', 'good', 'bad', 'bad', 'bad',\n",
       "       'good', 'bad', 'good', 'bad', 'good', 'bad', 'good', 'good',\n",
       "       'good', 'bad', 'bad', 'bad', 'good', 'good', 'bad', 'bad', 'bad',\n",
       "       'good', 'bad', 'good', 'good', 'good', 'good', 'bad', 'good',\n",
       "       'bad', 'bad', 'good', 'good', 'good', 'bad', 'bad', 'good', 'good',\n",
       "       'good', 'bad', 'bad', 'bad', 'good', 'bad', 'good', 'bad', 'bad',\n",
       "       'good', 'good', 'good', 'good', 'good', 'good', 'bad', 'good',\n",
       "       'bad', 'good', 'bad', 'bad', 'good', 'good', 'bad', 'good', 'bad',\n",
       "       'bad', 'good', 'bad', 'bad', 'bad', 'good', 'bad', 'good', 'good',\n",
       "       'bad', 'bad', 'good', 'bad', 'good', 'bad', 'bad', 'bad', 'bad',\n",
       "       'bad', 'good', 'bad', 'bad', 'bad', 'good', 'good', 'good', 'good',\n",
       "       'bad', 'bad', 'good', 'bad', 'bad', 'bad', 'bad', 'bad', 'bad',\n",
       "       'bad', 'bad', 'good', 'bad', 'bad', 'bad', 'bad', 'bad', 'good',\n",
       "       'good', 'bad', 'good', 'bad', 'good', 'bad', 'bad', 'bad', 'good',\n",
       "       'good', 'good', 'bad', 'bad', 'bad', 'good', 'bad', 'bad', 'bad',\n",
       "       'bad', 'bad', 'good', 'bad', 'good', 'bad', 'bad', 'bad', 'good',\n",
       "       'good', 'bad', 'bad', 'good', 'good', 'bad', 'good', 'bad', 'good',\n",
       "       'bad', 'good', 'good', 'bad', 'good', 'bad', 'bad', 'bad', 'bad',\n",
       "       'good', 'good', 'good', 'bad', 'bad', 'bad', 'bad', 'bad', 'good',\n",
       "       'good', 'good', 'good', 'bad', 'good', 'good', 'bad', 'bad',\n",
       "       'good', 'bad', 'bad', 'good', 'good', 'bad', 'good', 'bad', 'bad',\n",
       "       'good', 'bad', 'good', 'bad', 'good', 'bad', 'bad', 'good', 'bad',\n",
       "       'good', 'bad', 'good', 'bad', 'good', 'good', 'good', 'good',\n",
       "       'good', 'good', 'bad', 'bad', 'good', 'bad', 'good', 'bad', 'bad',\n",
       "       'good', 'good', 'good', 'bad', 'bad', 'good', 'bad', 'good',\n",
       "       'good', 'good', 'bad', 'good', 'good', 'good', 'bad', 'bad',\n",
       "       'good', 'bad', 'bad', 'bad', 'bad', 'bad', 'bad', 'bad', 'bad',\n",
       "       'bad', 'good', 'bad', 'good', 'bad', 'good', 'good', 'bad', 'bad',\n",
       "       'good', 'bad', 'good', 'good', 'good', 'good', 'bad', 'good',\n",
       "       'bad', 'good', 'good', 'good', 'good', 'good', 'good', 'good',\n",
       "       'bad', 'bad', 'bad', 'good', 'bad', 'good', 'good', 'bad', 'bad',\n",
       "       'good', 'good', 'bad', 'good', 'bad', 'bad', 'bad', 'good', 'good',\n",
       "       'good', 'good', 'good', 'bad', 'bad', 'good', 'bad', 'good',\n",
       "       'good', 'bad', 'good', 'good', 'bad', 'bad', 'bad', 'good', 'bad',\n",
       "       'bad', 'good', 'good', 'good', 'good', 'good', 'bad', 'bad',\n",
       "       'good', 'good', 'good', 'bad', 'good', 'bad', 'good', 'good',\n",
       "       'bad', 'bad', 'bad', 'good', 'bad', 'bad', 'good', 'good', 'good',\n",
       "       'good', 'bad', 'bad', 'bad', 'good', 'good', 'good', 'good',\n",
       "       'good', 'good', 'good', 'good', 'bad', 'bad', 'good', 'bad',\n",
       "       'good', 'bad', 'bad', 'good', 'good', 'good', 'bad', 'bad', 'bad',\n",
       "       'good', 'bad', 'good', 'good', 'good', 'good', 'good', 'good',\n",
       "       'good', 'good', 'bad', 'good', 'good', 'bad', 'bad', 'good',\n",
       "       'good', 'bad', 'bad', 'good', 'bad', 'good', 'good', 'bad', 'good',\n",
       "       'bad', 'good', 'good', 'good', 'bad', 'good', 'bad', 'good',\n",
       "       'good', 'bad', 'bad', 'bad', 'good', 'good', 'bad', 'good', 'bad',\n",
       "       'bad', 'good', 'good', 'bad', 'good', 'bad', 'good', 'good',\n",
       "       'good', 'good', 'bad', 'good', 'good', 'good', 'bad', 'bad', 'bad',\n",
       "       'bad', 'good', 'good', 'bad', 'good', 'good', 'good', 'bad', 'bad',\n",
       "       'good', 'bad', 'bad', 'good', 'good', 'good', 'bad', 'bad', 'bad',\n",
       "       'bad', 'good', 'bad', 'bad', 'good', 'bad', 'bad', 'bad', 'good',\n",
       "       'bad', 'good', 'good', 'bad', 'good', 'good', 'bad', 'good',\n",
       "       'good', 'good', 'good', 'bad', 'good', 'good', 'good', 'bad',\n",
       "       'good', 'good', 'bad', 'good', 'good', 'bad', 'good', 'good',\n",
       "       'bad', 'good', 'bad', 'good', 'good', 'bad', 'bad', 'good', 'good',\n",
       "       'bad', 'bad', 'bad', 'good', 'bad', 'bad', 'good', 'good', 'bad',\n",
       "       'good', 'good', 'bad', 'bad', 'bad', 'good', 'good', 'good', 'bad',\n",
       "       'good', 'good', 'good', 'good', 'bad', 'good', 'good', 'bad',\n",
       "       'good', 'bad', 'bad', 'bad', 'good', 'bad', 'bad', 'bad', 'bad',\n",
       "       'bad', 'good', 'good', 'good', 'good', 'good', 'good', 'good',\n",
       "       'bad', 'bad', 'good', 'bad', 'good', 'bad', 'bad', 'bad', 'good',\n",
       "       'bad', 'bad', 'good', 'good', 'good', 'bad', 'bad', 'good', 'good',\n",
       "       'bad', 'bad', 'bad', 'bad', 'good', 'good', 'good', 'good', 'bad',\n",
       "       'bad', 'bad', 'good', 'good', 'good', 'bad', 'bad', 'bad', 'good',\n",
       "       'bad', 'bad', 'good', 'good', 'good', 'good', 'bad', 'bad', 'bad',\n",
       "       'bad', 'good', 'bad', 'good', 'bad', 'good', 'good', 'bad', 'bad',\n",
       "       'good', 'good', 'good', 'bad', 'good', 'good', 'good', 'good',\n",
       "       'good', 'good', 'bad', 'good', 'bad', 'bad', 'good', 'bad', 'bad',\n",
       "       'bad', 'bad', 'bad', 'good', 'bad', 'good', 'bad', 'bad', 'bad',\n",
       "       'good', 'bad', 'good', 'bad', 'good', 'bad', 'bad', 'good', 'good',\n",
       "       'good', 'bad', 'good', 'good', 'bad', 'good', 'bad', 'bad', 'bad',\n",
       "       'bad', 'good', 'bad', 'good', 'bad', 'good', 'good', 'bad'],\n",
       "      dtype='<U4')"
      ]
     },
     "execution_count": 45,
     "metadata": {},
     "output_type": "execute_result"
    }
   ],
   "source": [
    "ypred5=nb.predict(x_test)\n",
    "ypred5"
   ]
  },
  {
   "cell_type": "code",
   "execution_count": 46,
   "id": "16d0c19a-3670-416c-92d7-500e8089ac7f",
   "metadata": {},
   "outputs": [
    {
     "data": {
      "text/plain": [
       "75.0"
      ]
     },
     "execution_count": 46,
     "metadata": {},
     "output_type": "execute_result"
    }
   ],
   "source": [
    "score5=round(accuracy_score(y_test,ypred5),2)*100\n",
    "score5"
   ]
  },
  {
   "cell_type": "markdown",
   "id": "de8a337b-8dc9-4e54-8edb-eab9695b6948",
   "metadata": {},
   "source": [
    "## kneighbor Algorithms"
   ]
  },
  {
   "cell_type": "code",
   "execution_count": 47,
   "id": "5698f0d2-74a7-484d-bbb8-1cfdc2e10acf",
   "metadata": {},
   "outputs": [],
   "source": [
    "from sklearn.neighbors import KNeighborsClassifier"
   ]
  },
  {
   "cell_type": "code",
   "execution_count": 48,
   "id": "446a21cb-25e4-40fa-b3e2-f178fd6d66e9",
   "metadata": {},
   "outputs": [],
   "source": [
    "kc=KNeighborsClassifier(n_neighbors=5)"
   ]
  },
  {
   "cell_type": "code",
   "execution_count": 49,
   "id": "8b677677-e7e1-47b6-a82c-825fcbf5ad02",
   "metadata": {},
   "outputs": [
    {
     "data": {
      "text/html": [
       "<style>#sk-container-id-6 {color: black;background-color: white;}#sk-container-id-6 pre{padding: 0;}#sk-container-id-6 div.sk-toggleable {background-color: white;}#sk-container-id-6 label.sk-toggleable__label {cursor: pointer;display: block;width: 100%;margin-bottom: 0;padding: 0.3em;box-sizing: border-box;text-align: center;}#sk-container-id-6 label.sk-toggleable__label-arrow:before {content: \"▸\";float: left;margin-right: 0.25em;color: #696969;}#sk-container-id-6 label.sk-toggleable__label-arrow:hover:before {color: black;}#sk-container-id-6 div.sk-estimator:hover label.sk-toggleable__label-arrow:before {color: black;}#sk-container-id-6 div.sk-toggleable__content {max-height: 0;max-width: 0;overflow: hidden;text-align: left;background-color: #f0f8ff;}#sk-container-id-6 div.sk-toggleable__content pre {margin: 0.2em;color: black;border-radius: 0.25em;background-color: #f0f8ff;}#sk-container-id-6 input.sk-toggleable__control:checked~div.sk-toggleable__content {max-height: 200px;max-width: 100%;overflow: auto;}#sk-container-id-6 input.sk-toggleable__control:checked~label.sk-toggleable__label-arrow:before {content: \"▾\";}#sk-container-id-6 div.sk-estimator input.sk-toggleable__control:checked~label.sk-toggleable__label {background-color: #d4ebff;}#sk-container-id-6 div.sk-label input.sk-toggleable__control:checked~label.sk-toggleable__label {background-color: #d4ebff;}#sk-container-id-6 input.sk-hidden--visually {border: 0;clip: rect(1px 1px 1px 1px);clip: rect(1px, 1px, 1px, 1px);height: 1px;margin: -1px;overflow: hidden;padding: 0;position: absolute;width: 1px;}#sk-container-id-6 div.sk-estimator {font-family: monospace;background-color: #f0f8ff;border: 1px dotted black;border-radius: 0.25em;box-sizing: border-box;margin-bottom: 0.5em;}#sk-container-id-6 div.sk-estimator:hover {background-color: #d4ebff;}#sk-container-id-6 div.sk-parallel-item::after {content: \"\";width: 100%;border-bottom: 1px solid gray;flex-grow: 1;}#sk-container-id-6 div.sk-label:hover label.sk-toggleable__label {background-color: #d4ebff;}#sk-container-id-6 div.sk-serial::before {content: \"\";position: absolute;border-left: 1px solid gray;box-sizing: border-box;top: 0;bottom: 0;left: 50%;z-index: 0;}#sk-container-id-6 div.sk-serial {display: flex;flex-direction: column;align-items: center;background-color: white;padding-right: 0.2em;padding-left: 0.2em;position: relative;}#sk-container-id-6 div.sk-item {position: relative;z-index: 1;}#sk-container-id-6 div.sk-parallel {display: flex;align-items: stretch;justify-content: center;background-color: white;position: relative;}#sk-container-id-6 div.sk-item::before, #sk-container-id-6 div.sk-parallel-item::before {content: \"\";position: absolute;border-left: 1px solid gray;box-sizing: border-box;top: 0;bottom: 0;left: 50%;z-index: -1;}#sk-container-id-6 div.sk-parallel-item {display: flex;flex-direction: column;z-index: 1;position: relative;background-color: white;}#sk-container-id-6 div.sk-parallel-item:first-child::after {align-self: flex-end;width: 50%;}#sk-container-id-6 div.sk-parallel-item:last-child::after {align-self: flex-start;width: 50%;}#sk-container-id-6 div.sk-parallel-item:only-child::after {width: 0;}#sk-container-id-6 div.sk-dashed-wrapped {border: 1px dashed gray;margin: 0 0.4em 0.5em 0.4em;box-sizing: border-box;padding-bottom: 0.4em;background-color: white;}#sk-container-id-6 div.sk-label label {font-family: monospace;font-weight: bold;display: inline-block;line-height: 1.2em;}#sk-container-id-6 div.sk-label-container {text-align: center;}#sk-container-id-6 div.sk-container {/* jupyter's `normalize.less` sets `[hidden] { display: none; }` but bootstrap.min.css set `[hidden] { display: none !important; }` so we also need the `!important` here to be able to override the default hidden behavior on the sphinx rendered scikit-learn.org. See: https://github.com/scikit-learn/scikit-learn/issues/21755 */display: inline-block !important;position: relative;}#sk-container-id-6 div.sk-text-repr-fallback {display: none;}</style><div id=\"sk-container-id-6\" class=\"sk-top-container\"><div class=\"sk-text-repr-fallback\"><pre>KNeighborsClassifier()</pre><b>In a Jupyter environment, please rerun this cell to show the HTML representation or trust the notebook. <br />On GitHub, the HTML representation is unable to render, please try loading this page with nbviewer.org.</b></div><div class=\"sk-container\" hidden><div class=\"sk-item\"><div class=\"sk-estimator sk-toggleable\"><input class=\"sk-toggleable__control sk-hidden--visually\" id=\"sk-estimator-id-6\" type=\"checkbox\" checked><label for=\"sk-estimator-id-6\" class=\"sk-toggleable__label sk-toggleable__label-arrow\">KNeighborsClassifier</label><div class=\"sk-toggleable__content\"><pre>KNeighborsClassifier()</pre></div></div></div></div></div>"
      ],
      "text/plain": [
       "KNeighborsClassifier()"
      ]
     },
     "execution_count": 49,
     "metadata": {},
     "output_type": "execute_result"
    }
   ],
   "source": [
    "kc.fit(x_train,y_train)"
   ]
  },
  {
   "cell_type": "code",
   "execution_count": 50,
   "id": "83232d94-7aad-4c50-a98e-5452e0f147db",
   "metadata": {
    "scrolled": true
   },
   "outputs": [
    {
     "data": {
      "text/plain": [
       "array(['good', 'bad', 'bad', 'good', 'bad', 'good', 'bad', 'good', 'good',\n",
       "       'good', 'good', 'good', 'good', 'good', 'good', 'bad', 'good',\n",
       "       'bad', 'good', 'bad', 'good', 'bad', 'bad', 'good', 'bad', 'bad',\n",
       "       'bad', 'bad', 'bad', 'good', 'bad', 'good', 'good', 'good', 'good',\n",
       "       'good', 'bad', 'good', 'bad', 'bad', 'bad', 'bad', 'good', 'good',\n",
       "       'good', 'good', 'bad', 'good', 'good', 'bad', 'good', 'bad', 'bad',\n",
       "       'good', 'bad', 'good', 'good', 'good', 'bad', 'bad', 'good',\n",
       "       'good', 'good', 'good', 'bad', 'bad', 'good', 'bad', 'bad', 'bad',\n",
       "       'bad', 'good', 'good', 'good', 'good', 'bad', 'bad', 'good',\n",
       "       'good', 'bad', 'good', 'bad', 'good', 'good', 'good', 'bad',\n",
       "       'good', 'bad', 'good', 'bad', 'bad', 'bad', 'good', 'bad', 'bad',\n",
       "       'good', 'good', 'good', 'bad', 'bad', 'bad', 'good', 'good', 'bad',\n",
       "       'good', 'bad', 'good', 'good', 'good', 'good', 'bad', 'good',\n",
       "       'good', 'good', 'bad', 'bad', 'bad', 'bad', 'bad', 'good', 'bad',\n",
       "       'bad', 'bad', 'bad', 'good', 'bad', 'good', 'good', 'bad', 'good',\n",
       "       'bad', 'bad', 'bad', 'bad', 'bad', 'bad', 'bad', 'bad', 'bad',\n",
       "       'bad', 'good', 'good', 'bad', 'good', 'bad', 'bad', 'good', 'good',\n",
       "       'bad', 'good', 'good', 'good', 'good', 'bad', 'good', 'bad', 'bad',\n",
       "       'good', 'bad', 'bad', 'good', 'bad', 'bad', 'good', 'good', 'good',\n",
       "       'bad', 'bad', 'good', 'good', 'bad', 'good', 'bad', 'bad', 'good',\n",
       "       'good', 'good', 'bad', 'good', 'good', 'bad', 'bad', 'good', 'bad',\n",
       "       'good', 'bad', 'good', 'bad', 'good', 'bad', 'bad', 'good', 'bad',\n",
       "       'bad', 'bad', 'bad', 'bad', 'bad', 'good', 'bad', 'bad', 'good',\n",
       "       'good', 'bad', 'good', 'good', 'good', 'good', 'good', 'bad',\n",
       "       'good', 'bad', 'good', 'good', 'good', 'good', 'bad', 'bad', 'bad',\n",
       "       'good', 'good', 'bad', 'bad', 'good', 'good', 'good', 'bad',\n",
       "       'good', 'good', 'good', 'bad', 'bad', 'good', 'bad', 'good',\n",
       "       'good', 'bad', 'good', 'good', 'good', 'good', 'bad', 'bad',\n",
       "       'good', 'good', 'bad', 'good', 'bad', 'good', 'bad', 'good', 'bad',\n",
       "       'bad', 'bad', 'bad', 'good', 'bad', 'good', 'good', 'bad', 'good',\n",
       "       'bad', 'good', 'good', 'good', 'bad', 'good', 'bad', 'good',\n",
       "       'good', 'bad', 'good', 'good', 'good', 'good', 'bad', 'bad',\n",
       "       'good', 'good', 'bad', 'good', 'bad', 'bad', 'bad', 'good', 'good',\n",
       "       'good', 'good', 'bad', 'good', 'bad', 'bad', 'bad', 'good', 'bad',\n",
       "       'bad', 'bad', 'good', 'good', 'good', 'good', 'good', 'good',\n",
       "       'good', 'good', 'good', 'good', 'good', 'good', 'good', 'good',\n",
       "       'bad', 'good', 'good', 'bad', 'bad', 'good', 'good', 'bad', 'bad',\n",
       "       'bad', 'bad', 'good', 'bad', 'bad', 'bad', 'good', 'good', 'good',\n",
       "       'good', 'good', 'good', 'bad', 'bad', 'bad', 'good', 'bad', 'good',\n",
       "       'good', 'good', 'good', 'bad', 'bad', 'good', 'good', 'good',\n",
       "       'good', 'good', 'good', 'bad', 'good', 'good', 'bad', 'good',\n",
       "       'good', 'good', 'good', 'good', 'bad', 'bad', 'bad', 'good', 'bad',\n",
       "       'good', 'bad', 'good', 'bad', 'good', 'good', 'bad', 'good',\n",
       "       'good', 'bad', 'good', 'bad', 'good', 'good', 'good', 'good',\n",
       "       'bad', 'good', 'good', 'bad', 'bad', 'good', 'bad', 'good', 'good',\n",
       "       'good', 'bad', 'bad', 'bad', 'good', 'good', 'good', 'good', 'bad',\n",
       "       'bad', 'good', 'bad', 'bad', 'bad', 'bad', 'bad', 'bad', 'bad',\n",
       "       'bad', 'bad', 'bad', 'bad', 'good', 'good', 'good', 'good', 'good',\n",
       "       'good', 'bad', 'bad', 'bad', 'good', 'good', 'good', 'bad', 'bad',\n",
       "       'bad', 'bad', 'good', 'good', 'good', 'bad', 'good', 'good', 'bad',\n",
       "       'bad', 'good', 'bad', 'good', 'good', 'good', 'good', 'bad',\n",
       "       'good', 'bad', 'bad', 'bad', 'bad', 'good', 'bad', 'good', 'bad',\n",
       "       'good', 'good', 'bad', 'bad', 'good', 'good', 'bad', 'bad', 'good',\n",
       "       'good', 'good', 'good', 'bad', 'bad', 'good', 'good', 'bad', 'bad',\n",
       "       'good', 'bad', 'good', 'good', 'good', 'good', 'bad', 'good',\n",
       "       'bad', 'good', 'good', 'bad', 'bad', 'bad', 'good', 'bad', 'good',\n",
       "       'bad', 'bad', 'good', 'good', 'good', 'bad', 'bad', 'good', 'bad',\n",
       "       'good', 'bad', 'bad', 'good', 'bad', 'bad', 'bad', 'bad', 'bad',\n",
       "       'bad', 'bad', 'good', 'good', 'good', 'bad', 'good', 'good', 'bad',\n",
       "       'bad', 'good', 'bad', 'bad', 'good', 'bad', 'bad', 'bad', 'good',\n",
       "       'bad', 'good', 'good', 'bad', 'good', 'good', 'good', 'good',\n",
       "       'bad', 'bad', 'good', 'good', 'good', 'good', 'bad', 'good',\n",
       "       'good', 'good', 'good', 'bad', 'good', 'bad', 'good', 'bad', 'bad',\n",
       "       'bad', 'good', 'good', 'bad', 'bad', 'good', 'good', 'good', 'bad',\n",
       "       'good', 'good', 'bad', 'bad', 'good', 'good', 'bad', 'bad', 'good',\n",
       "       'good', 'bad', 'bad', 'good', 'good', 'bad', 'good', 'good', 'bad',\n",
       "       'good', 'good', 'good', 'good', 'bad', 'bad', 'bad', 'good',\n",
       "       'good', 'bad', 'good', 'bad', 'good', 'good', 'good', 'good',\n",
       "       'bad', 'bad', 'bad', 'bad', 'bad', 'bad', 'bad', 'bad', 'bad',\n",
       "       'good', 'bad', 'good', 'good', 'bad', 'bad', 'bad', 'good', 'good',\n",
       "       'bad', 'bad', 'bad', 'bad', 'good', 'bad', 'bad', 'good', 'good',\n",
       "       'bad', 'bad', 'bad', 'good', 'bad', 'good', 'good', 'good', 'bad',\n",
       "       'good', 'bad', 'bad', 'good', 'good', 'bad', 'bad', 'good', 'bad',\n",
       "       'bad', 'good', 'bad', 'good', 'bad', 'bad', 'good', 'bad', 'good',\n",
       "       'good', 'good', 'bad', 'bad', 'bad', 'good', 'bad', 'good', 'bad',\n",
       "       'good', 'good', 'bad', 'good', 'bad', 'bad', 'bad', 'good', 'good',\n",
       "       'good', 'bad', 'bad', 'bad', 'good', 'good', 'good', 'bad', 'good',\n",
       "       'bad', 'bad', 'bad', 'good', 'good', 'bad', 'bad', 'good', 'bad',\n",
       "       'good', 'bad', 'bad', 'bad', 'bad', 'bad', 'good', 'good', 'good',\n",
       "       'bad', 'good', 'good', 'bad', 'good', 'good', 'bad', 'good',\n",
       "       'good', 'bad', 'good', 'good', 'bad', 'bad', 'bad', 'good', 'bad',\n",
       "       'good', 'good', 'bad', 'bad', 'good', 'bad', 'good', 'good', 'bad',\n",
       "       'bad', 'bad', 'bad', 'good', 'bad', 'bad', 'bad', 'good', 'good',\n",
       "       'good', 'good', 'good', 'bad', 'good', 'bad', 'good', 'good',\n",
       "       'bad', 'bad', 'good', 'bad', 'good', 'bad', 'bad', 'bad', 'bad',\n",
       "       'good', 'bad', 'bad', 'good', 'good', 'good', 'good', 'bad',\n",
       "       'good', 'good', 'good', 'good', 'good', 'bad', 'good', 'bad',\n",
       "       'good', 'good', 'bad', 'bad', 'good', 'bad', 'good', 'good', 'bad',\n",
       "       'bad', 'bad', 'good', 'good', 'bad', 'bad', 'bad', 'bad', 'good',\n",
       "       'good', 'bad', 'good', 'good', 'good', 'bad', 'good', 'good',\n",
       "       'good', 'good', 'good', 'bad', 'bad', 'bad', 'bad', 'bad', 'good',\n",
       "       'good', 'bad', 'bad', 'good', 'bad', 'bad', 'good', 'good', 'good'],\n",
       "      dtype=object)"
      ]
     },
     "execution_count": 50,
     "metadata": {},
     "output_type": "execute_result"
    }
   ],
   "source": [
    "ypred6=kc.predict(x_test)\n",
    "ypred6"
   ]
  },
  {
   "cell_type": "code",
   "execution_count": 51,
   "id": "acf3ca6e-1c91-43d4-813e-619fcd423c12",
   "metadata": {},
   "outputs": [
    {
     "data": {
      "text/plain": [
       "53.0"
      ]
     },
     "execution_count": 51,
     "metadata": {},
     "output_type": "execute_result"
    }
   ],
   "source": [
    "score6=round(accuracy_score(y_test,ypred6),2)*100\n",
    "score6"
   ]
  },
  {
   "cell_type": "markdown",
   "id": "c74b2892-676d-4ba3-a5c7-22f3928424bf",
   "metadata": {},
   "source": [
    "## Adaboost Classifier ALgorithm"
   ]
  },
  {
   "cell_type": "code",
   "execution_count": 52,
   "id": "42370da4-7818-4dd5-9b9f-3c897cd58040",
   "metadata": {},
   "outputs": [],
   "source": [
    "from sklearn.ensemble import AdaBoostClassifier"
   ]
  },
  {
   "cell_type": "code",
   "execution_count": 53,
   "id": "c0467672-9353-4e5e-ac99-17cc31239565",
   "metadata": {},
   "outputs": [],
   "source": [
    "# Create AdaBoostClassifier object\n",
    "ada_model = AdaBoostClassifier()"
   ]
  },
  {
   "cell_type": "code",
   "execution_count": 54,
   "id": "a4ede7e5-e61a-40f9-9fbe-f8099ce90e31",
   "metadata": {},
   "outputs": [
    {
     "data": {
      "text/html": [
       "<style>#sk-container-id-7 {color: black;background-color: white;}#sk-container-id-7 pre{padding: 0;}#sk-container-id-7 div.sk-toggleable {background-color: white;}#sk-container-id-7 label.sk-toggleable__label {cursor: pointer;display: block;width: 100%;margin-bottom: 0;padding: 0.3em;box-sizing: border-box;text-align: center;}#sk-container-id-7 label.sk-toggleable__label-arrow:before {content: \"▸\";float: left;margin-right: 0.25em;color: #696969;}#sk-container-id-7 label.sk-toggleable__label-arrow:hover:before {color: black;}#sk-container-id-7 div.sk-estimator:hover label.sk-toggleable__label-arrow:before {color: black;}#sk-container-id-7 div.sk-toggleable__content {max-height: 0;max-width: 0;overflow: hidden;text-align: left;background-color: #f0f8ff;}#sk-container-id-7 div.sk-toggleable__content pre {margin: 0.2em;color: black;border-radius: 0.25em;background-color: #f0f8ff;}#sk-container-id-7 input.sk-toggleable__control:checked~div.sk-toggleable__content {max-height: 200px;max-width: 100%;overflow: auto;}#sk-container-id-7 input.sk-toggleable__control:checked~label.sk-toggleable__label-arrow:before {content: \"▾\";}#sk-container-id-7 div.sk-estimator input.sk-toggleable__control:checked~label.sk-toggleable__label {background-color: #d4ebff;}#sk-container-id-7 div.sk-label input.sk-toggleable__control:checked~label.sk-toggleable__label {background-color: #d4ebff;}#sk-container-id-7 input.sk-hidden--visually {border: 0;clip: rect(1px 1px 1px 1px);clip: rect(1px, 1px, 1px, 1px);height: 1px;margin: -1px;overflow: hidden;padding: 0;position: absolute;width: 1px;}#sk-container-id-7 div.sk-estimator {font-family: monospace;background-color: #f0f8ff;border: 1px dotted black;border-radius: 0.25em;box-sizing: border-box;margin-bottom: 0.5em;}#sk-container-id-7 div.sk-estimator:hover {background-color: #d4ebff;}#sk-container-id-7 div.sk-parallel-item::after {content: \"\";width: 100%;border-bottom: 1px solid gray;flex-grow: 1;}#sk-container-id-7 div.sk-label:hover label.sk-toggleable__label {background-color: #d4ebff;}#sk-container-id-7 div.sk-serial::before {content: \"\";position: absolute;border-left: 1px solid gray;box-sizing: border-box;top: 0;bottom: 0;left: 50%;z-index: 0;}#sk-container-id-7 div.sk-serial {display: flex;flex-direction: column;align-items: center;background-color: white;padding-right: 0.2em;padding-left: 0.2em;position: relative;}#sk-container-id-7 div.sk-item {position: relative;z-index: 1;}#sk-container-id-7 div.sk-parallel {display: flex;align-items: stretch;justify-content: center;background-color: white;position: relative;}#sk-container-id-7 div.sk-item::before, #sk-container-id-7 div.sk-parallel-item::before {content: \"\";position: absolute;border-left: 1px solid gray;box-sizing: border-box;top: 0;bottom: 0;left: 50%;z-index: -1;}#sk-container-id-7 div.sk-parallel-item {display: flex;flex-direction: column;z-index: 1;position: relative;background-color: white;}#sk-container-id-7 div.sk-parallel-item:first-child::after {align-self: flex-end;width: 50%;}#sk-container-id-7 div.sk-parallel-item:last-child::after {align-self: flex-start;width: 50%;}#sk-container-id-7 div.sk-parallel-item:only-child::after {width: 0;}#sk-container-id-7 div.sk-dashed-wrapped {border: 1px dashed gray;margin: 0 0.4em 0.5em 0.4em;box-sizing: border-box;padding-bottom: 0.4em;background-color: white;}#sk-container-id-7 div.sk-label label {font-family: monospace;font-weight: bold;display: inline-block;line-height: 1.2em;}#sk-container-id-7 div.sk-label-container {text-align: center;}#sk-container-id-7 div.sk-container {/* jupyter's `normalize.less` sets `[hidden] { display: none; }` but bootstrap.min.css set `[hidden] { display: none !important; }` so we also need the `!important` here to be able to override the default hidden behavior on the sphinx rendered scikit-learn.org. See: https://github.com/scikit-learn/scikit-learn/issues/21755 */display: inline-block !important;position: relative;}#sk-container-id-7 div.sk-text-repr-fallback {display: none;}</style><div id=\"sk-container-id-7\" class=\"sk-top-container\"><div class=\"sk-text-repr-fallback\"><pre>AdaBoostClassifier()</pre><b>In a Jupyter environment, please rerun this cell to show the HTML representation or trust the notebook. <br />On GitHub, the HTML representation is unable to render, please try loading this page with nbviewer.org.</b></div><div class=\"sk-container\" hidden><div class=\"sk-item\"><div class=\"sk-estimator sk-toggleable\"><input class=\"sk-toggleable__control sk-hidden--visually\" id=\"sk-estimator-id-7\" type=\"checkbox\" checked><label for=\"sk-estimator-id-7\" class=\"sk-toggleable__label sk-toggleable__label-arrow\">AdaBoostClassifier</label><div class=\"sk-toggleable__content\"><pre>AdaBoostClassifier()</pre></div></div></div></div></div>"
      ],
      "text/plain": [
       "AdaBoostClassifier()"
      ]
     },
     "execution_count": 54,
     "metadata": {},
     "output_type": "execute_result"
    }
   ],
   "source": [
    "ada_model.fit(x_train,y_train)"
   ]
  },
  {
   "cell_type": "code",
   "execution_count": 55,
   "id": "ad978f15-8c9a-407d-b139-8605d09583cf",
   "metadata": {
    "scrolled": true
   },
   "outputs": [
    {
     "data": {
      "text/plain": [
       "array(['bad', 'good', 'bad', 'good', 'bad', 'bad', 'good', 'good', 'good',\n",
       "       'bad', 'good', 'good', 'good', 'good', 'bad', 'bad', 'bad', 'bad',\n",
       "       'bad', 'bad', 'good', 'bad', 'good', 'bad', 'good', 'good', 'bad',\n",
       "       'bad', 'bad', 'bad', 'bad', 'bad', 'good', 'good', 'bad', 'bad',\n",
       "       'good', 'bad', 'good', 'good', 'bad', 'bad', 'good', 'bad', 'good',\n",
       "       'bad', 'bad', 'bad', 'good', 'bad', 'good', 'bad', 'good', 'good',\n",
       "       'bad', 'bad', 'good', 'good', 'good', 'bad', 'bad', 'good', 'good',\n",
       "       'good', 'good', 'good', 'bad', 'bad', 'bad', 'bad', 'bad', 'good',\n",
       "       'good', 'bad', 'good', 'good', 'good', 'good', 'bad', 'bad',\n",
       "       'good', 'good', 'bad', 'good', 'bad', 'good', 'bad', 'good',\n",
       "       'good', 'bad', 'bad', 'good', 'bad', 'good', 'bad', 'bad', 'bad',\n",
       "       'bad', 'good', 'bad', 'bad', 'bad', 'good', 'good', 'bad', 'bad',\n",
       "       'bad', 'good', 'bad', 'bad', 'bad', 'good', 'good', 'bad', 'good',\n",
       "       'good', 'bad', 'bad', 'good', 'bad', 'bad', 'good', 'bad', 'bad',\n",
       "       'bad', 'good', 'good', 'bad', 'good', 'good', 'good', 'bad', 'bad',\n",
       "       'bad', 'bad', 'bad', 'bad', 'bad', 'bad', 'good', 'good', 'good',\n",
       "       'bad', 'good', 'good', 'bad', 'bad', 'bad', 'good', 'bad', 'bad',\n",
       "       'good', 'good', 'bad', 'good', 'bad', 'bad', 'good', 'bad', 'good',\n",
       "       'good', 'bad', 'good', 'good', 'good', 'bad', 'bad', 'bad', 'good',\n",
       "       'bad', 'bad', 'bad', 'bad', 'good', 'bad', 'bad', 'good', 'good',\n",
       "       'bad', 'good', 'bad', 'bad', 'good', 'bad', 'good', 'good', 'bad',\n",
       "       'bad', 'good', 'bad', 'good', 'good', 'bad', 'bad', 'bad', 'bad',\n",
       "       'bad', 'good', 'bad', 'good', 'bad', 'good', 'bad', 'good', 'good',\n",
       "       'bad', 'bad', 'good', 'bad', 'bad', 'good', 'bad', 'good', 'bad',\n",
       "       'good', 'good', 'bad', 'good', 'good', 'good', 'bad', 'bad',\n",
       "       'good', 'bad', 'good', 'bad', 'bad', 'good', 'good', 'good',\n",
       "       'good', 'good', 'bad', 'good', 'bad', 'bad', 'good', 'bad', 'good',\n",
       "       'good', 'good', 'good', 'good', 'good', 'good', 'good', 'bad',\n",
       "       'good', 'bad', 'bad', 'good', 'good', 'good', 'good', 'bad', 'bad',\n",
       "       'good', 'bad', 'bad', 'bad', 'good', 'good', 'good', 'good', 'bad',\n",
       "       'bad', 'good', 'bad', 'good', 'bad', 'good', 'bad', 'good', 'bad',\n",
       "       'good', 'good', 'bad', 'good', 'good', 'bad', 'good', 'good',\n",
       "       'bad', 'bad', 'good', 'good', 'bad', 'bad', 'bad', 'bad', 'bad',\n",
       "       'bad', 'bad', 'good', 'bad', 'bad', 'bad', 'bad', 'bad', 'bad',\n",
       "       'good', 'bad', 'good', 'bad', 'good', 'good', 'bad', 'bad', 'good',\n",
       "       'bad', 'good', 'bad', 'good', 'good', 'good', 'bad', 'bad', 'good',\n",
       "       'good', 'bad', 'good', 'bad', 'good', 'bad', 'good', 'bad', 'good',\n",
       "       'bad', 'bad', 'bad', 'good', 'good', 'bad', 'good', 'bad', 'good',\n",
       "       'bad', 'good', 'good', 'bad', 'good', 'bad', 'bad', 'good', 'bad',\n",
       "       'good', 'good', 'good', 'bad', 'bad', 'bad', 'good', 'bad', 'good',\n",
       "       'good', 'good', 'good', 'bad', 'good', 'good', 'bad', 'bad',\n",
       "       'good', 'good', 'bad', 'good', 'good', 'bad', 'good', 'bad', 'bad',\n",
       "       'good', 'bad', 'good', 'bad', 'good', 'bad', 'bad', 'good', 'bad',\n",
       "       'good', 'bad', 'good', 'bad', 'bad', 'good', 'bad', 'good', 'good',\n",
       "       'good', 'bad', 'bad', 'bad', 'bad', 'good', 'bad', 'bad', 'good',\n",
       "       'bad', 'good', 'bad', 'bad', 'good', 'bad', 'good', 'good', 'good',\n",
       "       'bad', 'good', 'bad', 'good', 'bad', 'bad', 'good', 'bad', 'bad',\n",
       "       'bad', 'bad', 'bad', 'bad', 'bad', 'bad', 'bad', 'good', 'bad',\n",
       "       'good', 'good', 'good', 'good', 'bad', 'good', 'good', 'bad',\n",
       "       'good', 'good', 'good', 'bad', 'good', 'good', 'bad', 'bad',\n",
       "       'good', 'good', 'good', 'good', 'good', 'bad', 'bad', 'good',\n",
       "       'bad', 'good', 'good', 'good', 'bad', 'bad', 'bad', 'good', 'good',\n",
       "       'good', 'bad', 'bad', 'bad', 'bad', 'good', 'bad', 'good', 'good',\n",
       "       'good', 'good', 'bad', 'bad', 'good', 'good', 'good', 'good',\n",
       "       'good', 'good', 'bad', 'bad', 'bad', 'good', 'bad', 'bad', 'good',\n",
       "       'good', 'good', 'good', 'good', 'bad', 'bad', 'good', 'bad',\n",
       "       'good', 'bad', 'good', 'bad', 'good', 'good', 'bad', 'good', 'bad',\n",
       "       'good', 'good', 'bad', 'good', 'good', 'bad', 'good', 'bad', 'bad',\n",
       "       'bad', 'good', 'bad', 'good', 'good', 'good', 'good', 'good',\n",
       "       'good', 'bad', 'good', 'good', 'bad', 'good', 'bad', 'bad', 'good',\n",
       "       'bad', 'good', 'bad', 'bad', 'bad', 'bad', 'bad', 'good', 'good',\n",
       "       'good', 'good', 'good', 'good', 'good', 'good', 'good', 'good',\n",
       "       'bad', 'good', 'bad', 'good', 'good', 'bad', 'bad', 'bad', 'bad',\n",
       "       'good', 'good', 'bad', 'good', 'bad', 'good', 'good', 'bad', 'bad',\n",
       "       'bad', 'good', 'good', 'good', 'bad', 'bad', 'bad', 'good', 'bad',\n",
       "       'bad', 'good', 'bad', 'bad', 'good', 'good', 'bad', 'good', 'bad',\n",
       "       'good', 'good', 'good', 'good', 'bad', 'good', 'bad', 'good',\n",
       "       'good', 'bad', 'bad', 'bad', 'bad', 'bad', 'bad', 'good', 'good',\n",
       "       'good', 'bad', 'bad', 'good', 'bad', 'bad', 'good', 'bad', 'good',\n",
       "       'good', 'bad', 'bad', 'bad', 'good', 'bad', 'bad', 'good', 'bad',\n",
       "       'bad', 'bad', 'bad', 'good', 'bad', 'good', 'bad', 'good', 'good',\n",
       "       'bad', 'good', 'good', 'good', 'good', 'bad', 'good', 'bad',\n",
       "       'good', 'bad', 'good', 'good', 'bad', 'good', 'good', 'bad',\n",
       "       'good', 'good', 'bad', 'good', 'bad', 'good', 'good', 'bad', 'bad',\n",
       "       'good', 'good', 'bad', 'bad', 'bad', 'good', 'bad', 'bad', 'bad',\n",
       "       'good', 'bad', 'good', 'bad', 'bad', 'bad', 'bad', 'good', 'good',\n",
       "       'good', 'bad', 'good', 'good', 'good', 'good', 'good', 'bad',\n",
       "       'good', 'bad', 'good', 'bad', 'bad', 'bad', 'bad', 'bad', 'bad',\n",
       "       'bad', 'bad', 'good', 'good', 'good', 'good', 'good', 'good',\n",
       "       'good', 'good', 'bad', 'bad', 'good', 'bad', 'good', 'good', 'bad',\n",
       "       'good', 'good', 'bad', 'bad', 'good', 'good', 'good', 'bad', 'bad',\n",
       "       'good', 'bad', 'bad', 'bad', 'bad', 'bad', 'bad', 'good', 'good',\n",
       "       'bad', 'bad', 'bad', 'bad', 'good', 'good', 'good', 'bad', 'bad',\n",
       "       'bad', 'good', 'bad', 'bad', 'bad', 'good', 'good', 'good', 'good',\n",
       "       'bad', 'bad', 'bad', 'good', 'good', 'good', 'bad', 'good', 'good',\n",
       "       'bad', 'bad', 'good', 'good', 'good', 'bad', 'good', 'good',\n",
       "       'good', 'bad', 'good', 'good', 'bad', 'good', 'good', 'bad',\n",
       "       'good', 'good', 'good', 'bad', 'bad', 'bad', 'good', 'bad', 'good',\n",
       "       'bad', 'bad', 'bad', 'good', 'bad', 'good', 'bad', 'good', 'bad',\n",
       "       'bad', 'good', 'good', 'good', 'bad', 'good', 'bad', 'bad', 'good',\n",
       "       'bad', 'good', 'bad', 'good', 'bad', 'bad', 'bad', 'bad', 'bad',\n",
       "       'good', 'bad'], dtype=object)"
      ]
     },
     "execution_count": 55,
     "metadata": {},
     "output_type": "execute_result"
    }
   ],
   "source": [
    "ypred7=ada_model.predict(x_test)\n",
    "ypred7"
   ]
  },
  {
   "cell_type": "code",
   "execution_count": 56,
   "id": "c4af8169-65f4-44f4-9f1f-049596d7e2ed",
   "metadata": {},
   "outputs": [
    {
     "data": {
      "text/plain": [
       "74.0"
      ]
     },
     "execution_count": 56,
     "metadata": {},
     "output_type": "execute_result"
    }
   ],
   "source": [
    "score7=round(accuracy_score(y_test,ypred7),2)*100\n",
    "score7"
   ]
  },
  {
   "cell_type": "markdown",
   "id": "b3b972c3-89ca-46b1-a24f-07afee312837",
   "metadata": {},
   "source": [
    "## Creating dataframe to insert all the scores of all the algorithms"
   ]
  },
  {
   "cell_type": "code",
   "execution_count": 57,
   "id": "428a73c8-1cc7-4450-a6e7-e5bd0cca566b",
   "metadata": {},
   "outputs": [],
   "source": [
    "df1=pd.DataFrame()"
   ]
  },
  {
   "cell_type": "code",
   "execution_count": 58,
   "id": "fa1f5f67-61c4-4c51-bc6d-a33319ddde7d",
   "metadata": {},
   "outputs": [],
   "source": [
    "df1['Algorithms']=['Logistic','Decision_tree_classifier','Random_forest_classifier','Support_vector_machine','Gaussian NB','KNeighborsClassifier','Adaboost_classifier']"
   ]
  },
  {
   "cell_type": "code",
   "execution_count": 59,
   "id": "7e93c58b-6fa8-4eec-9d94-1e28b38a1ffa",
   "metadata": {},
   "outputs": [
    {
     "data": {
      "text/html": [
       "<div>\n",
       "<style scoped>\n",
       "    .dataframe tbody tr th:only-of-type {\n",
       "        vertical-align: middle;\n",
       "    }\n",
       "\n",
       "    .dataframe tbody tr th {\n",
       "        vertical-align: top;\n",
       "    }\n",
       "\n",
       "    .dataframe thead th {\n",
       "        text-align: right;\n",
       "    }\n",
       "</style>\n",
       "<table border=\"1\" class=\"dataframe\">\n",
       "  <thead>\n",
       "    <tr style=\"text-align: right;\">\n",
       "      <th></th>\n",
       "      <th>Algorithms</th>\n",
       "    </tr>\n",
       "  </thead>\n",
       "  <tbody>\n",
       "    <tr>\n",
       "      <th>0</th>\n",
       "      <td>Logistic</td>\n",
       "    </tr>\n",
       "    <tr>\n",
       "      <th>1</th>\n",
       "      <td>Decision_tree_classifier</td>\n",
       "    </tr>\n",
       "    <tr>\n",
       "      <th>2</th>\n",
       "      <td>Random_forest_classifier</td>\n",
       "    </tr>\n",
       "    <tr>\n",
       "      <th>3</th>\n",
       "      <td>Support_vector_machine</td>\n",
       "    </tr>\n",
       "    <tr>\n",
       "      <th>4</th>\n",
       "      <td>Gaussian NB</td>\n",
       "    </tr>\n",
       "    <tr>\n",
       "      <th>5</th>\n",
       "      <td>KNeighborsClassifier</td>\n",
       "    </tr>\n",
       "    <tr>\n",
       "      <th>6</th>\n",
       "      <td>Adaboost_classifier</td>\n",
       "    </tr>\n",
       "  </tbody>\n",
       "</table>\n",
       "</div>"
      ],
      "text/plain": [
       "                 Algorithms\n",
       "0                  Logistic\n",
       "1  Decision_tree_classifier\n",
       "2  Random_forest_classifier\n",
       "3    Support_vector_machine\n",
       "4               Gaussian NB\n",
       "5      KNeighborsClassifier\n",
       "6       Adaboost_classifier"
      ]
     },
     "execution_count": 59,
     "metadata": {},
     "output_type": "execute_result"
    }
   ],
   "source": [
    "df1"
   ]
  },
  {
   "cell_type": "code",
   "execution_count": 103,
   "id": "3cb937db-1dbf-4d99-93ba-c7c810735837",
   "metadata": {},
   "outputs": [],
   "source": [
    "df1['Accuracy_score']=[score1,score2,score3,score4,score5,score6,score7]"
   ]
  },
  {
   "cell_type": "markdown",
   "id": "97791aaf-338c-489e-b178-5e2a9679c44b",
   "metadata": {},
   "source": [
    "\n",
    "## ***Now, with the scores of all the algorithms available, we can easily determine the accuracies of each model or algorithm, aiding us in selecting the most suitable one to solve our problem ***."
   ]
  },
  {
   "cell_type": "code",
   "execution_count": 104,
   "id": "ee62a700-407c-4f55-991a-9e57d0d35c1f",
   "metadata": {},
   "outputs": [
    {
     "data": {
      "text/html": [
       "<div>\n",
       "<style scoped>\n",
       "    .dataframe tbody tr th:only-of-type {\n",
       "        vertical-align: middle;\n",
       "    }\n",
       "\n",
       "    .dataframe tbody tr th {\n",
       "        vertical-align: top;\n",
       "    }\n",
       "\n",
       "    .dataframe thead th {\n",
       "        text-align: right;\n",
       "    }\n",
       "</style>\n",
       "<table border=\"1\" class=\"dataframe\">\n",
       "  <thead>\n",
       "    <tr style=\"text-align: right;\">\n",
       "      <th></th>\n",
       "      <th>Algorithms</th>\n",
       "      <th>Accuracy_score</th>\n",
       "    </tr>\n",
       "  </thead>\n",
       "  <tbody>\n",
       "    <tr>\n",
       "      <th>0</th>\n",
       "      <td>Logistic</td>\n",
       "      <td>72.5</td>\n",
       "    </tr>\n",
       "    <tr>\n",
       "      <th>1</th>\n",
       "      <td>Decision_tree_classifier</td>\n",
       "      <td>81.0</td>\n",
       "    </tr>\n",
       "    <tr>\n",
       "      <th>2</th>\n",
       "      <td>Random_forest_classifier</td>\n",
       "      <td>87.0</td>\n",
       "    </tr>\n",
       "    <tr>\n",
       "      <th>3</th>\n",
       "      <td>Support_vector_machine</td>\n",
       "      <td>72.0</td>\n",
       "    </tr>\n",
       "    <tr>\n",
       "      <th>4</th>\n",
       "      <td>Gaussian NB</td>\n",
       "      <td>75.0</td>\n",
       "    </tr>\n",
       "    <tr>\n",
       "      <th>5</th>\n",
       "      <td>KNeighborsClassifier</td>\n",
       "      <td>53.0</td>\n",
       "    </tr>\n",
       "    <tr>\n",
       "      <th>6</th>\n",
       "      <td>Adaboost_classifier</td>\n",
       "      <td>74.0</td>\n",
       "    </tr>\n",
       "  </tbody>\n",
       "</table>\n",
       "</div>"
      ],
      "text/plain": [
       "                 Algorithms  Accuracy_score\n",
       "0                  Logistic            72.5\n",
       "1  Decision_tree_classifier            81.0\n",
       "2  Random_forest_classifier            87.0\n",
       "3    Support_vector_machine            72.0\n",
       "4               Gaussian NB            75.0\n",
       "5      KNeighborsClassifier            53.0\n",
       "6       Adaboost_classifier            74.0"
      ]
     },
     "execution_count": 104,
     "metadata": {},
     "output_type": "execute_result"
    }
   ],
   "source": [
    "df1"
   ]
  },
  {
   "cell_type": "markdown",
   "id": "615696b6-51ea-46be-88a6-7d8671d84eff",
   "metadata": {},
   "source": [
    "# Infrences:\n",
    "## As observed from the upper dataframe, we attained the highest accuracy with the Random Forest classifier, followed by the Decision Tree classifier and the Adaboost classifier."
   ]
  },
  {
   "cell_type": "code",
   "execution_count": null,
   "id": "0bb14c74-2f52-4e69-85d3-a5d585ee294a",
   "metadata": {},
   "outputs": [],
   "source": []
  }
 ],
 "metadata": {
  "kernelspec": {
   "display_name": "Python 3 (ipykernel)",
   "language": "python",
   "name": "python3"
  },
  "language_info": {
   "codemirror_mode": {
    "name": "ipython",
    "version": 3
   },
   "file_extension": ".py",
   "mimetype": "text/x-python",
   "name": "python",
   "nbconvert_exporter": "python",
   "pygments_lexer": "ipython3",
   "version": "3.11.5"
  }
 },
 "nbformat": 4,
 "nbformat_minor": 5
}
