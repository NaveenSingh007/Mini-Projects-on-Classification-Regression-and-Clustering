{
 "cells": [
  {
   "cell_type": "markdown",
   "id": "3ac61675",
   "metadata": {},
   "source": [
    "# imported libraries"
   ]
  },
  {
   "cell_type": "code",
   "execution_count": 247,
   "id": "1586f887",
   "metadata": {},
   "outputs": [],
   "source": [
    "import pandas as pd\n",
    "import numpy as np\n",
    "import matplotlib.pyplot as pt\n",
    "import seaborn as sb\n",
    "import warnings\n",
    "warnings.filterwarnings('ignore')\n",
    "from sklearn.model_selection import cross_val_score,KFold"
   ]
  },
  {
   "cell_type": "markdown",
   "id": "acfeaf41",
   "metadata": {},
   "source": [
    "# load data"
   ]
  },
  {
   "cell_type": "code",
   "execution_count": 248,
   "id": "24d98a93",
   "metadata": {},
   "outputs": [],
   "source": [
    "df=pd.read_csv(r'C:\\Users\\Naveen\\Downloads\\DS3_C6_S2_Classification_BankChurn_Data_Project.csv')"
   ]
  },
  {
   "cell_type": "code",
   "execution_count": 249,
   "id": "2769d5e4",
   "metadata": {},
   "outputs": [
    {
     "data": {
      "text/html": [
       "<div>\n",
       "<style scoped>\n",
       "    .dataframe tbody tr th:only-of-type {\n",
       "        vertical-align: middle;\n",
       "    }\n",
       "\n",
       "    .dataframe tbody tr th {\n",
       "        vertical-align: top;\n",
       "    }\n",
       "\n",
       "    .dataframe thead th {\n",
       "        text-align: right;\n",
       "    }\n",
       "</style>\n",
       "<table border=\"1\" class=\"dataframe\">\n",
       "  <thead>\n",
       "    <tr style=\"text-align: right;\">\n",
       "      <th></th>\n",
       "      <th>CustomerId</th>\n",
       "      <th>Surname</th>\n",
       "      <th>CreditScore</th>\n",
       "      <th>Geography</th>\n",
       "      <th>Gender</th>\n",
       "      <th>Age</th>\n",
       "      <th>Tenure</th>\n",
       "      <th>Balance</th>\n",
       "      <th>NumOfProducts</th>\n",
       "      <th>HasCrCard</th>\n",
       "      <th>IsActiveMember</th>\n",
       "      <th>EstimatedSalary</th>\n",
       "      <th>Exited</th>\n",
       "    </tr>\n",
       "  </thead>\n",
       "  <tbody>\n",
       "    <tr>\n",
       "      <th>0</th>\n",
       "      <td>15634602</td>\n",
       "      <td>Hargrave</td>\n",
       "      <td>619</td>\n",
       "      <td>France</td>\n",
       "      <td>Female</td>\n",
       "      <td>42</td>\n",
       "      <td>2</td>\n",
       "      <td>0.00</td>\n",
       "      <td>1</td>\n",
       "      <td>1</td>\n",
       "      <td>1</td>\n",
       "      <td>101348.88</td>\n",
       "      <td>1</td>\n",
       "    </tr>\n",
       "    <tr>\n",
       "      <th>1</th>\n",
       "      <td>15647311</td>\n",
       "      <td>Hill</td>\n",
       "      <td>608</td>\n",
       "      <td>Spain</td>\n",
       "      <td>Female</td>\n",
       "      <td>41</td>\n",
       "      <td>1</td>\n",
       "      <td>83807.86</td>\n",
       "      <td>1</td>\n",
       "      <td>0</td>\n",
       "      <td>1</td>\n",
       "      <td>112542.58</td>\n",
       "      <td>0</td>\n",
       "    </tr>\n",
       "    <tr>\n",
       "      <th>2</th>\n",
       "      <td>15619304</td>\n",
       "      <td>Onio</td>\n",
       "      <td>502</td>\n",
       "      <td>France</td>\n",
       "      <td>Female</td>\n",
       "      <td>42</td>\n",
       "      <td>8</td>\n",
       "      <td>159660.80</td>\n",
       "      <td>3</td>\n",
       "      <td>1</td>\n",
       "      <td>0</td>\n",
       "      <td>113931.57</td>\n",
       "      <td>1</td>\n",
       "    </tr>\n",
       "    <tr>\n",
       "      <th>3</th>\n",
       "      <td>15701354</td>\n",
       "      <td>Boni</td>\n",
       "      <td>699</td>\n",
       "      <td>France</td>\n",
       "      <td>Female</td>\n",
       "      <td>39</td>\n",
       "      <td>1</td>\n",
       "      <td>0.00</td>\n",
       "      <td>2</td>\n",
       "      <td>0</td>\n",
       "      <td>0</td>\n",
       "      <td>93826.63</td>\n",
       "      <td>0</td>\n",
       "    </tr>\n",
       "    <tr>\n",
       "      <th>4</th>\n",
       "      <td>15737888</td>\n",
       "      <td>Mitchell</td>\n",
       "      <td>850</td>\n",
       "      <td>Spain</td>\n",
       "      <td>Female</td>\n",
       "      <td>43</td>\n",
       "      <td>2</td>\n",
       "      <td>125510.82</td>\n",
       "      <td>1</td>\n",
       "      <td>1</td>\n",
       "      <td>1</td>\n",
       "      <td>79084.10</td>\n",
       "      <td>0</td>\n",
       "    </tr>\n",
       "  </tbody>\n",
       "</table>\n",
       "</div>"
      ],
      "text/plain": [
       "   CustomerId   Surname  CreditScore Geography  Gender  Age  Tenure  \\\n",
       "0    15634602  Hargrave          619    France  Female   42       2   \n",
       "1    15647311      Hill          608     Spain  Female   41       1   \n",
       "2    15619304      Onio          502    France  Female   42       8   \n",
       "3    15701354      Boni          699    France  Female   39       1   \n",
       "4    15737888  Mitchell          850     Spain  Female   43       2   \n",
       "\n",
       "     Balance  NumOfProducts  HasCrCard  IsActiveMember  EstimatedSalary  \\\n",
       "0       0.00              1          1               1        101348.88   \n",
       "1   83807.86              1          0               1        112542.58   \n",
       "2  159660.80              3          1               0        113931.57   \n",
       "3       0.00              2          0               0         93826.63   \n",
       "4  125510.82              1          1               1         79084.10   \n",
       "\n",
       "   Exited  \n",
       "0       1  \n",
       "1       0  \n",
       "2       1  \n",
       "3       0  \n",
       "4       0  "
      ]
     },
     "execution_count": 249,
     "metadata": {},
     "output_type": "execute_result"
    }
   ],
   "source": [
    "df.head()"
   ]
  },
  {
   "cell_type": "markdown",
   "id": "9186c0c0",
   "metadata": {},
   "source": [
    "# feature engeering"
   ]
  },
  {
   "cell_type": "code",
   "execution_count": 250,
   "id": "26f8686f",
   "metadata": {},
   "outputs": [
    {
     "data": {
      "text/plain": [
       "(10000, 13)"
      ]
     },
     "execution_count": 250,
     "metadata": {},
     "output_type": "execute_result"
    }
   ],
   "source": [
    "df.shape"
   ]
  },
  {
   "cell_type": "code",
   "execution_count": 251,
   "id": "a738c51c",
   "metadata": {},
   "outputs": [
    {
     "data": {
      "text/plain": [
       "CustomerId         0\n",
       "Surname            0\n",
       "CreditScore        0\n",
       "Geography          0\n",
       "Gender             0\n",
       "Age                0\n",
       "Tenure             0\n",
       "Balance            0\n",
       "NumOfProducts      0\n",
       "HasCrCard          0\n",
       "IsActiveMember     0\n",
       "EstimatedSalary    0\n",
       "Exited             0\n",
       "dtype: int64"
      ]
     },
     "execution_count": 251,
     "metadata": {},
     "output_type": "execute_result"
    }
   ],
   "source": [
    "df.isnull().sum()"
   ]
  },
  {
   "cell_type": "code",
   "execution_count": 252,
   "id": "37f8c7ab",
   "metadata": {},
   "outputs": [],
   "source": [
    "d=df['Surname'].unique()"
   ]
  },
  {
   "cell_type": "code",
   "execution_count": 253,
   "id": "df6085de",
   "metadata": {},
   "outputs": [
    {
     "name": "stdout",
     "output_type": "stream",
     "text": [
      "Hargrave\n",
      "Hill\n",
      "Onio\n",
      "Boni\n",
      "Mitchell\n",
      "Chu\n",
      "Bartlett\n",
      "Obinna\n",
      "He\n",
      "H?\n",
      "Bearce\n",
      "Andrews\n",
      "Kay\n",
      "Chin\n",
      "Scott\n",
      "Goforth\n",
      "Romeo\n",
      "Henderson\n",
      "Muldrow\n",
      "Hao\n",
      "McDonald\n",
      "Dellucci\n",
      "Gerasimov\n",
      "Mosman\n",
      "Yen\n",
      "Maclean\n",
      "Young\n",
      "Nebechi\n",
      "McWilliams\n",
      "Lucciano\n",
      "Azikiwe\n",
      "Odinakachukwu\n",
      "Sanderson\n",
      "Maggard\n",
      "Clements\n",
      "Lombardo\n",
      "Watson\n",
      "Lorenzo\n",
      "Armstrong\n",
      "Cameron\n",
      "Hsiao\n",
      "Clarke\n",
      "Osborne\n",
      "Lavine\n",
      "Bianchi\n",
      "Tyler\n",
      "Martin\n",
      "Okagbue\n",
      "Yin\n",
      "Buccho\n",
      "Chidiebele\n",
      "Trevisani\n",
      "O'Brien\n",
      "Parkhill\n",
      "Yoo\n",
      "Phillipps\n",
      "Tsao\n",
      "Endrizzi\n",
      "T'ien\n",
      "Velazquez\n",
      "Hunter\n",
      "Clark\n",
      "Jeffrey\n",
      "Pirozzi\n",
      "Jackson\n",
      "Hammond\n",
      "Brownless\n",
      "Chibugo\n",
      "Glauert\n",
      "Pisano\n",
      "Konovalova\n",
      "McKee\n",
      "Palermo\n",
      "Ballard\n",
      "Wallace\n",
      "Cavenagh\n",
      "Hu\n",
      "Read\n",
      "Bushell\n",
      "Postle\n",
      "Buley\n",
      "Leonard\n",
      "Mills\n",
      "Onyeorulu\n",
      "Beit\n",
      "Ndukaku\n",
      "Gant\n",
      "Rowley\n",
      "Sharpe\n",
      "Heap\n",
      "Ritchie\n",
      "Cole\n",
      "Capon\n",
      "Fiorentini\n",
      "Graham\n",
      "Yuille\n",
      "Allard\n",
      "Fanucci\n",
      "Fu\n",
      "Hung\n",
      "Bradley\n",
      "Dunbabin\n",
      "Mauldon\n",
      "Stiger\n",
      "Parsons\n",
      "Walkom\n",
      "T'ang\n",
      "Eremenko\n",
      "Rowntree\n",
      "Thorpe\n",
      "Chiemela\n",
      "Ko\n",
      "Welch\n",
      "Duncan\n",
      "Chidozie\n",
      "Wu\n",
      "Culbreth\n",
      "Kennedy\n",
      "Calabresi\n",
      "Zetticci\n",
      "Fuller\n",
      "MacDonald\n",
      "Piccio\n",
      "Fernie\n",
      "Kaodilinakachukwu\n",
      "Cocci\n",
      "Alekseeva\n",
      "Chinweike\n",
      "Arthur\n",
      "Li\n",
      "Ma\n",
      "Chia\n",
      "Vasin\n",
      "Groves\n",
      "Tien\n",
      "Forwood\n",
      "Greeves\n",
      "Taylor\n",
      "Madukwe\n",
      "Bennelong\n",
      "Olisanugo\n",
      "Chukwufumnanya\n",
      "Harris\n",
      "Morgan\n",
      "Alexeeva\n",
      "Metcalfe\n",
      "Humphries\n",
      "Milne\n",
      "Chou\n",
      "Clayton\n",
      "Chigolum\n",
      "Wilkinson\n",
      "Wei\n",
      "Treacy\n",
      "Taverner\n",
      "Sherman\n",
      "Taubman\n",
      "Robinson\n",
      "Pinto\n",
      "Wood\n",
      "Hawkins\n",
      "Sun\n",
      "Yost\n",
      "Ting\n",
      "Rowe\n",
      "Ho\n",
      "Okechukwu\n",
      "Campbell\n",
      "Ashbolt\n",
      "Rozier\n",
      "Hsia\n",
      "Ogbonnaya\n",
      "Chang\n",
      "T'ao\n",
      "Ford\n",
      "Marshall\n",
      "Tsai\n",
      "Onwumelu\n",
      "Golovanov\n",
      "Potts\n",
      "Crawford\n",
      "Aleshire\n",
      "Moran\n",
      "Samsonova\n",
      "Jenkins\n",
      "Volkov\n",
      "Chiemezie\n",
      "Jude\n",
      "Onuora\n",
      "Ginikanwa\n",
      "Ku\n",
      "Collins\n",
      "Hackett\n",
      "Dike\n",
      "Trevisano\n",
      "Tan\n",
      "Glassman\n",
      "Miller\n",
      "Kornilova\n",
      "Marchesi\n",
      "Millar\n",
      "Shih\n",
      "Hay\n",
      "Yang\n",
      "McIntyre\n",
      "Stevenson\n",
      "Poole\n",
      "Bagley\n",
      "Ch'ien\n",
      "Cattaneo\n",
      "O'Sullivan\n",
      "Lucas\n",
      "Ringrose\n",
      "Freeman\n",
      "Sergeyev\n",
      "Fiore\n",
      "Smith\n",
      "Dumetochukwu\n",
      "Pacheco\n",
      "Synnot\n",
      "Johnston\n",
      "Stevens\n",
      "Grant\n",
      "Barnes\n",
      "McIntosh\n",
      "Madison\n",
      "Ifesinachi\n",
      "Glazkov\n",
      "Dimauro\n",
      "Wieck\n",
      "Liao\n",
      "Hughes\n",
      "Morrison\n",
      "Matveyeva\n",
      "Cheatham\n",
      "Yao\n",
      "Kirkland\n",
      "Rose\n",
      "Jess\n",
      "Ifeajuna\n",
      "Morton\n",
      "Rossi\n",
      "Reppert\n",
      "Kang\n",
      "Ch'iu\n",
      "Wallis\n",
      "Fielding\n",
      "Dulhunty\n",
      "Bevington\n",
      "Boyle\n",
      "Newton\n",
      "Bowman\n",
      "Dubinina\n",
      "Toscani\n",
      "Chiazagomekpere\n",
      "Allen\n",
      "K'ung\n",
      "Wilsmore\n",
      "Hargreaves\n",
      "Huang\n",
      "Wallwork\n",
      "Davidson\n",
      "O'Donnell\n",
      "Nnachetam\n",
      "Ahmed\n",
      "Booth\n",
      "Chuang\n",
      "Shao\n",
      "Johnson\n",
      "French\n",
      "Efremov\n",
      "Hartley\n",
      "Calabrese\n",
      "Chiu\n",
      "Brennan\n",
      "Onwuatuegwu\n",
      "Hewitt\n",
      "Balashov\n",
      "Doyle\n",
      "Pokrovskii\n",
      "Russo\n",
      "Skinner\n",
      "Robertson\n",
      "Atkinson\n",
      "McEncroe\n",
      "Pearson\n",
      "Gordon\n",
      "Ts'ai\n",
      "Lung\n",
      "Yuan\n",
      "Pardey\n",
      "Tai\n",
      "Mazzanti\n",
      "L?\n",
      "Beach\n",
      "Hsieh\n",
      "Faulkner\n",
      "Knowles\n",
      "Day\n",
      "Hsueh\n",
      "Nwabugwu\n",
      "Kerr\n",
      "Marrero\n",
      "White\n",
      "Brown\n",
      "Russell\n",
      "Seleznyov\n",
      "Yusupova\n",
      "Foley\n",
      "Ikedinachukwu\n",
      "Power\n",
      "Amos\n",
      "Reed\n",
      "Simmons\n",
      "Ricci\n",
      "West\n",
      "Chen\n",
      "Madukaego\n",
      "Ibrahimova\n",
      "Nolan\n",
      "Blair\n",
      "Monaldo\n",
      "Sutherland\n",
      "Briggs\n",
      "Gregory\n",
      "Angelo\n",
      "Gardiner\n",
      "Distefano\n",
      "Farrell\n",
      "Milano\n",
      "Boyd\n",
      "Onyemaechi\n",
      "Black\n",
      "Oliver\n",
      "Greco\n",
      "Whitehead\n",
      "Ikemefuna\n",
      "Onyeoruru\n",
      "Cunningham\n",
      "Demidov\n",
      "Celis\n",
      "Cheng\n",
      "Knight\n",
      "Morin\n",
      "Outhwaite\n",
      "Tung\n",
      "Pai\n",
      "Carpenter\n",
      "Fennell\n",
      "Fontaine\n",
      "Pratt\n",
      "Franklin\n",
      "McKenzie\n",
      "Pino\n",
      "Fisk\n",
      "Chiang\n",
      "Moseley\n",
      "Hsiung\n",
      "Heath\n",
      "DeSalis\n",
      "Richardson\n",
      "Fitch\n",
      "Estes\n",
      "Lattimore\n",
      "Chung\n",
      "Utz\n",
      "Nwachinemelu\n",
      "Kuznetsova\n",
      "Pisani\n",
      "Manna\n",
      "Collier\n",
      "Carr\n",
      "Hs?\n",
      "Findlay\n",
      "Chukwuemeka\n",
      "Genovese\n",
      "Swift\n",
      "Ugoji\n",
      "Parkinson\n",
      "Ross\n",
      "Oleary\n",
      "Turnbull\n",
      "Uspensky\n",
      "Cook\n",
      "Newbold\n",
      "Uchechukwu\n",
      "Ch'en\n",
      "Hilton\n",
      "Sal\n",
      "Eluemuno\n",
      "Titus\n",
      "Lettiere\n",
      "Templeman\n",
      "Chibuzo\n",
      "Evans\n",
      "Enyinnaya\n",
      "Brookes\n",
      "Padovano\n",
      "Hare\n",
      "Muir\n",
      "Elewechi\n",
      "Ankudinov\n",
      "Nwokike\n",
      "Atkins\n",
      "Burns\n",
      "Obiuto\n",
      "George\n",
      "Lewis\n",
      "Dalrymple\n",
      "Carslaw\n",
      "Kirby\n",
      "Houghton\n",
      "Westerberg\n",
      "Hale\n",
      "Kryukova\n",
      "Sopuluchukwu\n",
      "Barry\n",
      "Selezneva\n",
      "Chizuoke\n",
      "Lueck\n",
      "Udinese\n",
      "Udobata\n",
      "Outlaw\n",
      "Lo\n",
      "King\n",
      "Forbes\n",
      "Macleod\n",
      "Gibbs\n",
      "Isayev\n",
      "Belstead\n",
      "Vassiliev\n",
      "Schneider\n",
      "Knipe\n",
      "Macartney\n",
      "Watts\n",
      "Humphreys\n",
      "Chesnokova\n",
      "Kung\n",
      "Lu\n",
      "Nkemakolam\n",
      "Walton\n",
      "Baldwin\n",
      "Mai\n",
      "Ferreira\n",
      "Ukaegbunam\n",
      "DeLuca\n",
      "Davide\n",
      "Kodilinyechukwu\n",
      "Little\n",
      "Paterson\n",
      "Han\n",
      "Ijendu\n",
      "Reichard\n",
      "Price\n",
      "Bruce\n",
      "Sumrall\n",
      "Lazarev\n",
      "Wentworth-Shields\n",
      "Mackenzie\n",
      "Pendergrass\n",
      "Billson\n",
      "Teng\n",
      "Moretti\n",
      "Jordan\n",
      "Ts'ao\n",
      "Ch'ang\n",
      "Obialo\n",
      "Gray\n",
      "Lin\n",
      "Hopkins\n",
      "Dobson\n",
      "McKay\n",
      "Revell\n",
      "Rickards\n",
      "Begum\n",
      "Onyinyechukwuka\n",
      "Zuyev\n",
      "Nwankwo\n",
      "Okwuadigbo\n",
      "Chan\n",
      "Buchi\n",
      "Lombardi\n",
      "Uchenna\n",
      "Coffman\n",
      "Alexandrova\n",
      "Fallaci\n",
      "Hudson\n",
      "Stout\n",
      "Burke\n",
      "Chadwick\n",
      "Lawrence\n",
      "Bellucci\n",
      "Harper\n",
      "Moss\n",
      "Avdeyeva\n",
      "Lynton\n",
      "Gether\n",
      "Larionova\n",
      "Loggia\n",
      "Steinhoff\n",
      "Guerra\n",
      "Craig\n",
      "Lazareva\n",
      "Alderete\n",
      "Rahman\n",
      "McMillan\n",
      "Pickering\n",
      "Mirams\n",
      "Douglas\n",
      "Jideofor\n",
      "Bell\n",
      "Mairinger\n",
      "Pagnotto\n",
      "Feng\n",
      "Donaldson\n",
      "Chambers\n",
      "Marcelo\n",
      "Ejimofor\n",
      "Dale\n",
      "Pokrovsky\n",
      "Stonebraker\n",
      "Liang\n",
      "Anderson\n",
      "Christian\n",
      "Mao\n",
      "Sagese\n",
      "Fleming\n",
      "Grubb\n",
      "Napolitani\n",
      "Anenechi\n",
      "Chandler\n",
      "Howells\n",
      "Akeroyd\n",
      "Uwaezuoke\n",
      "Loyau\n",
      "Small\n",
      "Bledsoe\n",
      "Kao\n",
      "Wickens\n",
      "Wertheim\n",
      "Jarvis\n",
      "P'an\n",
      "Repina\n",
      "Pugliesi\n",
      "Blakey\n",
      "Nucci\n",
      "Higinbotham\n",
      "Achebe\n",
      "Dobie\n",
      "Maccallum\n",
      "Watkins\n",
      "Mitchel\n",
      "Ferdinand\n",
      "Otitodilinna\n",
      "Mamelu\n",
      "Beneventi\n",
      "Perrodin\n",
      "Chinagorom\n",
      "Napolitano\n",
      "Edgar\n",
      "Walker\n",
      "Steele\n",
      "Elkins\n",
      "Toscano\n",
      "Savage\n",
      "Mordvinova\n",
      "Kent\n",
      "Cooper\n",
      "Mazzi\n",
      "Fisher\n",
      "Summers\n",
      "Brady\n",
      "Nicholls\n",
      "Golubov\n",
      "Oldham\n",
      "Kambinachi\n",
      "Chinwemma\n",
      "Olsen\n",
      "Jen\n",
      "Preston\n",
      "Ozioma\n",
      "Cody\n",
      "Ponomarev\n",
      "Milani\n",
      "Tang\n",
      "Romani\n",
      "Davis\n",
      "Onyemauchechukwu\n",
      "Gell\n",
      "Chiwetelu\n",
      "Kirillova\n",
      "Shaw\n",
      "Okwudilichukwu\n",
      "Onuoha\n",
      "Muecke\n",
      "Azubuike\n",
      "Nnonso\n",
      "Ashley\n",
      "Ts'ui\n",
      "Kenenna\n",
      "Beluchi\n",
      "Williamson\n",
      "Bobrov\n",
      "Pitts\n",
      "Standish\n",
      "Cartwright\n",
      "Johnstone\n",
      "Nikitina\n",
      "McElroy\n",
      "Shen\n",
      "Archer\n",
      "Otutodilinna\n",
      "Denisov\n",
      "Owens\n",
      "P'eng\n",
      "Verco\n",
      "Bergamaschi\n",
      "Outtrim\n",
      "Hou\n",
      "Galkin\n",
      "Echezonachukwu\n",
      "Munro\n",
      "Ball\n",
      "Virgo\n",
      "Tao\n",
      "Perez\n",
      "Fraser\n",
      "Alley\n",
      "Hooper\n",
      "Rice\n",
      "Cox\n",
      "Ikenna\n",
      "Alexander\n",
      "Piazza\n",
      "Ni\n",
      "Harker\n",
      "Chiabuotu\n",
      "Kuo\n",
      "Gallagher\n",
      "Zhirov\n",
      "Lloyd\n",
      "Palmer\n",
      "Ch'eng\n",
      "Avent\n",
      "Trentini\n",
      "Koehler\n",
      "Okoli\n",
      "Nwokezuike\n",
      "Artemiev\n",
      "Esposito\n",
      "Abbie\n",
      "Averyanov\n",
      "Unaipon\n",
      "Clamp\n",
      "Lim\n",
      "Wan\n",
      "Pettit\n",
      "Baresi\n",
      "Newbery\n",
      "Iheanacho\n",
      "Landry\n",
      "McGregor\n",
      "Pirogov\n",
      "Oguejiofor\n",
      "Ugochukwu\n",
      "Rohu\n",
      "Cary\n",
      "O'Loghlen\n",
      "Quinn\n",
      "Page\n",
      "Stanley\n",
      "Bednall\n",
      "She\n",
      "May\n",
      "Seabrook\n",
      "Herrera\n",
      "Kincaid\n",
      "Sleeman\n",
      "Artemieva\n",
      "Barwell\n",
      "Wright\n",
      "Moore\n",
      "Sung\n",
      "Mello\n",
      "Mistry\n",
      "Chukwukadibia\n",
      "Zikoranachidimma\n",
      "Oluchukwu\n",
      "Rivera\n",
      "Niu\n",
      "Bennett\n",
      "Wollstonecraft\n",
      "Thomsen\n",
      "Chinwendu\n",
      "James\n",
      "Lamb\n",
      "Olejuru\n",
      "Chiawuotu\n",
      "Yeates\n",
      "Thurgood\n",
      "Knupp\n",
      "Baryshnikov\n",
      "Shephard\n",
      "Avdeeva\n",
      "Hsu\n",
      "Buchanan\n",
      "Yeh\n",
      "Palazzi\n",
      "Y?an\n",
      "Schofield\n",
      "Wall\n",
      "Blackburn\n",
      "Wickham\n",
      "Bird\n",
      "Brizendine\n",
      "Ch'in\n",
      "Yusupov\n",
      "Jibunoh\n",
      "Wilder\n",
      "Nepean\n",
      "McNess\n",
      "Coles\n",
      "Benson\n",
      "Gilbert\n",
      "Wilhelm\n",
      "Sinclair\n",
      "Buckner\n",
      "Padovesi\n",
      "Palerma\n",
      "Pan\n",
      "Kenniff\n",
      "Spencer\n",
      "Lees\n",
      "David\n",
      "Hsing\n",
      "Ginn\n",
      "Sozonov\n",
      "Manfrin\n",
      "Artamonova\n",
      "Hansen\n",
      "Larsen\n",
      "Owen\n",
      "Murphy\n",
      "Ekechukwu\n",
      "Ayers\n",
      "Sanders\n",
      "Eberechukwu\n",
      "Bardin\n",
      "Talbot\n",
      "Goold\n",
      "Zikoranaudodimma\n",
      "Garner\n",
      "Naylor\n",
      "Fulton\n",
      "McCaffrey\n",
      "Zuev\n",
      "Fabro\n",
      "Chatfield\n",
      "Volkova\n",
      "Abramovich\n",
      "Chien\n",
      "Timms\n",
      "Williford\n",
      "Hamilton\n",
      "Su\n",
      "Akobundu\n",
      "Chukwuebuka\n",
      "Lampungmeiua\n",
      "Kline\n",
      "Riggs\n",
      "Davison\n",
      "Ingram\n",
      "Dilke\n",
      "Gibson\n",
      "Iadanza\n",
      "Hebert\n",
      "Jamieson\n",
      "Chiganu\n",
      "Burgess\n",
      "Woods\n",
      "Bluett\n",
      "Chapman\n",
      "Andrejew\n",
      "Spyer\n",
      "Philip\n",
      "Perry\n",
      "Fokine\n",
      "Mackay\n",
      "Maslova\n",
      "McLean\n",
      "Thompson\n",
      "Tisdall\n",
      "Onochie\n",
      "Mironova\n",
      "Ndubueze\n",
      "Stephenson\n",
      "Golubev\n",
      "Mullan\n",
      "Glover\n",
      "Northey\n",
      "Howarde\n",
      "Colman\n",
      "Butcher\n",
      "Wilkie\n",
      "Bray\n",
      "Ann\n",
      "Souter\n",
      "Medvedeva\n",
      "Onwudiwe\n",
      "Ferrari\n",
      "Hazon\n",
      "Hardy\n",
      "Dickson\n",
      "Holden\n",
      "Doherty\n",
      "Samuel\n",
      "Malloy\n",
      "Fitts\n",
      "Yefimova\n",
      "Abramov\n",
      "Demuth\n",
      "Lawless\n",
      "Brooks\n",
      "Ignatyeva\n",
      "Balmain\n",
      "Ecuyer\n",
      "LiFonti\n",
      "Despeissis\n",
      "Williams\n",
      "Hancock\n",
      "Wilkins\n",
      "Longo\n",
      "Mancini\n",
      "Winter-Irving\n",
      "Stewart\n",
      "Murray\n",
      "Rischbieth\n",
      "Otutodilichukwu\n",
      "Thomas\n",
      "Whitworth\n",
      "Trentino\n",
      "McMasters\n",
      "Alekseyeva\n",
      "Baranova\n",
      "Yobachi\n",
      "Sorokina\n",
      "Ervin\n",
      "Vance\n",
      "Noble\n",
      "Milanesi\n",
      "Parkin\n",
      "Cremonesi\n",
      "Docherty\n",
      "Ugonna\n",
      "Bevan\n",
      "O'Neill\n",
      "Pham\n",
      "Osinachi\n",
      "Muravyov\n",
      "Igwebuike\n",
      "Zack\n",
      "Chidiegwu\n",
      "Lucchesi\n",
      "Yudin\n",
      "Wade\n",
      "Septimus\n",
      "Hargraves\n",
      "Sidorov\n",
      "Bunton\n",
      "Conti\n",
      "Sims\n",
      "Carter\n",
      "Dumetolisa\n",
      "Peng\n",
      "Drake-Brockman\n",
      "Tretiakov\n",
      "Lai\n",
      "Justice\n",
      "Osonduagwuike\n",
      "Ewing\n",
      "Tsou\n",
      "Ubanwa\n",
      "Kapustin\n",
      "Nnamutaezinwa\n",
      "Ferri\n",
      "Amechi\n",
      "Kirk\n",
      "Griffin\n",
      "Longstaff\n",
      "McWilliam\n",
      "Coffee\n",
      "Creswell\n",
      "Dodds\n",
      "Ewen\n",
      "Boniwell\n",
      "Vasilieva\n",
      "Kwemto\n",
      "Bocharova\n",
      "Morres\n",
      "Vogel\n",
      "T'an\n",
      "Wisdom\n",
      "Shahan\n",
      "Bryant\n",
      "Hayward\n",
      "Liu\n",
      "Greece\n",
      "Norman\n",
      "Chukwudi\n",
      "Fedorov\n",
      "Reid\n",
      "Wofford\n",
      "Stephens\n",
      "Frolov\n",
      "Fields\n",
      "Suffolk\n",
      "Judd\n",
      "Degtyarev\n",
      "Kinlaw\n",
      "Omeokachie\n",
      "Gorbunova\n",
      "Tikhonov\n",
      "Campa\n",
      "Donoghue\n",
      "Tuan\n",
      "Baxter\n",
      "Rogers\n",
      "Byrne\n",
      "Aitken\n",
      "Macintyre\n",
      "Simpson\n",
      "Praed\n",
      "Laurens\n",
      "Bykov\n",
      "Vorobyova\n",
      "Pirogova\n",
      "Sturt\n",
      "Panicucci\n",
      "Siciliani\n",
      "Lucchese\n",
      "Swaim\n",
      "Quinones\n",
      "Ludowici\n",
      "Larson\n",
      "Landman\n",
      "K?\n",
      "Alexeyeva\n",
      "Chukwualuka\n",
      "McCall\n",
      "Okeke\n",
      "Iloabuchi\n",
      "Nebechukwu\n",
      "Diribe\n",
      "Macgroarty\n",
      "Artemova\n",
      "Kelly\n",
      "Reilly\n",
      "Ojiofor\n",
      "Shelton\n",
      "Lange\n",
      "Hovell\n",
      "Espinosa\n",
      "Barbour\n",
      "Ozerova\n",
      "Ulyanova\n",
      "Steiner\n",
      "Akabueze\n",
      "Aleksandrova\n",
      "Griffiths\n",
      "McNeil\n",
      "Bruno\n",
      "Okorie\n",
      "Moen\n",
      "McGuigan\n",
      "Fancher\n",
      "Matthews\n",
      "Kaeppel\n",
      "Yudina\n",
      "Jamison\n",
      "Hardiman\n",
      "Woodard\n",
      "Chienezie\n",
      "Chineze\n",
      "Buckland\n",
      "Flannery\n",
      "Payne\n",
      "Vincent\n",
      "Pearce\n",
      "Riley\n",
      "Honore\n",
      "Macarthur\n",
      "Gould\n",
      "Medvedev\n",
      "Sholes\n",
      "Rolon\n",
      "Bligh\n",
      "Lamble\n",
      "Jose\n",
      "Howard\n",
      "Onwuamaeze\n",
      "D'Albertis\n",
      "Nwachukwu\n",
      "Simpkinson\n",
      "Conway\n",
      "Maslow\n",
      "Swadling\n",
      "Gallo\n",
      "Onyemachukwu\n",
      "Samoylova\n",
      "Leak\n",
      "Frost\n",
      "Warner\n",
      "Ifeatu\n",
      "Fan\n",
      "Whiddon\n",
      "Onyekachukwu\n",
      "Ermakova\n",
      "Marino\n",
      "Onyemere\n",
      "Everingham\n",
      "Huie\n",
      "Crowther\n",
      "Skelton\n",
      "Giordano\n",
      "Bateson\n",
      "Elizabeth\n",
      "Serrano\n",
      "Willis\n",
      "Mashman\n",
      "Tu\n",
      "Romano\n",
      "Goliwe\n",
      "Chiemeka\n",
      "Kellway\n",
      "Sopuluchi\n",
      "Spitzer\n",
      "Potter\n",
      "Kovalyova\n",
      "Miah\n",
      "Builder\n",
      "Baddeley\n",
      "Todd\n",
      "Obiajulu\n",
      "Farmer\n",
      "Ignatieff\n",
      "Okonkwo\n",
      "Dore\n",
      "Bazarova\n",
      "Burn\n",
      "Andreyev\n",
      "Nock\n",
      "Kelley\n",
      "Wilson\n",
      "McFarland\n",
      "Cisneros\n",
      "Borchgrevink\n",
      "Rozhkova\n",
      "Veltri\n",
      "Golibe\n",
      "Udinesi\n",
      "Curtis\n",
      "Hayden\n",
      "Green\n",
      "Gough\n",
      "Bates\n",
      "Kharlamov\n",
      "Ferguson\n",
      "LeGrand\n",
      "Valdez\n",
      "Godfrey\n",
      "Robson\n",
      "Yevdokimova\n",
      "Colombo\n",
      "Akubundu\n",
      "Francis\n",
      "Rhodes\n",
      "Y?\n",
      "Burgmann\n",
      "Macvitie\n",
      "Townsend\n",
      "Pope\n",
      "Jensen\n",
      "Thomson\n",
      "Chiazagomekpele\n",
      "Ozuluonye\n",
      "Fang\n",
      "Horton\n",
      "Schiavone\n",
      "Fiorentino\n",
      "Butusov\n",
      "Wang\n",
      "Alexeieva\n",
      "Vinogradova\n",
      "Bage\n",
      "Naquin\n",
      "Schroeder\n",
      "Swearingen\n",
      "Kozlova\n",
      "Nekrasov\n",
      "Olague\n",
      "Holt\n",
      "Davila\n",
      "Giles\n",
      "O'Meara\n",
      "Chukwuraenye\n",
      "Tipton\n",
      "Morey\n",
      "Afamefuna\n",
      "Ibbott\n",
      "Law\n",
      "Chinedum\n",
      "Kruglov\n",
      "Stone\n",
      "Wiley\n",
      "Chiagoziem\n",
      "Chukwukere\n",
      "Lee\n",
      "Theus\n",
      "Jennings\n",
      "Parker\n",
      "Patterson\n",
      "Ofodile\n",
      "Nash\n",
      "Brenan\n",
      "Obidimkpa\n",
      "Terry\n",
      "Spring\n",
      "Mahmood\n",
      "Amaechi\n",
      "Foxall\n",
      "Bentley\n",
      "Baird\n",
      "Henry\n",
      "Rocher\n",
      "Komar\n",
      "Loewenthal\n",
      "Aliyeva\n",
      "Montes\n",
      "Tyndall\n",
      "Bailey\n",
      "Onyekaozulu\n",
      "Christmas\n",
      "Genovesi\n",
      "Ellis\n",
      "Onuchukwu\n",
      "Quaife\n",
      "Holder\n",
      "Lahti\n",
      "Perkins\n",
      "Hayes\n",
      "Rizzo\n",
      "Krylov\n",
      "Matthias\n",
      "Mason\n",
      "Smeaton\n",
      "Gotch\n",
      "O'Toole\n",
      "Ledford\n",
      "Alaniz\n",
      "Saunders\n",
      "Streeter\n",
      "Barclay\n",
      "Otitodilichukwu\n",
      "Wheare\n",
      "Soto\n",
      "Bogle\n",
      "Grimmett\n",
      "Webb\n",
      "Nwokeocha\n",
      "Olisaemeka\n",
      "Yobanna\n",
      "Trevisan\n",
      "Knox\n",
      "Moyes\n",
      "Beavers\n",
      "Tretiakova\n",
      "Aikenhead\n",
      "Cran\n",
      "Golubova\n",
      "McElyea\n",
      "Rosas\n",
      "Phillips\n",
      "Morris\n",
      "Pavlova\n",
      "Yamamoto\n",
      "Zaitsev\n",
      "Cawker\n",
      "Froggatt\n",
      "Gorbunov\n",
      "Mikkelsen\n",
      "Kovalyov\n",
      "Mbanefo\n",
      "Enderby\n",
      "Lira\n",
      "Castiglione\n",
      "Yuryeva\n",
      "Dean\n",
      "Vasiliev\n",
      "Fedorova\n",
      "Samson\n",
      "Fenton\n",
      "Mackey\n",
      "Payton\n",
      "Cowger\n",
      "Banks\n",
      "Fantin\n",
      "Wong\n",
      "Roberts\n",
      "LoDuca\n",
      "Ashton\n",
      "Melton\n",
      "Zakharov\n",
      "Patrick\n",
      "DeRose\n",
      "Vavilov\n",
      "Browne\n",
      "CollingridgedeTourcey\n",
      "Korovin\n",
      "Hammonds\n",
      "Ward\n",
      "Gallop\n",
      "Gartrell\n",
      "Oluchi\n",
      "Barlow\n",
      "Burgin\n",
      "Nnaife\n",
      "Okwudiliolisa\n",
      "Parkes\n",
      "Kapustina\n",
      "Greathouse\n",
      "Beers\n",
      "Tretyakova\n",
      "Costa\n",
      "Ibezimako\n",
      "Lumholtz\n",
      "Mouzon\n",
      "Ibeabuchi\n",
      "Garnsey\n",
      "Wildman\n",
      "Anenechukwu\n",
      "Plant\n",
      "Babbage\n",
      "Norton\n",
      "Bogolyubov\n",
      "Gibbons\n",
      "Gregson\n",
      "Speth\n",
      "Boag\n",
      "Grave\n",
      "Streeten\n",
      "Fox\n",
      "Artemyeva\n",
      "Gardner\n",
      "Uwakwe\n",
      "Bellew\n",
      "Krichauff\n",
      "Becker\n",
      "Ainsworth\n",
      "Biryukov\n",
      "Redding\n",
      "Inman\n",
      "Hanson\n",
      "Fischer\n",
      "Chinweuba\n",
      "Henning\n",
      "Ogochukwu\n",
      "Narelle\n",
      "Bergman\n",
      "Harrison\n",
      "Goodman\n",
      "Ugochukwutubelum\n",
      "Uvarova\n",
      "Innes\n",
      "Craigie\n",
      "Onyekachi\n",
      "Pethard\n",
      "Obielumani\n",
      "Emery\n",
      "Dufresne\n",
      "Vial\n",
      "Pruneda\n",
      "Neumann\n",
      "Yobachukwu\n",
      "Hess\n",
      "Anayolisa\n",
      "Zhou\n",
      "Bustard\n",
      "Ngozichukwuka\n",
      "Lane\n",
      "Davy\n",
      "Barrera\n",
      "Hall\n",
      "Lysaght\n",
      "Kelechi\n",
      "Chikezie\n",
      "Dreyer\n",
      "Short\n",
      "Hunt\n",
      "Kibby\n",
      "Ramos\n",
      "Keeley\n",
      "Farrar\n",
      "Greenhalgh\n",
      "Odili\n",
      "Kolesnikov\n",
      "Rutherford\n",
      "Mendes\n",
      "Bronner\n",
      "Meany\n",
      "LeGallienne\n",
      "Wheeler\n",
      "Christie\n",
      "Favors\n",
      "Vida\n",
      "Wayn\n",
      "Nuttall\n",
      "McEwan\n",
      "Holman\n",
      "Bazhenov\n",
      "Kemp\n",
      "Ebelegbulam\n",
      "Tseng\n",
      "Yermakov\n",
      "Chukwunonso\n",
      "Dawson\n",
      "Ifeanyichukwu\n",
      "Musgrove\n",
      "Boulger\n",
      "Gow\n",
      "Robe\n",
      "Bibi\n",
      "Arcuri\n",
      "Muriel\n",
      "MacDevitt\n",
      "Chijindum\n",
      "Nott\n",
      "Lei\n",
      "Sheets\n",
      "Tokaryev\n",
      "Unwin\n",
      "Frater\n",
      "Vanmeter\n",
      "Rearick\n",
      "Glenny\n",
      "Marks\n",
      "Trout\n",
      "Morley\n",
      "Somadina\n",
      "Chieloka\n",
      "Chioke\n",
      "Kovalev\n",
      "Baranov\n",
      "Bidencope\n",
      "DeBernales\n",
      "Cashin\n",
      "Seppelt\n",
      "O'Connor\n",
      "McGuirk\n",
      "Ruth\n",
      "Aksenov\n",
      "Meng\n",
      "Nwoye\n",
      "Aksyonova\n",
      "Hammer\n",
      "Abbott\n",
      "Davydova\n",
      "Nkemjika\n",
      "Mario\n",
      "Long\n",
      "Nelson\n",
      "Thornton\n",
      "Warlow-Davies\n",
      "Champion\n",
      "William\n",
      "Ozoemena\n",
      "Archambault\n",
      "Udegbulam\n",
      "Greene\n",
      "Blinova\n",
      "DeGaris\n",
      "Holmwood\n",
      "Chidubem\n",
      "Randall\n",
      "Leach\n",
      "Light\n",
      "Holloway\n",
      "Nwebube\n",
      "Chibueze\n",
      "Lanford\n",
      "Anthony\n",
      "Myers\n",
      "Davey\n",
      "Chikere\n",
      "Hs?eh\n",
      "Witt\n",
      "Kazantseva\n",
      "Bowhay\n",
      "Beyer\n",
      "Fries\n",
      "Connely\n",
      "Connolly\n",
      "Fomin\n",
      "Chamberlain\n",
      "Barber\n",
      "Zimmer\n",
      "Brazenor\n",
      "Caldwell\n",
      "Yirawala\n",
      "Tokareva\n",
      "Castella\n",
      "DuCane\n",
      "Woronoff\n",
      "Onodugoadiegbemma\n",
      "Darling\n",
      "Ponomaryov\n",
      "Prokhorova\n",
      "Blacklock\n",
      "Sazonova\n",
      "Henty\n",
      "Azuka\n",
      "Brock\n",
      "Bulgakov\n",
      "Lord\n",
      "Uspenskaya\n",
      "Powell\n",
      "McChesney\n",
      "Yuriev\n",
      "Lablanc\n",
      "Dodd\n",
      "Dillon\n",
      "Hoelscher\n",
      "Udokamma\n",
      "Sinnett\n",
      "Chimaijem\n",
      "Porter\n",
      "Younger\n",
      "Nwagugheuzo\n",
      "Drake\n",
      "Hanna\n",
      "Loftus\n",
      "Chidalu\n",
      "Iredale\n",
      "Padilla\n",
      "Ibragimova\n",
      "Nakayama\n",
      "Gardener\n",
      "Aksenova\n",
      "Kudryashova\n",
      "Hart\n",
      "Kruglova\n",
      "Shaffer\n",
      "Laurie\n",
      "Whitfield\n",
      "Rioux\n",
      "Matveyev\n",
      "Nkemdirim\n",
      "Brim\n",
      "Soubeiran\n",
      "Helena\n",
      "Macdonald\n",
      "Chiekwugo\n",
      "Weller\n",
      "Bess\n",
      "Randell\n",
      "Randolph\n",
      "Hurst\n",
      "Montalvo\n",
      "Kosisochukwu\n",
      "Vigano\n",
      "Windradyne\n",
      "Curnow\n",
      "DeNeeve\n",
      "Ebelechukwu\n",
      "Keating\n",
      "Shearston\n",
      "Arnold\n",
      "Chao\n",
      "Zhdanova\n",
      "Fetherstonhaugh\n",
      "Severson\n",
      "Speight\n",
      "Greenwalt\n",
      "Grover\n",
      "Muse\n",
      "Marsden\n",
      "Dennis\n",
      "Nixon\n",
      "Rivers\n",
      "Sochima\n",
      "Heydon\n",
      "Holland\n",
      "Debellis\n",
      "Kibble\n",
      "Lori\n",
      "Enemuo\n",
      "Nebeolisa\n",
      "Chikwado\n",
      "Yates\n",
      "Watt\n",
      "Lavrov\n",
      "Korovina\n",
      "Manning\n",
      "Ingrassia\n",
      "Langdon\n",
      "Goddard\n",
      "Zubareva\n",
      "Newsom\n",
      "Shoobridge\n",
      "Fyodorova\n",
      "Solomon\n",
      "Layh\n",
      "John\n",
      "Slattery\n",
      "Daniels\n",
      "Chiemenam\n",
      "Wanliss\n",
      "Eames\n",
      "Kenyon\n",
      "Parry\n",
      "Arnott\n",
      "Steere\n",
      "Dickinson\n",
      "Evseyev\n",
      "Ulyanov\n",
      "Kazakova\n",
      "Hannaford\n",
      "Mahon\n",
      "Miles\n",
      "Voss\n",
      "Colebatch\n",
      "Chikelu\n",
      "Allan\n",
      "Yefremova\n",
      "Garran\n",
      "Nkemdilim\n",
      "Rubensohn\n",
      "Iqbal\n",
      "Dyer\n",
      "Lyons\n",
      "Namatjira\n",
      "Leibius\n",
      "Coppin\n",
      "Gerasimova\n",
      "Humffray\n",
      "Degtyaryov\n",
      "Cawthorne\n",
      "Khan\n",
      "Iroawuchi\n",
      "Bottrill\n",
      "Jones\n",
      "Sanford\n",
      "Chimaobim\n",
      "Jowers\n",
      "Kirsova\n",
      "Cockrum\n",
      "Greaves\n",
      "Reeves\n",
      "Nnamdi\n",
      "Charlton\n",
      "Marsh\n",
      "Pottinger\n",
      "Buckley\n",
      "Folliero\n",
      "Jessop\n",
      "Hodge\n",
      "Ignatiev\n",
      "Mansom\n",
      "Komarova\n",
      "Yu\n",
      "Sutton\n",
      "Hyde\n",
      "Smalley\n",
      "Barton\n",
      "Horrocks\n",
      "Frye\n",
      "Mellor\n",
      "Meredith\n",
      "Chinomso\n",
      "Chimaoke\n",
      "Winters\n",
      "Hawthorn\n",
      "Hawdon\n",
      "Joslin\n",
      "Bidwill\n",
      "Tate\n",
      "Neal\n",
      "Fulks\n",
      "Siciliano\n",
      "Ositadimma\n",
      "Kazantsev\n",
      "Dolgorukova\n",
      "Singh\n",
      "Shipton\n",
      "Rivas\n",
      "Hoolan\n",
      "Pepper\n",
      "Abramowitz\n",
      "Abazu\n",
      "Harriman\n",
      "Frankland\n",
      "Kwemtochukwu\n",
      "ToRot\n",
      "Lear\n",
      "Winter\n",
      "Hughes-Jones\n",
      "Estrada\n",
      "Heard\n",
      "Efremova\n",
      "Morphett\n",
      "Lenhardt\n",
      "McMorran\n",
      "Phelan\n",
      "Hotchin\n",
      "Aksyonov\n",
      "McGarry\n",
      "Akhtar\n",
      "McDaniels\n",
      "Tennant\n",
      "Donaghy\n",
      "Tobenna\n",
      "Vicars\n",
      "Vessels\n",
      "Heller\n",
      "Dunn\n",
      "Vasilyeva\n",
      "Mollison\n",
      "Aiken\n",
      "Brabyn\n",
      "Traeger\n",
      "Ekwueme\n",
      "Chinwenma\n",
      "Estep\n",
      "Mishina\n",
      "Lavrentiev\n",
      "Kilgour\n",
      "Sheppard\n",
      "Nnanna\n",
      "Norris\n",
      "Chidiebere\n",
      "Okwukwe\n",
      "Elliott\n",
      "Walsh\n",
      "Mahomed\n",
      "Bogdanov\n",
      "Moysey\n",
      "Angel\n",
      "Toosey\n",
      "Hassall\n",
      "Poninski\n",
      "Bonham\n",
      "Bold\n",
      "Izmailov\n",
      "Valentin\n",
      "McIver\n",
      "Fishbourne\n",
      "Chukwueloka\n",
      "Real\n",
      "Odell\n",
      "Enticknap\n",
      "Mann\n",
      "Adams\n",
      "Hirst\n",
      "Horan\n",
      "Cumbrae-Stewart\n",
      "Kinney\n",
      "Nina\n",
      "Mort\n",
      "Martinez\n",
      "Vasilyev\n",
      "Lacross\n",
      "Maughan\n",
      "Tochukwu\n",
      "Slate\n",
      "Chiebuka\n",
      "Berry\n",
      "Boylan\n",
      "Warren\n",
      "Liston\n",
      "Mazure\n",
      "Rudduck\n",
      "Darwin\n",
      "Tomlinson\n",
      "Coates\n",
      "Hickey\n",
      "Stobie\n",
      "Drakeford\n",
      "Bermudez\n",
      "Wyatt\n",
      "Blackwood\n",
      "Storey\n",
      "Glasgow\n",
      "Crotty\n",
      "Hysell\n",
      "Compton\n",
      "See\n",
      "Threatt\n",
      "Davies\n",
      "Matlock\n",
      "Chiedozie\n",
      "Adamson\n",
      "Mishin\n",
      "Bull\n",
      "Serra\n",
      "Summerville\n",
      "Astorga\n",
      "Blesing\n",
      "Nevzorova\n",
      "Sheehan\n",
      "McElhone\n",
      "Chigbogu\n",
      "Tilley\n",
      "McCartney\n",
      "Badgery\n",
      "Zarate\n",
      "Congreve\n",
      "Hayslett\n",
      "Loving\n",
      "Ugonnatubelum\n",
      "Corbett\n",
      "Eiland\n",
      "Labrador\n",
      "Dettmann\n",
      "Hope\n",
      "Ives\n",
      "Brierly\n",
      "Rapuokwu\n",
      "Senior\n",
      "Garmon\n",
      "Biryukova\n",
      "Hutcheon\n",
      "Bateman\n",
      "Haugh\n",
      "Micklem\n",
      "Kegley\n",
      "Valenzuela\n",
      "Fomina\n",
      "Dixon\n",
      "Belov\n",
      "Cross\n",
      "Cullen\n",
      "Rudd\n",
      "Gidney\n",
      "Dalton\n",
      "Hartzler\n",
      "Lambert\n",
      "Game\n",
      "Haynes\n",
      "Jimenez\n",
      "Pharr\n",
      "Jerger\n",
      "Ramsden\n",
      "Jowett\n",
      "Venables\n",
      "Monnier\n",
      "Gadsden\n",
      "Oster\n",
      "Chizoba\n",
      "Peyser\n",
      "Seleznev\n",
      "Alleyne\n",
      "Zikoranachukwudimma\n",
      "Ejikemeifeuwa\n",
      "Rickard\n",
      "Andreev\n",
      "Shand\n",
      "Stehle\n",
      "Belonwu\n",
      "Baker\n",
      "Garcia\n",
      "Field\n",
      "Jefferies\n",
      "Lockyer\n",
      "Torreggiani\n",
      "Richards\n",
      "Herbert\n",
      "Andreyeva\n",
      "Bowen\n",
      "Fowler\n",
      "Lockett\n",
      "Phelps\n",
      "Frederick\n",
      "Carlson\n",
      "Mbadiwe\n",
      "Sabbatini\n",
      "Ewers\n",
      "Hannam\n",
      "Mofflin\n",
      "Ifeanacho\n",
      "Maitland\n",
      "Pollard\n",
      "Brigstocke\n",
      "Gboliwe\n",
      "Seleznyova\n",
      "Joseph\n",
      "Salier\n",
      "Evdokimov\n",
      "Ponomaryova\n",
      "Grosse\n",
      "Belbin\n",
      "Titheradge\n",
      "Hobbs\n",
      "Beggs\n",
      "Luffman\n",
      "Evseev\n",
      "Hagins\n",
      "Kirwan\n",
      "Milligan\n",
      "Royster\n",
      "Gouger\n",
      "Ignatyev\n",
      "Munz\n",
      "Paling\n",
      "Clancy\n",
      "Rios\n",
      "Onyemauchechi\n",
      "Nkemakonam\n",
      "Kirillov\n",
      "Stiles\n",
      "Gaffney\n",
      "Tsui\n",
      "Armit\n",
      "Ramsbotham\n",
      "Scannell\n",
      "Edman\n",
      "Shaver\n",
      "Coupp\n",
      "Bezrukova\n",
      "Cohn\n",
      "Lay\n",
      "Schmidt\n",
      "Hussey\n",
      "Macfarlan\n",
      "Szabados\n",
      "McKelvey\n",
      "McConnell\n",
      "Iheatu\n",
      "Winifred\n",
      "Holmes\n",
      "Riddle\n",
      "McClemans\n",
      "Basedow\n",
      "Nwora\n",
      "Howey\n",
      "Kramer\n",
      "Reynolds\n",
      "Herrin\n",
      "Newland\n",
      "Demaine\n",
      "Harewood\n",
      "Bischof\n",
      "Uren\n",
      "Ruggiero\n",
      "Wilding\n",
      "Yashina\n",
      "Yevseyev\n",
      "Maslov\n",
      "Sullivan\n",
      "Allsop\n",
      "Castles\n",
      "Colbert\n",
      "Chimezie\n",
      "Daluchi\n",
      "Sheffield\n",
      "Dyson\n",
      "Onwuka\n",
      "Flores\n",
      "Nicoll\n",
      "Waters\n",
      "Raynor\n",
      "Eberegbulam\n",
      "Micco\n",
      "Avdeev\n",
      "Bremer\n",
      "Gadsdon\n",
      "Hicks\n",
      "Logan\n",
      "Weber\n",
      "Schnaars\n",
      "Algarin\n",
      "Metcalf\n",
      "Lupton\n",
      "Ibeamaka\n",
      "Rueda\n",
      "Madueke\n",
      "Torres\n",
      "Chukwubuikem\n",
      "Semmens\n",
      "Bogdanova\n",
      "Corser\n",
      "McCardle\n",
      "Radcliffe-Brown\n",
      "Chukwumaobim\n",
      "Cardus\n",
      "Whitehouse\n",
      "McCulloch\n",
      "Koo\n",
      "Woolnough\n",
      "Vinogradov\n",
      "Snider\n",
      "Isayeva\n",
      "Moreno\n",
      "Gill\n",
      "Vaguine\n",
      "Toomey\n",
      "Bonwick\n",
      "Middleton\n",
      "Vale\n",
      "Arkwookerum\n",
      "Lujan\n",
      "Gannon\n",
      "Romero\n",
      "Onwuamaegbu\n",
      "Peacock\n",
      "Barese\n",
      "Nnaemeka\n",
      "Efimov\n",
      "Maynard\n",
      "Zotova\n",
      "Hannah\n",
      "Cartagena\n",
      "Victor\n",
      "Krawczyk\n",
      "Abel\n",
      "Cavill\n",
      "Renwick\n",
      "Linton\n",
      "Langlands\n",
      "Sykes\n",
      "Kryukov\n",
      "Donnelly\n",
      "Boucaut\n",
      "Silva\n",
      "Iweobiegbunam\n",
      "Zito\n",
      "Edmondstone\n",
      "Georg\n",
      "Michelides\n",
      "Chidimma\n",
      "EdmundlaTouche\n",
      "Belousov\n",
      "McCane\n",
      "Parry-Okeden\n",
      "Aldrich\n",
      "Shillito\n",
      "Ikechukwu\n",
      "Kauffmann\n",
      "Bock\n",
      "Brewer\n",
      "Yermakova\n",
      "Jacka\n",
      "Sharp\n",
      "Atherton\n",
      "Cookson\n",
      "Hort\n",
      "Zaytseva\n",
      "Diehl\n",
      "Mead\n",
      "Nicholson\n",
      "Huddart\n",
      "Swain\n",
      "Brient\n",
      "Tucker\n",
      "Izmailova\n",
      "Hutchinson\n",
      "Okwuoma\n",
      "Amadi\n",
      "Percy\n",
      "Floyd\n",
      "Melendez\n",
      "Kovaleva\n",
      "Chukwuma\n",
      "Gilroy\n",
      "Hearn\n",
      "Swanson\n",
      "Benjamin\n",
      "Ryrie\n",
      "Montemayor\n",
      "Izuchukwu\n",
      "Herring\n",
      "Duffy\n",
      "Chiefo\n",
      "Fyodorov\n",
      "Palmerston\n",
      "Polyakov\n",
      "Connor\n",
      "Chester\n",
      "Denisova\n",
      "Clogstoun\n",
      "Kalinina\n",
      "Bennet\n",
      "Hallahan\n",
      "Louis\n",
      "Trouette\n",
      "Cribb\n",
      "Fletcher\n",
      "Corson\n",
      "Hinton\n",
      "Bromby\n",
      "Nweke\n",
      "Batty\n",
      "Agafonova\n",
      "Chidumaga\n",
      "Birk\n",
      "Childs\n",
      "Obioma\n",
      "Stetson\n",
      "Waring\n",
      "Thao\n",
      "Armfield\n",
      "Panina\n",
      "Martel\n",
      "Buddicom\n",
      "Walters\n",
      "Muravyova\n",
      "Keen\n",
      "Liebe\n",
      "Rogova\n",
      "Raff\n",
      "Kanayochukwu\n",
      "Guerin\n",
      "Dominguez\n",
      "Pugh\n",
      "Sawtell\n",
      "Kharitonova\n",
      "Muramats\n",
      "Sokolov\n",
      "Gay\n",
      "Maurer\n",
      "Grieve\n",
      "Lowell\n",
      "Philipp\n",
      "Dynon\n",
      "Bishop\n",
      "Rene\n",
      "Daigle\n",
      "Joshua\n",
      "Cochran\n",
      "Bibb\n",
      "Corran\n",
      "Lovely\n",
      "Plascencia\n",
      "Zotov\n",
      "Lynch\n",
      "McCarthy\n",
      "Nnabuife\n",
      "Tinline\n",
      "Esomchi\n",
      "Retana\n",
      "O'Loughlin\n",
      "Gorman\n",
      "Finch\n",
      "Reyes\n",
      "Downie\n",
      "Yegorov\n",
      "Cantrell\n",
      "Glennon\n",
      "Yancy\n",
      "Cruz\n",
      "Bukowski\n",
      "Chikwendu\n",
      "Kharlamova\n",
      "Diaz\n",
      "Ross-Watt\n",
      "Shubin\n",
      "Sadler\n",
      "Whittaker\n",
      "Gratwick\n",
      "Bovee\n",
      "Frolova\n",
      "Bradshaw\n",
      "Clunie\n",
      "Cover\n",
      "Hodgson\n",
      "Harvey\n",
      "Chase\n",
      "Aparicio\n",
      "Udegbunam\n",
      "Alexandrov\n",
      "Campos\n",
      "McKinnon\n",
      "Burt\n",
      "Feetham\n",
      "Coburn\n",
      "Yegorova\n",
      "Corones\n",
      "Morrice\n",
      "Barrett\n",
      "Tardent\n",
      "Castillo\n",
      "Lindsay\n",
      "Macnamara\n",
      "Aksakova\n",
      "Farnsworth\n",
      "Koch\n",
      "Fleetwood-Smith\n",
      "Chinonyelum\n",
      "Montague\n",
      "Yewen\n",
      "Kalinin\n",
      "Woodward\n",
      "Iweobiegbulam\n",
      "Burton\n",
      "Schwartz\n",
      "Sargent\n",
      "Kepley\n",
      "Lassetter\n",
      "Iloerika\n",
      "Michel\n",
      "Goodwin\n",
      "Rapuluolisa\n",
      "Osorio\n",
      "Barnett\n",
      "Pike\n",
      "Gearheart\n",
      "Egobudike\n",
      "Ahern\n",
      "Anayochukwu\n",
      "Nevels\n",
      "Winn\n",
      "Lopez\n",
      "Steen\n",
      "Pipes\n",
      "Windsor\n",
      "Wark\n",
      "Allnutt\n",
      "Pedder\n",
      "Chialuka\n",
      "Selwyn\n",
      "Koger\n",
      "Kendall\n",
      "Elliot\n",
      "Gratton\n",
      "Carandini\n",
      "Barker\n",
      "Korff\n",
      "Kiernan\n",
      "Mathews\n",
      "Macrossan\n",
      "Illingworth\n",
      "Menhennitt\n",
      "Shoebridge\n",
      "Eva\n",
      "Howe\n",
      "Belisario\n",
      "Pomeroy\n",
      "Schaffer\n",
      "Gonzalez\n",
      "Temple\n",
      "Ridley\n",
      "Slye\n",
      "Takasuka\n",
      "Bruche\n",
      "Ryan\n",
      "Abramova\n",
      "Purdy\n",
      "Higgins\n",
      "Reye\n",
      "Willoughby\n",
      "Mayne\n",
      "Paramor\n",
      "Daly\n",
      "Gorshkov\n",
      "McClinton\n",
      "Holbrook\n",
      "Solomina\n",
      "Faulk\n",
      "Forster\n",
      "Chamberlin\n",
      "Buttenshaw\n",
      "Nazarova\n",
      "Merrett\n",
      "Elder\n",
      "Gunson\n",
      "Gleeson\n",
      "Lang\n",
      "Eve\n",
      "Stradford\n",
      "Brownlow\n",
      "Fyans\n",
      "Creel\n",
      "Nicolay\n",
      "Somerville\n",
      "Pauley\n",
      "Goering\n",
      "Maduabuchim\n",
      "Linger\n",
      "Kenechukwu\n",
      "Learmonth\n",
      "Fitzgerald\n",
      "Duggan\n",
      "Krischock\n",
      "Binder\n",
      "Zubarev\n",
      "Coleman\n",
      "Molineux\n",
      "Duigan\n",
      "Jobson\n",
      "Perreault\n",
      "Algeranoff\n",
      "Galloway\n",
      "Arrington\n",
      "Kamdibe\n",
      "Cousens\n",
      "Hawks\n",
      "Thynne\n",
      "Greenwood\n",
      "Ogle\n",
      "Wolfe\n",
      "Dilibe\n",
      "Austin\n",
      "Santiago\n",
      "Afanasyeva\n",
      "Priestley\n",
      "Salmond\n",
      "Goloubev\n",
      "Dipietro\n",
      "Niehaus\n",
      "Barclay-Harvey\n",
      "Hartung\n",
      "Sternberg\n",
      "Shepherd\n",
      "Marcum\n",
      "North\n",
      "Whitelegge\n",
      "Rooke\n",
      "Horsley\n",
      "Eskridge\n",
      "Claiborne\n",
      "Ibrahimov\n",
      "Enriquez\n",
      "Gilleland\n",
      "Fullwood\n",
      "Doyne\n",
      "Rawling\n",
      "Ankudinova\n",
      "Balsillie\n",
      "Worsnop\n",
      "Buda\n",
      "Broadhurst\n",
      "Garrett\n",
      "Edwards\n",
      "Logue\n",
      "Rechner\n",
      "Batt\n",
      "Trujillo\n",
      "Ash\n",
      "Kumm\n",
      "Carey\n",
      "Farber\n",
      "Edments\n",
      "Lindon\n",
      "Pitcher\n",
      "Kable\n",
      "Kulikova\n",
      "Navarrete\n",
      "Huguley\n",
      "Massie\n",
      "Onwubiko\n",
      "Obiora\n",
      "Slater\n",
      "Menkens\n",
      "Beatham\n",
      "Dowse\n",
      "Griffen\n",
      "Uvarov\n",
      "Hussain\n",
      "Grigoryeva\n",
      "Gunter\n",
      "Collee\n",
      "Ibekwe\n",
      "Hairston\n",
      "Abdulov\n",
      "Perkin\n",
      "Bond\n",
      "Stirling\n",
      "Rutledge\n",
      "Mullah\n",
      "Candler\n",
      "Hollis\n",
      "Lionel\n",
      "Serena\n",
      "Cummins\n",
      "Zhdanov\n",
      "Peck\n",
      "Gerald\n",
      "Nebeuwa\n",
      "Maruff\n",
      "Knepper\n",
      "Hand\n",
      "Chidi\n",
      "Maxwell\n",
      "Berkeley\n",
      "Kaur\n",
      "Mountgarrett\n",
      "Wreford\n",
      "Bolton\n",
      "Corrie\n",
      "Lambie\n",
      "Streeton\n",
      "Pennington\n",
      "Ansell\n",
      "Stokes\n",
      "Ampt\n",
      "Wynn\n",
      "Wagner\n",
      "Argyle\n",
      "Locke\n",
      "Bullen\n",
      "Munson\n",
      "Cooke\n",
      "Hawes\n",
      "Swanton\n",
      "Shipp\n",
      "Jonathan\n",
      "Hernandez\n",
      "Highland\n",
      "Peel\n",
      "Herz\n",
      "Salas\n",
      "Laney\n",
      "Messersmith\n",
      "Etheridge\n",
      "Jolly\n",
      "Botts\n",
      "Fink\n",
      "Morehead\n",
      "Balashova\n",
      "Lowe\n",
      "Ponce\n",
      "Zuyeva\n",
      "Chukwujamuike\n",
      "Flynn\n",
      "Klein\n",
      "Shcherbakov\n",
      "Sokolova\n",
      "Mosley\n",
      "Everett\n",
      "Rouse\n",
      "Burrows\n",
      "Artyomova\n",
      "Yermolayeva\n",
      "LeHunte\n",
      "Blake\n",
      "Sparks\n",
      "Northern\n",
      "Jack\n",
      "Secombe\n",
      "Ugorji\n",
      "Bancks\n",
      "Fairley\n",
      "Boothby\n",
      "Chukwuhaenye\n",
      "Lock\n",
      "Ramsey\n",
      "Eipper\n",
      "Fernandez\n",
      "Yermolayev\n",
      "Kolesnikova\n",
      "Sharwood\n",
      "Bufkin\n",
      "Neitenstein\n",
      "Sandover\n",
      "Sergeyeva\n",
      "Bales\n",
      "Romilly\n",
      "Lawson\n",
      "Bracewell\n",
      "Torkelson\n",
      "Hightower\n",
      "Levan\n",
      "Loginov\n",
      "Lafleur\n",
      "Miranda\n",
      "Simon\n",
      "Golubeva\n",
      "Stange\n",
      "Milliner\n",
      "Swinton\n",
      "Sukhorukova\n",
      "Combes\n",
      "Carruthers\n",
      "O'Loghlin\n",
      "Troupe\n",
      "Deleon\n",
      "Downer\n",
      "Bochsa\n",
      "Czajkowski\n",
      "Pankhurst\n",
      "Birdseye\n",
      "Moon\n",
      "Chuter\n",
      "Nielson\n",
      "Ajuluchukwu\n",
      "Board\n",
      "Leckie\n",
      "Cayley\n",
      "Kuykendall\n",
      "Ukaegbulam\n",
      "Onwuemelie\n",
      "Clendinnen\n",
      "Mactier\n",
      "Lipton\n",
      "Levy\n",
      "Amies\n",
      "Aliyev\n",
      "Langler\n",
      "Pye\n",
      "Asher\n",
      "Major\n",
      "Halpern\n",
      "Nyhan\n",
      "Birdsall\n",
      "Mackie\n",
      "Vinogradoff\n",
      "Pokrovskaya\n",
      "Moroney\n",
      "Spence\n",
      "Cherkasova\n",
      "Crocker\n",
      "Polyakova\n",
      "Cantamessa\n",
      "Teakle\n",
      "Challis\n",
      "Dodgshun\n",
      "Blackall\n",
      "Schoenheimer\n",
      "Bromley\n",
      "Shubina\n",
      "Kinder\n",
      "Shepherdson\n",
      "Burson\n",
      "Hopwood\n",
      "Lindeman\n",
      "McKinley\n",
      "Sanchez\n",
      "Muomelu\n",
      "McVey\n",
      "McKissick\n",
      "Horsfall\n",
      "Clapp\n",
      "MacDonnell\n",
      "Ermakov\n",
      "Peppin\n",
      "Fontenot\n",
      "Howarth\n",
      "Gentry\n",
      "Sunderland\n",
      "Knorr\n",
      "Chimaraoke\n",
      "Frederickson\n",
      "Pickworth\n",
      "McGill\n",
      "Sarratt\n",
      "Leworthy\n",
      "Rivero\n",
      "Hornung\n",
      "Barnet\n",
      "Dennys\n",
      "Salter\n",
      "Lazar\n",
      "Onyenachiya\n",
      "McCawley\n",
      "Teague\n",
      "Nekrasova\n",
      "Carroll\n",
      "Landor\n",
      "Wardell\n",
      "Ali\n",
      "Somayina\n",
      "Ruiz\n",
      "Waterhouse\n",
      "Jara\n",
      "O'Callaghan\n",
      "Pease\n",
      "Lavrentyev\n",
      "Hobson\n",
      "Lappin\n",
      "Travis\n",
      "Jefferson\n",
      "Begley\n",
      "Levien\n",
      "Erskine\n",
      "Monds\n",
      "Castro\n",
      "Voronova\n",
      "Dietz\n",
      "Voronoff\n",
      "Trevascus\n",
      "Durant\n",
      "Chigozie\n",
      "Ardis\n",
      "Butler\n",
      "Pettry\n",
      "Elmore\n",
      "Voronkov\n",
      "Garland\n",
      "Ndubuagha\n",
      "Duke\n",
      "Bradbury\n",
      "Bayley\n",
      "Cremin\n",
      "Gilchrist\n",
      "Fitzpatrick\n",
      "Pagan\n",
      "Hendrick\n",
      "Harding\n",
      "Burfitt\n",
      "Nieves\n",
      "Bruny\n",
      "Felix\n",
      "Rippey\n",
      "Converse\n",
      "Bogolyubova\n",
      "Remington\n",
      "Levi\n",
      "Bennetts\n",
      "Vachon\n",
      "Upjohn\n",
      "Marcus\n",
      "Alvares\n",
      "McDavid\n",
      "Brothers\n",
      "Molle\n",
      "Galgano\n",
      "Raymond\n",
      "Brodney\n",
      "Afanasyev\n",
      "Meagher\n",
      "McGuffog\n",
      "Sargood\n",
      "Harrington\n",
      "Lorenzen\n",
      "Vidler\n",
      "Allingham\n",
      "Stelzer\n",
      "Rubin\n",
      "Harrell\n",
      "Welsh\n",
      "Sousa\n",
      "Obijiaku\n",
      "Mullen\n",
      "Howell\n",
      "Clifton\n",
      "Rees\n",
      "Onwughara\n",
      "Geoghegan\n",
      "Ilyina\n",
      "Quezada\n",
      "Tobeolisa\n",
      "Akudinobi\n",
      "Flemming\n",
      "Azarov\n",
      "Chill\n",
      "Dumolo\n",
      "Wetherspoon\n",
      "Hampton\n",
      "Ireland\n",
      "Hibbins\n",
      "Lea\n",
      "Singleton\n",
      "Sauve\n",
      "Eidson\n",
      "Melvin\n",
      "Dawkins\n",
      "Rita\n",
      "Woolacott\n",
      "Service\n",
      "Dancy\n",
      "Hankinson\n",
      "Afamefula\n",
      "Sherrod\n",
      "Barling\n",
      "Hobler\n",
      "Bair\n",
      "Drury\n",
      "Beale\n",
      "McMinn\n",
      "Hajek\n",
      "Mays\n",
      "Swayne\n",
      "Fennescey\n",
      "Colon\n",
      "Lederer\n",
      "Cecil\n",
      "Manners\n",
      "Wynne\n",
      "Disher\n",
      "Yocum\n",
      "Lowrie\n",
      "Lavarack\n",
      "Gomes\n",
      "Gibney\n",
      "Foran\n",
      "Wyckoff\n",
      "Soares\n",
      "Kenechi\n",
      "Becher\n",
      "Runyon\n",
      "Dobbs\n",
      "Foveaux\n",
      "Currey\n",
      "Nicholas\n",
      "Foster\n",
      "Edmondson\n",
      "AhMouy\n",
      "Blue\n",
      "Sievier\n",
      "Watterston\n",
      "Butters\n",
      "Weaver\n",
      "Earl\n",
      "Begg\n",
      "McNaughtan\n",
      "Reagan\n",
      "Bancroft\n",
      "Band\n",
      "Sandefur\n",
      "Cone\n",
      "Liardet\n",
      "Wilkes\n",
      "Patel\n",
      "Howell-Price\n",
      "Rowland\n",
      "Barnard\n",
      "Pendred\n",
      "Samaniego\n",
      "Burgos\n",
      "Spinelli\n",
      "Peavy\n",
      "Lindell\n",
      "Sorenson\n",
      "Cockett\n",
      "Galkina\n",
      "Spears\n",
      "Hardacre\n",
      "Wakelin\n",
      "Shah\n",
      "Combs\n",
      "Mayrhofer\n",
      "Yefremov\n",
      "Kosovich\n",
      "Taplin\n",
      "Yefimov\n",
      "Hales\n",
      "Copeland\n",
      "Rishel\n",
      "Larkin\n",
      "Eddy\n",
      "Sells\n",
      "Bezrukov\n",
      "StClair\n",
      "Lockington\n",
      "Weston\n",
      "Groom\n",
      "Cambage\n",
      "Burdekin\n",
      "Franz\n",
      "Morant\n",
      "Loton\n",
      "Sani\n",
      "VonDoussa\n",
      "Miracle\n",
      "Burtch\n",
      "McLachlan\n",
      "Wenz\n",
      "Kisch\n",
      "Newman\n",
      "Ndubuisi\n",
      "Plummer\n",
      "Ershova\n",
      "Brookman\n",
      "McBurney\n",
      "Mickey\n",
      "Olszewski\n",
      "Chijioke\n",
      "Bellasis\n",
      "DeMestre\n",
      "Mundy\n",
      "Donahue\n",
      "Verjus\n",
      "Spaull\n",
      "Voronina\n",
      "Crumbley\n",
      "Birch\n",
      "Custance\n",
      "Marshall-Hall\n",
      "More\n",
      "Bazile\n",
      "Wardle\n",
      "Lilly\n",
      "Medland\n",
      "Denman\n",
      "Ratten\n",
      "Abron\n",
      "Belcher\n",
      "Abernathy\n",
      "Pape\n",
      "Earle\n",
      "Coombes\n",
      "Hopman\n",
      "Trejo\n",
      "Macknight\n",
      "Glossop\n",
      "Chalmers\n",
      "Picot\n",
      "Neumayer\n",
      "Yip\n",
      "Ingle\n",
      "Coffey\n",
      "Istomin\n",
      "Fernando\n",
      "McClaran\n",
      "Townsley\n",
      "Mueller\n",
      "Madukaife\n",
      "Abdullah\n",
      "Caraway\n",
      "Loane\n",
      "Geach\n",
      "Charteris\n",
      "Descoteaux\n",
      "Crump\n",
      "Diggs\n",
      "Carvosso\n",
      "Furneaux\n",
      "Nickson\n",
      "Highett\n",
      "Rendall\n",
      "Allardyce\n",
      "Weatherford\n",
      "Chong\n",
      "Alvarez\n",
      "Pritchard\n",
      "Rawlings\n",
      "Truscott\n",
      "Willmore\n",
      "Godson\n",
      "Bitter\n",
      "Forlonge\n",
      "Reyna\n",
      "Tran\n",
      "Otoole\n",
      "Kane\n",
      "Isaacs\n",
      "Timperley\n",
      "Christopher\n",
      "Lawley\n",
      "Whitson\n",
      "Wimble\n",
      "Fermin\n",
      "Fadden\n",
      "Zox\n",
      "Landseer\n",
      "Jenks\n",
      "Crace\n",
      "Packham\n",
      "Emenike\n",
      "Nero\n",
      "Haddon\n",
      "Slone\n",
      "Dann\n",
      "Hooker\n",
      "Kistler\n",
      "Leason\n",
      "Bruner\n",
      "Rubeo\n",
      "Claypool\n",
      "Walpole\n",
      "Steigrad\n",
      "Hixson\n",
      "Laura\n",
      "Hendley\n",
      "Birnie\n",
      "Montgomery\n",
      "Gamble\n",
      "Chifo\n",
      "Michael\n",
      "Quesada\n",
      "Wunder\n",
      "Burlingame\n",
      "Kesteven\n",
      "Abrego\n",
      "Parrott\n",
      "Zinachukwudi\n",
      "Keane\n",
      "McCollum\n",
      "Gambrell\n",
      "Rieke\n",
      "Cawood\n",
      "Yelverton\n",
      "Mault\n",
      "Frewin\n",
      "Royston\n",
      "Wearing\n",
      "Suttor\n",
      "Catchpole\n",
      "Siddons\n",
      "Arbour\n",
      "Hingston\n",
      "Sacco\n",
      "Robb\n",
      "Ochoa\n",
      "Richmond\n",
      "Nworie\n",
      "Wentcher\n",
      "Hayes-Williams\n",
      "Cairns\n",
      "Schatz\n",
      "Stanton\n",
      "Ramirez\n",
      "Bryan\n",
      "Mullawirraburka\n",
      "Chubb\n",
      "Huggins\n",
      "Cowen\n",
      "Kaleski\n",
      "Sugden\n",
      "Beck\n",
      "Beam\n",
      "Haworth\n",
      "Guidry\n",
      "Maher\n",
      "Rapuluchukwu\n",
      "Cyril\n",
      "Laidley\n",
      "McNeill\n",
      "Kentish\n",
      "Persse\n",
      "Chukwujekwu\n",
      "Ham\n",
      "Paten\n",
      "Esquivel\n",
      "Sidorova\n",
      "Santana\n",
      "Mironov\n",
      "Ruse\n",
      "Palfreyman\n",
      "Webster\n",
      "Cardell\n",
      "Lennox\n",
      "Meldrum\n",
      "Vidal\n",
      "Veale\n",
      "Kershaw\n",
      "Vanzetti\n",
      "Boone\n",
      "Nagy\n",
      "Lehr\n",
      "Upchurch\n",
      "Woodhouse\n",
      "Toth\n",
      "Ingamells\n",
      "Overby\n",
      "Chifley\n",
      "Rodriguez\n",
      "Kingsley\n",
      "Gosnell\n",
      "Gearhart\n",
      "Seccombe\n",
      "Rounsevell\n",
      "Stoneman\n",
      "Moody\n",
      "Keldie\n",
      "Defalco\n",
      "Tillman\n",
      "Beede\n",
      "Sadlier\n",
      "Bozeman\n",
      "Shelby\n",
      "Marian\n",
      "Fane\n",
      "Caffyn\n",
      "Dahlenburg\n",
      "Olson\n",
      "Andersen\n",
      "Mackinlay\n",
      "Norriss\n",
      "Mott\n",
      "Fokina\n",
      "Boan\n",
      "Topp\n",
      "Burgoyne\n",
      "Gebhart\n",
      "Tudawali\n",
      "Maconochie\n",
      "Plumb\n",
      "Benford\n",
      "Cobb\n",
      "Macadam\n",
      "Tychonoff\n",
      "Urban\n",
      "Lascelles\n",
      "Mack\n",
      "Sneddon\n",
      "Hopetoun\n",
      "Faria\n",
      "Marquez\n",
      "Barnhill\n",
      "Ogg\n",
      "Wells\n",
      "Calzada\n",
      "Gresswell\n",
      "Aguirre\n",
      "Morales\n",
      "Moffitt\n",
      "Weigel\n",
      "Ohearn\n",
      "Munroe\n",
      "Trumbull\n",
      "Crist\n",
      "O'Kane\n",
      "Lorimer\n",
      "McDowell\n",
      "Root\n",
      "Saad\n",
      "Corby\n",
      "Dwyer\n",
      "Flannagan\n",
      "Sturdee\n",
      "Hull\n",
      "Vagin\n",
      "Mach\n",
      "MacPherson\n",
      "Parks\n",
      "Edith\n",
      "Lajoie\n",
      "Torode\n",
      "Salinas\n",
      "Cleveland\n",
      "Kashiwagi\n",
      "Aldridge\n",
      "Burbidge\n"
     ]
    }
   ],
   "source": [
    "for i in d:\n",
    "    print(i)"
   ]
  },
  {
   "cell_type": "raw",
   "id": "40260bbe",
   "metadata": {},
   "source": [
    "H?,L?,Hs?,Y?an,K?,Y?,Hs?eh,"
   ]
  },
  {
   "cell_type": "code",
   "execution_count": 254,
   "id": "bba248d7",
   "metadata": {},
   "outputs": [],
   "source": [
    "# We don't need to keep this name columns for our analysis so we can drop it"
   ]
  },
  {
   "cell_type": "code",
   "execution_count": 255,
   "id": "ba480cd9",
   "metadata": {},
   "outputs": [],
   "source": [
    "df.drop(columns='CustomerId',inplace=True)"
   ]
  },
  {
   "cell_type": "code",
   "execution_count": 256,
   "id": "6126fa63",
   "metadata": {},
   "outputs": [
    {
     "data": {
      "text/html": [
       "<div>\n",
       "<style scoped>\n",
       "    .dataframe tbody tr th:only-of-type {\n",
       "        vertical-align: middle;\n",
       "    }\n",
       "\n",
       "    .dataframe tbody tr th {\n",
       "        vertical-align: top;\n",
       "    }\n",
       "\n",
       "    .dataframe thead th {\n",
       "        text-align: right;\n",
       "    }\n",
       "</style>\n",
       "<table border=\"1\" class=\"dataframe\">\n",
       "  <thead>\n",
       "    <tr style=\"text-align: right;\">\n",
       "      <th></th>\n",
       "      <th>Surname</th>\n",
       "      <th>CreditScore</th>\n",
       "      <th>Geography</th>\n",
       "      <th>Gender</th>\n",
       "      <th>Age</th>\n",
       "      <th>Tenure</th>\n",
       "      <th>Balance</th>\n",
       "      <th>NumOfProducts</th>\n",
       "      <th>HasCrCard</th>\n",
       "      <th>IsActiveMember</th>\n",
       "      <th>EstimatedSalary</th>\n",
       "      <th>Exited</th>\n",
       "    </tr>\n",
       "  </thead>\n",
       "  <tbody>\n",
       "    <tr>\n",
       "      <th>0</th>\n",
       "      <td>Hargrave</td>\n",
       "      <td>619</td>\n",
       "      <td>France</td>\n",
       "      <td>Female</td>\n",
       "      <td>42</td>\n",
       "      <td>2</td>\n",
       "      <td>0.00</td>\n",
       "      <td>1</td>\n",
       "      <td>1</td>\n",
       "      <td>1</td>\n",
       "      <td>101348.88</td>\n",
       "      <td>1</td>\n",
       "    </tr>\n",
       "    <tr>\n",
       "      <th>1</th>\n",
       "      <td>Hill</td>\n",
       "      <td>608</td>\n",
       "      <td>Spain</td>\n",
       "      <td>Female</td>\n",
       "      <td>41</td>\n",
       "      <td>1</td>\n",
       "      <td>83807.86</td>\n",
       "      <td>1</td>\n",
       "      <td>0</td>\n",
       "      <td>1</td>\n",
       "      <td>112542.58</td>\n",
       "      <td>0</td>\n",
       "    </tr>\n",
       "    <tr>\n",
       "      <th>2</th>\n",
       "      <td>Onio</td>\n",
       "      <td>502</td>\n",
       "      <td>France</td>\n",
       "      <td>Female</td>\n",
       "      <td>42</td>\n",
       "      <td>8</td>\n",
       "      <td>159660.80</td>\n",
       "      <td>3</td>\n",
       "      <td>1</td>\n",
       "      <td>0</td>\n",
       "      <td>113931.57</td>\n",
       "      <td>1</td>\n",
       "    </tr>\n",
       "    <tr>\n",
       "      <th>3</th>\n",
       "      <td>Boni</td>\n",
       "      <td>699</td>\n",
       "      <td>France</td>\n",
       "      <td>Female</td>\n",
       "      <td>39</td>\n",
       "      <td>1</td>\n",
       "      <td>0.00</td>\n",
       "      <td>2</td>\n",
       "      <td>0</td>\n",
       "      <td>0</td>\n",
       "      <td>93826.63</td>\n",
       "      <td>0</td>\n",
       "    </tr>\n",
       "    <tr>\n",
       "      <th>4</th>\n",
       "      <td>Mitchell</td>\n",
       "      <td>850</td>\n",
       "      <td>Spain</td>\n",
       "      <td>Female</td>\n",
       "      <td>43</td>\n",
       "      <td>2</td>\n",
       "      <td>125510.82</td>\n",
       "      <td>1</td>\n",
       "      <td>1</td>\n",
       "      <td>1</td>\n",
       "      <td>79084.10</td>\n",
       "      <td>0</td>\n",
       "    </tr>\n",
       "  </tbody>\n",
       "</table>\n",
       "</div>"
      ],
      "text/plain": [
       "    Surname  CreditScore Geography  Gender  Age  Tenure    Balance  \\\n",
       "0  Hargrave          619    France  Female   42       2       0.00   \n",
       "1      Hill          608     Spain  Female   41       1   83807.86   \n",
       "2      Onio          502    France  Female   42       8  159660.80   \n",
       "3      Boni          699    France  Female   39       1       0.00   \n",
       "4  Mitchell          850     Spain  Female   43       2  125510.82   \n",
       "\n",
       "   NumOfProducts  HasCrCard  IsActiveMember  EstimatedSalary  Exited  \n",
       "0              1          1               1        101348.88       1  \n",
       "1              1          0               1        112542.58       0  \n",
       "2              3          1               0        113931.57       1  \n",
       "3              2          0               0         93826.63       0  \n",
       "4              1          1               1         79084.10       0  "
      ]
     },
     "execution_count": 256,
     "metadata": {},
     "output_type": "execute_result"
    }
   ],
   "source": [
    "df.head()"
   ]
  },
  {
   "cell_type": "code",
   "execution_count": 257,
   "id": "898b4a22",
   "metadata": {},
   "outputs": [
    {
     "name": "stdout",
     "output_type": "stream",
     "text": [
      "619\n",
      "608\n",
      "502\n",
      "699\n",
      "850\n",
      "645\n",
      "822\n",
      "376\n",
      "501\n",
      "684\n",
      "528\n",
      "497\n",
      "476\n",
      "549\n",
      "635\n",
      "616\n",
      "653\n",
      "587\n",
      "726\n",
      "732\n",
      "636\n",
      "510\n",
      "669\n",
      "846\n",
      "577\n",
      "756\n",
      "571\n",
      "574\n",
      "411\n",
      "591\n",
      "533\n",
      "553\n",
      "520\n",
      "722\n",
      "475\n",
      "490\n",
      "804\n",
      "582\n",
      "472\n",
      "465\n",
      "556\n",
      "834\n",
      "660\n",
      "776\n",
      "829\n",
      "637\n",
      "550\n",
      "698\n",
      "585\n",
      "788\n",
      "655\n",
      "601\n",
      "656\n",
      "725\n",
      "511\n",
      "614\n",
      "742\n",
      "687\n",
      "555\n",
      "603\n",
      "751\n",
      "581\n",
      "735\n",
      "661\n",
      "675\n",
      "738\n",
      "813\n",
      "657\n",
      "604\n",
      "519\n",
      "664\n",
      "678\n",
      "757\n",
      "416\n",
      "665\n",
      "777\n",
      "543\n",
      "506\n",
      "493\n",
      "652\n",
      "750\n",
      "729\n",
      "646\n",
      "647\n",
      "808\n",
      "524\n",
      "769\n",
      "730\n",
      "515\n",
      "773\n",
      "814\n",
      "710\n",
      "413\n",
      "623\n",
      "670\n",
      "622\n",
      "785\n",
      "605\n",
      "479\n",
      "685\n",
      "538\n",
      "562\n",
      "721\n",
      "628\n",
      "668\n",
      "828\n",
      "674\n",
      "625\n",
      "432\n",
      "770\n",
      "758\n",
      "795\n",
      "686\n",
      "789\n",
      "589\n",
      "461\n",
      "584\n",
      "579\n",
      "663\n",
      "682\n",
      "793\n",
      "691\n",
      "485\n",
      "650\n",
      "754\n",
      "535\n",
      "716\n",
      "539\n",
      "706\n",
      "586\n",
      "631\n",
      "717\n",
      "800\n",
      "683\n",
      "704\n",
      "615\n",
      "667\n",
      "484\n",
      "480\n",
      "578\n",
      "512\n",
      "606\n",
      "597\n",
      "778\n",
      "514\n",
      "525\n",
      "715\n",
      "580\n",
      "807\n",
      "521\n",
      "759\n",
      "516\n",
      "711\n",
      "618\n",
      "643\n",
      "671\n",
      "689\n",
      "620\n",
      "676\n",
      "572\n",
      "695\n",
      "592\n",
      "567\n",
      "694\n",
      "547\n",
      "594\n",
      "673\n",
      "610\n",
      "767\n",
      "763\n",
      "712\n",
      "703\n",
      "662\n",
      "659\n",
      "523\n",
      "772\n",
      "545\n",
      "634\n",
      "739\n",
      "771\n",
      "681\n",
      "544\n",
      "696\n",
      "766\n",
      "727\n",
      "693\n",
      "557\n",
      "531\n",
      "498\n",
      "651\n",
      "791\n",
      "733\n",
      "811\n",
      "707\n",
      "714\n",
      "782\n",
      "775\n",
      "799\n",
      "602\n",
      "744\n",
      "588\n",
      "747\n",
      "583\n",
      "627\n",
      "731\n",
      "629\n",
      "438\n",
      "642\n",
      "806\n",
      "474\n",
      "559\n",
      "429\n",
      "680\n",
      "749\n",
      "734\n",
      "644\n",
      "626\n",
      "649\n",
      "805\n",
      "718\n",
      "840\n",
      "630\n",
      "654\n",
      "762\n",
      "568\n",
      "613\n",
      "522\n",
      "737\n",
      "648\n",
      "443\n",
      "640\n",
      "540\n",
      "460\n",
      "593\n",
      "801\n",
      "611\n",
      "802\n",
      "745\n",
      "483\n",
      "690\n",
      "492\n",
      "709\n",
      "705\n",
      "560\n",
      "752\n",
      "701\n",
      "537\n",
      "487\n",
      "596\n",
      "702\n",
      "486\n",
      "724\n",
      "548\n",
      "464\n",
      "790\n",
      "534\n",
      "748\n",
      "494\n",
      "590\n",
      "468\n",
      "509\n",
      "818\n",
      "816\n",
      "536\n",
      "753\n",
      "774\n",
      "621\n",
      "569\n",
      "658\n",
      "798\n",
      "641\n",
      "542\n",
      "692\n",
      "639\n",
      "765\n",
      "570\n",
      "638\n",
      "599\n",
      "632\n",
      "779\n",
      "527\n",
      "564\n",
      "833\n",
      "504\n",
      "842\n",
      "508\n",
      "417\n",
      "598\n",
      "741\n",
      "607\n",
      "761\n",
      "848\n",
      "546\n",
      "439\n",
      "755\n",
      "760\n",
      "526\n",
      "713\n",
      "700\n",
      "666\n",
      "566\n",
      "495\n",
      "688\n",
      "612\n",
      "477\n",
      "427\n",
      "839\n",
      "819\n",
      "720\n",
      "459\n",
      "503\n",
      "624\n",
      "529\n",
      "563\n",
      "482\n",
      "796\n",
      "445\n",
      "746\n",
      "786\n",
      "554\n",
      "672\n",
      "787\n",
      "499\n",
      "844\n",
      "450\n",
      "815\n",
      "838\n",
      "803\n",
      "736\n",
      "633\n",
      "600\n",
      "679\n",
      "517\n",
      "792\n",
      "743\n",
      "488\n",
      "421\n",
      "841\n",
      "708\n",
      "507\n",
      "505\n",
      "456\n",
      "435\n",
      "561\n",
      "518\n",
      "565\n",
      "728\n",
      "784\n",
      "552\n",
      "609\n",
      "764\n",
      "697\n",
      "723\n",
      "551\n",
      "444\n",
      "719\n",
      "496\n",
      "541\n",
      "830\n",
      "812\n",
      "677\n",
      "420\n",
      "595\n",
      "617\n",
      "809\n",
      "500\n",
      "826\n",
      "434\n",
      "513\n",
      "478\n",
      "797\n",
      "363\n",
      "399\n",
      "463\n",
      "780\n",
      "452\n",
      "575\n",
      "837\n",
      "794\n",
      "824\n",
      "428\n",
      "823\n",
      "781\n",
      "849\n",
      "489\n",
      "431\n",
      "457\n",
      "768\n",
      "831\n",
      "359\n",
      "820\n",
      "573\n",
      "576\n",
      "558\n",
      "817\n",
      "449\n",
      "440\n",
      "415\n",
      "821\n",
      "530\n",
      "350\n",
      "446\n",
      "425\n",
      "740\n",
      "481\n",
      "783\n",
      "358\n",
      "845\n",
      "451\n",
      "458\n",
      "469\n",
      "423\n",
      "404\n",
      "836\n",
      "473\n",
      "835\n",
      "466\n",
      "491\n",
      "351\n",
      "827\n",
      "843\n",
      "365\n",
      "532\n",
      "414\n",
      "453\n",
      "471\n",
      "401\n",
      "810\n",
      "832\n",
      "470\n",
      "447\n",
      "422\n",
      "825\n",
      "430\n",
      "436\n",
      "426\n",
      "408\n",
      "847\n",
      "418\n",
      "437\n",
      "410\n",
      "454\n",
      "407\n",
      "455\n",
      "462\n",
      "386\n",
      "405\n",
      "383\n",
      "395\n",
      "467\n",
      "433\n",
      "442\n",
      "424\n",
      "448\n",
      "441\n",
      "367\n",
      "412\n",
      "382\n",
      "373\n",
      "419\n"
     ]
    }
   ],
   "source": [
    "e=df['CreditScore'].unique()\n",
    "for i in e:\n",
    "    print(i)"
   ]
  },
  {
   "cell_type": "code",
   "execution_count": 258,
   "id": "44a1ac81",
   "metadata": {},
   "outputs": [
    {
     "data": {
      "text/plain": [
       "array(['France', 'Spain', 'espanio', 'fra', 'Germany', 'france', 'ger',\n",
       "       'spain', 'germany', 'gernamy', 'GERMANY'], dtype=object)"
      ]
     },
     "execution_count": 258,
     "metadata": {},
     "output_type": "execute_result"
    }
   ],
   "source": [
    "df['Geography'].unique()"
   ]
  },
  {
   "cell_type": "code",
   "execution_count": 259,
   "id": "db4440d6",
   "metadata": {},
   "outputs": [],
   "source": [
    "df['Geography'].replace(to_replace=['Germany','ger','germany','gernamy','GERMANY'],value='germany',inplace=True)"
   ]
  },
  {
   "cell_type": "code",
   "execution_count": 260,
   "id": "1cc2ffc3",
   "metadata": {},
   "outputs": [
    {
     "data": {
      "text/plain": [
       "array(['France', 'Spain', 'espanio', 'fra', 'germany', 'france', 'spain'],\n",
       "      dtype=object)"
      ]
     },
     "execution_count": 260,
     "metadata": {},
     "output_type": "execute_result"
    }
   ],
   "source": [
    "df['Geography'].unique()"
   ]
  },
  {
   "cell_type": "code",
   "execution_count": 261,
   "id": "0472d004",
   "metadata": {},
   "outputs": [],
   "source": [
    "df['Geography'].replace(to_replace=['Spain'],value='spain',inplace=True)"
   ]
  },
  {
   "cell_type": "code",
   "execution_count": 262,
   "id": "e36521b4",
   "metadata": {},
   "outputs": [],
   "source": [
    "df['Geography'].replace(to_replace=['France','fra'],value='france',inplace=True)"
   ]
  },
  {
   "cell_type": "code",
   "execution_count": 263,
   "id": "5e05ce7f",
   "metadata": {},
   "outputs": [],
   "source": [
    "df['Geography'].replace(to_replace='espanio',value='spain',inplace=True)"
   ]
  },
  {
   "cell_type": "code",
   "execution_count": 264,
   "id": "8e6cd2d5",
   "metadata": {},
   "outputs": [
    {
     "data": {
      "text/plain": [
       "array(['france', 'spain', 'germany'], dtype=object)"
      ]
     },
     "execution_count": 264,
     "metadata": {},
     "output_type": "execute_result"
    }
   ],
   "source": [
    "df['Geography'].unique()"
   ]
  },
  {
   "cell_type": "markdown",
   "id": "0db9f8cf",
   "metadata": {},
   "source": [
    "### now we have only three country according to our requirement"
   ]
  },
  {
   "cell_type": "code",
   "execution_count": 265,
   "id": "fb3ffac0",
   "metadata": {},
   "outputs": [
    {
     "data": {
      "text/plain": [
       "0"
      ]
     },
     "execution_count": 265,
     "metadata": {},
     "output_type": "execute_result"
    }
   ],
   "source": [
    "df['CreditScore'].isnull().sum()      # to check credit score column"
   ]
  },
  {
   "cell_type": "code",
   "execution_count": 266,
   "id": "1944e70c",
   "metadata": {},
   "outputs": [
    {
     "data": {
      "text/plain": [
       "Male      5457\n",
       "Female    4543\n",
       "Name: Gender, dtype: int64"
      ]
     },
     "execution_count": 266,
     "metadata": {},
     "output_type": "execute_result"
    }
   ],
   "source": [
    "df['Gender'].value_counts()      # we have counting of male is high than female"
   ]
  },
  {
   "cell_type": "code",
   "execution_count": 267,
   "id": "72c8f885",
   "metadata": {},
   "outputs": [
    {
     "data": {
      "text/plain": [
       "array(['Female', 'Male'], dtype=object)"
      ]
     },
     "execution_count": 267,
     "metadata": {},
     "output_type": "execute_result"
    }
   ],
   "source": [
    "df['Gender'].unique()"
   ]
  },
  {
   "cell_type": "code",
   "execution_count": 268,
   "id": "ac892537",
   "metadata": {},
   "outputs": [
    {
     "data": {
      "text/plain": [
       "array([42, 41, 39, 43, 44, 50, 29, 27, 31, 24, 34, 25, 35, 45, 58, 32, 38,\n",
       "       46, 36, 33, 40, 51, 61, 49, 37, 19, 66, 56, 26, 21, 55, 75, 22, 30,\n",
       "       28, 65, 48, 52, 57, 73, 47, 54, 72, 20, 67, 79, 62, 53, 80, 59, 68,\n",
       "       23, 60, 70, 63, 64, 18, 82, 69, 74, 71, 76, 77, 88, 85, 84, 78, 81,\n",
       "       92, 83], dtype=int64)"
      ]
     },
     "execution_count": 268,
     "metadata": {},
     "output_type": "execute_result"
    }
   ],
   "source": [
    "df['Age'].unique()"
   ]
  },
  {
   "cell_type": "code",
   "execution_count": 269,
   "id": "0209c3a4",
   "metadata": {},
   "outputs": [
    {
     "data": {
      "text/plain": [
       "0"
      ]
     },
     "execution_count": 269,
     "metadata": {},
     "output_type": "execute_result"
    }
   ],
   "source": [
    "df['Age'].isnull().sum()"
   ]
  },
  {
   "cell_type": "code",
   "execution_count": 270,
   "id": "10e2367b",
   "metadata": {},
   "outputs": [
    {
     "data": {
      "text/plain": [
       "array([ 2,  1,  8,  7,  4,  6,  3, 10,  5,  9,  0], dtype=int64)"
      ]
     },
     "execution_count": 270,
     "metadata": {},
     "output_type": "execute_result"
    }
   ],
   "source": [
    "df['Tenure'].unique()"
   ]
  },
  {
   "cell_type": "code",
   "execution_count": 271,
   "id": "9dbdfd1e",
   "metadata": {},
   "outputs": [
    {
     "data": {
      "text/plain": [
       "array([     0.  ,  83807.86, 159660.8 , ...,  57369.61,  75075.31,\n",
       "       130142.79])"
      ]
     },
     "execution_count": 271,
     "metadata": {},
     "output_type": "execute_result"
    }
   ],
   "source": [
    "df['Balance'].unique()"
   ]
  },
  {
   "cell_type": "code",
   "execution_count": 272,
   "id": "91cc49a6",
   "metadata": {},
   "outputs": [
    {
     "data": {
      "text/plain": [
       "0"
      ]
     },
     "execution_count": 272,
     "metadata": {},
     "output_type": "execute_result"
    }
   ],
   "source": [
    "df['Balance'].isnull().sum()"
   ]
  },
  {
   "cell_type": "code",
   "execution_count": 273,
   "id": "97b9be9a",
   "metadata": {},
   "outputs": [
    {
     "data": {
      "text/plain": [
       "array([1, 3, 2, 4], dtype=int64)"
      ]
     },
     "execution_count": 273,
     "metadata": {},
     "output_type": "execute_result"
    }
   ],
   "source": [
    "df['NumOfProducts'].unique()"
   ]
  },
  {
   "cell_type": "code",
   "execution_count": 274,
   "id": "b9cdddf9",
   "metadata": {},
   "outputs": [],
   "source": [
    "df['NumOfProducts'].replace(to_replace='NumOfProducts',value='num_of _products',inplace=True)"
   ]
  },
  {
   "cell_type": "code",
   "execution_count": 275,
   "id": "1624ed05",
   "metadata": {},
   "outputs": [
    {
     "data": {
      "text/plain": [
       "array([1, 0], dtype=int64)"
      ]
     },
     "execution_count": 275,
     "metadata": {},
     "output_type": "execute_result"
    }
   ],
   "source": [
    "df['HasCrCard'].unique()"
   ]
  },
  {
   "cell_type": "code",
   "execution_count": 276,
   "id": "7d1c835b",
   "metadata": {},
   "outputs": [
    {
     "data": {
      "text/plain": [
       "array([1, 0], dtype=int64)"
      ]
     },
     "execution_count": 276,
     "metadata": {},
     "output_type": "execute_result"
    }
   ],
   "source": [
    "df['IsActiveMember'].unique()"
   ]
  },
  {
   "cell_type": "code",
   "execution_count": 277,
   "id": "9c31c1f0",
   "metadata": {},
   "outputs": [
    {
     "data": {
      "text/plain": [
       "array([101348.88, 112542.58, 113931.57, ...,  42085.58,  92888.52,\n",
       "        38190.78])"
      ]
     },
     "execution_count": 277,
     "metadata": {},
     "output_type": "execute_result"
    }
   ],
   "source": [
    "df['EstimatedSalary'].unique()"
   ]
  },
  {
   "cell_type": "code",
   "execution_count": 278,
   "id": "3c1c832c",
   "metadata": {},
   "outputs": [
    {
     "data": {
      "text/plain": [
       "0"
      ]
     },
     "execution_count": 278,
     "metadata": {},
     "output_type": "execute_result"
    }
   ],
   "source": [
    "df['EstimatedSalary'].isnull().sum()"
   ]
  },
  {
   "cell_type": "code",
   "execution_count": 279,
   "id": "49290f32",
   "metadata": {},
   "outputs": [
    {
     "data": {
      "text/plain": [
       "array([1, 0], dtype=int64)"
      ]
     },
     "execution_count": 279,
     "metadata": {},
     "output_type": "execute_result"
    }
   ],
   "source": [
    "df['Exited'].unique()"
   ]
  },
  {
   "cell_type": "code",
   "execution_count": 280,
   "id": "4834669c",
   "metadata": {},
   "outputs": [
    {
     "data": {
      "text/plain": [
       "0"
      ]
     },
     "execution_count": 280,
     "metadata": {},
     "output_type": "execute_result"
    }
   ],
   "source": [
    "df['Exited'].isnull().sum()"
   ]
  },
  {
   "cell_type": "code",
   "execution_count": 281,
   "id": "1169e0ed",
   "metadata": {},
   "outputs": [],
   "source": [
    "df.drop(columns='Surname',inplace=True)    # i have dropped this column because their is no need if we have to keep so we can"
   ]
  },
  {
   "cell_type": "code",
   "execution_count": 282,
   "id": "93f9078a",
   "metadata": {},
   "outputs": [
    {
     "data": {
      "text/plain": [
       "CreditScore        0\n",
       "Geography          0\n",
       "Gender             0\n",
       "Age                0\n",
       "Tenure             0\n",
       "Balance            0\n",
       "NumOfProducts      0\n",
       "HasCrCard          0\n",
       "IsActiveMember     0\n",
       "EstimatedSalary    0\n",
       "Exited             0\n",
       "dtype: int64"
      ]
     },
     "execution_count": 282,
     "metadata": {},
     "output_type": "execute_result"
    }
   ],
   "source": [
    "df.isnull().sum()"
   ]
  },
  {
   "cell_type": "code",
   "execution_count": 283,
   "id": "81a94a1d",
   "metadata": {},
   "outputs": [
    {
     "data": {
      "text/html": [
       "<div>\n",
       "<style scoped>\n",
       "    .dataframe tbody tr th:only-of-type {\n",
       "        vertical-align: middle;\n",
       "    }\n",
       "\n",
       "    .dataframe tbody tr th {\n",
       "        vertical-align: top;\n",
       "    }\n",
       "\n",
       "    .dataframe thead th {\n",
       "        text-align: right;\n",
       "    }\n",
       "</style>\n",
       "<table border=\"1\" class=\"dataframe\">\n",
       "  <thead>\n",
       "    <tr style=\"text-align: right;\">\n",
       "      <th></th>\n",
       "      <th>CreditScore</th>\n",
       "      <th>Age</th>\n",
       "      <th>Tenure</th>\n",
       "      <th>Balance</th>\n",
       "      <th>NumOfProducts</th>\n",
       "      <th>HasCrCard</th>\n",
       "      <th>IsActiveMember</th>\n",
       "      <th>EstimatedSalary</th>\n",
       "      <th>Exited</th>\n",
       "    </tr>\n",
       "  </thead>\n",
       "  <tbody>\n",
       "    <tr>\n",
       "      <th>count</th>\n",
       "      <td>10000.000000</td>\n",
       "      <td>10000.000000</td>\n",
       "      <td>10000.000000</td>\n",
       "      <td>10000.000000</td>\n",
       "      <td>10000.000000</td>\n",
       "      <td>10000.00000</td>\n",
       "      <td>10000.000000</td>\n",
       "      <td>10000.000000</td>\n",
       "      <td>10000.000000</td>\n",
       "    </tr>\n",
       "    <tr>\n",
       "      <th>mean</th>\n",
       "      <td>650.528800</td>\n",
       "      <td>38.921800</td>\n",
       "      <td>5.012800</td>\n",
       "      <td>76485.889288</td>\n",
       "      <td>1.530200</td>\n",
       "      <td>0.70550</td>\n",
       "      <td>0.515100</td>\n",
       "      <td>100090.239881</td>\n",
       "      <td>0.203700</td>\n",
       "    </tr>\n",
       "    <tr>\n",
       "      <th>std</th>\n",
       "      <td>96.653299</td>\n",
       "      <td>10.487806</td>\n",
       "      <td>2.892174</td>\n",
       "      <td>62397.405202</td>\n",
       "      <td>0.581654</td>\n",
       "      <td>0.45584</td>\n",
       "      <td>0.499797</td>\n",
       "      <td>57510.492818</td>\n",
       "      <td>0.402769</td>\n",
       "    </tr>\n",
       "    <tr>\n",
       "      <th>min</th>\n",
       "      <td>350.000000</td>\n",
       "      <td>18.000000</td>\n",
       "      <td>0.000000</td>\n",
       "      <td>0.000000</td>\n",
       "      <td>1.000000</td>\n",
       "      <td>0.00000</td>\n",
       "      <td>0.000000</td>\n",
       "      <td>11.580000</td>\n",
       "      <td>0.000000</td>\n",
       "    </tr>\n",
       "    <tr>\n",
       "      <th>25%</th>\n",
       "      <td>584.000000</td>\n",
       "      <td>32.000000</td>\n",
       "      <td>3.000000</td>\n",
       "      <td>0.000000</td>\n",
       "      <td>1.000000</td>\n",
       "      <td>0.00000</td>\n",
       "      <td>0.000000</td>\n",
       "      <td>51002.110000</td>\n",
       "      <td>0.000000</td>\n",
       "    </tr>\n",
       "    <tr>\n",
       "      <th>50%</th>\n",
       "      <td>652.000000</td>\n",
       "      <td>37.000000</td>\n",
       "      <td>5.000000</td>\n",
       "      <td>97198.540000</td>\n",
       "      <td>1.000000</td>\n",
       "      <td>1.00000</td>\n",
       "      <td>1.000000</td>\n",
       "      <td>100193.915000</td>\n",
       "      <td>0.000000</td>\n",
       "    </tr>\n",
       "    <tr>\n",
       "      <th>75%</th>\n",
       "      <td>718.000000</td>\n",
       "      <td>44.000000</td>\n",
       "      <td>7.000000</td>\n",
       "      <td>127644.240000</td>\n",
       "      <td>2.000000</td>\n",
       "      <td>1.00000</td>\n",
       "      <td>1.000000</td>\n",
       "      <td>149388.247500</td>\n",
       "      <td>0.000000</td>\n",
       "    </tr>\n",
       "    <tr>\n",
       "      <th>max</th>\n",
       "      <td>850.000000</td>\n",
       "      <td>92.000000</td>\n",
       "      <td>10.000000</td>\n",
       "      <td>250898.090000</td>\n",
       "      <td>4.000000</td>\n",
       "      <td>1.00000</td>\n",
       "      <td>1.000000</td>\n",
       "      <td>199992.480000</td>\n",
       "      <td>1.000000</td>\n",
       "    </tr>\n",
       "  </tbody>\n",
       "</table>\n",
       "</div>"
      ],
      "text/plain": [
       "        CreditScore           Age        Tenure        Balance  NumOfProducts  \\\n",
       "count  10000.000000  10000.000000  10000.000000   10000.000000   10000.000000   \n",
       "mean     650.528800     38.921800      5.012800   76485.889288       1.530200   \n",
       "std       96.653299     10.487806      2.892174   62397.405202       0.581654   \n",
       "min      350.000000     18.000000      0.000000       0.000000       1.000000   \n",
       "25%      584.000000     32.000000      3.000000       0.000000       1.000000   \n",
       "50%      652.000000     37.000000      5.000000   97198.540000       1.000000   \n",
       "75%      718.000000     44.000000      7.000000  127644.240000       2.000000   \n",
       "max      850.000000     92.000000     10.000000  250898.090000       4.000000   \n",
       "\n",
       "         HasCrCard  IsActiveMember  EstimatedSalary        Exited  \n",
       "count  10000.00000    10000.000000     10000.000000  10000.000000  \n",
       "mean       0.70550        0.515100    100090.239881      0.203700  \n",
       "std        0.45584        0.499797     57510.492818      0.402769  \n",
       "min        0.00000        0.000000        11.580000      0.000000  \n",
       "25%        0.00000        0.000000     51002.110000      0.000000  \n",
       "50%        1.00000        1.000000    100193.915000      0.000000  \n",
       "75%        1.00000        1.000000    149388.247500      0.000000  \n",
       "max        1.00000        1.000000    199992.480000      1.000000  "
      ]
     },
     "execution_count": 283,
     "metadata": {},
     "output_type": "execute_result"
    }
   ],
   "source": [
    "df.describe()"
   ]
  },
  {
   "cell_type": "code",
   "execution_count": 284,
   "id": "e3cc130e",
   "metadata": {},
   "outputs": [
    {
     "name": "stdout",
     "output_type": "stream",
     "text": [
      "<class 'pandas.core.frame.DataFrame'>\n",
      "RangeIndex: 10000 entries, 0 to 9999\n",
      "Data columns (total 11 columns):\n",
      " #   Column           Non-Null Count  Dtype  \n",
      "---  ------           --------------  -----  \n",
      " 0   CreditScore      10000 non-null  int64  \n",
      " 1   Geography        10000 non-null  object \n",
      " 2   Gender           10000 non-null  object \n",
      " 3   Age              10000 non-null  int64  \n",
      " 4   Tenure           10000 non-null  int64  \n",
      " 5   Balance          10000 non-null  float64\n",
      " 6   NumOfProducts    10000 non-null  int64  \n",
      " 7   HasCrCard        10000 non-null  int64  \n",
      " 8   IsActiveMember   10000 non-null  int64  \n",
      " 9   EstimatedSalary  10000 non-null  float64\n",
      " 10  Exited           10000 non-null  int64  \n",
      "dtypes: float64(2), int64(7), object(2)\n",
      "memory usage: 859.5+ KB\n"
     ]
    }
   ],
   "source": [
    "df.info()"
   ]
  },
  {
   "cell_type": "markdown",
   "id": "0cec2154",
   "metadata": {},
   "source": [
    "# exploratory data analysis"
   ]
  },
  {
   "cell_type": "markdown",
   "id": "76b9745b",
   "metadata": {},
   "source": [
    "## here i use visualise to check the data"
   ]
  },
  {
   "cell_type": "markdown",
   "id": "1e7cf606",
   "metadata": {},
   "source": [
    "# ****************univariate analysis***********"
   ]
  },
  {
   "cell_type": "code",
   "execution_count": 285,
   "id": "9c67e8c8",
   "metadata": {},
   "outputs": [
    {
     "data": {
      "text/plain": [
       "<AxesSubplot:xlabel='CreditScore', ylabel='Count'>"
      ]
     },
     "execution_count": 285,
     "metadata": {},
     "output_type": "execute_result"
    },
    {
     "data": {
      "image/png": "[encoded data removed]",
      "text/plain": [
       "<Figure size 432x288 with 1 Axes>"
      ]
     },
     "metadata": {
      "needs_background": "light"
     },
     "output_type": "display_data"
    }
   ],
   "source": [
    "sb.histplot(data=df,x='CreditScore',bins=10)"
   ]
  },
  {
   "cell_type": "markdown",
   "id": "33843c02",
   "metadata": {},
   "source": [
    "### credit score is high between range 650 to 700 and after that 600 to 650"
   ]
  },
  {
   "cell_type": "code",
   "execution_count": 286,
   "id": "8b07463e",
   "metadata": {},
   "outputs": [
    {
     "data": {
      "text/plain": [
       "<AxesSubplot:xlabel='Geography', ylabel='count'>"
      ]
     },
     "execution_count": 286,
     "metadata": {},
     "output_type": "execute_result"
    },
    {
     "data": {
      "image/png": "[encoded data removed]",
      "text/plain": [
       "<Figure size 432x288 with 1 Axes>"
      ]
     },
     "metadata": {
      "needs_background": "light"
     },
     "output_type": "display_data"
    }
   ],
   "source": [
    "sb.countplot(data=df,x='Geography')"
   ]
  },
  {
   "cell_type": "markdown",
   "id": "43a1cb59",
   "metadata": {},
   "source": [
    "### number of people are high in france country"
   ]
  },
  {
   "cell_type": "code",
   "execution_count": 287,
   "id": "b5cd84ee",
   "metadata": {},
   "outputs": [
    {
     "data": {
      "text/plain": [
       "<AxesSubplot:xlabel='Gender', ylabel='count'>"
      ]
     },
     "execution_count": 287,
     "metadata": {},
     "output_type": "execute_result"
    },
    {
     "data": {
      "image/png": "[encoded data removed]",
      "text/plain": [
       "<Figure size 432x288 with 1 Axes>"
      ]
     },
     "metadata": {
      "needs_background": "light"
     },
     "output_type": "display_data"
    }
   ],
   "source": [
    "sb.countplot(data=df,x='Gender')"
   ]
  },
  {
   "cell_type": "markdown",
   "id": "356c9486",
   "metadata": {},
   "source": [
    "### males are high than the females"
   ]
  },
  {
   "cell_type": "code",
   "execution_count": 288,
   "id": "b45525f4",
   "metadata": {},
   "outputs": [
    {
     "data": {
      "text/plain": [
       "<AxesSubplot:xlabel='Age', ylabel='Count'>"
      ]
     },
     "execution_count": 288,
     "metadata": {},
     "output_type": "execute_result"
    },
    {
     "data": {
      "image/png": "[encoded data removed]",
      "text/plain": [
       "<Figure size 432x288 with 1 Axes>"
      ]
     },
     "metadata": {
      "needs_background": "light"
     },
     "output_type": "display_data"
    }
   ],
   "source": [
    "sb.histplot(data=df,x='Age',bins=10)"
   ]
  },
  {
   "cell_type": "markdown",
   "id": "b662e51d",
   "metadata": {},
   "source": [
    "### count of customers are high in age between 33 to 41"
   ]
  },
  {
   "cell_type": "code",
   "execution_count": 289,
   "id": "48b94e16",
   "metadata": {},
   "outputs": [
    {
     "data": {
      "text/plain": [
       "<AxesSubplot:xlabel='Tenure', ylabel='count'>"
      ]
     },
     "execution_count": 289,
     "metadata": {},
     "output_type": "execute_result"
    },
    {
     "data": {
      "image/png": "[encoded data removed]",
      "text/plain": [
       "<Figure size 432x288 with 1 Axes>"
      ]
     },
     "metadata": {
      "needs_background": "light"
     },
     "output_type": "display_data"
    }
   ],
   "source": [
    "sb.countplot(data=df,x='Tenure')"
   ]
  },
  {
   "cell_type": "markdown",
   "id": "3801f9e7",
   "metadata": {},
   "source": [
    "### in 2nd column the count of customer is high but we can't conclude with it"
   ]
  },
  {
   "cell_type": "code",
   "execution_count": 290,
   "id": "c64a753c",
   "metadata": {},
   "outputs": [
    {
     "data": {
      "text/plain": [
       "<AxesSubplot:xlabel='Balance', ylabel='Count'>"
      ]
     },
     "execution_count": 290,
     "metadata": {},
     "output_type": "execute_result"
    },
    {
     "data": {
      "image/png": "[encoded data removed]",
      "text/plain": [
       "<Figure size 432x288 with 1 Axes>"
      ]
     },
     "metadata": {
      "needs_background": "light"
     },
     "output_type": "display_data"
    }
   ],
   "source": [
    "sb.histplot(data=df,x='Balance',bins=10)"
   ]
  },
  {
   "cell_type": "markdown",
   "id": "bb35b154",
   "metadata": {},
   "source": [
    "### number of customers are high who are having  bank balance between 0 to 25000"
   ]
  },
  {
   "cell_type": "code",
   "execution_count": 291,
   "id": "35fc4fc5",
   "metadata": {},
   "outputs": [
    {
     "data": {
      "text/plain": [
       "<AxesSubplot:xlabel='NumOfProducts', ylabel='count'>"
      ]
     },
     "execution_count": 291,
     "metadata": {},
     "output_type": "execute_result"
    },
    {
     "data": {
      "image/png": "[encoded data removed]",
      "text/plain": [
       "<Figure size 432x288 with 1 Axes>"
      ]
     },
     "metadata": {
      "needs_background": "light"
     },
     "output_type": "display_data"
    }
   ],
   "source": [
    "sb.countplot(data=df,x='NumOfProducts')"
   ]
  },
  {
   "cell_type": "markdown",
   "id": "ed407873",
   "metadata": {},
   "source": [
    "### customers are high who has number of product equal to 1 and after that number of product 2 also we can see there are few customers who has number of products more than two"
   ]
  },
  {
   "cell_type": "code",
   "execution_count": 292,
   "id": "ede08a19",
   "metadata": {},
   "outputs": [
    {
     "data": {
      "text/plain": [
       "<AxesSubplot:xlabel='HasCrCard', ylabel='count'>"
      ]
     },
     "execution_count": 292,
     "metadata": {},
     "output_type": "execute_result"
    },
    {
     "data": {
      "image/png": "[encoded data removed]",
      "text/plain": [
       "<Figure size 432x288 with 1 Axes>"
      ]
     },
     "metadata": {
      "needs_background": "light"
     },
     "output_type": "display_data"
    }
   ],
   "source": [
    "sb.countplot(data=df,x='HasCrCard')"
   ]
  },
  {
   "cell_type": "markdown",
   "id": "d227c0aa",
   "metadata": {},
   "source": [
    "### most of the people have their own card"
   ]
  },
  {
   "cell_type": "code",
   "execution_count": 293,
   "id": "4438978c",
   "metadata": {},
   "outputs": [
    {
     "data": {
      "text/plain": [
       "<AxesSubplot:xlabel='IsActiveMember', ylabel='count'>"
      ]
     },
     "execution_count": 293,
     "metadata": {},
     "output_type": "execute_result"
    },
    {
     "data": {
      "image/png": "[encoded data removed]",
      "text/plain": [
       "<Figure size 432x288 with 1 Axes>"
      ]
     },
     "metadata": {
      "needs_background": "light"
     },
     "output_type": "display_data"
    }
   ],
   "source": [
    "sb.countplot(data=df,x='IsActiveMember')"
   ]
  },
  {
   "cell_type": "markdown",
   "id": "36af9a82",
   "metadata": {},
   "source": [
    "### active customers are more than non active but not much more"
   ]
  },
  {
   "cell_type": "code",
   "execution_count": 294,
   "id": "07f63c39",
   "metadata": {},
   "outputs": [
    {
     "data": {
      "text/plain": [
       "<AxesSubplot:xlabel='EstimatedSalary', ylabel='Count'>"
      ]
     },
     "execution_count": 294,
     "metadata": {},
     "output_type": "execute_result"
    },
    {
     "data": {
      "image/png": "[encoded data removed]",
      "text/plain": [
       "<Figure size 864x432 with 1 Axes>"
      ]
     },
     "metadata": {
      "needs_background": "light"
     },
     "output_type": "display_data"
    }
   ],
   "source": [
    "pt.figure(figsize=(12,6))\n",
    "sb.histplot(data=df,x='EstimatedSalary',bins=10)"
   ]
  },
  {
   "cell_type": "code",
   "execution_count": 295,
   "id": "6518d7f7",
   "metadata": {},
   "outputs": [
    {
     "data": {
      "text/plain": [
       "<AxesSubplot:xlabel='Exited', ylabel='count'>"
      ]
     },
     "execution_count": 295,
     "metadata": {},
     "output_type": "execute_result"
    },
    {
     "data": {
      "image/png": "[encoded data removed]",
      "text/plain": [
       "<Figure size 432x288 with 1 Axes>"
      ]
     },
     "metadata": {
      "needs_background": "light"
     },
     "output_type": "display_data"
    }
   ],
   "source": [
    "sb.countplot(data=df,x='Exited')"
   ]
  },
  {
   "cell_type": "markdown",
   "id": "c3722bcc",
   "metadata": {},
   "source": [
    "### the number of customers not churned out is more than the churned out"
   ]
  },
  {
   "cell_type": "markdown",
   "id": "fef9da8b",
   "metadata": {},
   "source": [
    "# ****************bivariate analysis***********************"
   ]
  },
  {
   "cell_type": "code",
   "execution_count": 296,
   "id": "541ca050",
   "metadata": {},
   "outputs": [
    {
     "data": {
      "text/plain": [
       "<AxesSubplot:xlabel='CreditScore', ylabel='Count'>"
      ]
     },
     "execution_count": 296,
     "metadata": {},
     "output_type": "execute_result"
    },
    {
     "data": {
      "image/png": "[encoded data removed]",
      "text/plain": [
       "<Figure size 432x288 with 1 Axes>"
      ]
     },
     "metadata": {
      "needs_background": "light"
     },
     "output_type": "display_data"
    }
   ],
   "source": [
    "sb.histplot(data=df,x='CreditScore',hue='Exited',bins=10)"
   ]
  },
  {
   "cell_type": "markdown",
   "id": "af7dd283",
   "metadata": {},
   "source": [
    "### here the range between 400 to 450 credit score have higher number of churned out customers\n",
    "### and then whose credit score is less than 400\n",
    "### after that whose credit score is between 600 to 650"
   ]
  },
  {
   "cell_type": "code",
   "execution_count": 297,
   "id": "419bf17d",
   "metadata": {},
   "outputs": [
    {
     "data": {
      "text/plain": [
       "<AxesSubplot:xlabel='Geography', ylabel='count'>"
      ]
     },
     "execution_count": 297,
     "metadata": {},
     "output_type": "execute_result"
    },
    {
     "data": {
      "image/png": "[encoded data removed]",
      "text/plain": [
       "<Figure size 432x288 with 1 Axes>"
      ]
     },
     "metadata": {
      "needs_background": "light"
     },
     "output_type": "display_data"
    }
   ],
   "source": [
    "sb.countplot(data=df,x='Geography',hue='Exited')"
   ]
  },
  {
   "cell_type": "markdown",
   "id": "61470c0f",
   "metadata": {},
   "source": [
    "## in germany country the count of customers has churned out is more than the other country"
   ]
  },
  {
   "cell_type": "code",
   "execution_count": 298,
   "id": "f5722f78",
   "metadata": {},
   "outputs": [
    {
     "data": {
      "text/plain": [
       "<AxesSubplot:xlabel='Gender', ylabel='count'>"
      ]
     },
     "execution_count": 298,
     "metadata": {},
     "output_type": "execute_result"
    },
    {
     "data": {
      "image/png": "[encoded data removed]",
      "text/plain": [
       "<Figure size 432x288 with 1 Axes>"
      ]
     },
     "metadata": {
      "needs_background": "light"
     },
     "output_type": "display_data"
    }
   ],
   "source": [
    "sb.countplot(data=df,x='Gender',hue='Exited')"
   ]
  },
  {
   "cell_type": "markdown",
   "id": "ba5534f9",
   "metadata": {},
   "source": [
    "### females are mostly churned out according to the males the ratio is like (60:40)"
   ]
  },
  {
   "cell_type": "code",
   "execution_count": 299,
   "id": "19846120",
   "metadata": {},
   "outputs": [
    {
     "data": {
      "text/plain": [
       "<AxesSubplot:xlabel='Age', ylabel='Count'>"
      ]
     },
     "execution_count": 299,
     "metadata": {},
     "output_type": "execute_result"
    },
    {
     "data": {
      "image/png": "[encoded data removed]",
      "text/plain": [
       "<Figure size 1152x432 with 1 Axes>"
      ]
     },
     "metadata": {
      "needs_background": "light"
     },
     "output_type": "display_data"
    }
   ],
   "source": [
    "pt.figure(figsize=(16,6))\n",
    "sb.histplot(data=df,x='Age',hue='Exited',bins=20)"
   ]
  },
  {
   "cell_type": "markdown",
   "id": "d022266f",
   "metadata": {},
   "source": [
    "### churned out peoples are high in age between 47 to 51 and than in age between 59 to 62 approx"
   ]
  },
  {
   "cell_type": "code",
   "execution_count": 300,
   "id": "e0fc40c7",
   "metadata": {},
   "outputs": [
    {
     "data": {
      "text/plain": [
       "<AxesSubplot:xlabel='Tenure', ylabel='count'>"
      ]
     },
     "execution_count": 300,
     "metadata": {},
     "output_type": "execute_result"
    },
    {
     "data": {
      "image/png": "[encoded data removed]",
      "text/plain": [
       "<Figure size 1152x432 with 1 Axes>"
      ]
     },
     "metadata": {
      "needs_background": "light"
     },
     "output_type": "display_data"
    }
   ],
   "source": [
    "pt.figure(figsize=(16,6))\n",
    "sb.countplot(data=df,x='Tenure',hue='Exited')"
   ]
  },
  {
   "cell_type": "markdown",
   "id": "e3865b14",
   "metadata": {},
   "source": [
    "### in tanure 1 the churned out customer is high"
   ]
  },
  {
   "cell_type": "code",
   "execution_count": 301,
   "id": "6914b366",
   "metadata": {},
   "outputs": [
    {
     "data": {
      "text/plain": [
       "Index(['CreditScore', 'Geography', 'Gender', 'Age', 'Tenure', 'Balance',\n",
       "       'NumOfProducts', 'HasCrCard', 'IsActiveMember', 'EstimatedSalary',\n",
       "       'Exited'],\n",
       "      dtype='object')"
      ]
     },
     "execution_count": 301,
     "metadata": {},
     "output_type": "execute_result"
    }
   ],
   "source": [
    "df.columns"
   ]
  },
  {
   "cell_type": "code",
   "execution_count": 302,
   "id": "69968ad6",
   "metadata": {},
   "outputs": [
    {
     "data": {
      "text/plain": [
       "<AxesSubplot:xlabel='Balance', ylabel='Count'>"
      ]
     },
     "execution_count": 302,
     "metadata": {},
     "output_type": "execute_result"
    },
    {
     "data": {
      "image/png": "[encoded data removed]",
      "text/plain": [
       "<Figure size 1152x432 with 1 Axes>"
      ]
     },
     "metadata": {
      "needs_background": "light"
     },
     "output_type": "display_data"
    }
   ],
   "source": [
    "pt.figure(figsize=(16,6))\n",
    "sb.histplot(data=df,x='Balance',hue='Exited')"
   ]
  },
  {
   "cell_type": "markdown",
   "id": "9274d54f",
   "metadata": {},
   "source": [
    "### range of 50000 balance the churned out peoples are more."
   ]
  },
  {
   "cell_type": "code",
   "execution_count": 303,
   "id": "3ce6773c",
   "metadata": {},
   "outputs": [
    {
     "data": {
      "text/plain": [
       "<AxesSubplot:xlabel='NumOfProducts', ylabel='count'>"
      ]
     },
     "execution_count": 303,
     "metadata": {},
     "output_type": "execute_result"
    },
    {
     "data": {
      "image/png": "[encoded data removed]",
      "text/plain": [
       "<Figure size 432x288 with 1 Axes>"
      ]
     },
     "metadata": {
      "needs_background": "light"
     },
     "output_type": "display_data"
    }
   ],
   "source": [
    "sb.countplot(data=df,x='NumOfProducts',hue='Exited')"
   ]
  },
  {
   "cell_type": "markdown",
   "id": "4d28a8dc",
   "metadata": {},
   "source": [
    "### who are purchasing number of products is 1 are churned out more according to others"
   ]
  },
  {
   "cell_type": "code",
   "execution_count": 304,
   "id": "8968378f",
   "metadata": {},
   "outputs": [
    {
     "data": {
      "text/plain": [
       "<AxesSubplot:xlabel='HasCrCard', ylabel='count'>"
      ]
     },
     "execution_count": 304,
     "metadata": {},
     "output_type": "execute_result"
    },
    {
     "data": {
      "image/png": "[encoded data removed]",
      "text/plain": [
       "<Figure size 432x288 with 1 Axes>"
      ]
     },
     "metadata": {
      "needs_background": "light"
     },
     "output_type": "display_data"
    }
   ],
   "source": [
    "sb.countplot(data=df,x='HasCrCard',hue='Exited')"
   ]
  },
  {
   "cell_type": "markdown",
   "id": "d27cf640",
   "metadata": {},
   "source": [
    "### who has their own credit card has churned out more"
   ]
  },
  {
   "cell_type": "code",
   "execution_count": 305,
   "id": "2c9d912e",
   "metadata": {},
   "outputs": [
    {
     "data": {
      "text/plain": [
       "<AxesSubplot:xlabel='IsActiveMember', ylabel='count'>"
      ]
     },
     "execution_count": 305,
     "metadata": {},
     "output_type": "execute_result"
    },
    {
     "data": {
      "image/png": "[encoded data removed]",
      "text/plain": [
       "<Figure size 432x288 with 1 Axes>"
      ]
     },
     "metadata": {
      "needs_background": "light"
     },
     "output_type": "display_data"
    }
   ],
   "source": [
    "sb.countplot(data=df,x='IsActiveMember',hue='Exited')"
   ]
  },
  {
   "cell_type": "markdown",
   "id": "19ae48f2",
   "metadata": {},
   "source": [
    "### non active member is churned out more"
   ]
  },
  {
   "cell_type": "code",
   "execution_count": 306,
   "id": "048d5c04",
   "metadata": {},
   "outputs": [
    {
     "data": {
      "text/plain": [
       "<AxesSubplot:xlabel='EstimatedSalary', ylabel='Count'>"
      ]
     },
     "execution_count": 306,
     "metadata": {},
     "output_type": "execute_result"
    },
    {
     "data": {
      "image/png": "[encoded data removed]",
      "text/plain": [
       "<Figure size 1152x432 with 1 Axes>"
      ]
     },
     "metadata": {
      "needs_background": "light"
     },
     "output_type": "display_data"
    }
   ],
   "source": [
    "pt.figure(figsize=(16,6))\n",
    "sb.histplot(data=df,x='EstimatedSalary',hue='Exited')"
   ]
  },
  {
   "cell_type": "markdown",
   "id": "2ce7562f",
   "metadata": {},
   "source": [
    "### we cant conclude clearly to see this graph who is churned out or not"
   ]
  },
  {
   "cell_type": "code",
   "execution_count": 307,
   "id": "a558fe54",
   "metadata": {},
   "outputs": [
    {
     "data": {
      "text/html": [
       "<div>\n",
       "<style scoped>\n",
       "    .dataframe tbody tr th:only-of-type {\n",
       "        vertical-align: middle;\n",
       "    }\n",
       "\n",
       "    .dataframe tbody tr th {\n",
       "        vertical-align: top;\n",
       "    }\n",
       "\n",
       "    .dataframe thead th {\n",
       "        text-align: right;\n",
       "    }\n",
       "</style>\n",
       "<table border=\"1\" class=\"dataframe\">\n",
       "  <thead>\n",
       "    <tr style=\"text-align: right;\">\n",
       "      <th></th>\n",
       "      <th>CreditScore</th>\n",
       "      <th>Geography</th>\n",
       "      <th>Gender</th>\n",
       "      <th>Age</th>\n",
       "      <th>Tenure</th>\n",
       "      <th>Balance</th>\n",
       "      <th>NumOfProducts</th>\n",
       "      <th>HasCrCard</th>\n",
       "      <th>IsActiveMember</th>\n",
       "      <th>EstimatedSalary</th>\n",
       "      <th>Exited</th>\n",
       "    </tr>\n",
       "  </thead>\n",
       "  <tbody>\n",
       "    <tr>\n",
       "      <th>0</th>\n",
       "      <td>619</td>\n",
       "      <td>france</td>\n",
       "      <td>Female</td>\n",
       "      <td>42</td>\n",
       "      <td>2</td>\n",
       "      <td>0.00</td>\n",
       "      <td>1</td>\n",
       "      <td>1</td>\n",
       "      <td>1</td>\n",
       "      <td>101348.88</td>\n",
       "      <td>1</td>\n",
       "    </tr>\n",
       "    <tr>\n",
       "      <th>1</th>\n",
       "      <td>608</td>\n",
       "      <td>spain</td>\n",
       "      <td>Female</td>\n",
       "      <td>41</td>\n",
       "      <td>1</td>\n",
       "      <td>83807.86</td>\n",
       "      <td>1</td>\n",
       "      <td>0</td>\n",
       "      <td>1</td>\n",
       "      <td>112542.58</td>\n",
       "      <td>0</td>\n",
       "    </tr>\n",
       "    <tr>\n",
       "      <th>2</th>\n",
       "      <td>502</td>\n",
       "      <td>france</td>\n",
       "      <td>Female</td>\n",
       "      <td>42</td>\n",
       "      <td>8</td>\n",
       "      <td>159660.80</td>\n",
       "      <td>3</td>\n",
       "      <td>1</td>\n",
       "      <td>0</td>\n",
       "      <td>113931.57</td>\n",
       "      <td>1</td>\n",
       "    </tr>\n",
       "    <tr>\n",
       "      <th>3</th>\n",
       "      <td>699</td>\n",
       "      <td>france</td>\n",
       "      <td>Female</td>\n",
       "      <td>39</td>\n",
       "      <td>1</td>\n",
       "      <td>0.00</td>\n",
       "      <td>2</td>\n",
       "      <td>0</td>\n",
       "      <td>0</td>\n",
       "      <td>93826.63</td>\n",
       "      <td>0</td>\n",
       "    </tr>\n",
       "    <tr>\n",
       "      <th>4</th>\n",
       "      <td>850</td>\n",
       "      <td>spain</td>\n",
       "      <td>Female</td>\n",
       "      <td>43</td>\n",
       "      <td>2</td>\n",
       "      <td>125510.82</td>\n",
       "      <td>1</td>\n",
       "      <td>1</td>\n",
       "      <td>1</td>\n",
       "      <td>79084.10</td>\n",
       "      <td>0</td>\n",
       "    </tr>\n",
       "    <tr>\n",
       "      <th>...</th>\n",
       "      <td>...</td>\n",
       "      <td>...</td>\n",
       "      <td>...</td>\n",
       "      <td>...</td>\n",
       "      <td>...</td>\n",
       "      <td>...</td>\n",
       "      <td>...</td>\n",
       "      <td>...</td>\n",
       "      <td>...</td>\n",
       "      <td>...</td>\n",
       "      <td>...</td>\n",
       "    </tr>\n",
       "    <tr>\n",
       "      <th>9995</th>\n",
       "      <td>771</td>\n",
       "      <td>france</td>\n",
       "      <td>Male</td>\n",
       "      <td>39</td>\n",
       "      <td>5</td>\n",
       "      <td>0.00</td>\n",
       "      <td>2</td>\n",
       "      <td>1</td>\n",
       "      <td>0</td>\n",
       "      <td>96270.64</td>\n",
       "      <td>0</td>\n",
       "    </tr>\n",
       "    <tr>\n",
       "      <th>9996</th>\n",
       "      <td>516</td>\n",
       "      <td>france</td>\n",
       "      <td>Male</td>\n",
       "      <td>35</td>\n",
       "      <td>10</td>\n",
       "      <td>57369.61</td>\n",
       "      <td>1</td>\n",
       "      <td>1</td>\n",
       "      <td>1</td>\n",
       "      <td>101699.77</td>\n",
       "      <td>0</td>\n",
       "    </tr>\n",
       "    <tr>\n",
       "      <th>9997</th>\n",
       "      <td>709</td>\n",
       "      <td>france</td>\n",
       "      <td>Female</td>\n",
       "      <td>36</td>\n",
       "      <td>7</td>\n",
       "      <td>0.00</td>\n",
       "      <td>1</td>\n",
       "      <td>0</td>\n",
       "      <td>1</td>\n",
       "      <td>42085.58</td>\n",
       "      <td>1</td>\n",
       "    </tr>\n",
       "    <tr>\n",
       "      <th>9998</th>\n",
       "      <td>772</td>\n",
       "      <td>germany</td>\n",
       "      <td>Male</td>\n",
       "      <td>42</td>\n",
       "      <td>3</td>\n",
       "      <td>75075.31</td>\n",
       "      <td>2</td>\n",
       "      <td>1</td>\n",
       "      <td>0</td>\n",
       "      <td>92888.52</td>\n",
       "      <td>1</td>\n",
       "    </tr>\n",
       "    <tr>\n",
       "      <th>9999</th>\n",
       "      <td>792</td>\n",
       "      <td>france</td>\n",
       "      <td>Female</td>\n",
       "      <td>28</td>\n",
       "      <td>4</td>\n",
       "      <td>130142.79</td>\n",
       "      <td>1</td>\n",
       "      <td>1</td>\n",
       "      <td>0</td>\n",
       "      <td>38190.78</td>\n",
       "      <td>0</td>\n",
       "    </tr>\n",
       "  </tbody>\n",
       "</table>\n",
       "<p>10000 rows × 11 columns</p>\n",
       "</div>"
      ],
      "text/plain": [
       "      CreditScore Geography  Gender  Age  Tenure    Balance  NumOfProducts  \\\n",
       "0             619    france  Female   42       2       0.00              1   \n",
       "1             608     spain  Female   41       1   83807.86              1   \n",
       "2             502    france  Female   42       8  159660.80              3   \n",
       "3             699    france  Female   39       1       0.00              2   \n",
       "4             850     spain  Female   43       2  125510.82              1   \n",
       "...           ...       ...     ...  ...     ...        ...            ...   \n",
       "9995          771    france    Male   39       5       0.00              2   \n",
       "9996          516    france    Male   35      10   57369.61              1   \n",
       "9997          709    france  Female   36       7       0.00              1   \n",
       "9998          772   germany    Male   42       3   75075.31              2   \n",
       "9999          792    france  Female   28       4  130142.79              1   \n",
       "\n",
       "      HasCrCard  IsActiveMember  EstimatedSalary  Exited  \n",
       "0             1               1        101348.88       1  \n",
       "1             0               1        112542.58       0  \n",
       "2             1               0        113931.57       1  \n",
       "3             0               0         93826.63       0  \n",
       "4             1               1         79084.10       0  \n",
       "...         ...             ...              ...     ...  \n",
       "9995          1               0         96270.64       0  \n",
       "9996          1               1        101699.77       0  \n",
       "9997          0               1         42085.58       1  \n",
       "9998          1               0         92888.52       1  \n",
       "9999          1               0         38190.78       0  \n",
       "\n",
       "[10000 rows x 11 columns]"
      ]
     },
     "execution_count": 307,
     "metadata": {},
     "output_type": "execute_result"
    }
   ],
   "source": [
    "df1=df.copy()\n",
    "df1"
   ]
  },
  {
   "cell_type": "markdown",
   "id": "15169ba4",
   "metadata": {},
   "source": [
    "# change datatype of object column to category"
   ]
  },
  {
   "cell_type": "code",
   "execution_count": 308,
   "id": "c5a15e3f",
   "metadata": {},
   "outputs": [
    {
     "name": "stdout",
     "output_type": "stream",
     "text": [
      "<class 'pandas.core.frame.DataFrame'>\n",
      "RangeIndex: 10000 entries, 0 to 9999\n",
      "Data columns (total 11 columns):\n",
      " #   Column           Non-Null Count  Dtype  \n",
      "---  ------           --------------  -----  \n",
      " 0   CreditScore      10000 non-null  int64  \n",
      " 1   Geography        10000 non-null  object \n",
      " 2   Gender           10000 non-null  object \n",
      " 3   Age              10000 non-null  int64  \n",
      " 4   Tenure           10000 non-null  int64  \n",
      " 5   Balance          10000 non-null  float64\n",
      " 6   NumOfProducts    10000 non-null  int64  \n",
      " 7   HasCrCard        10000 non-null  int64  \n",
      " 8   IsActiveMember   10000 non-null  int64  \n",
      " 9   EstimatedSalary  10000 non-null  float64\n",
      " 10  Exited           10000 non-null  int64  \n",
      "dtypes: float64(2), int64(7), object(2)\n",
      "memory usage: 859.5+ KB\n"
     ]
    }
   ],
   "source": [
    "df.info()"
   ]
  },
  {
   "cell_type": "code",
   "execution_count": 309,
   "id": "d6664d8f",
   "metadata": {},
   "outputs": [],
   "source": [
    "df['Geography']=df['Geography'].astype('category')\n",
    "df['Gender']=df['Gender'].astype('category')"
   ]
  },
  {
   "cell_type": "code",
   "execution_count": 310,
   "id": "dfab22f0",
   "metadata": {},
   "outputs": [
    {
     "name": "stdout",
     "output_type": "stream",
     "text": [
      "<class 'pandas.core.frame.DataFrame'>\n",
      "RangeIndex: 10000 entries, 0 to 9999\n",
      "Data columns (total 11 columns):\n",
      " #   Column           Non-Null Count  Dtype   \n",
      "---  ------           --------------  -----   \n",
      " 0   CreditScore      10000 non-null  int64   \n",
      " 1   Geography        10000 non-null  category\n",
      " 2   Gender           10000 non-null  category\n",
      " 3   Age              10000 non-null  int64   \n",
      " 4   Tenure           10000 non-null  int64   \n",
      " 5   Balance          10000 non-null  float64 \n",
      " 6   NumOfProducts    10000 non-null  int64   \n",
      " 7   HasCrCard        10000 non-null  int64   \n",
      " 8   IsActiveMember   10000 non-null  int64   \n",
      " 9   EstimatedSalary  10000 non-null  float64 \n",
      " 10  Exited           10000 non-null  int64   \n",
      "dtypes: category(2), float64(2), int64(7)\n",
      "memory usage: 723.0 KB\n"
     ]
    }
   ],
   "source": [
    "df.info()"
   ]
  },
  {
   "cell_type": "markdown",
   "id": "501a2288",
   "metadata": {},
   "source": [
    "# Label Encoder"
   ]
  },
  {
   "cell_type": "code",
   "execution_count": 311,
   "id": "634a303c",
   "metadata": {},
   "outputs": [],
   "source": [
    "from sklearn.preprocessing import LabelEncoder"
   ]
  },
  {
   "cell_type": "code",
   "execution_count": 312,
   "id": "90391baf",
   "metadata": {},
   "outputs": [],
   "source": [
    "le=LabelEncoder()"
   ]
  },
  {
   "cell_type": "code",
   "execution_count": 313,
   "id": "3883034c",
   "metadata": {},
   "outputs": [],
   "source": [
    "df['Geography']=le.fit_transform(df['Geography'])\n",
    "df['Gender']=le.fit_transform(df['Gender'])"
   ]
  },
  {
   "cell_type": "code",
   "execution_count": 314,
   "id": "865afcf9",
   "metadata": {},
   "outputs": [
    {
     "name": "stdout",
     "output_type": "stream",
     "text": [
      "<class 'pandas.core.frame.DataFrame'>\n",
      "RangeIndex: 10000 entries, 0 to 9999\n",
      "Data columns (total 11 columns):\n",
      " #   Column           Non-Null Count  Dtype  \n",
      "---  ------           --------------  -----  \n",
      " 0   CreditScore      10000 non-null  int64  \n",
      " 1   Geography        10000 non-null  int32  \n",
      " 2   Gender           10000 non-null  int32  \n",
      " 3   Age              10000 non-null  int64  \n",
      " 4   Tenure           10000 non-null  int64  \n",
      " 5   Balance          10000 non-null  float64\n",
      " 6   NumOfProducts    10000 non-null  int64  \n",
      " 7   HasCrCard        10000 non-null  int64  \n",
      " 8   IsActiveMember   10000 non-null  int64  \n",
      " 9   EstimatedSalary  10000 non-null  float64\n",
      " 10  Exited           10000 non-null  int64  \n",
      "dtypes: float64(2), int32(2), int64(7)\n",
      "memory usage: 781.4 KB\n"
     ]
    }
   ],
   "source": [
    "df.info()"
   ]
  },
  {
   "cell_type": "code",
   "execution_count": 315,
   "id": "b6f2f96d",
   "metadata": {},
   "outputs": [
    {
     "data": {
      "text/html": [
       "<div>\n",
       "<style scoped>\n",
       "    .dataframe tbody tr th:only-of-type {\n",
       "        vertical-align: middle;\n",
       "    }\n",
       "\n",
       "    .dataframe tbody tr th {\n",
       "        vertical-align: top;\n",
       "    }\n",
       "\n",
       "    .dataframe thead th {\n",
       "        text-align: right;\n",
       "    }\n",
       "</style>\n",
       "<table border=\"1\" class=\"dataframe\">\n",
       "  <thead>\n",
       "    <tr style=\"text-align: right;\">\n",
       "      <th></th>\n",
       "      <th>CreditScore</th>\n",
       "      <th>Geography</th>\n",
       "      <th>Gender</th>\n",
       "      <th>Age</th>\n",
       "      <th>Tenure</th>\n",
       "      <th>Balance</th>\n",
       "      <th>NumOfProducts</th>\n",
       "      <th>HasCrCard</th>\n",
       "      <th>IsActiveMember</th>\n",
       "      <th>EstimatedSalary</th>\n",
       "      <th>Exited</th>\n",
       "    </tr>\n",
       "  </thead>\n",
       "  <tbody>\n",
       "    <tr>\n",
       "      <th>0</th>\n",
       "      <td>619</td>\n",
       "      <td>0</td>\n",
       "      <td>0</td>\n",
       "      <td>42</td>\n",
       "      <td>2</td>\n",
       "      <td>0.00</td>\n",
       "      <td>1</td>\n",
       "      <td>1</td>\n",
       "      <td>1</td>\n",
       "      <td>101348.88</td>\n",
       "      <td>1</td>\n",
       "    </tr>\n",
       "    <tr>\n",
       "      <th>1</th>\n",
       "      <td>608</td>\n",
       "      <td>2</td>\n",
       "      <td>0</td>\n",
       "      <td>41</td>\n",
       "      <td>1</td>\n",
       "      <td>83807.86</td>\n",
       "      <td>1</td>\n",
       "      <td>0</td>\n",
       "      <td>1</td>\n",
       "      <td>112542.58</td>\n",
       "      <td>0</td>\n",
       "    </tr>\n",
       "    <tr>\n",
       "      <th>2</th>\n",
       "      <td>502</td>\n",
       "      <td>0</td>\n",
       "      <td>0</td>\n",
       "      <td>42</td>\n",
       "      <td>8</td>\n",
       "      <td>159660.80</td>\n",
       "      <td>3</td>\n",
       "      <td>1</td>\n",
       "      <td>0</td>\n",
       "      <td>113931.57</td>\n",
       "      <td>1</td>\n",
       "    </tr>\n",
       "    <tr>\n",
       "      <th>3</th>\n",
       "      <td>699</td>\n",
       "      <td>0</td>\n",
       "      <td>0</td>\n",
       "      <td>39</td>\n",
       "      <td>1</td>\n",
       "      <td>0.00</td>\n",
       "      <td>2</td>\n",
       "      <td>0</td>\n",
       "      <td>0</td>\n",
       "      <td>93826.63</td>\n",
       "      <td>0</td>\n",
       "    </tr>\n",
       "    <tr>\n",
       "      <th>4</th>\n",
       "      <td>850</td>\n",
       "      <td>2</td>\n",
       "      <td>0</td>\n",
       "      <td>43</td>\n",
       "      <td>2</td>\n",
       "      <td>125510.82</td>\n",
       "      <td>1</td>\n",
       "      <td>1</td>\n",
       "      <td>1</td>\n",
       "      <td>79084.10</td>\n",
       "      <td>0</td>\n",
       "    </tr>\n",
       "  </tbody>\n",
       "</table>\n",
       "</div>"
      ],
      "text/plain": [
       "   CreditScore  Geography  Gender  Age  Tenure    Balance  NumOfProducts  \\\n",
       "0          619          0       0   42       2       0.00              1   \n",
       "1          608          2       0   41       1   83807.86              1   \n",
       "2          502          0       0   42       8  159660.80              3   \n",
       "3          699          0       0   39       1       0.00              2   \n",
       "4          850          2       0   43       2  125510.82              1   \n",
       "\n",
       "   HasCrCard  IsActiveMember  EstimatedSalary  Exited  \n",
       "0          1               1        101348.88       1  \n",
       "1          0               1        112542.58       0  \n",
       "2          1               0        113931.57       1  \n",
       "3          0               0         93826.63       0  \n",
       "4          1               1         79084.10       0  "
      ]
     },
     "execution_count": 315,
     "metadata": {},
     "output_type": "execute_result"
    }
   ],
   "source": [
    "df.head()"
   ]
  },
  {
   "cell_type": "code",
   "execution_count": 316,
   "id": "b90028e3",
   "metadata": {},
   "outputs": [
    {
     "data": {
      "text/html": [
       "<div>\n",
       "<style scoped>\n",
       "    .dataframe tbody tr th:only-of-type {\n",
       "        vertical-align: middle;\n",
       "    }\n",
       "\n",
       "    .dataframe tbody tr th {\n",
       "        vertical-align: top;\n",
       "    }\n",
       "\n",
       "    .dataframe thead th {\n",
       "        text-align: right;\n",
       "    }\n",
       "</style>\n",
       "<table border=\"1\" class=\"dataframe\">\n",
       "  <thead>\n",
       "    <tr style=\"text-align: right;\">\n",
       "      <th></th>\n",
       "      <th>Exited</th>\n",
       "    </tr>\n",
       "  </thead>\n",
       "  <tbody>\n",
       "    <tr>\n",
       "      <th>0</th>\n",
       "      <td>1</td>\n",
       "    </tr>\n",
       "    <tr>\n",
       "      <th>1</th>\n",
       "      <td>0</td>\n",
       "    </tr>\n",
       "    <tr>\n",
       "      <th>2</th>\n",
       "      <td>1</td>\n",
       "    </tr>\n",
       "    <tr>\n",
       "      <th>3</th>\n",
       "      <td>0</td>\n",
       "    </tr>\n",
       "    <tr>\n",
       "      <th>4</th>\n",
       "      <td>0</td>\n",
       "    </tr>\n",
       "    <tr>\n",
       "      <th>...</th>\n",
       "      <td>...</td>\n",
       "    </tr>\n",
       "    <tr>\n",
       "      <th>9995</th>\n",
       "      <td>0</td>\n",
       "    </tr>\n",
       "    <tr>\n",
       "      <th>9996</th>\n",
       "      <td>0</td>\n",
       "    </tr>\n",
       "    <tr>\n",
       "      <th>9997</th>\n",
       "      <td>1</td>\n",
       "    </tr>\n",
       "    <tr>\n",
       "      <th>9998</th>\n",
       "      <td>1</td>\n",
       "    </tr>\n",
       "    <tr>\n",
       "      <th>9999</th>\n",
       "      <td>0</td>\n",
       "    </tr>\n",
       "  </tbody>\n",
       "</table>\n",
       "<p>10000 rows × 1 columns</p>\n",
       "</div>"
      ],
      "text/plain": [
       "      Exited\n",
       "0          1\n",
       "1          0\n",
       "2          1\n",
       "3          0\n",
       "4          0\n",
       "...      ...\n",
       "9995       0\n",
       "9996       0\n",
       "9997       1\n",
       "9998       1\n",
       "9999       0\n",
       "\n",
       "[10000 rows x 1 columns]"
      ]
     },
     "execution_count": 316,
     "metadata": {},
     "output_type": "execute_result"
    }
   ],
   "source": [
    "df2=df.iloc[:,10:11]\n",
    "df2"
   ]
  },
  {
   "cell_type": "markdown",
   "id": "9e523726",
   "metadata": {},
   "source": [
    "# checking correlation:-"
   ]
  },
  {
   "cell_type": "code",
   "execution_count": 317,
   "id": "c22d21a4",
   "metadata": {},
   "outputs": [],
   "source": [
    "corr=df.corr()"
   ]
  },
  {
   "cell_type": "code",
   "execution_count": 318,
   "id": "deac3e62",
   "metadata": {},
   "outputs": [
    {
     "data": {
      "text/plain": [
       "<AxesSubplot:>"
      ]
     },
     "execution_count": 318,
     "metadata": {},
     "output_type": "execute_result"
    },
    {
     "data": {
      "image/png": "[encoded data removed]",
      "text/plain": [
       "<Figure size 1152x432 with 2 Axes>"
      ]
     },
     "metadata": {
      "needs_background": "light"
     },
     "output_type": "display_data"
    }
   ],
   "source": [
    "pt.figure(figsize=(16,6))\n",
    "sb.heatmap(corr,annot=True)"
   ]
  },
  {
   "cell_type": "markdown",
   "id": "7f7bf964",
   "metadata": {},
   "source": [
    "# Age is highly correlated with exited and the second highest balance is correlated \n",
    "# and we can see Active member is negative correlated with Exited"
   ]
  },
  {
   "cell_type": "markdown",
   "id": "4b266aa5",
   "metadata": {},
   "source": [
    "# feature scaling"
   ]
  },
  {
   "cell_type": "code",
   "execution_count": 319,
   "id": "0e36568f",
   "metadata": {},
   "outputs": [],
   "source": [
    "from sklearn.preprocessing import MinMaxScaler\n",
    "from sklearn.preprocessing import StandardScaler"
   ]
  },
  {
   "cell_type": "code",
   "execution_count": 320,
   "id": "391d33aa",
   "metadata": {},
   "outputs": [],
   "source": [
    "# defining method to perform data scaling operation based on the type of scaling \n",
    "def feature_scale(scale):\n",
    "  numerics=['int16','int32','int64','float16','float32','float64']\n",
    "  new_df=df.select_dtypes(include=numerics)\n",
    "  if scale == 'minmax':\n",
    "    scaler= MinMaxScaler()\n",
    "  else:\n",
    "    scaler=StandardScaler()\n",
    "  df_scaled=pd.DataFrame(scaler.fit_transform(new_df.to_numpy()),columns=new_df.columns)\n",
    "  return df_scaled"
   ]
  },
  {
   "cell_type": "code",
   "execution_count": 321,
   "id": "2fe1543d",
   "metadata": {},
   "outputs": [
    {
     "data": {
      "text/plain": [
       "Index(['CreditScore', 'Geography', 'Gender', 'Age', 'Tenure', 'Balance',\n",
       "       'NumOfProducts', 'HasCrCard', 'IsActiveMember', 'EstimatedSalary',\n",
       "       'Exited'],\n",
       "      dtype='object')"
      ]
     },
     "execution_count": 321,
     "metadata": {},
     "output_type": "execute_result"
    }
   ],
   "source": [
    "# scaling data using minmax scaling process\n",
    "scale='minmax'\n",
    "scaled_df=feature_scale(scale)\n",
    "scaled_df.columns"
   ]
  },
  {
   "cell_type": "code",
   "execution_count": 322,
   "id": "49b26783",
   "metadata": {},
   "outputs": [
    {
     "data": {
      "text/html": [
       "<div>\n",
       "<style scoped>\n",
       "    .dataframe tbody tr th:only-of-type {\n",
       "        vertical-align: middle;\n",
       "    }\n",
       "\n",
       "    .dataframe tbody tr th {\n",
       "        vertical-align: top;\n",
       "    }\n",
       "\n",
       "    .dataframe thead th {\n",
       "        text-align: right;\n",
       "    }\n",
       "</style>\n",
       "<table border=\"1\" class=\"dataframe\">\n",
       "  <thead>\n",
       "    <tr style=\"text-align: right;\">\n",
       "      <th></th>\n",
       "      <th>CreditScore</th>\n",
       "      <th>Geography</th>\n",
       "      <th>Gender</th>\n",
       "      <th>Age</th>\n",
       "      <th>Tenure</th>\n",
       "      <th>Balance</th>\n",
       "      <th>NumOfProducts</th>\n",
       "      <th>HasCrCard</th>\n",
       "      <th>IsActiveMember</th>\n",
       "      <th>EstimatedSalary</th>\n",
       "      <th>Exited</th>\n",
       "    </tr>\n",
       "  </thead>\n",
       "  <tbody>\n",
       "    <tr>\n",
       "      <th>0</th>\n",
       "      <td>0.538</td>\n",
       "      <td>0.0</td>\n",
       "      <td>0.0</td>\n",
       "      <td>0.324324</td>\n",
       "      <td>0.2</td>\n",
       "      <td>0.000000</td>\n",
       "      <td>0.000000</td>\n",
       "      <td>1.0</td>\n",
       "      <td>1.0</td>\n",
       "      <td>0.506735</td>\n",
       "      <td>1.0</td>\n",
       "    </tr>\n",
       "    <tr>\n",
       "      <th>1</th>\n",
       "      <td>0.516</td>\n",
       "      <td>1.0</td>\n",
       "      <td>0.0</td>\n",
       "      <td>0.310811</td>\n",
       "      <td>0.1</td>\n",
       "      <td>0.334031</td>\n",
       "      <td>0.000000</td>\n",
       "      <td>0.0</td>\n",
       "      <td>1.0</td>\n",
       "      <td>0.562709</td>\n",
       "      <td>0.0</td>\n",
       "    </tr>\n",
       "    <tr>\n",
       "      <th>2</th>\n",
       "      <td>0.304</td>\n",
       "      <td>0.0</td>\n",
       "      <td>0.0</td>\n",
       "      <td>0.324324</td>\n",
       "      <td>0.8</td>\n",
       "      <td>0.636357</td>\n",
       "      <td>0.666667</td>\n",
       "      <td>1.0</td>\n",
       "      <td>0.0</td>\n",
       "      <td>0.569654</td>\n",
       "      <td>1.0</td>\n",
       "    </tr>\n",
       "    <tr>\n",
       "      <th>3</th>\n",
       "      <td>0.698</td>\n",
       "      <td>0.0</td>\n",
       "      <td>0.0</td>\n",
       "      <td>0.283784</td>\n",
       "      <td>0.1</td>\n",
       "      <td>0.000000</td>\n",
       "      <td>0.333333</td>\n",
       "      <td>0.0</td>\n",
       "      <td>0.0</td>\n",
       "      <td>0.469120</td>\n",
       "      <td>0.0</td>\n",
       "    </tr>\n",
       "    <tr>\n",
       "      <th>4</th>\n",
       "      <td>1.000</td>\n",
       "      <td>1.0</td>\n",
       "      <td>0.0</td>\n",
       "      <td>0.337838</td>\n",
       "      <td>0.2</td>\n",
       "      <td>0.500246</td>\n",
       "      <td>0.000000</td>\n",
       "      <td>1.0</td>\n",
       "      <td>1.0</td>\n",
       "      <td>0.395400</td>\n",
       "      <td>0.0</td>\n",
       "    </tr>\n",
       "    <tr>\n",
       "      <th>...</th>\n",
       "      <td>...</td>\n",
       "      <td>...</td>\n",
       "      <td>...</td>\n",
       "      <td>...</td>\n",
       "      <td>...</td>\n",
       "      <td>...</td>\n",
       "      <td>...</td>\n",
       "      <td>...</td>\n",
       "      <td>...</td>\n",
       "      <td>...</td>\n",
       "      <td>...</td>\n",
       "    </tr>\n",
       "    <tr>\n",
       "      <th>9995</th>\n",
       "      <td>0.842</td>\n",
       "      <td>0.0</td>\n",
       "      <td>1.0</td>\n",
       "      <td>0.283784</td>\n",
       "      <td>0.5</td>\n",
       "      <td>0.000000</td>\n",
       "      <td>0.333333</td>\n",
       "      <td>1.0</td>\n",
       "      <td>0.0</td>\n",
       "      <td>0.481341</td>\n",
       "      <td>0.0</td>\n",
       "    </tr>\n",
       "    <tr>\n",
       "      <th>9996</th>\n",
       "      <td>0.332</td>\n",
       "      <td>0.0</td>\n",
       "      <td>1.0</td>\n",
       "      <td>0.229730</td>\n",
       "      <td>1.0</td>\n",
       "      <td>0.228657</td>\n",
       "      <td>0.000000</td>\n",
       "      <td>1.0</td>\n",
       "      <td>1.0</td>\n",
       "      <td>0.508490</td>\n",
       "      <td>0.0</td>\n",
       "    </tr>\n",
       "    <tr>\n",
       "      <th>9997</th>\n",
       "      <td>0.718</td>\n",
       "      <td>0.0</td>\n",
       "      <td>0.0</td>\n",
       "      <td>0.243243</td>\n",
       "      <td>0.7</td>\n",
       "      <td>0.000000</td>\n",
       "      <td>0.000000</td>\n",
       "      <td>0.0</td>\n",
       "      <td>1.0</td>\n",
       "      <td>0.210390</td>\n",
       "      <td>1.0</td>\n",
       "    </tr>\n",
       "    <tr>\n",
       "      <th>9998</th>\n",
       "      <td>0.844</td>\n",
       "      <td>0.5</td>\n",
       "      <td>1.0</td>\n",
       "      <td>0.324324</td>\n",
       "      <td>0.3</td>\n",
       "      <td>0.299226</td>\n",
       "      <td>0.333333</td>\n",
       "      <td>1.0</td>\n",
       "      <td>0.0</td>\n",
       "      <td>0.464429</td>\n",
       "      <td>1.0</td>\n",
       "    </tr>\n",
       "    <tr>\n",
       "      <th>9999</th>\n",
       "      <td>0.884</td>\n",
       "      <td>0.0</td>\n",
       "      <td>0.0</td>\n",
       "      <td>0.135135</td>\n",
       "      <td>0.4</td>\n",
       "      <td>0.518708</td>\n",
       "      <td>0.000000</td>\n",
       "      <td>1.0</td>\n",
       "      <td>0.0</td>\n",
       "      <td>0.190914</td>\n",
       "      <td>0.0</td>\n",
       "    </tr>\n",
       "  </tbody>\n",
       "</table>\n",
       "<p>10000 rows × 11 columns</p>\n",
       "</div>"
      ],
      "text/plain": [
       "      CreditScore  Geography  Gender       Age  Tenure   Balance  \\\n",
       "0           0.538        0.0     0.0  0.324324     0.2  0.000000   \n",
       "1           0.516        1.0     0.0  0.310811     0.1  0.334031   \n",
       "2           0.304        0.0     0.0  0.324324     0.8  0.636357   \n",
       "3           0.698        0.0     0.0  0.283784     0.1  0.000000   \n",
       "4           1.000        1.0     0.0  0.337838     0.2  0.500246   \n",
       "...           ...        ...     ...       ...     ...       ...   \n",
       "9995        0.842        0.0     1.0  0.283784     0.5  0.000000   \n",
       "9996        0.332        0.0     1.0  0.229730     1.0  0.228657   \n",
       "9997        0.718        0.0     0.0  0.243243     0.7  0.000000   \n",
       "9998        0.844        0.5     1.0  0.324324     0.3  0.299226   \n",
       "9999        0.884        0.0     0.0  0.135135     0.4  0.518708   \n",
       "\n",
       "      NumOfProducts  HasCrCard  IsActiveMember  EstimatedSalary  Exited  \n",
       "0          0.000000        1.0             1.0         0.506735     1.0  \n",
       "1          0.000000        0.0             1.0         0.562709     0.0  \n",
       "2          0.666667        1.0             0.0         0.569654     1.0  \n",
       "3          0.333333        0.0             0.0         0.469120     0.0  \n",
       "4          0.000000        1.0             1.0         0.395400     0.0  \n",
       "...             ...        ...             ...              ...     ...  \n",
       "9995       0.333333        1.0             0.0         0.481341     0.0  \n",
       "9996       0.000000        1.0             1.0         0.508490     0.0  \n",
       "9997       0.000000        0.0             1.0         0.210390     1.0  \n",
       "9998       0.333333        1.0             0.0         0.464429     1.0  \n",
       "9999       0.000000        1.0             0.0         0.190914     0.0  \n",
       "\n",
       "[10000 rows x 11 columns]"
      ]
     },
     "execution_count": 322,
     "metadata": {},
     "output_type": "execute_result"
    }
   ],
   "source": [
    "scaled_df"
   ]
  },
  {
   "cell_type": "code",
   "execution_count": 323,
   "id": "797a6c07",
   "metadata": {},
   "outputs": [],
   "source": [
    "scaled_df.drop(columns='Exited',inplace=True)"
   ]
  },
  {
   "cell_type": "code",
   "execution_count": 324,
   "id": "16b994fb",
   "metadata": {},
   "outputs": [
    {
     "data": {
      "text/html": [
       "<div>\n",
       "<style scoped>\n",
       "    .dataframe tbody tr th:only-of-type {\n",
       "        vertical-align: middle;\n",
       "    }\n",
       "\n",
       "    .dataframe tbody tr th {\n",
       "        vertical-align: top;\n",
       "    }\n",
       "\n",
       "    .dataframe thead th {\n",
       "        text-align: right;\n",
       "    }\n",
       "</style>\n",
       "<table border=\"1\" class=\"dataframe\">\n",
       "  <thead>\n",
       "    <tr style=\"text-align: right;\">\n",
       "      <th></th>\n",
       "      <th>CreditScore</th>\n",
       "      <th>Geography</th>\n",
       "      <th>Gender</th>\n",
       "      <th>Age</th>\n",
       "      <th>Tenure</th>\n",
       "      <th>Balance</th>\n",
       "      <th>NumOfProducts</th>\n",
       "      <th>HasCrCard</th>\n",
       "      <th>IsActiveMember</th>\n",
       "      <th>EstimatedSalary</th>\n",
       "    </tr>\n",
       "  </thead>\n",
       "  <tbody>\n",
       "    <tr>\n",
       "      <th>0</th>\n",
       "      <td>0.538</td>\n",
       "      <td>0.0</td>\n",
       "      <td>0.0</td>\n",
       "      <td>0.324324</td>\n",
       "      <td>0.2</td>\n",
       "      <td>0.000000</td>\n",
       "      <td>0.000000</td>\n",
       "      <td>1.0</td>\n",
       "      <td>1.0</td>\n",
       "      <td>0.506735</td>\n",
       "    </tr>\n",
       "    <tr>\n",
       "      <th>1</th>\n",
       "      <td>0.516</td>\n",
       "      <td>1.0</td>\n",
       "      <td>0.0</td>\n",
       "      <td>0.310811</td>\n",
       "      <td>0.1</td>\n",
       "      <td>0.334031</td>\n",
       "      <td>0.000000</td>\n",
       "      <td>0.0</td>\n",
       "      <td>1.0</td>\n",
       "      <td>0.562709</td>\n",
       "    </tr>\n",
       "    <tr>\n",
       "      <th>2</th>\n",
       "      <td>0.304</td>\n",
       "      <td>0.0</td>\n",
       "      <td>0.0</td>\n",
       "      <td>0.324324</td>\n",
       "      <td>0.8</td>\n",
       "      <td>0.636357</td>\n",
       "      <td>0.666667</td>\n",
       "      <td>1.0</td>\n",
       "      <td>0.0</td>\n",
       "      <td>0.569654</td>\n",
       "    </tr>\n",
       "    <tr>\n",
       "      <th>3</th>\n",
       "      <td>0.698</td>\n",
       "      <td>0.0</td>\n",
       "      <td>0.0</td>\n",
       "      <td>0.283784</td>\n",
       "      <td>0.1</td>\n",
       "      <td>0.000000</td>\n",
       "      <td>0.333333</td>\n",
       "      <td>0.0</td>\n",
       "      <td>0.0</td>\n",
       "      <td>0.469120</td>\n",
       "    </tr>\n",
       "    <tr>\n",
       "      <th>4</th>\n",
       "      <td>1.000</td>\n",
       "      <td>1.0</td>\n",
       "      <td>0.0</td>\n",
       "      <td>0.337838</td>\n",
       "      <td>0.2</td>\n",
       "      <td>0.500246</td>\n",
       "      <td>0.000000</td>\n",
       "      <td>1.0</td>\n",
       "      <td>1.0</td>\n",
       "      <td>0.395400</td>\n",
       "    </tr>\n",
       "    <tr>\n",
       "      <th>...</th>\n",
       "      <td>...</td>\n",
       "      <td>...</td>\n",
       "      <td>...</td>\n",
       "      <td>...</td>\n",
       "      <td>...</td>\n",
       "      <td>...</td>\n",
       "      <td>...</td>\n",
       "      <td>...</td>\n",
       "      <td>...</td>\n",
       "      <td>...</td>\n",
       "    </tr>\n",
       "    <tr>\n",
       "      <th>9995</th>\n",
       "      <td>0.842</td>\n",
       "      <td>0.0</td>\n",
       "      <td>1.0</td>\n",
       "      <td>0.283784</td>\n",
       "      <td>0.5</td>\n",
       "      <td>0.000000</td>\n",
       "      <td>0.333333</td>\n",
       "      <td>1.0</td>\n",
       "      <td>0.0</td>\n",
       "      <td>0.481341</td>\n",
       "    </tr>\n",
       "    <tr>\n",
       "      <th>9996</th>\n",
       "      <td>0.332</td>\n",
       "      <td>0.0</td>\n",
       "      <td>1.0</td>\n",
       "      <td>0.229730</td>\n",
       "      <td>1.0</td>\n",
       "      <td>0.228657</td>\n",
       "      <td>0.000000</td>\n",
       "      <td>1.0</td>\n",
       "      <td>1.0</td>\n",
       "      <td>0.508490</td>\n",
       "    </tr>\n",
       "    <tr>\n",
       "      <th>9997</th>\n",
       "      <td>0.718</td>\n",
       "      <td>0.0</td>\n",
       "      <td>0.0</td>\n",
       "      <td>0.243243</td>\n",
       "      <td>0.7</td>\n",
       "      <td>0.000000</td>\n",
       "      <td>0.000000</td>\n",
       "      <td>0.0</td>\n",
       "      <td>1.0</td>\n",
       "      <td>0.210390</td>\n",
       "    </tr>\n",
       "    <tr>\n",
       "      <th>9998</th>\n",
       "      <td>0.844</td>\n",
       "      <td>0.5</td>\n",
       "      <td>1.0</td>\n",
       "      <td>0.324324</td>\n",
       "      <td>0.3</td>\n",
       "      <td>0.299226</td>\n",
       "      <td>0.333333</td>\n",
       "      <td>1.0</td>\n",
       "      <td>0.0</td>\n",
       "      <td>0.464429</td>\n",
       "    </tr>\n",
       "    <tr>\n",
       "      <th>9999</th>\n",
       "      <td>0.884</td>\n",
       "      <td>0.0</td>\n",
       "      <td>0.0</td>\n",
       "      <td>0.135135</td>\n",
       "      <td>0.4</td>\n",
       "      <td>0.518708</td>\n",
       "      <td>0.000000</td>\n",
       "      <td>1.0</td>\n",
       "      <td>0.0</td>\n",
       "      <td>0.190914</td>\n",
       "    </tr>\n",
       "  </tbody>\n",
       "</table>\n",
       "<p>10000 rows × 10 columns</p>\n",
       "</div>"
      ],
      "text/plain": [
       "      CreditScore  Geography  Gender       Age  Tenure   Balance  \\\n",
       "0           0.538        0.0     0.0  0.324324     0.2  0.000000   \n",
       "1           0.516        1.0     0.0  0.310811     0.1  0.334031   \n",
       "2           0.304        0.0     0.0  0.324324     0.8  0.636357   \n",
       "3           0.698        0.0     0.0  0.283784     0.1  0.000000   \n",
       "4           1.000        1.0     0.0  0.337838     0.2  0.500246   \n",
       "...           ...        ...     ...       ...     ...       ...   \n",
       "9995        0.842        0.0     1.0  0.283784     0.5  0.000000   \n",
       "9996        0.332        0.0     1.0  0.229730     1.0  0.228657   \n",
       "9997        0.718        0.0     0.0  0.243243     0.7  0.000000   \n",
       "9998        0.844        0.5     1.0  0.324324     0.3  0.299226   \n",
       "9999        0.884        0.0     0.0  0.135135     0.4  0.518708   \n",
       "\n",
       "      NumOfProducts  HasCrCard  IsActiveMember  EstimatedSalary  \n",
       "0          0.000000        1.0             1.0         0.506735  \n",
       "1          0.000000        0.0             1.0         0.562709  \n",
       "2          0.666667        1.0             0.0         0.569654  \n",
       "3          0.333333        0.0             0.0         0.469120  \n",
       "4          0.000000        1.0             1.0         0.395400  \n",
       "...             ...        ...             ...              ...  \n",
       "9995       0.333333        1.0             0.0         0.481341  \n",
       "9996       0.000000        1.0             1.0         0.508490  \n",
       "9997       0.000000        0.0             1.0         0.210390  \n",
       "9998       0.333333        1.0             0.0         0.464429  \n",
       "9999       0.000000        1.0             0.0         0.190914  \n",
       "\n",
       "[10000 rows x 10 columns]"
      ]
     },
     "execution_count": 324,
     "metadata": {},
     "output_type": "execute_result"
    }
   ],
   "source": [
    "scaled_df"
   ]
  },
  {
   "cell_type": "code",
   "execution_count": 325,
   "id": "c5199f96",
   "metadata": {},
   "outputs": [],
   "source": [
    "scaled_df['Exited']=df2['Exited']"
   ]
  },
  {
   "cell_type": "code",
   "execution_count": 326,
   "id": "eb1c9586",
   "metadata": {},
   "outputs": [
    {
     "data": {
      "text/html": [
       "<div>\n",
       "<style scoped>\n",
       "    .dataframe tbody tr th:only-of-type {\n",
       "        vertical-align: middle;\n",
       "    }\n",
       "\n",
       "    .dataframe tbody tr th {\n",
       "        vertical-align: top;\n",
       "    }\n",
       "\n",
       "    .dataframe thead th {\n",
       "        text-align: right;\n",
       "    }\n",
       "</style>\n",
       "<table border=\"1\" class=\"dataframe\">\n",
       "  <thead>\n",
       "    <tr style=\"text-align: right;\">\n",
       "      <th></th>\n",
       "      <th>CreditScore</th>\n",
       "      <th>Geography</th>\n",
       "      <th>Gender</th>\n",
       "      <th>Age</th>\n",
       "      <th>Tenure</th>\n",
       "      <th>Balance</th>\n",
       "      <th>NumOfProducts</th>\n",
       "      <th>HasCrCard</th>\n",
       "      <th>IsActiveMember</th>\n",
       "      <th>EstimatedSalary</th>\n",
       "      <th>Exited</th>\n",
       "    </tr>\n",
       "  </thead>\n",
       "  <tbody>\n",
       "    <tr>\n",
       "      <th>0</th>\n",
       "      <td>0.538</td>\n",
       "      <td>0.0</td>\n",
       "      <td>0.0</td>\n",
       "      <td>0.324324</td>\n",
       "      <td>0.2</td>\n",
       "      <td>0.000000</td>\n",
       "      <td>0.000000</td>\n",
       "      <td>1.0</td>\n",
       "      <td>1.0</td>\n",
       "      <td>0.506735</td>\n",
       "      <td>1</td>\n",
       "    </tr>\n",
       "    <tr>\n",
       "      <th>1</th>\n",
       "      <td>0.516</td>\n",
       "      <td>1.0</td>\n",
       "      <td>0.0</td>\n",
       "      <td>0.310811</td>\n",
       "      <td>0.1</td>\n",
       "      <td>0.334031</td>\n",
       "      <td>0.000000</td>\n",
       "      <td>0.0</td>\n",
       "      <td>1.0</td>\n",
       "      <td>0.562709</td>\n",
       "      <td>0</td>\n",
       "    </tr>\n",
       "    <tr>\n",
       "      <th>2</th>\n",
       "      <td>0.304</td>\n",
       "      <td>0.0</td>\n",
       "      <td>0.0</td>\n",
       "      <td>0.324324</td>\n",
       "      <td>0.8</td>\n",
       "      <td>0.636357</td>\n",
       "      <td>0.666667</td>\n",
       "      <td>1.0</td>\n",
       "      <td>0.0</td>\n",
       "      <td>0.569654</td>\n",
       "      <td>1</td>\n",
       "    </tr>\n",
       "    <tr>\n",
       "      <th>3</th>\n",
       "      <td>0.698</td>\n",
       "      <td>0.0</td>\n",
       "      <td>0.0</td>\n",
       "      <td>0.283784</td>\n",
       "      <td>0.1</td>\n",
       "      <td>0.000000</td>\n",
       "      <td>0.333333</td>\n",
       "      <td>0.0</td>\n",
       "      <td>0.0</td>\n",
       "      <td>0.469120</td>\n",
       "      <td>0</td>\n",
       "    </tr>\n",
       "    <tr>\n",
       "      <th>4</th>\n",
       "      <td>1.000</td>\n",
       "      <td>1.0</td>\n",
       "      <td>0.0</td>\n",
       "      <td>0.337838</td>\n",
       "      <td>0.2</td>\n",
       "      <td>0.500246</td>\n",
       "      <td>0.000000</td>\n",
       "      <td>1.0</td>\n",
       "      <td>1.0</td>\n",
       "      <td>0.395400</td>\n",
       "      <td>0</td>\n",
       "    </tr>\n",
       "    <tr>\n",
       "      <th>...</th>\n",
       "      <td>...</td>\n",
       "      <td>...</td>\n",
       "      <td>...</td>\n",
       "      <td>...</td>\n",
       "      <td>...</td>\n",
       "      <td>...</td>\n",
       "      <td>...</td>\n",
       "      <td>...</td>\n",
       "      <td>...</td>\n",
       "      <td>...</td>\n",
       "      <td>...</td>\n",
       "    </tr>\n",
       "    <tr>\n",
       "      <th>9995</th>\n",
       "      <td>0.842</td>\n",
       "      <td>0.0</td>\n",
       "      <td>1.0</td>\n",
       "      <td>0.283784</td>\n",
       "      <td>0.5</td>\n",
       "      <td>0.000000</td>\n",
       "      <td>0.333333</td>\n",
       "      <td>1.0</td>\n",
       "      <td>0.0</td>\n",
       "      <td>0.481341</td>\n",
       "      <td>0</td>\n",
       "    </tr>\n",
       "    <tr>\n",
       "      <th>9996</th>\n",
       "      <td>0.332</td>\n",
       "      <td>0.0</td>\n",
       "      <td>1.0</td>\n",
       "      <td>0.229730</td>\n",
       "      <td>1.0</td>\n",
       "      <td>0.228657</td>\n",
       "      <td>0.000000</td>\n",
       "      <td>1.0</td>\n",
       "      <td>1.0</td>\n",
       "      <td>0.508490</td>\n",
       "      <td>0</td>\n",
       "    </tr>\n",
       "    <tr>\n",
       "      <th>9997</th>\n",
       "      <td>0.718</td>\n",
       "      <td>0.0</td>\n",
       "      <td>0.0</td>\n",
       "      <td>0.243243</td>\n",
       "      <td>0.7</td>\n",
       "      <td>0.000000</td>\n",
       "      <td>0.000000</td>\n",
       "      <td>0.0</td>\n",
       "      <td>1.0</td>\n",
       "      <td>0.210390</td>\n",
       "      <td>1</td>\n",
       "    </tr>\n",
       "    <tr>\n",
       "      <th>9998</th>\n",
       "      <td>0.844</td>\n",
       "      <td>0.5</td>\n",
       "      <td>1.0</td>\n",
       "      <td>0.324324</td>\n",
       "      <td>0.3</td>\n",
       "      <td>0.299226</td>\n",
       "      <td>0.333333</td>\n",
       "      <td>1.0</td>\n",
       "      <td>0.0</td>\n",
       "      <td>0.464429</td>\n",
       "      <td>1</td>\n",
       "    </tr>\n",
       "    <tr>\n",
       "      <th>9999</th>\n",
       "      <td>0.884</td>\n",
       "      <td>0.0</td>\n",
       "      <td>0.0</td>\n",
       "      <td>0.135135</td>\n",
       "      <td>0.4</td>\n",
       "      <td>0.518708</td>\n",
       "      <td>0.000000</td>\n",
       "      <td>1.0</td>\n",
       "      <td>0.0</td>\n",
       "      <td>0.190914</td>\n",
       "      <td>0</td>\n",
       "    </tr>\n",
       "  </tbody>\n",
       "</table>\n",
       "<p>10000 rows × 11 columns</p>\n",
       "</div>"
      ],
      "text/plain": [
       "      CreditScore  Geography  Gender       Age  Tenure   Balance  \\\n",
       "0           0.538        0.0     0.0  0.324324     0.2  0.000000   \n",
       "1           0.516        1.0     0.0  0.310811     0.1  0.334031   \n",
       "2           0.304        0.0     0.0  0.324324     0.8  0.636357   \n",
       "3           0.698        0.0     0.0  0.283784     0.1  0.000000   \n",
       "4           1.000        1.0     0.0  0.337838     0.2  0.500246   \n",
       "...           ...        ...     ...       ...     ...       ...   \n",
       "9995        0.842        0.0     1.0  0.283784     0.5  0.000000   \n",
       "9996        0.332        0.0     1.0  0.229730     1.0  0.228657   \n",
       "9997        0.718        0.0     0.0  0.243243     0.7  0.000000   \n",
       "9998        0.844        0.5     1.0  0.324324     0.3  0.299226   \n",
       "9999        0.884        0.0     0.0  0.135135     0.4  0.518708   \n",
       "\n",
       "      NumOfProducts  HasCrCard  IsActiveMember  EstimatedSalary  Exited  \n",
       "0          0.000000        1.0             1.0         0.506735       1  \n",
       "1          0.000000        0.0             1.0         0.562709       0  \n",
       "2          0.666667        1.0             0.0         0.569654       1  \n",
       "3          0.333333        0.0             0.0         0.469120       0  \n",
       "4          0.000000        1.0             1.0         0.395400       0  \n",
       "...             ...        ...             ...              ...     ...  \n",
       "9995       0.333333        1.0             0.0         0.481341       0  \n",
       "9996       0.000000        1.0             1.0         0.508490       0  \n",
       "9997       0.000000        0.0             1.0         0.210390       1  \n",
       "9998       0.333333        1.0             0.0         0.464429       1  \n",
       "9999       0.000000        1.0             0.0         0.190914       0  \n",
       "\n",
       "[10000 rows x 11 columns]"
      ]
     },
     "execution_count": 326,
     "metadata": {},
     "output_type": "execute_result"
    }
   ],
   "source": [
    "scaled_df"
   ]
  },
  {
   "cell_type": "code",
   "execution_count": 327,
   "id": "ec125b84",
   "metadata": {},
   "outputs": [
    {
     "data": {
      "text/html": [
       "<div>\n",
       "<style scoped>\n",
       "    .dataframe tbody tr th:only-of-type {\n",
       "        vertical-align: middle;\n",
       "    }\n",
       "\n",
       "    .dataframe tbody tr th {\n",
       "        vertical-align: top;\n",
       "    }\n",
       "\n",
       "    .dataframe thead th {\n",
       "        text-align: right;\n",
       "    }\n",
       "</style>\n",
       "<table border=\"1\" class=\"dataframe\">\n",
       "  <thead>\n",
       "    <tr style=\"text-align: right;\">\n",
       "      <th></th>\n",
       "      <th>CreditScore</th>\n",
       "      <th>Geography</th>\n",
       "      <th>Gender</th>\n",
       "      <th>Age</th>\n",
       "      <th>Tenure</th>\n",
       "      <th>Balance</th>\n",
       "      <th>NumOfProducts</th>\n",
       "      <th>HasCrCard</th>\n",
       "      <th>IsActiveMember</th>\n",
       "      <th>EstimatedSalary</th>\n",
       "    </tr>\n",
       "  </thead>\n",
       "  <tbody>\n",
       "    <tr>\n",
       "      <th>0</th>\n",
       "      <td>0.538</td>\n",
       "      <td>0.0</td>\n",
       "      <td>0.0</td>\n",
       "      <td>0.324324</td>\n",
       "      <td>0.2</td>\n",
       "      <td>0.000000</td>\n",
       "      <td>0.000000</td>\n",
       "      <td>1.0</td>\n",
       "      <td>1.0</td>\n",
       "      <td>0.506735</td>\n",
       "    </tr>\n",
       "    <tr>\n",
       "      <th>1</th>\n",
       "      <td>0.516</td>\n",
       "      <td>1.0</td>\n",
       "      <td>0.0</td>\n",
       "      <td>0.310811</td>\n",
       "      <td>0.1</td>\n",
       "      <td>0.334031</td>\n",
       "      <td>0.000000</td>\n",
       "      <td>0.0</td>\n",
       "      <td>1.0</td>\n",
       "      <td>0.562709</td>\n",
       "    </tr>\n",
       "    <tr>\n",
       "      <th>2</th>\n",
       "      <td>0.304</td>\n",
       "      <td>0.0</td>\n",
       "      <td>0.0</td>\n",
       "      <td>0.324324</td>\n",
       "      <td>0.8</td>\n",
       "      <td>0.636357</td>\n",
       "      <td>0.666667</td>\n",
       "      <td>1.0</td>\n",
       "      <td>0.0</td>\n",
       "      <td>0.569654</td>\n",
       "    </tr>\n",
       "    <tr>\n",
       "      <th>3</th>\n",
       "      <td>0.698</td>\n",
       "      <td>0.0</td>\n",
       "      <td>0.0</td>\n",
       "      <td>0.283784</td>\n",
       "      <td>0.1</td>\n",
       "      <td>0.000000</td>\n",
       "      <td>0.333333</td>\n",
       "      <td>0.0</td>\n",
       "      <td>0.0</td>\n",
       "      <td>0.469120</td>\n",
       "    </tr>\n",
       "    <tr>\n",
       "      <th>4</th>\n",
       "      <td>1.000</td>\n",
       "      <td>1.0</td>\n",
       "      <td>0.0</td>\n",
       "      <td>0.337838</td>\n",
       "      <td>0.2</td>\n",
       "      <td>0.500246</td>\n",
       "      <td>0.000000</td>\n",
       "      <td>1.0</td>\n",
       "      <td>1.0</td>\n",
       "      <td>0.395400</td>\n",
       "    </tr>\n",
       "    <tr>\n",
       "      <th>...</th>\n",
       "      <td>...</td>\n",
       "      <td>...</td>\n",
       "      <td>...</td>\n",
       "      <td>...</td>\n",
       "      <td>...</td>\n",
       "      <td>...</td>\n",
       "      <td>...</td>\n",
       "      <td>...</td>\n",
       "      <td>...</td>\n",
       "      <td>...</td>\n",
       "    </tr>\n",
       "    <tr>\n",
       "      <th>9995</th>\n",
       "      <td>0.842</td>\n",
       "      <td>0.0</td>\n",
       "      <td>1.0</td>\n",
       "      <td>0.283784</td>\n",
       "      <td>0.5</td>\n",
       "      <td>0.000000</td>\n",
       "      <td>0.333333</td>\n",
       "      <td>1.0</td>\n",
       "      <td>0.0</td>\n",
       "      <td>0.481341</td>\n",
       "    </tr>\n",
       "    <tr>\n",
       "      <th>9996</th>\n",
       "      <td>0.332</td>\n",
       "      <td>0.0</td>\n",
       "      <td>1.0</td>\n",
       "      <td>0.229730</td>\n",
       "      <td>1.0</td>\n",
       "      <td>0.228657</td>\n",
       "      <td>0.000000</td>\n",
       "      <td>1.0</td>\n",
       "      <td>1.0</td>\n",
       "      <td>0.508490</td>\n",
       "    </tr>\n",
       "    <tr>\n",
       "      <th>9997</th>\n",
       "      <td>0.718</td>\n",
       "      <td>0.0</td>\n",
       "      <td>0.0</td>\n",
       "      <td>0.243243</td>\n",
       "      <td>0.7</td>\n",
       "      <td>0.000000</td>\n",
       "      <td>0.000000</td>\n",
       "      <td>0.0</td>\n",
       "      <td>1.0</td>\n",
       "      <td>0.210390</td>\n",
       "    </tr>\n",
       "    <tr>\n",
       "      <th>9998</th>\n",
       "      <td>0.844</td>\n",
       "      <td>0.5</td>\n",
       "      <td>1.0</td>\n",
       "      <td>0.324324</td>\n",
       "      <td>0.3</td>\n",
       "      <td>0.299226</td>\n",
       "      <td>0.333333</td>\n",
       "      <td>1.0</td>\n",
       "      <td>0.0</td>\n",
       "      <td>0.464429</td>\n",
       "    </tr>\n",
       "    <tr>\n",
       "      <th>9999</th>\n",
       "      <td>0.884</td>\n",
       "      <td>0.0</td>\n",
       "      <td>0.0</td>\n",
       "      <td>0.135135</td>\n",
       "      <td>0.4</td>\n",
       "      <td>0.518708</td>\n",
       "      <td>0.000000</td>\n",
       "      <td>1.0</td>\n",
       "      <td>0.0</td>\n",
       "      <td>0.190914</td>\n",
       "    </tr>\n",
       "  </tbody>\n",
       "</table>\n",
       "<p>10000 rows × 10 columns</p>\n",
       "</div>"
      ],
      "text/plain": [
       "      CreditScore  Geography  Gender       Age  Tenure   Balance  \\\n",
       "0           0.538        0.0     0.0  0.324324     0.2  0.000000   \n",
       "1           0.516        1.0     0.0  0.310811     0.1  0.334031   \n",
       "2           0.304        0.0     0.0  0.324324     0.8  0.636357   \n",
       "3           0.698        0.0     0.0  0.283784     0.1  0.000000   \n",
       "4           1.000        1.0     0.0  0.337838     0.2  0.500246   \n",
       "...           ...        ...     ...       ...     ...       ...   \n",
       "9995        0.842        0.0     1.0  0.283784     0.5  0.000000   \n",
       "9996        0.332        0.0     1.0  0.229730     1.0  0.228657   \n",
       "9997        0.718        0.0     0.0  0.243243     0.7  0.000000   \n",
       "9998        0.844        0.5     1.0  0.324324     0.3  0.299226   \n",
       "9999        0.884        0.0     0.0  0.135135     0.4  0.518708   \n",
       "\n",
       "      NumOfProducts  HasCrCard  IsActiveMember  EstimatedSalary  \n",
       "0          0.000000        1.0             1.0         0.506735  \n",
       "1          0.000000        0.0             1.0         0.562709  \n",
       "2          0.666667        1.0             0.0         0.569654  \n",
       "3          0.333333        0.0             0.0         0.469120  \n",
       "4          0.000000        1.0             1.0         0.395400  \n",
       "...             ...        ...             ...              ...  \n",
       "9995       0.333333        1.0             0.0         0.481341  \n",
       "9996       0.000000        1.0             1.0         0.508490  \n",
       "9997       0.000000        0.0             1.0         0.210390  \n",
       "9998       0.333333        1.0             0.0         0.464429  \n",
       "9999       0.000000        1.0             0.0         0.190914  \n",
       "\n",
       "[10000 rows x 10 columns]"
      ]
     },
     "execution_count": 327,
     "metadata": {},
     "output_type": "execute_result"
    }
   ],
   "source": [
    "x=scaled_df.iloc[:,:10]\n",
    "x"
   ]
  },
  {
   "cell_type": "code",
   "execution_count": 328,
   "id": "aeff5e76",
   "metadata": {},
   "outputs": [
    {
     "data": {
      "text/html": [
       "<div>\n",
       "<style scoped>\n",
       "    .dataframe tbody tr th:only-of-type {\n",
       "        vertical-align: middle;\n",
       "    }\n",
       "\n",
       "    .dataframe tbody tr th {\n",
       "        vertical-align: top;\n",
       "    }\n",
       "\n",
       "    .dataframe thead th {\n",
       "        text-align: right;\n",
       "    }\n",
       "</style>\n",
       "<table border=\"1\" class=\"dataframe\">\n",
       "  <thead>\n",
       "    <tr style=\"text-align: right;\">\n",
       "      <th></th>\n",
       "      <th>Exited</th>\n",
       "    </tr>\n",
       "  </thead>\n",
       "  <tbody>\n",
       "    <tr>\n",
       "      <th>0</th>\n",
       "      <td>1</td>\n",
       "    </tr>\n",
       "    <tr>\n",
       "      <th>1</th>\n",
       "      <td>0</td>\n",
       "    </tr>\n",
       "    <tr>\n",
       "      <th>2</th>\n",
       "      <td>1</td>\n",
       "    </tr>\n",
       "    <tr>\n",
       "      <th>3</th>\n",
       "      <td>0</td>\n",
       "    </tr>\n",
       "    <tr>\n",
       "      <th>4</th>\n",
       "      <td>0</td>\n",
       "    </tr>\n",
       "    <tr>\n",
       "      <th>...</th>\n",
       "      <td>...</td>\n",
       "    </tr>\n",
       "    <tr>\n",
       "      <th>9995</th>\n",
       "      <td>0</td>\n",
       "    </tr>\n",
       "    <tr>\n",
       "      <th>9996</th>\n",
       "      <td>0</td>\n",
       "    </tr>\n",
       "    <tr>\n",
       "      <th>9997</th>\n",
       "      <td>1</td>\n",
       "    </tr>\n",
       "    <tr>\n",
       "      <th>9998</th>\n",
       "      <td>1</td>\n",
       "    </tr>\n",
       "    <tr>\n",
       "      <th>9999</th>\n",
       "      <td>0</td>\n",
       "    </tr>\n",
       "  </tbody>\n",
       "</table>\n",
       "<p>10000 rows × 1 columns</p>\n",
       "</div>"
      ],
      "text/plain": [
       "      Exited\n",
       "0          1\n",
       "1          0\n",
       "2          1\n",
       "3          0\n",
       "4          0\n",
       "...      ...\n",
       "9995       0\n",
       "9996       0\n",
       "9997       1\n",
       "9998       1\n",
       "9999       0\n",
       "\n",
       "[10000 rows x 1 columns]"
      ]
     },
     "execution_count": 328,
     "metadata": {},
     "output_type": "execute_result"
    }
   ],
   "source": [
    "y=scaled_df.iloc[:,10:11]\n",
    "y"
   ]
  },
  {
   "cell_type": "raw",
   "id": "e9d6e501",
   "metadata": {},
   "source": [
    "for cols in list(df.columns):\n",
    "  print(round(df[cols].value_counts()))\n",
    "  print(\"----------------------\")"
   ]
  },
  {
   "cell_type": "markdown",
   "id": "33dffe79",
   "metadata": {},
   "source": [
    "# train test split or model traning"
   ]
  },
  {
   "cell_type": "code",
   "execution_count": 329,
   "id": "0d6b6b59",
   "metadata": {},
   "outputs": [],
   "source": [
    "from sklearn.model_selection import train_test_split"
   ]
  },
  {
   "cell_type": "code",
   "execution_count": 330,
   "id": "9f5cbce0",
   "metadata": {},
   "outputs": [],
   "source": [
    "x_train,x_test,y_train,y_test=train_test_split(x,y,test_size=0.3,random_state=10)"
   ]
  },
  {
   "cell_type": "code",
   "execution_count": 331,
   "id": "77fc5bae",
   "metadata": {},
   "outputs": [
    {
     "data": {
      "text/plain": [
       "(7000, 10)"
      ]
     },
     "execution_count": 331,
     "metadata": {},
     "output_type": "execute_result"
    }
   ],
   "source": [
    "x_train.shape"
   ]
  },
  {
   "cell_type": "code",
   "execution_count": 332,
   "id": "13011ecb",
   "metadata": {},
   "outputs": [
    {
     "data": {
      "text/plain": [
       "(7000, 1)"
      ]
     },
     "execution_count": 332,
     "metadata": {},
     "output_type": "execute_result"
    }
   ],
   "source": [
    "y_train.shape"
   ]
  },
  {
   "cell_type": "code",
   "execution_count": 333,
   "id": "4d2e20a9",
   "metadata": {},
   "outputs": [
    {
     "data": {
      "text/plain": [
       "(3000, 10)"
      ]
     },
     "execution_count": 333,
     "metadata": {},
     "output_type": "execute_result"
    }
   ],
   "source": [
    "x_test.shape"
   ]
  },
  {
   "cell_type": "code",
   "execution_count": 334,
   "id": "195654ca",
   "metadata": {},
   "outputs": [
    {
     "data": {
      "text/plain": [
       "(3000, 1)"
      ]
     },
     "execution_count": 334,
     "metadata": {},
     "output_type": "execute_result"
    }
   ],
   "source": [
    "y_test.shape"
   ]
  },
  {
   "cell_type": "markdown",
   "id": "f10fb91a",
   "metadata": {},
   "source": [
    "# >>>>>***********logistic regression***********"
   ]
  },
  {
   "cell_type": "code",
   "execution_count": 335,
   "id": "72fb55e8",
   "metadata": {},
   "outputs": [],
   "source": [
    "from sklearn.linear_model import LogisticRegression"
   ]
  },
  {
   "cell_type": "code",
   "execution_count": 336,
   "id": "ab21c2ac",
   "metadata": {},
   "outputs": [],
   "source": [
    "lg=LogisticRegression()"
   ]
  },
  {
   "cell_type": "code",
   "execution_count": 337,
   "id": "9a692684",
   "metadata": {},
   "outputs": [
    {
     "data": {
      "text/plain": [
       "LogisticRegression()"
      ]
     },
     "execution_count": 337,
     "metadata": {},
     "output_type": "execute_result"
    }
   ],
   "source": [
    "lg"
   ]
  },
  {
   "cell_type": "code",
   "execution_count": 338,
   "id": "a0fa1f42",
   "metadata": {},
   "outputs": [
    {
     "data": {
      "text/plain": [
       "LogisticRegression()"
      ]
     },
     "execution_count": 338,
     "metadata": {},
     "output_type": "execute_result"
    }
   ],
   "source": [
    "model1=lg.fit(x_train,y_train)\n",
    "model1"
   ]
  },
  {
   "cell_type": "code",
   "execution_count": 339,
   "id": "db66ea40",
   "metadata": {},
   "outputs": [],
   "source": [
    "train_accuracy=round(model1.score(x_train,y_train)*100,2)"
   ]
  },
  {
   "cell_type": "code",
   "execution_count": 340,
   "id": "fb0991d8",
   "metadata": {},
   "outputs": [
    {
     "data": {
      "text/plain": [
       "81.31"
      ]
     },
     "execution_count": 340,
     "metadata": {},
     "output_type": "execute_result"
    }
   ],
   "source": [
    "train_accuracy        # train accuracy of the model"
   ]
  },
  {
   "cell_type": "code",
   "execution_count": 341,
   "id": "db07e6a9",
   "metadata": {},
   "outputs": [],
   "source": [
    "y_pred=model1.predict(x_test)   # predicted value"
   ]
  },
  {
   "cell_type": "code",
   "execution_count": 342,
   "id": "d6ca88e5",
   "metadata": {},
   "outputs": [
    {
     "data": {
      "text/plain": [
       "array([0, 0, 0, ..., 0, 0, 0], dtype=int64)"
      ]
     },
     "execution_count": 342,
     "metadata": {},
     "output_type": "execute_result"
    }
   ],
   "source": [
    "y_pred                            # predicted outcomes"
   ]
  },
  {
   "cell_type": "markdown",
   "id": "e47eddae",
   "metadata": {},
   "source": [
    "# # slope and intercept"
   ]
  },
  {
   "cell_type": "code",
   "execution_count": 343,
   "id": "ebae235a",
   "metadata": {},
   "outputs": [
    {
     "data": {
      "text/plain": [
       "array([-2.57618907])"
      ]
     },
     "execution_count": 343,
     "metadata": {},
     "output_type": "execute_result"
    }
   ],
   "source": [
    "model1.intercept_              # intercept "
   ]
  },
  {
   "cell_type": "code",
   "execution_count": 344,
   "id": "dfadad0a",
   "metadata": {},
   "outputs": [
    {
     "data": {
      "text/plain": [
       "array([-2.92279190e-01,  1.96232611e-01, -5.55658814e-01,  5.16519678e+00,\n",
       "       -8.70120146e-02,  1.31280811e+00, -5.15673904e-03, -1.28606229e-02,\n",
       "       -1.07673933e+00,  1.95510040e-01])"
      ]
     },
     "execution_count": 344,
     "metadata": {},
     "output_type": "execute_result"
    }
   ],
   "source": [
    "model1.coef_[0]                 # coefficient"
   ]
  },
  {
   "cell_type": "code",
   "execution_count": 345,
   "id": "583b4a40",
   "metadata": {},
   "outputs": [
    {
     "data": {
      "text/html": [
       "<div>\n",
       "<style scoped>\n",
       "    .dataframe tbody tr th:only-of-type {\n",
       "        vertical-align: middle;\n",
       "    }\n",
       "\n",
       "    .dataframe tbody tr th {\n",
       "        vertical-align: top;\n",
       "    }\n",
       "\n",
       "    .dataframe thead th {\n",
       "        text-align: right;\n",
       "    }\n",
       "</style>\n",
       "<table border=\"1\" class=\"dataframe\">\n",
       "  <thead>\n",
       "    <tr style=\"text-align: right;\">\n",
       "      <th></th>\n",
       "      <th>Feature</th>\n",
       "      <th>Slope</th>\n",
       "    </tr>\n",
       "  </thead>\n",
       "  <tbody>\n",
       "    <tr>\n",
       "      <th>3</th>\n",
       "      <td>Tenure</td>\n",
       "      <td>5.165197</td>\n",
       "    </tr>\n",
       "    <tr>\n",
       "      <th>5</th>\n",
       "      <td>NumOfProducts</td>\n",
       "      <td>1.312808</td>\n",
       "    </tr>\n",
       "    <tr>\n",
       "      <th>1</th>\n",
       "      <td>Gender</td>\n",
       "      <td>0.196233</td>\n",
       "    </tr>\n",
       "    <tr>\n",
       "      <th>6</th>\n",
       "      <td>HasCrCard</td>\n",
       "      <td>-0.005157</td>\n",
       "    </tr>\n",
       "    <tr>\n",
       "      <th>7</th>\n",
       "      <td>IsActiveMember</td>\n",
       "      <td>-0.012861</td>\n",
       "    </tr>\n",
       "    <tr>\n",
       "      <th>4</th>\n",
       "      <td>Balance</td>\n",
       "      <td>-0.087012</td>\n",
       "    </tr>\n",
       "    <tr>\n",
       "      <th>0</th>\n",
       "      <td>Geography</td>\n",
       "      <td>-0.292279</td>\n",
       "    </tr>\n",
       "    <tr>\n",
       "      <th>2</th>\n",
       "      <td>Age</td>\n",
       "      <td>-0.555659</td>\n",
       "    </tr>\n",
       "    <tr>\n",
       "      <th>8</th>\n",
       "      <td>EstimatedSalary</td>\n",
       "      <td>-1.076739</td>\n",
       "    </tr>\n",
       "  </tbody>\n",
       "</table>\n",
       "</div>"
      ],
      "text/plain": [
       "           Feature     Slope\n",
       "3           Tenure  5.165197\n",
       "5    NumOfProducts  1.312808\n",
       "1           Gender  0.196233\n",
       "6        HasCrCard -0.005157\n",
       "7   IsActiveMember -0.012861\n",
       "4          Balance -0.087012\n",
       "0        Geography -0.292279\n",
       "2              Age -0.555659\n",
       "8  EstimatedSalary -1.076739"
      ]
     },
     "execution_count": 345,
     "metadata": {},
     "output_type": "execute_result"
    }
   ],
   "source": [
    "# indicates the valueof the slope of each parameter\n",
    "coeff_df=pd.DataFrame(x_train.columns.delete(0))\n",
    "coeff_df.columns=['Feature']\n",
    "coeff_df['Slope']=pd.Series(model1.coef_[0])\n",
    "coeff_df.sort_values(by='Slope',ascending=False)"
   ]
  },
  {
   "cell_type": "markdown",
   "id": "65d19c65",
   "metadata": {},
   "source": [
    "# **********confusion matrix*************"
   ]
  },
  {
   "cell_type": "code",
   "execution_count": 346,
   "id": "647e504a",
   "metadata": {},
   "outputs": [],
   "source": [
    "from sklearn.metrics import confusion_matrix"
   ]
  },
  {
   "cell_type": "code",
   "execution_count": 347,
   "id": "cda46ecb",
   "metadata": {},
   "outputs": [
    {
     "name": "stdout",
     "output_type": "stream",
     "text": [
      "[[2310   70]\n",
      " [ 537   83]]\n"
     ]
    }
   ],
   "source": [
    "print(confusion_matrix(y_test,y_pred))"
   ]
  },
  {
   "cell_type": "markdown",
   "id": "57e88a04",
   "metadata": {},
   "source": [
    "# importing scoring libraries"
   ]
  },
  {
   "cell_type": "code",
   "execution_count": 348,
   "id": "fb371c63",
   "metadata": {},
   "outputs": [],
   "source": [
    "from sklearn.metrics import recall_score\n",
    "from sklearn.metrics import f1_score\n",
    "from sklearn.metrics import accuracy_score\n",
    "from sklearn.metrics import precision_score"
   ]
  },
  {
   "cell_type": "code",
   "execution_count": 349,
   "id": "a0e588dd",
   "metadata": {},
   "outputs": [
    {
     "name": "stdout",
     "output_type": "stream",
     "text": [
      "accuracy:  0.7976666666666666\n",
      "Recall:  0.1338709677419355\n",
      "f1_score:  0.2147477360931436\n",
      "precision:  0.5424836601307189\n"
     ]
    }
   ],
   "source": [
    "print('accuracy: ',accuracy_score(y_test,y_pred))\n",
    "print('Recall: ',recall_score(y_test,y_pred))\n",
    "print('f1_score: ',f1_score(y_test,y_pred))\n",
    "print('precision: ',precision_score(y_test,y_pred))\n"
   ]
  },
  {
   "cell_type": "code",
   "execution_count": 350,
   "id": "2d4ba59f",
   "metadata": {},
   "outputs": [
    {
     "data": {
      "text/plain": [
       "0.798"
      ]
     },
     "execution_count": 350,
     "metadata": {},
     "output_type": "execute_result"
    }
   ],
   "source": [
    "score1=round(accuracy_score(y_test,y_pred),3)\n",
    "score1"
   ]
  },
  {
   "cell_type": "code",
   "execution_count": 351,
   "id": "b7bb22bb",
   "metadata": {},
   "outputs": [
    {
     "name": "stdout",
     "output_type": "stream",
     "text": [
      "Cross Validation Scores are [0.804  0.799  0.8055 0.8225 0.8095]\n",
      "Average Cross Validation score :0.81\n"
     ]
    }
   ],
   "source": [
    "kf=KFold(n_splits=5)\n",
    "score=cross_val_score(lg,x,y,cv=kf)\n",
    "print(\"Cross Validation Scores are {}\".format(score))\n",
    "print(\"Average Cross Validation score :{}\".format(round(score.mean(),2)))"
   ]
  },
  {
   "cell_type": "markdown",
   "id": "a190e903",
   "metadata": {},
   "source": [
    "# accuray score of multiple feature is 81%"
   ]
  },
  {
   "cell_type": "markdown",
   "id": "6694d4c8",
   "metadata": {},
   "source": [
    "# *****************ROC(AUC)"
   ]
  },
  {
   "cell_type": "code",
   "execution_count": 352,
   "id": "b7ef053f",
   "metadata": {},
   "outputs": [
    {
     "data": {
      "text/plain": [
       "0.7465973163458931"
      ]
     },
     "execution_count": 352,
     "metadata": {},
     "output_type": "execute_result"
    }
   ],
   "source": [
    "from sklearn.metrics import roc_auc_score\n",
    "roc=roc_auc_score(y_test,model1.predict_proba(x_test)[:,1])\n",
    "roc"
   ]
  },
  {
   "cell_type": "code",
   "execution_count": 353,
   "id": "000a2af2",
   "metadata": {},
   "outputs": [
    {
     "name": "stdout",
     "output_type": "stream",
     "text": [
      "No Skill: ROC AUC=0.500\n",
      "Logistic: ROC AUC=0.747\n"
     ]
    },
    {
     "data": {
      "image/png": "[encoded data removed]",
      "text/plain": [
       "<Figure size 432x288 with 1 Axes>"
      ]
     },
     "metadata": {
      "needs_background": "light"
     },
     "output_type": "display_data"
    }
   ],
   "source": [
    "from sklearn.metrics import roc_curve\n",
    "from sklearn.metrics import roc_auc_score\n",
    "# generate a no skill prediction (majority class)\n",
    "ns_probs = [0 for _ in range(len(y_test))]\n",
    "# predict probabilities\n",
    "lr_probs = model1.predict_proba(x_test)\n",
    "# keep probabilities for the positive outcome only\n",
    "lr_probs = lr_probs[:, 1]\n",
    "# calculate scores\n",
    "ns_auc = roc_auc_score(y_test, ns_probs)   # no skill line\n",
    "lr_auc = roc_auc_score(y_test, lr_probs)      # logistic regression line\n",
    "# summarize scores\n",
    "print('No Skill: ROC AUC=%.3f' % (ns_auc))\n",
    "print('Logistic: ROC AUC=%.3f' % (lr_auc))\n",
    "# calculate roc curves\n",
    "ns_fpr, ns_tpr, _ = roc_curve(y_test, ns_probs)\n",
    "lr_fpr, lr_tpr, _ = roc_curve(y_test, lr_probs)\n",
    "# plot the roc curve for the model\n",
    "pt.plot(ns_fpr, ns_tpr, linestyle='--', label='No Skill')\n",
    "pt.plot(lr_fpr, lr_tpr, marker='.', label='Logistic')\n",
    "# axis labels\n",
    "pt.xlabel('False Positive Rate')\n",
    "pt.ylabel('True Positive Rate')\n",
    "# show the legend\n",
    "pt.legend()\n",
    "# show the plot\n",
    "pt.show()"
   ]
  },
  {
   "cell_type": "markdown",
   "id": "f4388cd7",
   "metadata": {},
   "source": [
    "### conclusion:- here we can see our logistic regression value is near to the 1 so we can say it a good model."
   ]
  },
  {
   "cell_type": "markdown",
   "id": "7c6bb674",
   "metadata": {},
   "source": [
    "# Logistic regression with highly correlated columns"
   ]
  },
  {
   "cell_type": "code",
   "execution_count": 354,
   "id": "27361e11",
   "metadata": {},
   "outputs": [
    {
     "data": {
      "text/html": [
       "<div>\n",
       "<style scoped>\n",
       "    .dataframe tbody tr th:only-of-type {\n",
       "        vertical-align: middle;\n",
       "    }\n",
       "\n",
       "    .dataframe tbody tr th {\n",
       "        vertical-align: top;\n",
       "    }\n",
       "\n",
       "    .dataframe thead th {\n",
       "        text-align: right;\n",
       "    }\n",
       "</style>\n",
       "<table border=\"1\" class=\"dataframe\">\n",
       "  <thead>\n",
       "    <tr style=\"text-align: right;\">\n",
       "      <th></th>\n",
       "      <th>CreditScore</th>\n",
       "      <th>Geography</th>\n",
       "      <th>Gender</th>\n",
       "      <th>Age</th>\n",
       "      <th>Tenure</th>\n",
       "      <th>Balance</th>\n",
       "      <th>NumOfProducts</th>\n",
       "      <th>HasCrCard</th>\n",
       "      <th>IsActiveMember</th>\n",
       "      <th>EstimatedSalary</th>\n",
       "      <th>Exited</th>\n",
       "    </tr>\n",
       "  </thead>\n",
       "  <tbody>\n",
       "    <tr>\n",
       "      <th>0</th>\n",
       "      <td>0.538</td>\n",
       "      <td>0.0</td>\n",
       "      <td>0.0</td>\n",
       "      <td>0.324324</td>\n",
       "      <td>0.2</td>\n",
       "      <td>0.000000</td>\n",
       "      <td>0.000000</td>\n",
       "      <td>1.0</td>\n",
       "      <td>1.0</td>\n",
       "      <td>0.506735</td>\n",
       "      <td>1</td>\n",
       "    </tr>\n",
       "    <tr>\n",
       "      <th>1</th>\n",
       "      <td>0.516</td>\n",
       "      <td>1.0</td>\n",
       "      <td>0.0</td>\n",
       "      <td>0.310811</td>\n",
       "      <td>0.1</td>\n",
       "      <td>0.334031</td>\n",
       "      <td>0.000000</td>\n",
       "      <td>0.0</td>\n",
       "      <td>1.0</td>\n",
       "      <td>0.562709</td>\n",
       "      <td>0</td>\n",
       "    </tr>\n",
       "    <tr>\n",
       "      <th>2</th>\n",
       "      <td>0.304</td>\n",
       "      <td>0.0</td>\n",
       "      <td>0.0</td>\n",
       "      <td>0.324324</td>\n",
       "      <td>0.8</td>\n",
       "      <td>0.636357</td>\n",
       "      <td>0.666667</td>\n",
       "      <td>1.0</td>\n",
       "      <td>0.0</td>\n",
       "      <td>0.569654</td>\n",
       "      <td>1</td>\n",
       "    </tr>\n",
       "    <tr>\n",
       "      <th>3</th>\n",
       "      <td>0.698</td>\n",
       "      <td>0.0</td>\n",
       "      <td>0.0</td>\n",
       "      <td>0.283784</td>\n",
       "      <td>0.1</td>\n",
       "      <td>0.000000</td>\n",
       "      <td>0.333333</td>\n",
       "      <td>0.0</td>\n",
       "      <td>0.0</td>\n",
       "      <td>0.469120</td>\n",
       "      <td>0</td>\n",
       "    </tr>\n",
       "    <tr>\n",
       "      <th>4</th>\n",
       "      <td>1.000</td>\n",
       "      <td>1.0</td>\n",
       "      <td>0.0</td>\n",
       "      <td>0.337838</td>\n",
       "      <td>0.2</td>\n",
       "      <td>0.500246</td>\n",
       "      <td>0.000000</td>\n",
       "      <td>1.0</td>\n",
       "      <td>1.0</td>\n",
       "      <td>0.395400</td>\n",
       "      <td>0</td>\n",
       "    </tr>\n",
       "  </tbody>\n",
       "</table>\n",
       "</div>"
      ],
      "text/plain": [
       "   CreditScore  Geography  Gender       Age  Tenure   Balance  NumOfProducts  \\\n",
       "0        0.538        0.0     0.0  0.324324     0.2  0.000000       0.000000   \n",
       "1        0.516        1.0     0.0  0.310811     0.1  0.334031       0.000000   \n",
       "2        0.304        0.0     0.0  0.324324     0.8  0.636357       0.666667   \n",
       "3        0.698        0.0     0.0  0.283784     0.1  0.000000       0.333333   \n",
       "4        1.000        1.0     0.0  0.337838     0.2  0.500246       0.000000   \n",
       "\n",
       "   HasCrCard  IsActiveMember  EstimatedSalary  Exited  \n",
       "0        1.0             1.0         0.506735       1  \n",
       "1        0.0             1.0         0.562709       0  \n",
       "2        1.0             0.0         0.569654       1  \n",
       "3        0.0             0.0         0.469120       0  \n",
       "4        1.0             1.0         0.395400       0  "
      ]
     },
     "execution_count": 354,
     "metadata": {},
     "output_type": "execute_result"
    }
   ],
   "source": [
    "scaled_df.head()"
   ]
  },
  {
   "cell_type": "code",
   "execution_count": 355,
   "id": "f54ad7c1",
   "metadata": {},
   "outputs": [
    {
     "data": {
      "text/html": [
       "<div>\n",
       "<style scoped>\n",
       "    .dataframe tbody tr th:only-of-type {\n",
       "        vertical-align: middle;\n",
       "    }\n",
       "\n",
       "    .dataframe tbody tr th {\n",
       "        vertical-align: top;\n",
       "    }\n",
       "\n",
       "    .dataframe thead th {\n",
       "        text-align: right;\n",
       "    }\n",
       "</style>\n",
       "<table border=\"1\" class=\"dataframe\">\n",
       "  <thead>\n",
       "    <tr style=\"text-align: right;\">\n",
       "      <th></th>\n",
       "      <th>CreditScore</th>\n",
       "      <th>Geography</th>\n",
       "      <th>Gender</th>\n",
       "      <th>Age</th>\n",
       "      <th>Tenure</th>\n",
       "      <th>Balance</th>\n",
       "      <th>NumOfProducts</th>\n",
       "      <th>HasCrCard</th>\n",
       "      <th>IsActiveMember</th>\n",
       "      <th>EstimatedSalary</th>\n",
       "      <th>Exited</th>\n",
       "    </tr>\n",
       "  </thead>\n",
       "  <tbody>\n",
       "    <tr>\n",
       "      <th>CreditScore</th>\n",
       "      <td>1.000000</td>\n",
       "      <td>0.007888</td>\n",
       "      <td>-0.002857</td>\n",
       "      <td>-0.003965</td>\n",
       "      <td>0.000842</td>\n",
       "      <td>0.006268</td>\n",
       "      <td>0.012238</td>\n",
       "      <td>-0.005458</td>\n",
       "      <td>0.025651</td>\n",
       "      <td>-0.001384</td>\n",
       "      <td>-0.027094</td>\n",
       "    </tr>\n",
       "    <tr>\n",
       "      <th>Geography</th>\n",
       "      <td>0.007888</td>\n",
       "      <td>1.000000</td>\n",
       "      <td>0.004719</td>\n",
       "      <td>0.022812</td>\n",
       "      <td>0.003739</td>\n",
       "      <td>0.069408</td>\n",
       "      <td>0.003972</td>\n",
       "      <td>-0.008523</td>\n",
       "      <td>0.006724</td>\n",
       "      <td>-0.001369</td>\n",
       "      <td>0.035943</td>\n",
       "    </tr>\n",
       "    <tr>\n",
       "      <th>Gender</th>\n",
       "      <td>-0.002857</td>\n",
       "      <td>0.004719</td>\n",
       "      <td>1.000000</td>\n",
       "      <td>-0.027544</td>\n",
       "      <td>0.014733</td>\n",
       "      <td>0.012087</td>\n",
       "      <td>-0.021859</td>\n",
       "      <td>0.005766</td>\n",
       "      <td>0.022544</td>\n",
       "      <td>-0.008112</td>\n",
       "      <td>-0.106512</td>\n",
       "    </tr>\n",
       "    <tr>\n",
       "      <th>Age</th>\n",
       "      <td>-0.003965</td>\n",
       "      <td>0.022812</td>\n",
       "      <td>-0.027544</td>\n",
       "      <td>1.000000</td>\n",
       "      <td>-0.009997</td>\n",
       "      <td>0.028308</td>\n",
       "      <td>-0.030680</td>\n",
       "      <td>-0.011721</td>\n",
       "      <td>0.085472</td>\n",
       "      <td>-0.007201</td>\n",
       "      <td>0.285323</td>\n",
       "    </tr>\n",
       "    <tr>\n",
       "      <th>Tenure</th>\n",
       "      <td>0.000842</td>\n",
       "      <td>0.003739</td>\n",
       "      <td>0.014733</td>\n",
       "      <td>-0.009997</td>\n",
       "      <td>1.000000</td>\n",
       "      <td>-0.012254</td>\n",
       "      <td>0.013444</td>\n",
       "      <td>0.022583</td>\n",
       "      <td>-0.028362</td>\n",
       "      <td>0.007784</td>\n",
       "      <td>-0.014001</td>\n",
       "    </tr>\n",
       "    <tr>\n",
       "      <th>Balance</th>\n",
       "      <td>0.006268</td>\n",
       "      <td>0.069408</td>\n",
       "      <td>0.012087</td>\n",
       "      <td>0.028308</td>\n",
       "      <td>-0.012254</td>\n",
       "      <td>1.000000</td>\n",
       "      <td>-0.304180</td>\n",
       "      <td>-0.014858</td>\n",
       "      <td>-0.010084</td>\n",
       "      <td>0.012797</td>\n",
       "      <td>0.118533</td>\n",
       "    </tr>\n",
       "    <tr>\n",
       "      <th>NumOfProducts</th>\n",
       "      <td>0.012238</td>\n",
       "      <td>0.003972</td>\n",
       "      <td>-0.021859</td>\n",
       "      <td>-0.030680</td>\n",
       "      <td>0.013444</td>\n",
       "      <td>-0.304180</td>\n",
       "      <td>1.000000</td>\n",
       "      <td>0.003183</td>\n",
       "      <td>0.009612</td>\n",
       "      <td>0.014204</td>\n",
       "      <td>-0.047820</td>\n",
       "    </tr>\n",
       "    <tr>\n",
       "      <th>HasCrCard</th>\n",
       "      <td>-0.005458</td>\n",
       "      <td>-0.008523</td>\n",
       "      <td>0.005766</td>\n",
       "      <td>-0.011721</td>\n",
       "      <td>0.022583</td>\n",
       "      <td>-0.014858</td>\n",
       "      <td>0.003183</td>\n",
       "      <td>1.000000</td>\n",
       "      <td>-0.011866</td>\n",
       "      <td>-0.009933</td>\n",
       "      <td>-0.007138</td>\n",
       "    </tr>\n",
       "    <tr>\n",
       "      <th>IsActiveMember</th>\n",
       "      <td>0.025651</td>\n",
       "      <td>0.006724</td>\n",
       "      <td>0.022544</td>\n",
       "      <td>0.085472</td>\n",
       "      <td>-0.028362</td>\n",
       "      <td>-0.010084</td>\n",
       "      <td>0.009612</td>\n",
       "      <td>-0.011866</td>\n",
       "      <td>1.000000</td>\n",
       "      <td>-0.011421</td>\n",
       "      <td>-0.156128</td>\n",
       "    </tr>\n",
       "    <tr>\n",
       "      <th>EstimatedSalary</th>\n",
       "      <td>-0.001384</td>\n",
       "      <td>-0.001369</td>\n",
       "      <td>-0.008112</td>\n",
       "      <td>-0.007201</td>\n",
       "      <td>0.007784</td>\n",
       "      <td>0.012797</td>\n",
       "      <td>0.014204</td>\n",
       "      <td>-0.009933</td>\n",
       "      <td>-0.011421</td>\n",
       "      <td>1.000000</td>\n",
       "      <td>0.012097</td>\n",
       "    </tr>\n",
       "    <tr>\n",
       "      <th>Exited</th>\n",
       "      <td>-0.027094</td>\n",
       "      <td>0.035943</td>\n",
       "      <td>-0.106512</td>\n",
       "      <td>0.285323</td>\n",
       "      <td>-0.014001</td>\n",
       "      <td>0.118533</td>\n",
       "      <td>-0.047820</td>\n",
       "      <td>-0.007138</td>\n",
       "      <td>-0.156128</td>\n",
       "      <td>0.012097</td>\n",
       "      <td>1.000000</td>\n",
       "    </tr>\n",
       "  </tbody>\n",
       "</table>\n",
       "</div>"
      ],
      "text/plain": [
       "                 CreditScore  Geography    Gender       Age    Tenure  \\\n",
       "CreditScore         1.000000   0.007888 -0.002857 -0.003965  0.000842   \n",
       "Geography           0.007888   1.000000  0.004719  0.022812  0.003739   \n",
       "Gender             -0.002857   0.004719  1.000000 -0.027544  0.014733   \n",
       "Age                -0.003965   0.022812 -0.027544  1.000000 -0.009997   \n",
       "Tenure              0.000842   0.003739  0.014733 -0.009997  1.000000   \n",
       "Balance             0.006268   0.069408  0.012087  0.028308 -0.012254   \n",
       "NumOfProducts       0.012238   0.003972 -0.021859 -0.030680  0.013444   \n",
       "HasCrCard          -0.005458  -0.008523  0.005766 -0.011721  0.022583   \n",
       "IsActiveMember      0.025651   0.006724  0.022544  0.085472 -0.028362   \n",
       "EstimatedSalary    -0.001384  -0.001369 -0.008112 -0.007201  0.007784   \n",
       "Exited             -0.027094   0.035943 -0.106512  0.285323 -0.014001   \n",
       "\n",
       "                  Balance  NumOfProducts  HasCrCard  IsActiveMember  \\\n",
       "CreditScore      0.006268       0.012238  -0.005458        0.025651   \n",
       "Geography        0.069408       0.003972  -0.008523        0.006724   \n",
       "Gender           0.012087      -0.021859   0.005766        0.022544   \n",
       "Age              0.028308      -0.030680  -0.011721        0.085472   \n",
       "Tenure          -0.012254       0.013444   0.022583       -0.028362   \n",
       "Balance          1.000000      -0.304180  -0.014858       -0.010084   \n",
       "NumOfProducts   -0.304180       1.000000   0.003183        0.009612   \n",
       "HasCrCard       -0.014858       0.003183   1.000000       -0.011866   \n",
       "IsActiveMember  -0.010084       0.009612  -0.011866        1.000000   \n",
       "EstimatedSalary  0.012797       0.014204  -0.009933       -0.011421   \n",
       "Exited           0.118533      -0.047820  -0.007138       -0.156128   \n",
       "\n",
       "                 EstimatedSalary    Exited  \n",
       "CreditScore            -0.001384 -0.027094  \n",
       "Geography              -0.001369  0.035943  \n",
       "Gender                 -0.008112 -0.106512  \n",
       "Age                    -0.007201  0.285323  \n",
       "Tenure                  0.007784 -0.014001  \n",
       "Balance                 0.012797  0.118533  \n",
       "NumOfProducts           0.014204 -0.047820  \n",
       "HasCrCard              -0.009933 -0.007138  \n",
       "IsActiveMember         -0.011421 -0.156128  \n",
       "EstimatedSalary         1.000000  0.012097  \n",
       "Exited                  0.012097  1.000000  "
      ]
     },
     "execution_count": 355,
     "metadata": {},
     "output_type": "execute_result"
    }
   ],
   "source": [
    "corr1=scaled_df.corr()\n",
    "corr1"
   ]
  },
  {
   "cell_type": "code",
   "execution_count": 356,
   "id": "810aff42",
   "metadata": {},
   "outputs": [
    {
     "data": {
      "text/plain": [
       "<AxesSubplot:>"
      ]
     },
     "execution_count": 356,
     "metadata": {},
     "output_type": "execute_result"
    },
    {
     "data": {
      "image/png": "[encoded data removed]",
      "text/plain": [
       "<Figure size 864x432 with 2 Axes>"
      ]
     },
     "metadata": {
      "needs_background": "light"
     },
     "output_type": "display_data"
    }
   ],
   "source": [
    "pt.figure(figsize=(12,6))\n",
    "sb.heatmap(corr1,annot=True)"
   ]
  },
  {
   "cell_type": "markdown",
   "id": "e33f1d2a",
   "metadata": {},
   "source": [
    "### age,Balance and the active member is negative correlated"
   ]
  },
  {
   "cell_type": "code",
   "execution_count": 357,
   "id": "6b754089",
   "metadata": {},
   "outputs": [],
   "source": [
    "x1=scaled_df[['Age','Balance']]\n",
    "y1=scaled_df[['Exited']]"
   ]
  },
  {
   "cell_type": "code",
   "execution_count": 358,
   "id": "e880a55d",
   "metadata": {},
   "outputs": [
    {
     "data": {
      "text/html": [
       "<div>\n",
       "<style scoped>\n",
       "    .dataframe tbody tr th:only-of-type {\n",
       "        vertical-align: middle;\n",
       "    }\n",
       "\n",
       "    .dataframe tbody tr th {\n",
       "        vertical-align: top;\n",
       "    }\n",
       "\n",
       "    .dataframe thead th {\n",
       "        text-align: right;\n",
       "    }\n",
       "</style>\n",
       "<table border=\"1\" class=\"dataframe\">\n",
       "  <thead>\n",
       "    <tr style=\"text-align: right;\">\n",
       "      <th></th>\n",
       "      <th>Age</th>\n",
       "      <th>Balance</th>\n",
       "    </tr>\n",
       "  </thead>\n",
       "  <tbody>\n",
       "    <tr>\n",
       "      <th>0</th>\n",
       "      <td>0.324324</td>\n",
       "      <td>0.000000</td>\n",
       "    </tr>\n",
       "    <tr>\n",
       "      <th>1</th>\n",
       "      <td>0.310811</td>\n",
       "      <td>0.334031</td>\n",
       "    </tr>\n",
       "    <tr>\n",
       "      <th>2</th>\n",
       "      <td>0.324324</td>\n",
       "      <td>0.636357</td>\n",
       "    </tr>\n",
       "    <tr>\n",
       "      <th>3</th>\n",
       "      <td>0.283784</td>\n",
       "      <td>0.000000</td>\n",
       "    </tr>\n",
       "    <tr>\n",
       "      <th>4</th>\n",
       "      <td>0.337838</td>\n",
       "      <td>0.500246</td>\n",
       "    </tr>\n",
       "    <tr>\n",
       "      <th>...</th>\n",
       "      <td>...</td>\n",
       "      <td>...</td>\n",
       "    </tr>\n",
       "    <tr>\n",
       "      <th>9995</th>\n",
       "      <td>0.283784</td>\n",
       "      <td>0.000000</td>\n",
       "    </tr>\n",
       "    <tr>\n",
       "      <th>9996</th>\n",
       "      <td>0.229730</td>\n",
       "      <td>0.228657</td>\n",
       "    </tr>\n",
       "    <tr>\n",
       "      <th>9997</th>\n",
       "      <td>0.243243</td>\n",
       "      <td>0.000000</td>\n",
       "    </tr>\n",
       "    <tr>\n",
       "      <th>9998</th>\n",
       "      <td>0.324324</td>\n",
       "      <td>0.299226</td>\n",
       "    </tr>\n",
       "    <tr>\n",
       "      <th>9999</th>\n",
       "      <td>0.135135</td>\n",
       "      <td>0.518708</td>\n",
       "    </tr>\n",
       "  </tbody>\n",
       "</table>\n",
       "<p>10000 rows × 2 columns</p>\n",
       "</div>"
      ],
      "text/plain": [
       "           Age   Balance\n",
       "0     0.324324  0.000000\n",
       "1     0.310811  0.334031\n",
       "2     0.324324  0.636357\n",
       "3     0.283784  0.000000\n",
       "4     0.337838  0.500246\n",
       "...        ...       ...\n",
       "9995  0.283784  0.000000\n",
       "9996  0.229730  0.228657\n",
       "9997  0.243243  0.000000\n",
       "9998  0.324324  0.299226\n",
       "9999  0.135135  0.518708\n",
       "\n",
       "[10000 rows x 2 columns]"
      ]
     },
     "execution_count": 358,
     "metadata": {},
     "output_type": "execute_result"
    }
   ],
   "source": [
    "x1"
   ]
  },
  {
   "cell_type": "code",
   "execution_count": 359,
   "id": "e4d3af3e",
   "metadata": {},
   "outputs": [
    {
     "data": {
      "text/html": [
       "<div>\n",
       "<style scoped>\n",
       "    .dataframe tbody tr th:only-of-type {\n",
       "        vertical-align: middle;\n",
       "    }\n",
       "\n",
       "    .dataframe tbody tr th {\n",
       "        vertical-align: top;\n",
       "    }\n",
       "\n",
       "    .dataframe thead th {\n",
       "        text-align: right;\n",
       "    }\n",
       "</style>\n",
       "<table border=\"1\" class=\"dataframe\">\n",
       "  <thead>\n",
       "    <tr style=\"text-align: right;\">\n",
       "      <th></th>\n",
       "      <th>Exited</th>\n",
       "    </tr>\n",
       "  </thead>\n",
       "  <tbody>\n",
       "    <tr>\n",
       "      <th>0</th>\n",
       "      <td>1</td>\n",
       "    </tr>\n",
       "    <tr>\n",
       "      <th>1</th>\n",
       "      <td>0</td>\n",
       "    </tr>\n",
       "    <tr>\n",
       "      <th>2</th>\n",
       "      <td>1</td>\n",
       "    </tr>\n",
       "    <tr>\n",
       "      <th>3</th>\n",
       "      <td>0</td>\n",
       "    </tr>\n",
       "    <tr>\n",
       "      <th>4</th>\n",
       "      <td>0</td>\n",
       "    </tr>\n",
       "    <tr>\n",
       "      <th>...</th>\n",
       "      <td>...</td>\n",
       "    </tr>\n",
       "    <tr>\n",
       "      <th>9995</th>\n",
       "      <td>0</td>\n",
       "    </tr>\n",
       "    <tr>\n",
       "      <th>9996</th>\n",
       "      <td>0</td>\n",
       "    </tr>\n",
       "    <tr>\n",
       "      <th>9997</th>\n",
       "      <td>1</td>\n",
       "    </tr>\n",
       "    <tr>\n",
       "      <th>9998</th>\n",
       "      <td>1</td>\n",
       "    </tr>\n",
       "    <tr>\n",
       "      <th>9999</th>\n",
       "      <td>0</td>\n",
       "    </tr>\n",
       "  </tbody>\n",
       "</table>\n",
       "<p>10000 rows × 1 columns</p>\n",
       "</div>"
      ],
      "text/plain": [
       "      Exited\n",
       "0          1\n",
       "1          0\n",
       "2          1\n",
       "3          0\n",
       "4          0\n",
       "...      ...\n",
       "9995       0\n",
       "9996       0\n",
       "9997       1\n",
       "9998       1\n",
       "9999       0\n",
       "\n",
       "[10000 rows x 1 columns]"
      ]
     },
     "execution_count": 359,
     "metadata": {},
     "output_type": "execute_result"
    }
   ],
   "source": [
    "y1"
   ]
  },
  {
   "cell_type": "code",
   "execution_count": 360,
   "id": "669f4b09",
   "metadata": {},
   "outputs": [],
   "source": [
    "x1_train,x1_test,y1_train,y1_test=train_test_split(x1,y1,test_size=0.3,random_state=10)"
   ]
  },
  {
   "cell_type": "code",
   "execution_count": 361,
   "id": "4d62aa08",
   "metadata": {},
   "outputs": [
    {
     "data": {
      "text/plain": [
       "(7000, 2)"
      ]
     },
     "execution_count": 361,
     "metadata": {},
     "output_type": "execute_result"
    }
   ],
   "source": [
    "x1_train.shape"
   ]
  },
  {
   "cell_type": "code",
   "execution_count": 362,
   "id": "8aa90de6",
   "metadata": {},
   "outputs": [
    {
     "data": {
      "text/plain": [
       "(3000, 2)"
      ]
     },
     "execution_count": 362,
     "metadata": {},
     "output_type": "execute_result"
    }
   ],
   "source": [
    "x1_test.shape"
   ]
  },
  {
   "cell_type": "code",
   "execution_count": 363,
   "id": "966ce974",
   "metadata": {},
   "outputs": [],
   "source": [
    "lg=LogisticRegression()"
   ]
  },
  {
   "cell_type": "code",
   "execution_count": 364,
   "id": "8ce9c7d2",
   "metadata": {},
   "outputs": [
    {
     "data": {
      "text/plain": [
       "LogisticRegression()"
      ]
     },
     "execution_count": 364,
     "metadata": {},
     "output_type": "execute_result"
    }
   ],
   "source": [
    "lg"
   ]
  },
  {
   "cell_type": "code",
   "execution_count": 365,
   "id": "a3e07c66",
   "metadata": {},
   "outputs": [
    {
     "data": {
      "text/plain": [
       "LogisticRegression()"
      ]
     },
     "execution_count": 365,
     "metadata": {},
     "output_type": "execute_result"
    }
   ],
   "source": [
    "model2=lg.fit(x1_train,y1_train)\n",
    "model2"
   ]
  },
  {
   "cell_type": "code",
   "execution_count": 366,
   "id": "3baebca7",
   "metadata": {},
   "outputs": [],
   "source": [
    "train_accuracy2=round(model2.score(x1_train,y1_train)*100,2)"
   ]
  },
  {
   "cell_type": "code",
   "execution_count": 367,
   "id": "63c7dc80",
   "metadata": {},
   "outputs": [
    {
     "data": {
      "text/plain": [
       "78.17"
      ]
     },
     "execution_count": 367,
     "metadata": {},
     "output_type": "execute_result"
    }
   ],
   "source": [
    "train_accuracy2"
   ]
  },
  {
   "cell_type": "code",
   "execution_count": 368,
   "id": "44198bb5",
   "metadata": {},
   "outputs": [],
   "source": [
    "y_pred2=model2.predict(x1_test) "
   ]
  },
  {
   "cell_type": "code",
   "execution_count": 369,
   "id": "25776c33",
   "metadata": {},
   "outputs": [
    {
     "data": {
      "text/plain": [
       "array([0, 0, 0, ..., 0, 0, 0], dtype=int64)"
      ]
     },
     "execution_count": 369,
     "metadata": {},
     "output_type": "execute_result"
    }
   ],
   "source": [
    "y_pred2"
   ]
  },
  {
   "cell_type": "markdown",
   "id": "c893a1c1",
   "metadata": {},
   "source": [
    "# slope and intercept"
   ]
  },
  {
   "cell_type": "code",
   "execution_count": 370,
   "id": "d203a7d7",
   "metadata": {},
   "outputs": [
    {
     "data": {
      "text/plain": [
       "array([-3.17652053])"
      ]
     },
     "execution_count": 370,
     "metadata": {},
     "output_type": "execute_result"
    }
   ],
   "source": [
    "model2.intercept_"
   ]
  },
  {
   "cell_type": "code",
   "execution_count": 371,
   "id": "51920b51",
   "metadata": {},
   "outputs": [
    {
     "data": {
      "text/plain": [
       "array([4.49940758, 1.28211443])"
      ]
     },
     "execution_count": 371,
     "metadata": {},
     "output_type": "execute_result"
    }
   ],
   "source": [
    "model2.coef_[0]"
   ]
  },
  {
   "cell_type": "markdown",
   "id": "c2fde90a",
   "metadata": {},
   "source": [
    "## *********confusion matrix****"
   ]
  },
  {
   "cell_type": "code",
   "execution_count": 372,
   "id": "33a27094",
   "metadata": {},
   "outputs": [],
   "source": [
    "from sklearn.metrics import confusion_matrix"
   ]
  },
  {
   "cell_type": "code",
   "execution_count": 373,
   "id": "7f0e3a8a",
   "metadata": {},
   "outputs": [
    {
     "name": "stdout",
     "output_type": "stream",
     "text": [
      "[[2304   76]\n",
      " [ 595   25]]\n"
     ]
    }
   ],
   "source": [
    "print(confusion_matrix(y1_test,y_pred2))"
   ]
  },
  {
   "cell_type": "markdown",
   "id": "6f5e40a3",
   "metadata": {},
   "source": [
    "# scores"
   ]
  },
  {
   "cell_type": "code",
   "execution_count": 374,
   "id": "52f15add",
   "metadata": {},
   "outputs": [
    {
     "name": "stdout",
     "output_type": "stream",
     "text": [
      "accuracy:  0.7763333333333333\n",
      "Recall:  0.04032258064516129\n",
      "f1_score:  0.06934812760055478\n",
      "precision:  0.24752475247524752\n"
     ]
    }
   ],
   "source": [
    "print('accuracy: ',accuracy_score(y1_test,y_pred2))\n",
    "print('Recall: ',recall_score(y1_test,y_pred2))\n",
    "print('f1_score: ',f1_score(y1_test,y_pred2))\n",
    "print('precision: ',precision_score(y1_test,y_pred2))\n"
   ]
  },
  {
   "cell_type": "code",
   "execution_count": 375,
   "id": "2749ec3b",
   "metadata": {},
   "outputs": [
    {
     "data": {
      "text/plain": [
       "0.78"
      ]
     },
     "execution_count": 375,
     "metadata": {},
     "output_type": "execute_result"
    }
   ],
   "source": [
    "score2=round(accuracy_score(y1_test,y_pred2),2)\n",
    "score2"
   ]
  },
  {
   "cell_type": "code",
   "execution_count": 376,
   "id": "a92f28e4",
   "metadata": {},
   "outputs": [
    {
     "name": "stdout",
     "output_type": "stream",
     "text": [
      "Cross Validation Scores are [0.776  0.767  0.781  0.786  0.7865]\n",
      "Average Cross Validation score :0.78\n"
     ]
    }
   ],
   "source": [
    "kf=KFold(n_splits=5)\n",
    "score=cross_val_score(lg,x1,y1,cv=kf)\n",
    "print(\"Cross Validation Scores are {}\".format(score))\n",
    "print(\"Average Cross Validation score :{}\".format(round(score.mean(),2)))"
   ]
  },
  {
   "cell_type": "markdown",
   "id": "b3b098b9",
   "metadata": {},
   "source": [
    "# accuracy score of two features is 78%"
   ]
  },
  {
   "cell_type": "code",
   "execution_count": 377,
   "id": "582e39da",
   "metadata": {},
   "outputs": [
    {
     "data": {
      "text/plain": [
       "0.7305865410680401"
      ]
     },
     "execution_count": 377,
     "metadata": {},
     "output_type": "execute_result"
    }
   ],
   "source": [
    "from sklearn.metrics import roc_auc_score\n",
    "roc=roc_auc_score(y1_test,model2.predict_proba(x1_test)[:,1])\n",
    "roc"
   ]
  },
  {
   "cell_type": "code",
   "execution_count": 378,
   "id": "41d6dfd6",
   "metadata": {},
   "outputs": [
    {
     "name": "stdout",
     "output_type": "stream",
     "text": [
      "No Skill: ROC AUC=0.500\n",
      "Logistic: ROC AUC=0.731\n"
     ]
    },
    {
     "data": {
      "image/png": "[encoded data removed]",
      "text/plain": [
       "<Figure size 432x288 with 1 Axes>"
      ]
     },
     "metadata": {
      "needs_background": "light"
     },
     "output_type": "display_data"
    }
   ],
   "source": [
    "from sklearn.metrics import roc_curve\n",
    "from sklearn.metrics import roc_auc_score\n",
    "# generate a no skill prediction (majority class)\n",
    "ns_probs = [0 for _ in range(len(y1_test))]\n",
    "# predict probabilities\n",
    "lr_probs = model2.predict_proba(x1_test)\n",
    "# keep probabilities for the positive outcome only\n",
    "lr_probs = lr_probs[:, 1]\n",
    "# calculate scores\n",
    "ns_auc = roc_auc_score(y1_test, ns_probs)   # no skill line\n",
    "lr_auc = roc_auc_score(y1_test, lr_probs)      # logistic regression line\n",
    "# summarize scores\n",
    "print('No Skill: ROC AUC=%.3f' % (ns_auc))\n",
    "print('Logistic: ROC AUC=%.3f' % (lr_auc))\n",
    "# calculate roc curves\n",
    "ns_fpr, ns_tpr, _ = roc_curve(y1_test, ns_probs)\n",
    "lr_fpr, lr_tpr, _ = roc_curve(y1_test, lr_probs)\n",
    "# plot the roc curve for the model\n",
    "pt.plot(ns_fpr, ns_tpr, linestyle='--', label='No Skill')\n",
    "pt.plot(lr_fpr, lr_tpr, marker='.', label='Logistic')\n",
    "# axis labels\n",
    "pt.xlabel('False Positive Rate')\n",
    "pt.ylabel('True Positive Rate')\n",
    "# show the legend\n",
    "pt.legend()\n",
    "# show the plot\n",
    "pt.show()"
   ]
  },
  {
   "cell_type": "markdown",
   "id": "9c20bf6a",
   "metadata": {},
   "source": [
    "# closer to 1 so we can say it is a good model"
   ]
  },
  {
   "cell_type": "markdown",
   "id": "74c969c2",
   "metadata": {},
   "source": [
    "# ***************** DECISION TREE CLASSIFIER****************"
   ]
  },
  {
   "cell_type": "code",
   "execution_count": 379,
   "id": "e40c5b22",
   "metadata": {},
   "outputs": [],
   "source": [
    "from sklearn.tree import DecisionTreeClassifier"
   ]
  },
  {
   "cell_type": "code",
   "execution_count": 453,
   "id": "40507a12",
   "metadata": {},
   "outputs": [],
   "source": [
    "dc=DecisionTreeClassifier(max_depth=2)"
   ]
  },
  {
   "cell_type": "code",
   "execution_count": 454,
   "id": "e4617728",
   "metadata": {},
   "outputs": [
    {
     "data": {
      "text/plain": [
       "(7000, 10)"
      ]
     },
     "execution_count": 454,
     "metadata": {},
     "output_type": "execute_result"
    }
   ],
   "source": [
    "x_train.shape"
   ]
  },
  {
   "cell_type": "code",
   "execution_count": 455,
   "id": "eca2af7e",
   "metadata": {},
   "outputs": [
    {
     "data": {
      "text/plain": [
       "(7000, 1)"
      ]
     },
     "execution_count": 455,
     "metadata": {},
     "output_type": "execute_result"
    }
   ],
   "source": [
    "y_train.shape"
   ]
  },
  {
   "cell_type": "code",
   "execution_count": 456,
   "id": "8eabd7e0",
   "metadata": {},
   "outputs": [
    {
     "data": {
      "text/plain": [
       "DecisionTreeClassifier(max_depth=2)"
      ]
     },
     "execution_count": 456,
     "metadata": {},
     "output_type": "execute_result"
    }
   ],
   "source": [
    "model3=dc.fit(x_train,y_train)\n",
    "model3"
   ]
  },
  {
   "cell_type": "code",
   "execution_count": 457,
   "id": "d5dde54d",
   "metadata": {},
   "outputs": [
    {
     "data": {
      "text/plain": [
       "83.01"
      ]
     },
     "execution_count": 457,
     "metadata": {},
     "output_type": "execute_result"
    }
   ],
   "source": [
    "train_accuracy3=round(model3.score(x_train,y_train)*100,2)\n",
    "train_accuracy3"
   ]
  },
  {
   "cell_type": "code",
   "execution_count": 458,
   "id": "dd89e0e5",
   "metadata": {},
   "outputs": [],
   "source": [
    "y_pred3=dc.predict(x_test)"
   ]
  },
  {
   "cell_type": "code",
   "execution_count": 459,
   "id": "e36d2ebc",
   "metadata": {},
   "outputs": [
    {
     "data": {
      "text/plain": [
       "array([0, 0, 1, ..., 0, 0, 0], dtype=int64)"
      ]
     },
     "execution_count": 459,
     "metadata": {},
     "output_type": "execute_result"
    }
   ],
   "source": [
    "y_pred3"
   ]
  },
  {
   "cell_type": "code",
   "execution_count": 460,
   "id": "14193296",
   "metadata": {},
   "outputs": [],
   "source": [
    "from sklearn.metrics import accuracy_score"
   ]
  },
  {
   "cell_type": "code",
   "execution_count": 461,
   "id": "ec7a901a",
   "metadata": {},
   "outputs": [
    {
     "name": "stdout",
     "output_type": "stream",
     "text": [
      "accuracy score 0.83\n"
     ]
    }
   ],
   "source": [
    "print('accuracy score',round(accuracy_score(y_test,y_pred3),2))"
   ]
  },
  {
   "cell_type": "code",
   "execution_count": 462,
   "id": "d691abf9",
   "metadata": {},
   "outputs": [
    {
     "data": {
      "text/plain": [
       "0.83"
      ]
     },
     "execution_count": 462,
     "metadata": {},
     "output_type": "execute_result"
    }
   ],
   "source": [
    "score3=round(accuracy_score(y_test,y_pred3),2)\n",
    "score3"
   ]
  },
  {
   "cell_type": "code",
   "execution_count": 463,
   "id": "0e51ff97",
   "metadata": {},
   "outputs": [
    {
     "name": "stdout",
     "output_type": "stream",
     "text": [
      "accuracy:  0.83\n",
      "Recall:  0.43\n",
      "f1_score:  0.51\n",
      "precision:  0.62\n"
     ]
    }
   ],
   "source": [
    "print('accuracy: ',round(accuracy_score(y_test,y_pred3),2))\n",
    "print('Recall: ',round(recall_score(y_test,y_pred3),2))\n",
    "print('f1_score: ',round(f1_score(y_test,y_pred3),2))\n",
    "print('precision: ',round(precision_score(y_test,y_pred3),2))"
   ]
  },
  {
   "cell_type": "code",
   "execution_count": 464,
   "id": "3caa368a",
   "metadata": {},
   "outputs": [
    {
     "name": "stdout",
     "output_type": "stream",
     "text": [
      "Cross Validation Scores are [0.834  0.824  0.8345 0.837  0.8175]\n",
      "Average Cross Validation score :0.8293999999999999\n"
     ]
    }
   ],
   "source": [
    "kf=KFold(n_splits=5)\n",
    "score=cross_val_score(dc,x,y,cv=kf)\n",
    "print(\"Cross Validation Scores are {}\".format(score))\n",
    "print(\"Average Cross Validation score :{}\".format(score.mean()))"
   ]
  },
  {
   "cell_type": "markdown",
   "id": "70168d58",
   "metadata": {},
   "source": [
    "# accuracy of decision Tree classifier without any hyper parameter is 83%"
   ]
  },
  {
   "cell_type": "markdown",
   "id": "6e88e1a3",
   "metadata": {},
   "source": [
    "## with hyper parameter"
   ]
  },
  {
   "cell_type": "code",
   "execution_count": 392,
   "id": "010808ce",
   "metadata": {},
   "outputs": [],
   "source": [
    "dt=DecisionTreeClassifier(max_depth=5,max_features='auto',random_state=10)"
   ]
  },
  {
   "cell_type": "code",
   "execution_count": 393,
   "id": "7b2bc54b",
   "metadata": {},
   "outputs": [
    {
     "data": {
      "text/plain": [
       "(7000, 10)"
      ]
     },
     "execution_count": 393,
     "metadata": {},
     "output_type": "execute_result"
    }
   ],
   "source": [
    "x_train.shape"
   ]
  },
  {
   "cell_type": "code",
   "execution_count": 394,
   "id": "0a59d4ac",
   "metadata": {},
   "outputs": [
    {
     "data": {
      "text/plain": [
       "(7000, 1)"
      ]
     },
     "execution_count": 394,
     "metadata": {},
     "output_type": "execute_result"
    }
   ],
   "source": [
    "y_train.shape"
   ]
  },
  {
   "cell_type": "code",
   "execution_count": 395,
   "id": "0f675fc4",
   "metadata": {},
   "outputs": [
    {
     "data": {
      "text/plain": [
       "DecisionTreeClassifier(max_depth=5, max_features='auto', random_state=10)"
      ]
     },
     "execution_count": 395,
     "metadata": {},
     "output_type": "execute_result"
    }
   ],
   "source": [
    "model4=dt.fit(x_train,y_train)\n",
    "model4"
   ]
  },
  {
   "cell_type": "code",
   "execution_count": 466,
   "id": "afa40e41",
   "metadata": {},
   "outputs": [
    {
     "data": {
      "text/plain": [
       "82.56"
      ]
     },
     "execution_count": 466,
     "metadata": {},
     "output_type": "execute_result"
    }
   ],
   "source": [
    "train_accuracy4=round(model4.score(x_train,y_train)*100,2)\n",
    "train_accuracy4"
   ]
  },
  {
   "cell_type": "code",
   "execution_count": 467,
   "id": "efd32fdc",
   "metadata": {},
   "outputs": [],
   "source": [
    "y_pred4=dt.predict(x_test)"
   ]
  },
  {
   "cell_type": "code",
   "execution_count": 468,
   "id": "398e539b",
   "metadata": {},
   "outputs": [
    {
     "data": {
      "text/plain": [
       "array([1, 0, 1, ..., 0, 0, 0], dtype=int64)"
      ]
     },
     "execution_count": 468,
     "metadata": {},
     "output_type": "execute_result"
    }
   ],
   "source": [
    "y_pred4"
   ]
  },
  {
   "cell_type": "code",
   "execution_count": 469,
   "id": "0ce663a4",
   "metadata": {},
   "outputs": [
    {
     "name": "stdout",
     "output_type": "stream",
     "text": [
      "accuracy score 0.8023333333333333\n"
     ]
    }
   ],
   "source": [
    "print('accuracy score',(accuracy_score(y_test,y_pred4)))"
   ]
  },
  {
   "cell_type": "code",
   "execution_count": 470,
   "id": "77773841",
   "metadata": {},
   "outputs": [
    {
     "data": {
      "text/plain": [
       "0.802"
      ]
     },
     "execution_count": 470,
     "metadata": {},
     "output_type": "execute_result"
    }
   ],
   "source": [
    "score4=round(accuracy_score(y_test,y_pred4),3)\n",
    "score4"
   ]
  },
  {
   "cell_type": "code",
   "execution_count": 471,
   "id": "b4fd5539",
   "metadata": {},
   "outputs": [
    {
     "name": "stdout",
     "output_type": "stream",
     "text": [
      "accuracy:  0.802\n",
      "Recall:  0.29\n",
      "f1_score:  0.37\n",
      "precision:  0.54\n"
     ]
    }
   ],
   "source": [
    "print('accuracy: ',round(accuracy_score(y_test,y_pred4),3))\n",
    "print('Recall: ',round(recall_score(y_test,y_pred4),2))\n",
    "print('f1_score: ',round(f1_score(y_test,y_pred4),2))\n",
    "print('precision: ',round(precision_score(y_test,y_pred4),2))"
   ]
  },
  {
   "cell_type": "code",
   "execution_count": 472,
   "id": "26837067",
   "metadata": {},
   "outputs": [
    {
     "name": "stdout",
     "output_type": "stream",
     "text": [
      "Cross Validation Scores are [0.831  0.815  0.8305 0.817  0.815 ]\n",
      "Average Cross Validation score :0.8216999999999999\n"
     ]
    }
   ],
   "source": [
    "kf=KFold(n_splits=5)\n",
    "score=cross_val_score(dt,x,y,cv=kf)\n",
    "print(\"Cross Validation Scores are {}\".format(score))\n",
    "print(\"Average Cross Validation score :{}\".format(score.mean()))"
   ]
  },
  {
   "cell_type": "markdown",
   "id": "1fce593f",
   "metadata": {},
   "source": [
    "### it is increasing with 1 % after using hyper parameter now it is 82%"
   ]
  },
  {
   "cell_type": "markdown",
   "id": "80f6e341",
   "metadata": {},
   "source": [
    "# **************Naive bayes algorithm*************"
   ]
  },
  {
   "cell_type": "code",
   "execution_count": 402,
   "id": "1f78a1ff",
   "metadata": {},
   "outputs": [],
   "source": [
    "from sklearn.naive_bayes import GaussianNB"
   ]
  },
  {
   "cell_type": "code",
   "execution_count": 403,
   "id": "10b172ee",
   "metadata": {},
   "outputs": [],
   "source": [
    "clf=GaussianNB()"
   ]
  },
  {
   "cell_type": "code",
   "execution_count": 404,
   "id": "fa8b24ed",
   "metadata": {},
   "outputs": [
    {
     "data": {
      "text/plain": [
       "GaussianNB()"
      ]
     },
     "execution_count": 404,
     "metadata": {},
     "output_type": "execute_result"
    }
   ],
   "source": [
    "model5=clf.fit(x_train,y_train)\n",
    "model5"
   ]
  },
  {
   "cell_type": "code",
   "execution_count": 473,
   "id": "e13fc520",
   "metadata": {},
   "outputs": [],
   "source": [
    "train_accurac5=round(model5.score(x_train,y_train)*100,2)"
   ]
  },
  {
   "cell_type": "code",
   "execution_count": 474,
   "id": "b6b49574",
   "metadata": {},
   "outputs": [
    {
     "data": {
      "text/plain": [
       "83.4"
      ]
     },
     "execution_count": 474,
     "metadata": {},
     "output_type": "execute_result"
    }
   ],
   "source": [
    "train_accurac5"
   ]
  },
  {
   "cell_type": "code",
   "execution_count": 475,
   "id": "1bdb8a32",
   "metadata": {},
   "outputs": [
    {
     "data": {
      "text/plain": [
       "array([0, 0, 0, ..., 0, 0, 0], dtype=int64)"
      ]
     },
     "execution_count": 475,
     "metadata": {},
     "output_type": "execute_result"
    }
   ],
   "source": [
    "y_pred5=clf.predict(x_test)\n",
    "y_pred5"
   ]
  },
  {
   "cell_type": "markdown",
   "id": "04be38a8",
   "metadata": {},
   "source": [
    "## confusion matrix"
   ]
  },
  {
   "cell_type": "code",
   "execution_count": 476,
   "id": "8f925b86",
   "metadata": {},
   "outputs": [
    {
     "data": {
      "text/plain": [
       "array([[2319,   61],\n",
       "       [ 487,  133]], dtype=int64)"
      ]
     },
     "execution_count": 476,
     "metadata": {},
     "output_type": "execute_result"
    }
   ],
   "source": [
    "confusion_matrix(y_test,y_pred5)"
   ]
  },
  {
   "cell_type": "code",
   "execution_count": 477,
   "id": "66ada3df",
   "metadata": {},
   "outputs": [
    {
     "data": {
      "text/plain": [
       "0.8173333333333334"
      ]
     },
     "execution_count": 477,
     "metadata": {},
     "output_type": "execute_result"
    }
   ],
   "source": [
    "accuracy_score(y_test,y_pred5)"
   ]
  },
  {
   "cell_type": "code",
   "execution_count": 478,
   "id": "293cc5f9",
   "metadata": {},
   "outputs": [
    {
     "data": {
      "text/plain": [
       "0.82"
      ]
     },
     "execution_count": 478,
     "metadata": {},
     "output_type": "execute_result"
    }
   ],
   "source": [
    "score5=round(accuracy_score(y_test,y_pred5),2)\n",
    "score5"
   ]
  },
  {
   "cell_type": "code",
   "execution_count": 479,
   "id": "610db58a",
   "metadata": {},
   "outputs": [
    {
     "name": "stdout",
     "output_type": "stream",
     "text": [
      "accuracy:  0.82\n",
      "Recall:  0.21\n",
      "f1_score:  0.33\n",
      "precision:  0.69\n"
     ]
    }
   ],
   "source": [
    "print('accuracy: ',round(accuracy_score(y_test,y_pred5),2))\n",
    "print('Recall: ',round(recall_score(y_test,y_pred5),2))\n",
    "print('f1_score: ',round(f1_score(y_test,y_pred5),2))\n",
    "print('precision: ',round(precision_score(y_test,y_pred5),2))"
   ]
  },
  {
   "cell_type": "code",
   "execution_count": 480,
   "id": "63288f7e",
   "metadata": {},
   "outputs": [
    {
     "name": "stdout",
     "output_type": "stream",
     "text": [
      "Cross Validation Scores are [0.8245 0.8185 0.827  0.8415 0.83  ]\n",
      "Average Cross Validation score :0.83\n"
     ]
    }
   ],
   "source": [
    "kf=KFold(n_splits=5)\n",
    "score=cross_val_score(clf,x,y,cv=kf)\n",
    "print(\"Cross Validation Scores are {}\".format(score))\n",
    "print(\"Average Cross Validation score :{}\".format(round(score.mean(),2)))"
   ]
  },
  {
   "cell_type": "markdown",
   "id": "e2e86f8e",
   "metadata": {},
   "source": [
    "## accuracy score of naive bayes is 83 %"
   ]
  },
  {
   "cell_type": "markdown",
   "id": "ca2b81a0",
   "metadata": {},
   "source": [
    "# *************k-neighbours classifier************"
   ]
  },
  {
   "cell_type": "code",
   "execution_count": 411,
   "id": "82311839",
   "metadata": {},
   "outputs": [],
   "source": [
    "from sklearn.neighbors import KNeighborsClassifier"
   ]
  },
  {
   "cell_type": "code",
   "execution_count": 412,
   "id": "acad4cd3",
   "metadata": {},
   "outputs": [],
   "source": [
    "knn=KNeighborsClassifier()"
   ]
  },
  {
   "cell_type": "code",
   "execution_count": 413,
   "id": "b893510a",
   "metadata": {},
   "outputs": [
    {
     "data": {
      "text/plain": [
       "KNeighborsClassifier()"
      ]
     },
     "execution_count": 413,
     "metadata": {},
     "output_type": "execute_result"
    }
   ],
   "source": [
    "model6=knn.fit(x_train,y_train)\n",
    "model6"
   ]
  },
  {
   "cell_type": "code",
   "execution_count": 481,
   "id": "b05138ff",
   "metadata": {},
   "outputs": [
    {
     "data": {
      "text/plain": [
       "86.4"
      ]
     },
     "execution_count": 481,
     "metadata": {},
     "output_type": "execute_result"
    }
   ],
   "source": [
    "train_accuracy6=round(model6.score(x_train,y_train)*100,2)\n",
    "train_accuracy6"
   ]
  },
  {
   "cell_type": "code",
   "execution_count": 482,
   "id": "054ae2f4",
   "metadata": {},
   "outputs": [
    {
     "data": {
      "text/plain": [
       "array([1, 0, 1, ..., 0, 0, 0], dtype=int64)"
      ]
     },
     "execution_count": 482,
     "metadata": {},
     "output_type": "execute_result"
    }
   ],
   "source": [
    "y_pred6=knn.predict(x_test)\n",
    "y_pred6"
   ]
  },
  {
   "cell_type": "code",
   "execution_count": 483,
   "id": "c5440612",
   "metadata": {},
   "outputs": [
    {
     "data": {
      "text/plain": [
       "array([[2254,  126],\n",
       "       [ 449,  171]], dtype=int64)"
      ]
     },
     "execution_count": 483,
     "metadata": {},
     "output_type": "execute_result"
    }
   ],
   "source": [
    "confusion_matrix(y_test,y_pred6)"
   ]
  },
  {
   "cell_type": "code",
   "execution_count": 484,
   "id": "aba13815",
   "metadata": {},
   "outputs": [
    {
     "data": {
      "text/plain": [
       "0.8083333333333333"
      ]
     },
     "execution_count": 484,
     "metadata": {},
     "output_type": "execute_result"
    }
   ],
   "source": [
    "accuracy_score(y_test,y_pred6)"
   ]
  },
  {
   "cell_type": "code",
   "execution_count": 485,
   "id": "2605f37f",
   "metadata": {},
   "outputs": [
    {
     "name": "stdout",
     "output_type": "stream",
     "text": [
      "accuracy:  0.81\n",
      "Recall:  0.28\n",
      "f1_score:  0.37\n",
      "precision:  0.58\n"
     ]
    }
   ],
   "source": [
    "print('accuracy: ',round(accuracy_score(y_test,y_pred6),2))\n",
    "print('Recall: ',round(recall_score(y_test,y_pred6),2))\n",
    "print('f1_score: ',round(f1_score(y_test,y_pred6),2))\n",
    "print('precision: ',round(precision_score(y_test,y_pred6),2))"
   ]
  },
  {
   "cell_type": "code",
   "execution_count": 486,
   "id": "de87779c",
   "metadata": {},
   "outputs": [
    {
     "data": {
      "text/plain": [
       "0.81"
      ]
     },
     "execution_count": 486,
     "metadata": {},
     "output_type": "execute_result"
    }
   ],
   "source": [
    "score6=round(accuracy_score(y_test,y_pred6),2)\n",
    "score6"
   ]
  },
  {
   "cell_type": "code",
   "execution_count": 487,
   "id": "710496d6",
   "metadata": {},
   "outputs": [
    {
     "name": "stdout",
     "output_type": "stream",
     "text": [
      "Cross Validation Scores are [0.805  0.8175 0.8105 0.8245 0.822 ]\n",
      "Average Cross Validation score :0.82\n"
     ]
    }
   ],
   "source": [
    "kf=KFold(n_splits=5)\n",
    "score=cross_val_score(knn,x,y,cv=kf)\n",
    "print(\"Cross Validation Scores are {}\".format(score))\n",
    "print(\"Average Cross Validation score :{}\".format(round(score.mean(),2)))"
   ]
  },
  {
   "cell_type": "markdown",
   "id": "9a67b6b1",
   "metadata": {},
   "source": [
    "# >>>>>>>>>>>>accuracy score of  k_kneighbours is 82 % "
   ]
  },
  {
   "cell_type": "markdown",
   "id": "ccb3b4dc",
   "metadata": {},
   "source": [
    "# *****************bagging techniques Random forest classifier*************"
   ]
  },
  {
   "cell_type": "code",
   "execution_count": 420,
   "id": "4d86f7a4",
   "metadata": {},
   "outputs": [],
   "source": [
    "from sklearn.ensemble import RandomForestClassifier"
   ]
  },
  {
   "cell_type": "code",
   "execution_count": 495,
   "id": "e693d5ba",
   "metadata": {},
   "outputs": [],
   "source": [
    "rc=RandomForestClassifier(n_estimators=2)   #it is overfitted with default parameter so i have taken  n_estimator=2"
   ]
  },
  {
   "cell_type": "code",
   "execution_count": 496,
   "id": "36b0917a",
   "metadata": {},
   "outputs": [
    {
     "data": {
      "text/plain": [
       "RandomForestClassifier(n_estimators=2)"
      ]
     },
     "execution_count": 496,
     "metadata": {},
     "output_type": "execute_result"
    }
   ],
   "source": [
    "model7=rc.fit(x_train,y_train)\n",
    "model7"
   ]
  },
  {
   "cell_type": "code",
   "execution_count": 497,
   "id": "6323c7cf",
   "metadata": {},
   "outputs": [
    {
     "data": {
      "text/plain": [
       "92.74"
      ]
     },
     "execution_count": 497,
     "metadata": {},
     "output_type": "execute_result"
    }
   ],
   "source": [
    "train_accuracy7=round(model7.score(x_train,y_train)*100,2)\n",
    "train_accuracy7"
   ]
  },
  {
   "cell_type": "code",
   "execution_count": 498,
   "id": "26d97016",
   "metadata": {},
   "outputs": [
    {
     "data": {
      "text/plain": [
       "array([0, 1, 1, ..., 0, 0, 0], dtype=int64)"
      ]
     },
     "execution_count": 498,
     "metadata": {},
     "output_type": "execute_result"
    }
   ],
   "source": [
    "y_pred7=rc.predict(x_test)\n",
    "y_pred7"
   ]
  },
  {
   "cell_type": "code",
   "execution_count": 499,
   "id": "09c893da",
   "metadata": {},
   "outputs": [
    {
     "data": {
      "text/plain": [
       "array([[2285,   95],\n",
       "       [ 430,  190]], dtype=int64)"
      ]
     },
     "execution_count": 499,
     "metadata": {},
     "output_type": "execute_result"
    }
   ],
   "source": [
    "confusion_matrix(y_test,y_pred7)"
   ]
  },
  {
   "cell_type": "code",
   "execution_count": 500,
   "id": "419dad7d",
   "metadata": {},
   "outputs": [],
   "source": [
    "score7=round(accuracy_score(y_test,y_pred7),2)"
   ]
  },
  {
   "cell_type": "code",
   "execution_count": 501,
   "id": "e6e167fd",
   "metadata": {},
   "outputs": [
    {
     "name": "stdout",
     "output_type": "stream",
     "text": [
      "accuracy:  0.82\n",
      "Recall:  0.31\n",
      "f1_score:  0.42\n",
      "precision:  0.67\n"
     ]
    }
   ],
   "source": [
    "print('accuracy: ',round(accuracy_score(y_test,y_pred7),2))\n",
    "print('Recall: ',round(recall_score(y_test,y_pred7),2))\n",
    "print('f1_score: ',round(f1_score(y_test,y_pred7),2))\n",
    "print('precision: ',round(precision_score(y_test,y_pred7),2))"
   ]
  },
  {
   "cell_type": "code",
   "execution_count": 502,
   "id": "df7dbe08",
   "metadata": {},
   "outputs": [
    {
     "data": {
      "text/plain": [
       "0.82"
      ]
     },
     "execution_count": 502,
     "metadata": {},
     "output_type": "execute_result"
    }
   ],
   "source": [
    "score7"
   ]
  },
  {
   "cell_type": "code",
   "execution_count": 503,
   "id": "c0792258",
   "metadata": {},
   "outputs": [
    {
     "name": "stdout",
     "output_type": "stream",
     "text": [
      "Cross Validation Scores are [0.8235 0.823  0.833  0.834  0.832 ]\n",
      "Average Cross Validation score :0.83\n"
     ]
    }
   ],
   "source": [
    "kf=KFold(n_splits=5)\n",
    "score=cross_val_score(rc,x,y,cv=kf)\n",
    "print(\"Cross Validation Scores are {}\".format(score))\n",
    "print(\"Average Cross Validation score :{}\".format(round(score.mean(),2)))"
   ]
  },
  {
   "cell_type": "markdown",
   "id": "d62ba564",
   "metadata": {},
   "source": [
    "# ************adaboost***************"
   ]
  },
  {
   "cell_type": "code",
   "execution_count": 504,
   "id": "0eb49067",
   "metadata": {},
   "outputs": [],
   "source": [
    "from sklearn.ensemble import AdaBoostClassifier"
   ]
  },
  {
   "cell_type": "code",
   "execution_count": 505,
   "id": "d73cb8dc",
   "metadata": {},
   "outputs": [],
   "source": [
    "ac=AdaBoostClassifier()"
   ]
  },
  {
   "cell_type": "code",
   "execution_count": 506,
   "id": "79507a78",
   "metadata": {},
   "outputs": [
    {
     "data": {
      "text/plain": [
       "AdaBoostClassifier()"
      ]
     },
     "execution_count": 506,
     "metadata": {},
     "output_type": "execute_result"
    }
   ],
   "source": [
    "model8=ac.fit(x_train,y_train)\n",
    "model8"
   ]
  },
  {
   "cell_type": "code",
   "execution_count": 507,
   "id": "cba59865",
   "metadata": {},
   "outputs": [
    {
     "data": {
      "text/plain": [
       "86.07"
      ]
     },
     "execution_count": 507,
     "metadata": {},
     "output_type": "execute_result"
    }
   ],
   "source": [
    "train_accuracy8=round(model8.score(x_train,y_train)*100,2)\n",
    "train_accuracy8"
   ]
  },
  {
   "cell_type": "code",
   "execution_count": 508,
   "id": "3c63a30e",
   "metadata": {},
   "outputs": [
    {
     "data": {
      "text/plain": [
       "array([1, 0, 1, ..., 0, 0, 0], dtype=int64)"
      ]
     },
     "execution_count": 508,
     "metadata": {},
     "output_type": "execute_result"
    }
   ],
   "source": [
    "y_pred8=ac.predict(x_test)\n",
    "y_pred8"
   ]
  },
  {
   "cell_type": "code",
   "execution_count": 509,
   "id": "7c4a274b",
   "metadata": {},
   "outputs": [
    {
     "data": {
      "text/plain": [
       "array([[2259,  121],\n",
       "       [ 326,  294]], dtype=int64)"
      ]
     },
     "execution_count": 509,
     "metadata": {},
     "output_type": "execute_result"
    }
   ],
   "source": [
    "confusion_matrix(y_test,y_pred8)"
   ]
  },
  {
   "cell_type": "code",
   "execution_count": 510,
   "id": "a4225937",
   "metadata": {},
   "outputs": [],
   "source": [
    "score8=round(accuracy_score(y_test,y_pred8),2)"
   ]
  },
  {
   "cell_type": "code",
   "execution_count": 511,
   "id": "9c3e7b30",
   "metadata": {},
   "outputs": [
    {
     "name": "stdout",
     "output_type": "stream",
     "text": [
      "accuracy:  0.85\n",
      "Recall:  0.47\n",
      "f1_score:  0.57\n",
      "precision:  0.71\n"
     ]
    }
   ],
   "source": [
    "print('accuracy: ',round(accuracy_score(y_test,y_pred8),2))\n",
    "print('Recall: ',round(recall_score(y_test,y_pred8),2))\n",
    "print('f1_score: ',round(f1_score(y_test,y_pred8),2))\n",
    "print('precision: ',round(precision_score(y_test,y_pred8),2))"
   ]
  },
  {
   "cell_type": "code",
   "execution_count": 512,
   "id": "4ab33ef6",
   "metadata": {},
   "outputs": [
    {
     "data": {
      "text/plain": [
       "0.85"
      ]
     },
     "execution_count": 512,
     "metadata": {},
     "output_type": "execute_result"
    }
   ],
   "source": [
    "score8"
   ]
  },
  {
   "cell_type": "code",
   "execution_count": 513,
   "id": "5cd1ef7f",
   "metadata": {},
   "outputs": [
    {
     "name": "stdout",
     "output_type": "stream",
     "text": [
      "Cross Validation Scores are [0.8545 0.8565 0.858  0.864  0.854 ]\n",
      "Average Cross Validation score :0.86\n"
     ]
    }
   ],
   "source": [
    "kf=KFold(n_splits=5)\n",
    "score=cross_val_score(ac,x,y,cv=kf)\n",
    "print(\"Cross Validation Scores are {}\".format(score))\n",
    "print(\"Average Cross Validation score :{}\".format(round(score.mean(),2)))"
   ]
  },
  {
   "cell_type": "markdown",
   "id": "2fc652fb",
   "metadata": {},
   "source": [
    "# ************** bagging classifier ***********"
   ]
  },
  {
   "cell_type": "code",
   "execution_count": 514,
   "id": "33cb7387",
   "metadata": {},
   "outputs": [],
   "source": [
    "from sklearn.ensemble import BaggingClassifier"
   ]
  },
  {
   "cell_type": "code",
   "execution_count": 518,
   "id": "1cbf4456",
   "metadata": {},
   "outputs": [],
   "source": [
    "bc=BaggingClassifier(n_estimators=2)"
   ]
  },
  {
   "cell_type": "code",
   "execution_count": 519,
   "id": "432bc197",
   "metadata": {},
   "outputs": [
    {
     "data": {
      "text/plain": [
       "BaggingClassifier(n_estimators=2)"
      ]
     },
     "execution_count": 519,
     "metadata": {},
     "output_type": "execute_result"
    }
   ],
   "source": [
    "model9=bc.fit(x_train,y_train)\n",
    "model9"
   ]
  },
  {
   "cell_type": "code",
   "execution_count": 520,
   "id": "6a4593db",
   "metadata": {},
   "outputs": [
    {
     "data": {
      "text/plain": [
       "93.14"
      ]
     },
     "execution_count": 520,
     "metadata": {},
     "output_type": "execute_result"
    }
   ],
   "source": [
    "train_accuracy9=round(model9.score(x_train,y_train)*100,2)\n",
    "train_accuracy9"
   ]
  },
  {
   "cell_type": "code",
   "execution_count": 521,
   "id": "87bd4a08",
   "metadata": {},
   "outputs": [
    {
     "data": {
      "text/plain": [
       "array([0, 0, 0, ..., 0, 0, 0], dtype=int64)"
      ]
     },
     "execution_count": 521,
     "metadata": {},
     "output_type": "execute_result"
    }
   ],
   "source": [
    "y_pred9=bc.predict(x_test)\n",
    "y_pred9"
   ]
  },
  {
   "cell_type": "code",
   "execution_count": 522,
   "id": "faf1567a",
   "metadata": {},
   "outputs": [
    {
     "data": {
      "text/plain": [
       "array([[2277,  103],\n",
       "       [ 421,  199]], dtype=int64)"
      ]
     },
     "execution_count": 522,
     "metadata": {},
     "output_type": "execute_result"
    }
   ],
   "source": [
    "confusion_matrix(y_test,y_pred9)"
   ]
  },
  {
   "cell_type": "code",
   "execution_count": 523,
   "id": "0eb0bd74",
   "metadata": {},
   "outputs": [],
   "source": [
    "score9=round(accuracy_score(y_test,y_pred9),2)"
   ]
  },
  {
   "cell_type": "code",
   "execution_count": 524,
   "id": "bfa2e6e9",
   "metadata": {},
   "outputs": [
    {
     "name": "stdout",
     "output_type": "stream",
     "text": [
      "accuracy:  0.83\n",
      "Recall:  0.32\n",
      "f1_score:  0.43\n",
      "precision:  0.66\n"
     ]
    }
   ],
   "source": [
    "print('accuracy: ',round(accuracy_score(y_test,y_pred9),2))\n",
    "print('Recall: ',round(recall_score(y_test,y_pred9),2))\n",
    "print('f1_score: ',round(f1_score(y_test,y_pred9),2))\n",
    "print('precision: ',round(precision_score(y_test,y_pred9),2))"
   ]
  },
  {
   "cell_type": "code",
   "execution_count": 525,
   "id": "9a62b6ee",
   "metadata": {},
   "outputs": [
    {
     "data": {
      "text/plain": [
       "0.83"
      ]
     },
     "execution_count": 525,
     "metadata": {},
     "output_type": "execute_result"
    }
   ],
   "source": [
    "score9"
   ]
  },
  {
   "cell_type": "code",
   "execution_count": 526,
   "id": "3f479437",
   "metadata": {},
   "outputs": [
    {
     "name": "stdout",
     "output_type": "stream",
     "text": [
      "Cross Validation Scores are [0.827 0.829 0.828 0.836 0.831]\n",
      "Average Cross Validation score :0.83\n"
     ]
    }
   ],
   "source": [
    "kf=KFold(n_splits=5)\n",
    "score=cross_val_score(bc,x,y,cv=kf)\n",
    "print(\"Cross Validation Scores are {}\".format(score))\n",
    "print(\"Average Cross Validation score :{}\".format(round(score.mean(),2)))"
   ]
  },
  {
   "cell_type": "code",
   "execution_count": 527,
   "id": "dfe55e0b",
   "metadata": {},
   "outputs": [],
   "source": [
    "tx=pd.DataFrame()"
   ]
  },
  {
   "cell_type": "code",
   "execution_count": 528,
   "id": "3d449c00",
   "metadata": {},
   "outputs": [],
   "source": [
    "tx['models']=['Logistic_rgr','Logistic_corr','Decision_tree','DEcision_treeHyper','Naive_bayes','KNN','Random_forest','Adaboost','Bagging_classifier']"
   ]
  },
  {
   "cell_type": "code",
   "execution_count": 529,
   "id": "aac28da0",
   "metadata": {},
   "outputs": [
    {
     "data": {
      "text/html": [
       "<div>\n",
       "<style scoped>\n",
       "    .dataframe tbody tr th:only-of-type {\n",
       "        vertical-align: middle;\n",
       "    }\n",
       "\n",
       "    .dataframe tbody tr th {\n",
       "        vertical-align: top;\n",
       "    }\n",
       "\n",
       "    .dataframe thead th {\n",
       "        text-align: right;\n",
       "    }\n",
       "</style>\n",
       "<table border=\"1\" class=\"dataframe\">\n",
       "  <thead>\n",
       "    <tr style=\"text-align: right;\">\n",
       "      <th></th>\n",
       "      <th>models</th>\n",
       "    </tr>\n",
       "  </thead>\n",
       "  <tbody>\n",
       "    <tr>\n",
       "      <th>0</th>\n",
       "      <td>Logistic_rgr</td>\n",
       "    </tr>\n",
       "    <tr>\n",
       "      <th>1</th>\n",
       "      <td>Logistic_corr</td>\n",
       "    </tr>\n",
       "    <tr>\n",
       "      <th>2</th>\n",
       "      <td>Decision_tree</td>\n",
       "    </tr>\n",
       "    <tr>\n",
       "      <th>3</th>\n",
       "      <td>DEcision_treeHyper</td>\n",
       "    </tr>\n",
       "    <tr>\n",
       "      <th>4</th>\n",
       "      <td>Naive_bayes</td>\n",
       "    </tr>\n",
       "    <tr>\n",
       "      <th>5</th>\n",
       "      <td>KNN</td>\n",
       "    </tr>\n",
       "    <tr>\n",
       "      <th>6</th>\n",
       "      <td>Random_forest</td>\n",
       "    </tr>\n",
       "    <tr>\n",
       "      <th>7</th>\n",
       "      <td>Adaboost</td>\n",
       "    </tr>\n",
       "    <tr>\n",
       "      <th>8</th>\n",
       "      <td>Bagging_classifier</td>\n",
       "    </tr>\n",
       "  </tbody>\n",
       "</table>\n",
       "</div>"
      ],
      "text/plain": [
       "               models\n",
       "0        Logistic_rgr\n",
       "1       Logistic_corr\n",
       "2       Decision_tree\n",
       "3  DEcision_treeHyper\n",
       "4         Naive_bayes\n",
       "5                 KNN\n",
       "6       Random_forest\n",
       "7            Adaboost\n",
       "8  Bagging_classifier"
      ]
     },
     "execution_count": 529,
     "metadata": {},
     "output_type": "execute_result"
    }
   ],
   "source": [
    "tx"
   ]
  },
  {
   "cell_type": "code",
   "execution_count": 530,
   "id": "81308e42",
   "metadata": {},
   "outputs": [],
   "source": [
    "tx['Score']=[81,78,79,82,83,82,86,86,83]"
   ]
  },
  {
   "cell_type": "code",
   "execution_count": 531,
   "id": "e0cffc8a",
   "metadata": {},
   "outputs": [
    {
     "data": {
      "text/html": [
       "<div>\n",
       "<style scoped>\n",
       "    .dataframe tbody tr th:only-of-type {\n",
       "        vertical-align: middle;\n",
       "    }\n",
       "\n",
       "    .dataframe tbody tr th {\n",
       "        vertical-align: top;\n",
       "    }\n",
       "\n",
       "    .dataframe thead th {\n",
       "        text-align: right;\n",
       "    }\n",
       "</style>\n",
       "<table border=\"1\" class=\"dataframe\">\n",
       "  <thead>\n",
       "    <tr style=\"text-align: right;\">\n",
       "      <th></th>\n",
       "      <th>models</th>\n",
       "      <th>Score</th>\n",
       "    </tr>\n",
       "  </thead>\n",
       "  <tbody>\n",
       "    <tr>\n",
       "      <th>0</th>\n",
       "      <td>Logistic_rgr</td>\n",
       "      <td>81</td>\n",
       "    </tr>\n",
       "    <tr>\n",
       "      <th>1</th>\n",
       "      <td>Logistic_corr</td>\n",
       "      <td>78</td>\n",
       "    </tr>\n",
       "    <tr>\n",
       "      <th>2</th>\n",
       "      <td>Decision_tree</td>\n",
       "      <td>79</td>\n",
       "    </tr>\n",
       "    <tr>\n",
       "      <th>3</th>\n",
       "      <td>DEcision_treeHyper</td>\n",
       "      <td>82</td>\n",
       "    </tr>\n",
       "    <tr>\n",
       "      <th>4</th>\n",
       "      <td>Naive_bayes</td>\n",
       "      <td>83</td>\n",
       "    </tr>\n",
       "    <tr>\n",
       "      <th>5</th>\n",
       "      <td>KNN</td>\n",
       "      <td>82</td>\n",
       "    </tr>\n",
       "    <tr>\n",
       "      <th>6</th>\n",
       "      <td>Random_forest</td>\n",
       "      <td>86</td>\n",
       "    </tr>\n",
       "    <tr>\n",
       "      <th>7</th>\n",
       "      <td>Adaboost</td>\n",
       "      <td>86</td>\n",
       "    </tr>\n",
       "    <tr>\n",
       "      <th>8</th>\n",
       "      <td>Bagging_classifier</td>\n",
       "      <td>83</td>\n",
       "    </tr>\n",
       "  </tbody>\n",
       "</table>\n",
       "</div>"
      ],
      "text/plain": [
       "               models  Score\n",
       "0        Logistic_rgr     81\n",
       "1       Logistic_corr     78\n",
       "2       Decision_tree     79\n",
       "3  DEcision_treeHyper     82\n",
       "4         Naive_bayes     83\n",
       "5                 KNN     82\n",
       "6       Random_forest     86\n",
       "7            Adaboost     86\n",
       "8  Bagging_classifier     83"
      ]
     },
     "execution_count": 531,
     "metadata": {},
     "output_type": "execute_result"
    }
   ],
   "source": [
    "tx"
   ]
  },
  {
   "cell_type": "code",
   "execution_count": 532,
   "id": "29b53713",
   "metadata": {},
   "outputs": [],
   "source": [
    "tx['training_accuracy']=[81.31,78.17,83.01,82.56,83.4,86.4,92.74,86.07,93.14]"
   ]
  },
  {
   "cell_type": "code",
   "execution_count": 533,
   "id": "37eacf0a",
   "metadata": {},
   "outputs": [
    {
     "data": {
      "text/html": [
       "<div>\n",
       "<style scoped>\n",
       "    .dataframe tbody tr th:only-of-type {\n",
       "        vertical-align: middle;\n",
       "    }\n",
       "\n",
       "    .dataframe tbody tr th {\n",
       "        vertical-align: top;\n",
       "    }\n",
       "\n",
       "    .dataframe thead th {\n",
       "        text-align: right;\n",
       "    }\n",
       "</style>\n",
       "<table border=\"1\" class=\"dataframe\">\n",
       "  <thead>\n",
       "    <tr style=\"text-align: right;\">\n",
       "      <th></th>\n",
       "      <th>models</th>\n",
       "      <th>Score</th>\n",
       "      <th>training_accuracy</th>\n",
       "    </tr>\n",
       "  </thead>\n",
       "  <tbody>\n",
       "    <tr>\n",
       "      <th>0</th>\n",
       "      <td>Logistic_rgr</td>\n",
       "      <td>81</td>\n",
       "      <td>81.31</td>\n",
       "    </tr>\n",
       "    <tr>\n",
       "      <th>1</th>\n",
       "      <td>Logistic_corr</td>\n",
       "      <td>78</td>\n",
       "      <td>78.17</td>\n",
       "    </tr>\n",
       "    <tr>\n",
       "      <th>2</th>\n",
       "      <td>Decision_tree</td>\n",
       "      <td>79</td>\n",
       "      <td>83.01</td>\n",
       "    </tr>\n",
       "    <tr>\n",
       "      <th>3</th>\n",
       "      <td>DEcision_treeHyper</td>\n",
       "      <td>82</td>\n",
       "      <td>82.56</td>\n",
       "    </tr>\n",
       "    <tr>\n",
       "      <th>4</th>\n",
       "      <td>Naive_bayes</td>\n",
       "      <td>83</td>\n",
       "      <td>83.40</td>\n",
       "    </tr>\n",
       "    <tr>\n",
       "      <th>5</th>\n",
       "      <td>KNN</td>\n",
       "      <td>82</td>\n",
       "      <td>86.40</td>\n",
       "    </tr>\n",
       "    <tr>\n",
       "      <th>6</th>\n",
       "      <td>Random_forest</td>\n",
       "      <td>86</td>\n",
       "      <td>92.74</td>\n",
       "    </tr>\n",
       "    <tr>\n",
       "      <th>7</th>\n",
       "      <td>Adaboost</td>\n",
       "      <td>86</td>\n",
       "      <td>86.07</td>\n",
       "    </tr>\n",
       "    <tr>\n",
       "      <th>8</th>\n",
       "      <td>Bagging_classifier</td>\n",
       "      <td>83</td>\n",
       "      <td>93.14</td>\n",
       "    </tr>\n",
       "  </tbody>\n",
       "</table>\n",
       "</div>"
      ],
      "text/plain": [
       "               models  Score  training_accuracy\n",
       "0        Logistic_rgr     81              81.31\n",
       "1       Logistic_corr     78              78.17\n",
       "2       Decision_tree     79              83.01\n",
       "3  DEcision_treeHyper     82              82.56\n",
       "4         Naive_bayes     83              83.40\n",
       "5                 KNN     82              86.40\n",
       "6       Random_forest     86              92.74\n",
       "7            Adaboost     86              86.07\n",
       "8  Bagging_classifier     83              93.14"
      ]
     },
     "execution_count": 533,
     "metadata": {},
     "output_type": "execute_result"
    }
   ],
   "source": [
    "tx"
   ]
  },
  {
   "cell_type": "markdown",
   "id": "d16f1b92",
   "metadata": {},
   "source": [
    "# conclusion:- random Forest,adaboost is best model"
   ]
  },
  {
   "cell_type": "code",
   "execution_count": null,
   "id": "0c11def7",
   "metadata": {},
   "outputs": [],
   "source": []
  },
  {
   "cell_type": "code",
   "execution_count": null,
   "id": "a7978399",
   "metadata": {},
   "outputs": [],
   "source": []
  },
  {
   "cell_type": "code",
   "execution_count": null,
   "id": "4ffcedd0",
   "metadata": {},
   "outputs": [],
   "source": []
  },
  {
   "cell_type": "code",
   "execution_count": null,
   "id": "2b7ed729",
   "metadata": {},
   "outputs": [],
   "source": []
  },
  {
   "cell_type": "code",
   "execution_count": null,
   "id": "dc436f06",
   "metadata": {},
   "outputs": [],
   "source": []
  },
  {
   "cell_type": "code",
   "execution_count": null,
   "id": "b53030da",
   "metadata": {},
   "outputs": [],
   "source": []
  },
  {
   "cell_type": "code",
   "execution_count": null,
   "id": "733aa5b0",
   "metadata": {},
   "outputs": [],
   "source": []
  },
  {
   "cell_type": "code",
   "execution_count": null,
   "id": "310f10bb",
   "metadata": {},
   "outputs": [],
   "source": []
  }
 ],
 "metadata": {
  "kernelspec": {
   "display_name": "Python 3 (ipykernel)",
   "language": "python",
   "name": "python3"
  },
  "language_info": {
   "codemirror_mode": {
    "name": "ipython",
    "version": 3
   },
   "file_extension": ".py",
   "mimetype": "text/x-python",
   "name": "python",
   "nbconvert_exporter": "python",
   "pygments_lexer": "ipython3",
   "version": "3.9.12"
  }
 },
 "nbformat": 4,
 "nbformat_minor": 5
}
